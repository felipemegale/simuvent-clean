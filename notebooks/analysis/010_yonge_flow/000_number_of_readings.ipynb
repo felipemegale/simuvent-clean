{
 "cells": [
  {
   "cell_type": "code",
   "execution_count": 1,
   "id": "4b6a92c6-995e-4f4c-a0a5-d7d388d2d5e0",
   "metadata": {},
   "outputs": [],
   "source": [
    "from datetime import datetime as dt\n",
    "import pandas as pd\n",
    "from matplotlib import pyplot as plt\n",
    "import seaborn as sns\n",
    "sns.set_theme()"
   ]
  },
  {
   "cell_type": "code",
   "execution_count": 2,
   "id": "84a5ada2-c309-45a1-94c3-3a6740ce2f34",
   "metadata": {},
   "outputs": [],
   "source": [
    "df = pd.read_csv(\"../../../csv/v2/060_yonge_flow_processed.csv.zip\")"
   ]
  },
  {
   "cell_type": "code",
   "execution_count": 3,
   "id": "242d5bd2-9c1e-44ef-8fb5-bbcbb68c7c4c",
   "metadata": {},
   "outputs": [
    {
     "name": "stderr",
     "output_type": "stream",
     "text": [
      "C:\\Users\\felip\\AppData\\Local\\Temp\\ipykernel_10376\\3366148013.py:10: UserWarning: Converting to PeriodArray/Index representation will drop timezone information.\n",
      "  df[\"year_month\"] = df[\"collectedAt\"].dt.to_period(\"M\")\n",
      "C:\\Users\\felip\\AppData\\Local\\Temp\\ipykernel_10376\\3366148013.py:11: UserWarning: Converting to PeriodArray/Index representation will drop timezone information.\n",
      "  df[\"year_month_day\"] = df[\"collectedAt\"].dt.to_period(\"D\")\n"
     ]
    }
   ],
   "source": [
    "df[\"collectedAt\"] = pd.to_datetime(df[\"collectedAt\"], utc=True)\n",
    "df[\"collectedAt\"] = df.collectedAt.dt.floor(freq=\"s\")\n",
    "df[\"year\"] = df[\"collectedAt\"].dt.year\n",
    "df[\"month\"] = df[\"collectedAt\"].dt.month\n",
    "df[\"day\"] = df[\"collectedAt\"].dt.day\n",
    "df[\"hour\"] = df[\"collectedAt\"].dt.hour\n",
    "df[\"dow\"] = df[\"collectedAt\"].dt.day_of_week\n",
    "df[\"dow_name\"] = df[\"collectedAt\"].dt.day_name()\n",
    "df[\"month_name\"] = df[\"collectedAt\"].dt.month_name()\n",
    "df[\"year_month\"] = df[\"collectedAt\"].dt.to_period(\"M\")\n",
    "df[\"year_month_day\"] = df[\"collectedAt\"].dt.to_period(\"D\")"
   ]
  },
  {
   "cell_type": "code",
   "execution_count": 4,
   "id": "9eb093d4-7423-4538-9f35-6a0fc1b540ab",
   "metadata": {},
   "outputs": [
    {
     "data": {
      "text/plain": [
       "['July', 'August', 'September', 'October', 'November', 'December', 'January']"
      ]
     },
     "execution_count": 4,
     "metadata": {},
     "output_type": "execute_result"
    }
   ],
   "source": [
    "list(df[\"month_name\"].drop_duplicates())"
   ]
  },
  {
   "cell_type": "markdown",
   "id": "bc0976b0-2cf9-4ec6-bbfd-df8170b2b098",
   "metadata": {},
   "source": [
    "# Date & Time"
   ]
  },
  {
   "cell_type": "markdown",
   "id": "0e34d4f2-f2bd-4c26-947c-76d8e798a9bd",
   "metadata": {},
   "source": [
    "## Span"
   ]
  },
  {
   "cell_type": "code",
   "execution_count": 5,
   "id": "664adbd5-71b3-4eaa-abd7-deb4fa806a5f",
   "metadata": {},
   "outputs": [],
   "source": [
    "df = df.sort_values(by=\"collectedAt\")"
   ]
  },
  {
   "cell_type": "code",
   "execution_count": 6,
   "id": "7a087291-246f-4484-8614-6ad044ef01f4",
   "metadata": {},
   "outputs": [],
   "source": [
    "first_row = df.iloc[0]\n",
    "last_row = df.iloc[len(df)-1]\n",
    "\n",
    "first_date = first_row[\"collectedAt\"]\n",
    "last_date = last_row[\"collectedAt\"]"
   ]
  },
  {
   "cell_type": "code",
   "execution_count": 7,
   "id": "f1843c9e-13b7-4efd-8abf-f5b6cc0701a5",
   "metadata": {},
   "outputs": [
    {
     "name": "stdout",
     "output_type": "stream",
     "text": [
      "First date 2022-07-14 12:45:00+00:00\n",
      "Last date 2023-01-31 23:55:00+00:00\n"
     ]
    }
   ],
   "source": [
    "print(\"First date\",first_date)\n",
    "print(\"Last date\",last_date)"
   ]
  },
  {
   "cell_type": "code",
   "execution_count": 8,
   "id": "cc507859-f1c1-4c29-9b2c-33404e6ba998",
   "metadata": {},
   "outputs": [
    {
     "data": {
      "text/html": [
       "<div>\n",
       "<style scoped>\n",
       "    .dataframe tbody tr th:only-of-type {\n",
       "        vertical-align: middle;\n",
       "    }\n",
       "\n",
       "    .dataframe tbody tr th {\n",
       "        vertical-align: top;\n",
       "    }\n",
       "\n",
       "    .dataframe thead th {\n",
       "        text-align: right;\n",
       "    }\n",
       "</style>\n",
       "<table border=\"1\" class=\"dataframe\">\n",
       "  <thead>\n",
       "    <tr style=\"text-align: right;\">\n",
       "      <th></th>\n",
       "      <th>currentSpeed</th>\n",
       "      <th>freeFlowSpeed</th>\n",
       "      <th>currentTravelTime</th>\n",
       "      <th>freeFlowTravelTime</th>\n",
       "      <th>roadClosure</th>\n",
       "      <th>coordinates</th>\n",
       "      <th>collectedAt</th>\n",
       "      <th>year</th>\n",
       "      <th>month</th>\n",
       "      <th>day</th>\n",
       "      <th>hour</th>\n",
       "      <th>dow</th>\n",
       "      <th>dow_name</th>\n",
       "      <th>month_name</th>\n",
       "      <th>year_month</th>\n",
       "      <th>year_month_day</th>\n",
       "    </tr>\n",
       "  </thead>\n",
       "  <tbody>\n",
       "    <tr>\n",
       "      <th>19582</th>\n",
       "      <td>12</td>\n",
       "      <td>18</td>\n",
       "      <td>84</td>\n",
       "      <td>56</td>\n",
       "      <td>False</td>\n",
       "      <td>[{'latitude': 43.646886954993356, 'longitude':...</td>\n",
       "      <td>2022-09-20 12:45:00+00:00</td>\n",
       "      <td>2022</td>\n",
       "      <td>9</td>\n",
       "      <td>20</td>\n",
       "      <td>12</td>\n",
       "      <td>1</td>\n",
       "      <td>Tuesday</td>\n",
       "      <td>September</td>\n",
       "      <td>2022-09</td>\n",
       "      <td>2022-09-20</td>\n",
       "    </tr>\n",
       "    <tr>\n",
       "      <th>27009</th>\n",
       "      <td>13</td>\n",
       "      <td>18</td>\n",
       "      <td>77</td>\n",
       "      <td>56</td>\n",
       "      <td>False</td>\n",
       "      <td>[{'latitude': 43.646886954993356, 'longitude':...</td>\n",
       "      <td>2022-10-16 07:50:00+00:00</td>\n",
       "      <td>2022</td>\n",
       "      <td>10</td>\n",
       "      <td>16</td>\n",
       "      <td>7</td>\n",
       "      <td>6</td>\n",
       "      <td>Sunday</td>\n",
       "      <td>October</td>\n",
       "      <td>2022-10</td>\n",
       "      <td>2022-10-16</td>\n",
       "    </tr>\n",
       "    <tr>\n",
       "      <th>29347</th>\n",
       "      <td>18</td>\n",
       "      <td>18</td>\n",
       "      <td>56</td>\n",
       "      <td>56</td>\n",
       "      <td>False</td>\n",
       "      <td>[{'latitude': 43.646886954993356, 'longitude':...</td>\n",
       "      <td>2022-10-24 10:40:00+00:00</td>\n",
       "      <td>2022</td>\n",
       "      <td>10</td>\n",
       "      <td>24</td>\n",
       "      <td>10</td>\n",
       "      <td>0</td>\n",
       "      <td>Monday</td>\n",
       "      <td>October</td>\n",
       "      <td>2022-10</td>\n",
       "      <td>2022-10-24</td>\n",
       "    </tr>\n",
       "    <tr>\n",
       "      <th>40493</th>\n",
       "      <td>12</td>\n",
       "      <td>18</td>\n",
       "      <td>84</td>\n",
       "      <td>56</td>\n",
       "      <td>False</td>\n",
       "      <td>[{'latitude': 43.646886954993356, 'longitude':...</td>\n",
       "      <td>2022-12-02 03:35:00+00:00</td>\n",
       "      <td>2022</td>\n",
       "      <td>12</td>\n",
       "      <td>2</td>\n",
       "      <td>3</td>\n",
       "      <td>4</td>\n",
       "      <td>Friday</td>\n",
       "      <td>December</td>\n",
       "      <td>2022-12</td>\n",
       "      <td>2022-12-02</td>\n",
       "    </tr>\n",
       "    <tr>\n",
       "      <th>49605</th>\n",
       "      <td>18</td>\n",
       "      <td>18</td>\n",
       "      <td>56</td>\n",
       "      <td>56</td>\n",
       "      <td>False</td>\n",
       "      <td>[{'latitude': 43.646886954993356, 'longitude':...</td>\n",
       "      <td>2023-01-02 19:00:00+00:00</td>\n",
       "      <td>2023</td>\n",
       "      <td>1</td>\n",
       "      <td>2</td>\n",
       "      <td>19</td>\n",
       "      <td>0</td>\n",
       "      <td>Monday</td>\n",
       "      <td>January</td>\n",
       "      <td>2023-01</td>\n",
       "      <td>2023-01-02</td>\n",
       "    </tr>\n",
       "  </tbody>\n",
       "</table>\n",
       "</div>"
      ],
      "text/plain": [
       "       currentSpeed  freeFlowSpeed  currentTravelTime  freeFlowTravelTime  \\\n",
       "19582            12             18                 84                  56   \n",
       "27009            13             18                 77                  56   \n",
       "29347            18             18                 56                  56   \n",
       "40493            12             18                 84                  56   \n",
       "49605            18             18                 56                  56   \n",
       "\n",
       "       roadClosure                                        coordinates  \\\n",
       "19582        False  [{'latitude': 43.646886954993356, 'longitude':...   \n",
       "27009        False  [{'latitude': 43.646886954993356, 'longitude':...   \n",
       "29347        False  [{'latitude': 43.646886954993356, 'longitude':...   \n",
       "40493        False  [{'latitude': 43.646886954993356, 'longitude':...   \n",
       "49605        False  [{'latitude': 43.646886954993356, 'longitude':...   \n",
       "\n",
       "                    collectedAt  year  month  day  hour  dow dow_name  \\\n",
       "19582 2022-09-20 12:45:00+00:00  2022      9   20    12    1  Tuesday   \n",
       "27009 2022-10-16 07:50:00+00:00  2022     10   16     7    6   Sunday   \n",
       "29347 2022-10-24 10:40:00+00:00  2022     10   24    10    0   Monday   \n",
       "40493 2022-12-02 03:35:00+00:00  2022     12    2     3    4   Friday   \n",
       "49605 2023-01-02 19:00:00+00:00  2023      1    2    19    0   Monday   \n",
       "\n",
       "      month_name year_month year_month_day  \n",
       "19582  September    2022-09     2022-09-20  \n",
       "27009    October    2022-10     2022-10-16  \n",
       "29347    October    2022-10     2022-10-24  \n",
       "40493   December    2022-12     2022-12-02  \n",
       "49605    January    2023-01     2023-01-02  "
      ]
     },
     "execution_count": 8,
     "metadata": {},
     "output_type": "execute_result"
    }
   ],
   "source": [
    "df.sample(5).sort_values(by=\"collectedAt\")"
   ]
  },
  {
   "cell_type": "markdown",
   "id": "f8278add-9d43-418c-adf1-10a0ff65e108",
   "metadata": {},
   "source": [
    "## Readings per day"
   ]
  },
  {
   "cell_type": "code",
   "execution_count": 9,
   "id": "1eba882f-56dc-4d59-a11f-92277a30fd45",
   "metadata": {},
   "outputs": [],
   "source": [
    "readings_per_day = df.groupby([\"year\", \"month\", \"day\"]).count().reset_index()\n",
    "readings_per_day[\"date\"] = readings_per_day.apply(lambda x: dt.strptime(f\"{x.year}-{x.month}-{x.day}\", \"%Y-%m-%d\"), axis=1)"
   ]
  },
  {
   "cell_type": "code",
   "execution_count": 10,
   "id": "0f09696a-69d6-480d-bef9-0d43a87ab5ef",
   "metadata": {},
   "outputs": [
    {
     "data": {
      "text/html": [
       "<div>\n",
       "<style scoped>\n",
       "    .dataframe tbody tr th:only-of-type {\n",
       "        vertical-align: middle;\n",
       "    }\n",
       "\n",
       "    .dataframe tbody tr th {\n",
       "        vertical-align: top;\n",
       "    }\n",
       "\n",
       "    .dataframe thead th {\n",
       "        text-align: right;\n",
       "    }\n",
       "</style>\n",
       "<table border=\"1\" class=\"dataframe\">\n",
       "  <thead>\n",
       "    <tr style=\"text-align: right;\">\n",
       "      <th></th>\n",
       "      <th>year</th>\n",
       "      <th>month</th>\n",
       "      <th>day</th>\n",
       "      <th>currentSpeed</th>\n",
       "      <th>freeFlowSpeed</th>\n",
       "      <th>currentTravelTime</th>\n",
       "      <th>freeFlowTravelTime</th>\n",
       "      <th>roadClosure</th>\n",
       "      <th>coordinates</th>\n",
       "      <th>collectedAt</th>\n",
       "      <th>hour</th>\n",
       "      <th>dow</th>\n",
       "      <th>dow_name</th>\n",
       "      <th>month_name</th>\n",
       "      <th>year_month</th>\n",
       "      <th>year_month_day</th>\n",
       "      <th>date</th>\n",
       "    </tr>\n",
       "  </thead>\n",
       "  <tbody>\n",
       "    <tr>\n",
       "      <th>0</th>\n",
       "      <td>2022</td>\n",
       "      <td>7</td>\n",
       "      <td>14</td>\n",
       "      <td>135</td>\n",
       "      <td>135</td>\n",
       "      <td>135</td>\n",
       "      <td>135</td>\n",
       "      <td>135</td>\n",
       "      <td>135</td>\n",
       "      <td>135</td>\n",
       "      <td>135</td>\n",
       "      <td>135</td>\n",
       "      <td>135</td>\n",
       "      <td>135</td>\n",
       "      <td>135</td>\n",
       "      <td>135</td>\n",
       "      <td>2022-07-14</td>\n",
       "    </tr>\n",
       "    <tr>\n",
       "      <th>1</th>\n",
       "      <td>2022</td>\n",
       "      <td>7</td>\n",
       "      <td>15</td>\n",
       "      <td>287</td>\n",
       "      <td>287</td>\n",
       "      <td>287</td>\n",
       "      <td>287</td>\n",
       "      <td>287</td>\n",
       "      <td>287</td>\n",
       "      <td>287</td>\n",
       "      <td>287</td>\n",
       "      <td>287</td>\n",
       "      <td>287</td>\n",
       "      <td>287</td>\n",
       "      <td>287</td>\n",
       "      <td>287</td>\n",
       "      <td>2022-07-15</td>\n",
       "    </tr>\n",
       "    <tr>\n",
       "      <th>2</th>\n",
       "      <td>2022</td>\n",
       "      <td>7</td>\n",
       "      <td>16</td>\n",
       "      <td>288</td>\n",
       "      <td>288</td>\n",
       "      <td>288</td>\n",
       "      <td>288</td>\n",
       "      <td>288</td>\n",
       "      <td>288</td>\n",
       "      <td>288</td>\n",
       "      <td>288</td>\n",
       "      <td>288</td>\n",
       "      <td>288</td>\n",
       "      <td>288</td>\n",
       "      <td>288</td>\n",
       "      <td>288</td>\n",
       "      <td>2022-07-16</td>\n",
       "    </tr>\n",
       "    <tr>\n",
       "      <th>3</th>\n",
       "      <td>2022</td>\n",
       "      <td>7</td>\n",
       "      <td>17</td>\n",
       "      <td>288</td>\n",
       "      <td>288</td>\n",
       "      <td>288</td>\n",
       "      <td>288</td>\n",
       "      <td>288</td>\n",
       "      <td>288</td>\n",
       "      <td>288</td>\n",
       "      <td>288</td>\n",
       "      <td>288</td>\n",
       "      <td>288</td>\n",
       "      <td>288</td>\n",
       "      <td>288</td>\n",
       "      <td>288</td>\n",
       "      <td>2022-07-17</td>\n",
       "    </tr>\n",
       "    <tr>\n",
       "      <th>4</th>\n",
       "      <td>2022</td>\n",
       "      <td>7</td>\n",
       "      <td>18</td>\n",
       "      <td>288</td>\n",
       "      <td>288</td>\n",
       "      <td>288</td>\n",
       "      <td>288</td>\n",
       "      <td>288</td>\n",
       "      <td>288</td>\n",
       "      <td>288</td>\n",
       "      <td>288</td>\n",
       "      <td>288</td>\n",
       "      <td>288</td>\n",
       "      <td>288</td>\n",
       "      <td>288</td>\n",
       "      <td>288</td>\n",
       "      <td>2022-07-18</td>\n",
       "    </tr>\n",
       "  </tbody>\n",
       "</table>\n",
       "</div>"
      ],
      "text/plain": [
       "   year  month  day  currentSpeed  freeFlowSpeed  currentTravelTime  \\\n",
       "0  2022      7   14           135            135                135   \n",
       "1  2022      7   15           287            287                287   \n",
       "2  2022      7   16           288            288                288   \n",
       "3  2022      7   17           288            288                288   \n",
       "4  2022      7   18           288            288                288   \n",
       "\n",
       "   freeFlowTravelTime  roadClosure  coordinates  collectedAt  hour  dow  \\\n",
       "0                 135          135          135          135   135  135   \n",
       "1                 287          287          287          287   287  287   \n",
       "2                 288          288          288          288   288  288   \n",
       "3                 288          288          288          288   288  288   \n",
       "4                 288          288          288          288   288  288   \n",
       "\n",
       "   dow_name  month_name  year_month  year_month_day       date  \n",
       "0       135         135         135             135 2022-07-14  \n",
       "1       287         287         287             287 2022-07-15  \n",
       "2       288         288         288             288 2022-07-16  \n",
       "3       288         288         288             288 2022-07-17  \n",
       "4       288         288         288             288 2022-07-18  "
      ]
     },
     "execution_count": 10,
     "metadata": {},
     "output_type": "execute_result"
    }
   ],
   "source": [
    "readings_per_day.head()"
   ]
  },
  {
   "cell_type": "code",
   "execution_count": 11,
   "id": "b25cc5d8-8ab9-4475-b0fb-f0cde0740dfd",
   "metadata": {},
   "outputs": [
    {
     "name": "stdout",
     "output_type": "stream",
     "text": [
      "Total days: 202\n"
     ]
    }
   ],
   "source": [
    "print(\"Total days:\", len(readings_per_day))"
   ]
  },
  {
   "cell_type": "code",
   "execution_count": 13,
   "id": "59c3e70a-5653-46c5-91ea-d4d075941dbb",
   "metadata": {},
   "outputs": [
    {
     "data": {
      "image/png": "[encoded data removed]",
      "text/plain": [
       "<Figure size 640x480 with 1 Axes>"
      ]
     },
     "metadata": {},
     "output_type": "display_data"
    }
   ],
   "source": [
    "ax = sns.scatterplot(data=readings_per_day,x=\"date\",y=\"currentSpeed\")\n",
    "ax.set(xlabel=\"Date\",ylabel=\"Number of observations\")\n",
    "plt.savefig(\"./plots/000_number_of_readings_per_day.eps\", format=\"eps\", bbox_inches=\"tight\")\n",
    "plt.savefig(\"./plots/000_number_of_readings_per_day.png\", bbox_inches=\"tight\")"
   ]
  },
  {
   "cell_type": "markdown",
   "id": "1888b160-d626-4ae4-8347-0987b90a6685",
   "metadata": {},
   "source": [
    "### For most days, there were 288 data points collected"
   ]
  },
  {
   "cell_type": "markdown",
   "id": "ddebd923-affc-412a-b39d-142b09e3e424",
   "metadata": {},
   "source": [
    "## Readings per month"
   ]
  },
  {
   "cell_type": "code",
   "execution_count": 14,
   "id": "c61dcf7e-16f0-472a-945b-e9af1572dd36",
   "metadata": {},
   "outputs": [],
   "source": [
    "readings_per_month = df.groupby([\"year\",\"month_name\"]).count().reset_index()[[\"month_name\",\"currentSpeed\"]]\n",
    "readings_per_month = readings_per_month.rename(columns={\"currentSpeed\":\"readings\"})"
   ]
  },
  {
   "cell_type": "code",
   "execution_count": 15,
   "id": "5e42dfbc-ee85-4784-a6c3-d02689b29304",
   "metadata": {},
   "outputs": [
    {
     "data": {
      "image/png": "[encoded data removed]",
      "text/plain": [
       "<Figure size 640x480 with 1 Axes>"
      ]
     },
     "metadata": {},
     "output_type": "display_data"
    }
   ],
   "source": [
    "ax = sns.barplot(data=readings_per_month,x=\"month_name\",y=\"readings\", order=list(df[\"month_name\"].drop_duplicates()),width=0.5)\n",
    "ax.set(xlabel=\"Month\",ylabel=\"Number of observations\")\n",
    "plt.savefig(\"./plots/000_number_of_readings_per_month.eps\", format=\"eps\", bbox_inches=\"tight\")\n",
    "plt.savefig(\"./plots/000_number_of_readings_per_month.png\", bbox_inches=\"tight\")"
   ]
  },
  {
   "cell_type": "markdown",
   "id": "f0912108-1dfc-4aec-b916-9ce79ac0ea44",
   "metadata": {},
   "source": [
    "### July has less data because I started collecting on the 14th at 12:45PM"
   ]
  },
  {
   "cell_type": "code",
   "execution_count": null,
   "id": "6db6d3f2-7ba2-4cb1-94c4-5b67e6d72f5f",
   "metadata": {},
   "outputs": [],
   "source": []
  }
 ],
 "metadata": {
  "kernelspec": {
   "display_name": "Python 3 (ipykernel)",
   "language": "python",
   "name": "python3"
  },
  "language_info": {
   "codemirror_mode": {
    "name": "ipython",
    "version": 3
   },
   "file_extension": ".py",
   "mimetype": "text/x-python",
   "name": "python",
   "nbconvert_exporter": "python",
   "pygments_lexer": "ipython3",
   "version": "3.10.10"
  }
 },
 "nbformat": 4,
 "nbformat_minor": 5
}

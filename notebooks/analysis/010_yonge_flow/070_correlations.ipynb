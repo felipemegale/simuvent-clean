{
 "cells": [
  {
   "cell_type": "code",
   "execution_count": 1,
   "id": "58080e70-d2a8-4343-997f-a6d253716037",
   "metadata": {},
   "outputs": [],
   "source": [
    "import pandas as pd\n",
    "from matplotlib import pyplot as plt\n",
    "import seaborn as sns\n",
    "sns.set_theme()"
   ]
  },
  {
   "cell_type": "code",
   "execution_count": 2,
   "id": "b169b7e4-08c8-46fc-986a-cd66633cd4eb",
   "metadata": {},
   "outputs": [],
   "source": [
    "df = pd.read_csv(\"../../../csv/v2/060_yonge_flow_processed.csv.zip\")"
   ]
  },
  {
   "cell_type": "code",
   "execution_count": 3,
   "id": "8f573e66-7bf4-4621-baee-39b38f4788f9",
   "metadata": {},
   "outputs": [
    {
     "name": "stderr",
     "output_type": "stream",
     "text": [
      "/tmp/ipykernel_40616/3071565371.py:10: UserWarning: Converting to PeriodArray/Index representation will drop timezone information.\n",
      "  df[\"year_month\"] = df[\"collectedAt\"].dt.to_period(\"M\").astype(str)\n",
      "/tmp/ipykernel_40616/3071565371.py:11: UserWarning: Converting to PeriodArray/Index representation will drop timezone information.\n",
      "  df[\"year_month_day\"] = df[\"collectedAt\"].dt.to_period(\"D\").astype(str)\n"
     ]
    }
   ],
   "source": [
    "df[\"collectedAt\"] = pd.to_datetime(df[\"collectedAt\"], utc=True)\n",
    "df[\"collectedAt\"] = df.collectedAt.dt.floor(freq=\"s\")\n",
    "df[\"year\"] = df[\"collectedAt\"].dt.year\n",
    "df[\"month\"] = df[\"collectedAt\"].dt.month\n",
    "df[\"day\"] = df[\"collectedAt\"].dt.day\n",
    "df[\"hour\"] = df[\"collectedAt\"].dt.hour\n",
    "df[\"dow\"] = df[\"collectedAt\"].dt.day_of_week\n",
    "df[\"dow_name\"] = df[\"collectedAt\"].dt.day_name()\n",
    "df[\"month_name\"] = df[\"collectedAt\"].dt.month_name()\n",
    "df[\"year_month\"] = df[\"collectedAt\"].dt.to_period(\"M\").astype(str)\n",
    "df[\"year_month_day\"] = df[\"collectedAt\"].dt.to_period(\"D\").astype(str)"
   ]
  },
  {
   "cell_type": "code",
   "execution_count": 4,
   "id": "7711c9c5-62a0-4089-9440-1148962c2250",
   "metadata": {},
   "outputs": [
    {
     "data": {
      "text/html": [
       "<div>\n",
       "<style scoped>\n",
       "    .dataframe tbody tr th:only-of-type {\n",
       "        vertical-align: middle;\n",
       "    }\n",
       "\n",
       "    .dataframe tbody tr th {\n",
       "        vertical-align: top;\n",
       "    }\n",
       "\n",
       "    .dataframe thead th {\n",
       "        text-align: right;\n",
       "    }\n",
       "</style>\n",
       "<table border=\"1\" class=\"dataframe\">\n",
       "  <thead>\n",
       "    <tr style=\"text-align: right;\">\n",
       "      <th></th>\n",
       "      <th>currentSpeed</th>\n",
       "      <th>freeFlowSpeed</th>\n",
       "      <th>currentTravelTime</th>\n",
       "      <th>freeFlowTravelTime</th>\n",
       "      <th>roadClosure</th>\n",
       "      <th>coordinates</th>\n",
       "      <th>collectedAt</th>\n",
       "      <th>year</th>\n",
       "      <th>month</th>\n",
       "      <th>day</th>\n",
       "      <th>hour</th>\n",
       "      <th>dow</th>\n",
       "      <th>dow_name</th>\n",
       "      <th>month_name</th>\n",
       "      <th>year_month</th>\n",
       "      <th>year_month_day</th>\n",
       "    </tr>\n",
       "  </thead>\n",
       "  <tbody>\n",
       "    <tr>\n",
       "      <th>0</th>\n",
       "      <td>10</td>\n",
       "      <td>18</td>\n",
       "      <td>100</td>\n",
       "      <td>56</td>\n",
       "      <td>False</td>\n",
       "      <td>[{'latitude': 43.646886954993356, 'longitude':...</td>\n",
       "      <td>2022-07-14 12:45:00+00:00</td>\n",
       "      <td>2022</td>\n",
       "      <td>7</td>\n",
       "      <td>14</td>\n",
       "      <td>12</td>\n",
       "      <td>3</td>\n",
       "      <td>Thursday</td>\n",
       "      <td>July</td>\n",
       "      <td>2022-07</td>\n",
       "      <td>2022-07-14</td>\n",
       "    </tr>\n",
       "    <tr>\n",
       "      <th>1</th>\n",
       "      <td>13</td>\n",
       "      <td>17</td>\n",
       "      <td>77</td>\n",
       "      <td>59</td>\n",
       "      <td>False</td>\n",
       "      <td>[{'latitude': 43.646886954993356, 'longitude':...</td>\n",
       "      <td>2022-07-14 12:51:44+00:00</td>\n",
       "      <td>2022</td>\n",
       "      <td>7</td>\n",
       "      <td>14</td>\n",
       "      <td>12</td>\n",
       "      <td>3</td>\n",
       "      <td>Thursday</td>\n",
       "      <td>July</td>\n",
       "      <td>2022-07</td>\n",
       "      <td>2022-07-14</td>\n",
       "    </tr>\n",
       "    <tr>\n",
       "      <th>2</th>\n",
       "      <td>18</td>\n",
       "      <td>18</td>\n",
       "      <td>56</td>\n",
       "      <td>56</td>\n",
       "      <td>False</td>\n",
       "      <td>[{'latitude': 43.646886954993356, 'longitude':...</td>\n",
       "      <td>2022-07-14 12:55:27+00:00</td>\n",
       "      <td>2022</td>\n",
       "      <td>7</td>\n",
       "      <td>14</td>\n",
       "      <td>12</td>\n",
       "      <td>3</td>\n",
       "      <td>Thursday</td>\n",
       "      <td>July</td>\n",
       "      <td>2022-07</td>\n",
       "      <td>2022-07-14</td>\n",
       "    </tr>\n",
       "    <tr>\n",
       "      <th>3</th>\n",
       "      <td>13</td>\n",
       "      <td>18</td>\n",
       "      <td>77</td>\n",
       "      <td>56</td>\n",
       "      <td>False</td>\n",
       "      <td>[{'latitude': 43.646886954993356, 'longitude':...</td>\n",
       "      <td>2022-07-14 13:00:00+00:00</td>\n",
       "      <td>2022</td>\n",
       "      <td>7</td>\n",
       "      <td>14</td>\n",
       "      <td>13</td>\n",
       "      <td>3</td>\n",
       "      <td>Thursday</td>\n",
       "      <td>July</td>\n",
       "      <td>2022-07</td>\n",
       "      <td>2022-07-14</td>\n",
       "    </tr>\n",
       "    <tr>\n",
       "      <th>4</th>\n",
       "      <td>14</td>\n",
       "      <td>17</td>\n",
       "      <td>72</td>\n",
       "      <td>59</td>\n",
       "      <td>False</td>\n",
       "      <td>[{'latitude': 43.646886954993356, 'longitude':...</td>\n",
       "      <td>2022-07-14 13:05:00+00:00</td>\n",
       "      <td>2022</td>\n",
       "      <td>7</td>\n",
       "      <td>14</td>\n",
       "      <td>13</td>\n",
       "      <td>3</td>\n",
       "      <td>Thursday</td>\n",
       "      <td>July</td>\n",
       "      <td>2022-07</td>\n",
       "      <td>2022-07-14</td>\n",
       "    </tr>\n",
       "  </tbody>\n",
       "</table>\n",
       "</div>"
      ],
      "text/plain": [
       "   currentSpeed  freeFlowSpeed  currentTravelTime  freeFlowTravelTime  \\\n",
       "0            10             18                100                  56   \n",
       "1            13             17                 77                  59   \n",
       "2            18             18                 56                  56   \n",
       "3            13             18                 77                  56   \n",
       "4            14             17                 72                  59   \n",
       "\n",
       "   roadClosure                                        coordinates  \\\n",
       "0        False  [{'latitude': 43.646886954993356, 'longitude':...   \n",
       "1        False  [{'latitude': 43.646886954993356, 'longitude':...   \n",
       "2        False  [{'latitude': 43.646886954993356, 'longitude':...   \n",
       "3        False  [{'latitude': 43.646886954993356, 'longitude':...   \n",
       "4        False  [{'latitude': 43.646886954993356, 'longitude':...   \n",
       "\n",
       "                collectedAt  year  month  day  hour  dow  dow_name month_name  \\\n",
       "0 2022-07-14 12:45:00+00:00  2022      7   14    12    3  Thursday       July   \n",
       "1 2022-07-14 12:51:44+00:00  2022      7   14    12    3  Thursday       July   \n",
       "2 2022-07-14 12:55:27+00:00  2022      7   14    12    3  Thursday       July   \n",
       "3 2022-07-14 13:00:00+00:00  2022      7   14    13    3  Thursday       July   \n",
       "4 2022-07-14 13:05:00+00:00  2022      7   14    13    3  Thursday       July   \n",
       "\n",
       "  year_month year_month_day  \n",
       "0    2022-07     2022-07-14  \n",
       "1    2022-07     2022-07-14  \n",
       "2    2022-07     2022-07-14  \n",
       "3    2022-07     2022-07-14  \n",
       "4    2022-07     2022-07-14  "
      ]
     },
     "execution_count": 4,
     "metadata": {},
     "output_type": "execute_result"
    }
   ],
   "source": [
    "df.head()"
   ]
  },
  {
   "cell_type": "code",
   "execution_count": 5,
   "id": "9b2b413f-9d22-4d73-aa23-54e9940f711b",
   "metadata": {},
   "outputs": [
    {
     "data": {
      "text/html": [
       "<div>\n",
       "<style scoped>\n",
       "    .dataframe tbody tr th:only-of-type {\n",
       "        vertical-align: middle;\n",
       "    }\n",
       "\n",
       "    .dataframe tbody tr th {\n",
       "        vertical-align: top;\n",
       "    }\n",
       "\n",
       "    .dataframe thead th {\n",
       "        text-align: right;\n",
       "    }\n",
       "</style>\n",
       "<table border=\"1\" class=\"dataframe\">\n",
       "  <thead>\n",
       "    <tr style=\"text-align: right;\">\n",
       "      <th></th>\n",
       "      <th>currentSpeed</th>\n",
       "      <th>currentTravelTime</th>\n",
       "      <th>freeFlowSpeed</th>\n",
       "      <th>freeFlowTravelTime</th>\n",
       "      <th>hour</th>\n",
       "    </tr>\n",
       "  </thead>\n",
       "  <tbody>\n",
       "    <tr>\n",
       "      <th>0</th>\n",
       "      <td>10</td>\n",
       "      <td>100</td>\n",
       "      <td>18</td>\n",
       "      <td>56</td>\n",
       "      <td>12</td>\n",
       "    </tr>\n",
       "    <tr>\n",
       "      <th>1</th>\n",
       "      <td>13</td>\n",
       "      <td>77</td>\n",
       "      <td>17</td>\n",
       "      <td>59</td>\n",
       "      <td>12</td>\n",
       "    </tr>\n",
       "    <tr>\n",
       "      <th>2</th>\n",
       "      <td>18</td>\n",
       "      <td>56</td>\n",
       "      <td>18</td>\n",
       "      <td>56</td>\n",
       "      <td>12</td>\n",
       "    </tr>\n",
       "    <tr>\n",
       "      <th>3</th>\n",
       "      <td>13</td>\n",
       "      <td>77</td>\n",
       "      <td>18</td>\n",
       "      <td>56</td>\n",
       "      <td>13</td>\n",
       "    </tr>\n",
       "    <tr>\n",
       "      <th>4</th>\n",
       "      <td>14</td>\n",
       "      <td>72</td>\n",
       "      <td>17</td>\n",
       "      <td>59</td>\n",
       "      <td>13</td>\n",
       "    </tr>\n",
       "    <tr>\n",
       "      <th>...</th>\n",
       "      <td>...</td>\n",
       "      <td>...</td>\n",
       "      <td>...</td>\n",
       "      <td>...</td>\n",
       "      <td>...</td>\n",
       "    </tr>\n",
       "    <tr>\n",
       "      <th>73530</th>\n",
       "      <td>10</td>\n",
       "      <td>100</td>\n",
       "      <td>17</td>\n",
       "      <td>59</td>\n",
       "      <td>21</td>\n",
       "    </tr>\n",
       "    <tr>\n",
       "      <th>73531</th>\n",
       "      <td>13</td>\n",
       "      <td>77</td>\n",
       "      <td>18</td>\n",
       "      <td>56</td>\n",
       "      <td>21</td>\n",
       "    </tr>\n",
       "    <tr>\n",
       "      <th>73532</th>\n",
       "      <td>18</td>\n",
       "      <td>56</td>\n",
       "      <td>18</td>\n",
       "      <td>56</td>\n",
       "      <td>21</td>\n",
       "    </tr>\n",
       "    <tr>\n",
       "      <th>73533</th>\n",
       "      <td>13</td>\n",
       "      <td>77</td>\n",
       "      <td>17</td>\n",
       "      <td>59</td>\n",
       "      <td>21</td>\n",
       "    </tr>\n",
       "    <tr>\n",
       "      <th>73534</th>\n",
       "      <td>13</td>\n",
       "      <td>77</td>\n",
       "      <td>18</td>\n",
       "      <td>56</td>\n",
       "      <td>21</td>\n",
       "    </tr>\n",
       "  </tbody>\n",
       "</table>\n",
       "<p>73535 rows × 5 columns</p>\n",
       "</div>"
      ],
      "text/plain": [
       "       currentSpeed  currentTravelTime  freeFlowSpeed  freeFlowTravelTime  \\\n",
       "0                10                100             18                  56   \n",
       "1                13                 77             17                  59   \n",
       "2                18                 56             18                  56   \n",
       "3                13                 77             18                  56   \n",
       "4                14                 72             17                  59   \n",
       "...             ...                ...            ...                 ...   \n",
       "73530            10                100             17                  59   \n",
       "73531            13                 77             18                  56   \n",
       "73532            18                 56             18                  56   \n",
       "73533            13                 77             17                  59   \n",
       "73534            13                 77             18                  56   \n",
       "\n",
       "       hour  \n",
       "0        12  \n",
       "1        12  \n",
       "2        12  \n",
       "3        13  \n",
       "4        13  \n",
       "...     ...  \n",
       "73530    21  \n",
       "73531    21  \n",
       "73532    21  \n",
       "73533    21  \n",
       "73534    21  \n",
       "\n",
       "[73535 rows x 5 columns]"
      ]
     },
     "execution_count": 5,
     "metadata": {},
     "output_type": "execute_result"
    }
   ],
   "source": [
    "speeds_and_times_df = df[[\"currentSpeed\",\"currentTravelTime\",\"freeFlowSpeed\",\"freeFlowTravelTime\", \"hour\"]]\n",
    "speeds_and_times_df"
   ]
  },
  {
   "cell_type": "code",
   "execution_count": 6,
   "id": "683e1a37-bb69-4ccf-9e8b-95d07df7121b",
   "metadata": {},
   "outputs": [
    {
     "data": {
      "text/html": [
       "<div>\n",
       "<style scoped>\n",
       "    .dataframe tbody tr th:only-of-type {\n",
       "        vertical-align: middle;\n",
       "    }\n",
       "\n",
       "    .dataframe tbody tr th {\n",
       "        vertical-align: top;\n",
       "    }\n",
       "\n",
       "    .dataframe thead th {\n",
       "        text-align: right;\n",
       "    }\n",
       "</style>\n",
       "<table border=\"1\" class=\"dataframe\">\n",
       "  <thead>\n",
       "    <tr style=\"text-align: right;\">\n",
       "      <th></th>\n",
       "      <th>currentSpeed</th>\n",
       "      <th>currentTravelTime</th>\n",
       "      <th>freeFlowSpeed</th>\n",
       "      <th>freeFlowTravelTime</th>\n",
       "      <th>hour</th>\n",
       "    </tr>\n",
       "  </thead>\n",
       "  <tbody>\n",
       "    <tr>\n",
       "      <th>currentSpeed</th>\n",
       "      <td>1.000000</td>\n",
       "      <td>-0.784509</td>\n",
       "      <td>0.404206</td>\n",
       "      <td>-0.210127</td>\n",
       "      <td>-0.343349</td>\n",
       "    </tr>\n",
       "    <tr>\n",
       "      <th>currentTravelTime</th>\n",
       "      <td>-0.784509</td>\n",
       "      <td>1.000000</td>\n",
       "      <td>-0.371486</td>\n",
       "      <td>0.496550</td>\n",
       "      <td>0.261846</td>\n",
       "    </tr>\n",
       "    <tr>\n",
       "      <th>freeFlowSpeed</th>\n",
       "      <td>0.404206</td>\n",
       "      <td>-0.371486</td>\n",
       "      <td>1.000000</td>\n",
       "      <td>-0.579225</td>\n",
       "      <td>-0.056670</td>\n",
       "    </tr>\n",
       "    <tr>\n",
       "      <th>freeFlowTravelTime</th>\n",
       "      <td>-0.210127</td>\n",
       "      <td>0.496550</td>\n",
       "      <td>-0.579225</td>\n",
       "      <td>1.000000</td>\n",
       "      <td>0.020705</td>\n",
       "    </tr>\n",
       "    <tr>\n",
       "      <th>hour</th>\n",
       "      <td>-0.343349</td>\n",
       "      <td>0.261846</td>\n",
       "      <td>-0.056670</td>\n",
       "      <td>0.020705</td>\n",
       "      <td>1.000000</td>\n",
       "    </tr>\n",
       "  </tbody>\n",
       "</table>\n",
       "</div>"
      ],
      "text/plain": [
       "                    currentSpeed  currentTravelTime  freeFlowSpeed  \\\n",
       "currentSpeed            1.000000          -0.784509       0.404206   \n",
       "currentTravelTime      -0.784509           1.000000      -0.371486   \n",
       "freeFlowSpeed           0.404206          -0.371486       1.000000   \n",
       "freeFlowTravelTime     -0.210127           0.496550      -0.579225   \n",
       "hour                   -0.343349           0.261846      -0.056670   \n",
       "\n",
       "                    freeFlowTravelTime      hour  \n",
       "currentSpeed                 -0.210127 -0.343349  \n",
       "currentTravelTime             0.496550  0.261846  \n",
       "freeFlowSpeed                -0.579225 -0.056670  \n",
       "freeFlowTravelTime            1.000000  0.020705  \n",
       "hour                          0.020705  1.000000  "
      ]
     },
     "execution_count": 6,
     "metadata": {},
     "output_type": "execute_result"
    }
   ],
   "source": [
    "speeds_and_times_df_corr = speeds_and_times_df.corr()\n",
    "speeds_and_times_df_corr"
   ]
  },
  {
   "cell_type": "code",
   "execution_count": 7,
   "id": "537fa281-1f30-45f3-b7d0-96e06e51c45b",
   "metadata": {},
   "outputs": [
    {
     "data": {
      "image/png": "[encoded data removed]",
      "text/plain": [
       "<Figure size 640x480 with 2 Axes>"
      ]
     },
     "metadata": {},
     "output_type": "display_data"
    }
   ],
   "source": [
    "labels=[\"Current Speed\", \"Current Travel Time\", \"Free Flow Speed\", \"Free Flow Travel Time\", \"Hour\"]\n",
    "ax = sns.heatmap(speeds_and_times_df_corr,xticklabels=labels,yticklabels=labels,annot=True,linewidth=0.5)\n",
    "ax.xaxis.tick_top()\n",
    "plt.xticks(rotation=45)\n",
    "plt.savefig(\"./plots/070_speed_travel_time_correlation.eps\", format=\"eps\", bbox_inches=\"tight\")\n",
    "plt.savefig(\"./plots/070_speed_travel_time_correlation.png\", bbox_inches=\"tight\")\n",
    "plt.savefig(\"./plots/070_speed_travel_time_correlation.pdf\", bbox_inches=\"tight\")"
   ]
  },
  {
   "attachments": {},
   "cell_type": "markdown",
   "id": "5ab8b30c-8cee-4698-a62f-e97fda51efea",
   "metadata": {},
   "source": [
    "# ANOVA (Analysis Of Variance) test\n",
    "- Null hypothesis: numerical and categorical values are not correlated\n",
    "- P-value: The probability of Null hypothesis being true\n",
    "- Accept Null hypothesis if P-value>0.05. Means variables are NOT correlated\n",
    "- Reject Null hypothesis if P-value<0.05. Means variables are correlated"
   ]
  },
  {
   "cell_type": "code",
   "execution_count": 8,
   "id": "c30d83c7-b6ae-455e-8dad-2292f7166bac",
   "metadata": {},
   "outputs": [],
   "source": [
    "from scipy.stats import f_oneway"
   ]
  },
  {
   "attachments": {},
   "cell_type": "markdown",
   "id": "43a13204-a0ff-4303-a159-20fac11c1e40",
   "metadata": {},
   "source": [
    "## Between day of week (categorical) and current speed (numerical)"
   ]
  },
  {
   "cell_type": "code",
   "execution_count": 9,
   "id": "edfd058a-5a5a-4762-a0be-5d6936ea20fd",
   "metadata": {},
   "outputs": [
    {
     "name": "stdout",
     "output_type": "stream",
     "text": [
      "P-value: 2.6497931562618125e-145\n",
      "Speed and day of week ARE correlated\n"
     ]
    }
   ],
   "source": [
    "category_group_lists = df[[\"currentSpeed\",\"dow_name\"]].groupby('dow_name')['currentSpeed'].apply(list)\n",
    "anova_results = f_oneway(*category_group_lists)\n",
    "print(\"P-value:\",anova_results[1])\n",
    "print(\"Speed and day of week are NOT correlated\") if anova_results[1] > 0.05 else print(\"Speed and day of week ARE correlated\")"
   ]
  },
  {
   "attachments": {},
   "cell_type": "markdown",
   "id": "5f024f46-e332-4d95-a630-cf8bc9d1a43b",
   "metadata": {},
   "source": [
    "## Between day of week (categorical) and current travel time (numerical)"
   ]
  },
  {
   "cell_type": "code",
   "execution_count": 10,
   "id": "a5e3bbd0-5319-48e7-b977-79fdf38852d9",
   "metadata": {},
   "outputs": [
    {
     "name": "stdout",
     "output_type": "stream",
     "text": [
      "P-value: 1.1031271827595424e-96\n",
      "Travel time and day of week ARE correlated\n"
     ]
    }
   ],
   "source": [
    "category_group_lists = df[[\"currentTravelTime\",\"dow_name\"]].groupby('dow_name')['currentTravelTime'].apply(list)\n",
    "anova_results = f_oneway(*category_group_lists)\n",
    "print(\"P-value:\",anova_results[1])\n",
    "print(\"Travel time and day of week are NOT correlated\") if anova_results[1] > 0.05 else print(\"Travel time and day of week ARE correlated\")"
   ]
  },
  {
   "attachments": {},
   "cell_type": "markdown",
   "id": "f707ba9a-2423-4603-93eb-ae3ad00612a5",
   "metadata": {},
   "source": [
    "## Between month (categorical) and current speed (numerical)"
   ]
  },
  {
   "cell_type": "code",
   "execution_count": 11,
   "id": "44a3b949-f9e8-424b-9963-77fa21d7ece6",
   "metadata": {},
   "outputs": [
    {
     "name": "stdout",
     "output_type": "stream",
     "text": [
      "P-value: 0.0\n",
      "Speed and month ARE correlated\n"
     ]
    }
   ],
   "source": [
    "category_group_lists = df[[\"currentSpeed\",\"month_name\"]].groupby('month_name')['currentSpeed'].apply(list)\n",
    "anova_results = f_oneway(*category_group_lists)\n",
    "print(\"P-value:\",anova_results[1])\n",
    "print(\"Speed and month are NOT correlated\") if anova_results[1] > 0.05 else print(\"Speed and month ARE correlated\")"
   ]
  },
  {
   "attachments": {},
   "cell_type": "markdown",
   "id": "dbbe81e7-b7d7-4a66-8548-1f86591faab1",
   "metadata": {},
   "source": [
    "## Between month (categorical) and current travel time (numerical)"
   ]
  },
  {
   "cell_type": "code",
   "execution_count": 12,
   "id": "4e078b38-3ea3-421a-a497-cd13be91e80d",
   "metadata": {},
   "outputs": [
    {
     "name": "stdout",
     "output_type": "stream",
     "text": [
      "P-value: 6.076600540782933e-274\n",
      "Travel time and month ARE correlated\n"
     ]
    }
   ],
   "source": [
    "category_group_lists = df[[\"currentTravelTime\",\"month_name\"]].groupby('month_name')['currentTravelTime'].apply(list)\n",
    "anova_results = f_oneway(*category_group_lists)\n",
    "print(\"P-value:\",anova_results[1])\n",
    "print(\"Travel time and month are NOT correlated\") if anova_results[1] > 0.05 else print(\"Travel time and month ARE correlated\")"
   ]
  },
  {
   "attachments": {},
   "cell_type": "markdown",
   "id": "530dccd3-cd4b-4d7f-aced-f057ef722e37",
   "metadata": {},
   "source": [
    "## Between day of week & month (categorical) and current speed (numerical)"
   ]
  },
  {
   "cell_type": "code",
   "execution_count": 13,
   "id": "b4e951a1-5e31-46a0-bb25-bfbed199d1b0",
   "metadata": {},
   "outputs": [
    {
     "name": "stdout",
     "output_type": "stream",
     "text": [
      "P-value: 0.0\n",
      "Speed and day of week & month ARE correlated\n"
     ]
    }
   ],
   "source": [
    "category_group_lists = df[[\"currentSpeed\",\"dow_name\", \"month_name\"]].groupby([\"dow_name\", \"month_name\"])['currentSpeed'].apply(list)\n",
    "\n",
    "anova_results = f_oneway(*category_group_lists)\n",
    "\n",
    "print(\"P-value:\",anova_results[1])\n",
    "print(\"Speed and day of week & month NOT correlated\") if anova_results[1] > 0.05 else print(\"Speed and day of week & month ARE correlated\")"
   ]
  },
  {
   "attachments": {},
   "cell_type": "markdown",
   "id": "ddc9cdec-16d8-473e-b2f3-8ef94cbe1fa7",
   "metadata": {},
   "source": [
    "## Between day of week & month (categorical) and current travel time (numerical)"
   ]
  },
  {
   "cell_type": "code",
   "execution_count": 14,
   "id": "69260ba7-33bc-4ad9-be96-0088f5f43ee0",
   "metadata": {},
   "outputs": [
    {
     "name": "stdout",
     "output_type": "stream",
     "text": [
      "P-value: 0.0\n",
      "Travel time and day of week & month ARE correlated\n"
     ]
    }
   ],
   "source": [
    "category_group_lists = df[[\"currentTravelTime\",\"dow_name\", \"month_name\"]].groupby([\"dow_name\", \"month_name\"])['currentTravelTime'].apply(list)\n",
    "\n",
    "anova_results = f_oneway(*category_group_lists)\n",
    "\n",
    "print(\"P-value:\",anova_results[1])\n",
    "print(\"Travel time and day of week & month NOT correlated\") if anova_results[1] > 0.05 else print(\"Travel time and day of week & month ARE correlated\")"
   ]
  }
 ],
 "metadata": {
  "kernelspec": {
   "display_name": "Python 3 (ipykernel)",
   "language": "python",
   "name": "python3"
  },
  "language_info": {
   "codemirror_mode": {
    "name": "ipython",
    "version": 3
   },
   "file_extension": ".py",
   "mimetype": "text/x-python",
   "name": "python",
   "nbconvert_exporter": "python",
   "pygments_lexer": "ipython3",
   "version": "3.10.10"
  }
 },
 "nbformat": 4,
 "nbformat_minor": 5
}

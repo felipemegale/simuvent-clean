{
 "cells": [
  {
   "cell_type": "code",
   "execution_count": 1,
   "id": "adfa5dc6-3a61-4d1f-86d5-fbb50978973d",
   "metadata": {},
   "outputs": [],
   "source": [
    "import folium\n",
    "\n",
    "SW=(43.6414,-79.3838)\n",
    "NE=(43.6489,-79.3733)\n",
    "NW=(43.6489,-79.3838)\n",
    "SE=(43.6414,-79.3733)\n",
    "points=[SW,SE,NE,NW]"
   ]
  },
  {
   "cell_type": "code",
   "execution_count": 6,
   "id": "fc2c0fa9-3da8-4e92-99b4-806f6360d590",
   "metadata": {},
   "outputs": [],
   "source": [
    "loc=[43.660834, -79.388976]\n",
    "map = folium.Map(location=loc, tiles=\"OpenStreetMap\", zoom_start=14)"
   ]
  },
  {
   "cell_type": "code",
   "execution_count": 7,
   "id": "7b928e62-d7dd-4846-88c1-517736724981",
   "metadata": {},
   "outputs": [],
   "source": [
    "folium.Rectangle(bounds=points, fill=True, fill_opacity=0.3).add_to(map)\n",
    "\n",
    "map.save(\"./maps/020_incidents_bbox.html\")"
   ]
  },
  {
   "cell_type": "code",
   "execution_count": null,
   "id": "d107553a-9fb1-4f7f-985f-88f743be9afb",
   "metadata": {},
   "outputs": [],
   "source": []
  }
 ],
 "metadata": {
  "kernelspec": {
   "display_name": "Python 3 (ipykernel)",
   "language": "python",
   "name": "python3"
  },
  "language_info": {
   "codemirror_mode": {
    "name": "ipython",
    "version": 3
   },
   "file_extension": ".py",
   "mimetype": "text/x-python",
   "name": "python",
   "nbconvert_exporter": "python",
   "pygments_lexer": "ipython3",
   "version": "3.10.10"
  }
 },
 "nbformat": 4,
 "nbformat_minor": 5
}

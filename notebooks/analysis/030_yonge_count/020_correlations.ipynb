{
 "cells": [
  {
   "cell_type": "code",
   "execution_count": 1,
   "id": "716a8414-feba-4c91-9c81-fb7ef95a82c5",
   "metadata": {},
   "outputs": [],
   "source": [
    "import pandas as pd\n",
    "from matplotlib import pyplot as plt\n",
    "import seaborn as sns\n",
    "sns.set_theme()"
   ]
  },
  {
   "cell_type": "code",
   "execution_count": 2,
   "id": "750e9648-511a-43ef-8de0-0e7505e110c3",
   "metadata": {
    "tags": []
   },
   "outputs": [
    {
     "data": {
      "text/html": [
       "<div>\n",
       "<style scoped>\n",
       "    .dataframe tbody tr th:only-of-type {\n",
       "        vertical-align: middle;\n",
       "    }\n",
       "\n",
       "    .dataframe tbody tr th {\n",
       "        vertical-align: top;\n",
       "    }\n",
       "\n",
       "    .dataframe thead th {\n",
       "        text-align: right;\n",
       "    }\n",
       "</style>\n",
       "<table border=\"1\" class=\"dataframe\">\n",
       "  <thead>\n",
       "    <tr style=\"text-align: right;\">\n",
       "      <th></th>\n",
       "      <th>_id</th>\n",
       "      <th>location</th>\n",
       "      <th>lng</th>\n",
       "      <th>lat</th>\n",
       "      <th>time_end</th>\n",
       "      <th>total_count</th>\n",
       "      <th>distance_from_point</th>\n",
       "      <th>end_hour</th>\n",
       "      <th>end_minute</th>\n",
       "      <th>end_day_of_week</th>\n",
       "    </tr>\n",
       "  </thead>\n",
       "  <tbody>\n",
       "    <tr>\n",
       "      <th>0</th>\n",
       "      <td>1</td>\n",
       "      <td>BROADVIEW AVE AT ERINDALE AVE</td>\n",
       "      <td>-79.358652</td>\n",
       "      <td>43.677521</td>\n",
       "      <td>2020-01-08 07:45:00</td>\n",
       "      <td>207</td>\n",
       "      <td>3.710382</td>\n",
       "      <td>7</td>\n",
       "      <td>45</td>\n",
       "      <td>2</td>\n",
       "    </tr>\n",
       "    <tr>\n",
       "      <th>1</th>\n",
       "      <td>2</td>\n",
       "      <td>BROADVIEW AVE AT ERINDALE AVE</td>\n",
       "      <td>-79.358652</td>\n",
       "      <td>43.677521</td>\n",
       "      <td>2020-01-08 08:00:00</td>\n",
       "      <td>187</td>\n",
       "      <td>3.710382</td>\n",
       "      <td>8</td>\n",
       "      <td>0</td>\n",
       "      <td>2</td>\n",
       "    </tr>\n",
       "    <tr>\n",
       "      <th>2</th>\n",
       "      <td>3</td>\n",
       "      <td>BROADVIEW AVE AT ERINDALE AVE</td>\n",
       "      <td>-79.358652</td>\n",
       "      <td>43.677521</td>\n",
       "      <td>2020-01-08 08:15:00</td>\n",
       "      <td>218</td>\n",
       "      <td>3.710382</td>\n",
       "      <td>8</td>\n",
       "      <td>15</td>\n",
       "      <td>2</td>\n",
       "    </tr>\n",
       "    <tr>\n",
       "      <th>3</th>\n",
       "      <td>4</td>\n",
       "      <td>BROADVIEW AVE AT ERINDALE AVE</td>\n",
       "      <td>-79.358652</td>\n",
       "      <td>43.677521</td>\n",
       "      <td>2020-01-08 08:30:00</td>\n",
       "      <td>260</td>\n",
       "      <td>3.710382</td>\n",
       "      <td>8</td>\n",
       "      <td>30</td>\n",
       "      <td>2</td>\n",
       "    </tr>\n",
       "    <tr>\n",
       "      <th>4</th>\n",
       "      <td>5</td>\n",
       "      <td>BROADVIEW AVE AT ERINDALE AVE</td>\n",
       "      <td>-79.358652</td>\n",
       "      <td>43.677521</td>\n",
       "      <td>2020-01-08 08:45:00</td>\n",
       "      <td>232</td>\n",
       "      <td>3.710382</td>\n",
       "      <td>8</td>\n",
       "      <td>45</td>\n",
       "      <td>2</td>\n",
       "    </tr>\n",
       "  </tbody>\n",
       "</table>\n",
       "</div>"
      ],
      "text/plain": [
       "   _id                       location        lng        lat  \\\n",
       "0    1  BROADVIEW AVE AT ERINDALE AVE -79.358652  43.677521   \n",
       "1    2  BROADVIEW AVE AT ERINDALE AVE -79.358652  43.677521   \n",
       "2    3  BROADVIEW AVE AT ERINDALE AVE -79.358652  43.677521   \n",
       "3    4  BROADVIEW AVE AT ERINDALE AVE -79.358652  43.677521   \n",
       "4    5  BROADVIEW AVE AT ERINDALE AVE -79.358652  43.677521   \n",
       "\n",
       "              time_end  total_count  distance_from_point  end_hour  \\\n",
       "0  2020-01-08 07:45:00          207             3.710382         7   \n",
       "1  2020-01-08 08:00:00          187             3.710382         8   \n",
       "2  2020-01-08 08:15:00          218             3.710382         8   \n",
       "3  2020-01-08 08:30:00          260             3.710382         8   \n",
       "4  2020-01-08 08:45:00          232             3.710382         8   \n",
       "\n",
       "   end_minute  end_day_of_week  \n",
       "0          45                2  \n",
       "1           0                2  \n",
       "2          15                2  \n",
       "3          30                2  \n",
       "4          45                2  "
      ]
     },
     "execution_count": 2,
     "metadata": {},
     "output_type": "execute_result"
    }
   ],
   "source": [
    "df = pd.read_csv(\"../../../csv/v2/030_yonge_count_processed.csv.zip\")\n",
    "df.head()"
   ]
  },
  {
   "attachments": {},
   "cell_type": "markdown",
   "id": "4ac4e9ca-feba-4298-adce-c6f1edc11b35",
   "metadata": {},
   "source": [
    "# Separate datetime into multiple date-related attributes"
   ]
  },
  {
   "cell_type": "code",
   "execution_count": 3,
   "id": "5b617b99-e9e9-4ee5-be15-8be9a8f4fb43",
   "metadata": {
    "tags": []
   },
   "outputs": [
    {
     "data": {
      "text/html": [
       "<div>\n",
       "<style scoped>\n",
       "    .dataframe tbody tr th:only-of-type {\n",
       "        vertical-align: middle;\n",
       "    }\n",
       "\n",
       "    .dataframe tbody tr th {\n",
       "        vertical-align: top;\n",
       "    }\n",
       "\n",
       "    .dataframe thead th {\n",
       "        text-align: right;\n",
       "    }\n",
       "</style>\n",
       "<table border=\"1\" class=\"dataframe\">\n",
       "  <thead>\n",
       "    <tr style=\"text-align: right;\">\n",
       "      <th></th>\n",
       "      <th>_id</th>\n",
       "      <th>location</th>\n",
       "      <th>lng</th>\n",
       "      <th>lat</th>\n",
       "      <th>time_end</th>\n",
       "      <th>total_count</th>\n",
       "      <th>distance_from_point</th>\n",
       "      <th>end_hour</th>\n",
       "      <th>end_minute</th>\n",
       "      <th>end_day_of_week</th>\n",
       "      <th>year</th>\n",
       "      <th>month</th>\n",
       "      <th>day</th>\n",
       "      <th>dow</th>\n",
       "      <th>time_of_day</th>\n",
       "      <th>hour</th>\n",
       "    </tr>\n",
       "  </thead>\n",
       "  <tbody>\n",
       "    <tr>\n",
       "      <th>0</th>\n",
       "      <td>1</td>\n",
       "      <td>BROADVIEW AVE AT ERINDALE AVE</td>\n",
       "      <td>-79.358652</td>\n",
       "      <td>43.677521</td>\n",
       "      <td>2020-01-08 07:45:00+00:00</td>\n",
       "      <td>207</td>\n",
       "      <td>3.710382</td>\n",
       "      <td>7</td>\n",
       "      <td>45</td>\n",
       "      <td>2</td>\n",
       "      <td>2020</td>\n",
       "      <td>1</td>\n",
       "      <td>8</td>\n",
       "      <td>Wednesday</td>\n",
       "      <td>07:45:00</td>\n",
       "      <td>7</td>\n",
       "    </tr>\n",
       "    <tr>\n",
       "      <th>1</th>\n",
       "      <td>2</td>\n",
       "      <td>BROADVIEW AVE AT ERINDALE AVE</td>\n",
       "      <td>-79.358652</td>\n",
       "      <td>43.677521</td>\n",
       "      <td>2020-01-08 08:00:00+00:00</td>\n",
       "      <td>187</td>\n",
       "      <td>3.710382</td>\n",
       "      <td>8</td>\n",
       "      <td>0</td>\n",
       "      <td>2</td>\n",
       "      <td>2020</td>\n",
       "      <td>1</td>\n",
       "      <td>8</td>\n",
       "      <td>Wednesday</td>\n",
       "      <td>08:00:00</td>\n",
       "      <td>8</td>\n",
       "    </tr>\n",
       "    <tr>\n",
       "      <th>2</th>\n",
       "      <td>3</td>\n",
       "      <td>BROADVIEW AVE AT ERINDALE AVE</td>\n",
       "      <td>-79.358652</td>\n",
       "      <td>43.677521</td>\n",
       "      <td>2020-01-08 08:15:00+00:00</td>\n",
       "      <td>218</td>\n",
       "      <td>3.710382</td>\n",
       "      <td>8</td>\n",
       "      <td>15</td>\n",
       "      <td>2</td>\n",
       "      <td>2020</td>\n",
       "      <td>1</td>\n",
       "      <td>8</td>\n",
       "      <td>Wednesday</td>\n",
       "      <td>08:15:00</td>\n",
       "      <td>8</td>\n",
       "    </tr>\n",
       "    <tr>\n",
       "      <th>3</th>\n",
       "      <td>4</td>\n",
       "      <td>BROADVIEW AVE AT ERINDALE AVE</td>\n",
       "      <td>-79.358652</td>\n",
       "      <td>43.677521</td>\n",
       "      <td>2020-01-08 08:30:00+00:00</td>\n",
       "      <td>260</td>\n",
       "      <td>3.710382</td>\n",
       "      <td>8</td>\n",
       "      <td>30</td>\n",
       "      <td>2</td>\n",
       "      <td>2020</td>\n",
       "      <td>1</td>\n",
       "      <td>8</td>\n",
       "      <td>Wednesday</td>\n",
       "      <td>08:30:00</td>\n",
       "      <td>8</td>\n",
       "    </tr>\n",
       "    <tr>\n",
       "      <th>4</th>\n",
       "      <td>5</td>\n",
       "      <td>BROADVIEW AVE AT ERINDALE AVE</td>\n",
       "      <td>-79.358652</td>\n",
       "      <td>43.677521</td>\n",
       "      <td>2020-01-08 08:45:00+00:00</td>\n",
       "      <td>232</td>\n",
       "      <td>3.710382</td>\n",
       "      <td>8</td>\n",
       "      <td>45</td>\n",
       "      <td>2</td>\n",
       "      <td>2020</td>\n",
       "      <td>1</td>\n",
       "      <td>8</td>\n",
       "      <td>Wednesday</td>\n",
       "      <td>08:45:00</td>\n",
       "      <td>8</td>\n",
       "    </tr>\n",
       "  </tbody>\n",
       "</table>\n",
       "</div>"
      ],
      "text/plain": [
       "   _id                       location        lng        lat  \\\n",
       "0    1  BROADVIEW AVE AT ERINDALE AVE -79.358652  43.677521   \n",
       "1    2  BROADVIEW AVE AT ERINDALE AVE -79.358652  43.677521   \n",
       "2    3  BROADVIEW AVE AT ERINDALE AVE -79.358652  43.677521   \n",
       "3    4  BROADVIEW AVE AT ERINDALE AVE -79.358652  43.677521   \n",
       "4    5  BROADVIEW AVE AT ERINDALE AVE -79.358652  43.677521   \n",
       "\n",
       "                   time_end  total_count  distance_from_point  end_hour  \\\n",
       "0 2020-01-08 07:45:00+00:00          207             3.710382         7   \n",
       "1 2020-01-08 08:00:00+00:00          187             3.710382         8   \n",
       "2 2020-01-08 08:15:00+00:00          218             3.710382         8   \n",
       "3 2020-01-08 08:30:00+00:00          260             3.710382         8   \n",
       "4 2020-01-08 08:45:00+00:00          232             3.710382         8   \n",
       "\n",
       "   end_minute  end_day_of_week  year  month  day        dow time_of_day  hour  \n",
       "0          45                2  2020      1    8  Wednesday    07:45:00     7  \n",
       "1           0                2  2020      1    8  Wednesday    08:00:00     8  \n",
       "2          15                2  2020      1    8  Wednesday    08:15:00     8  \n",
       "3          30                2  2020      1    8  Wednesday    08:30:00     8  \n",
       "4          45                2  2020      1    8  Wednesday    08:45:00     8  "
      ]
     },
     "execution_count": 3,
     "metadata": {},
     "output_type": "execute_result"
    }
   ],
   "source": [
    "df[\"time_end\"] = pd.to_datetime(df[\"time_end\"],utc=True)\n",
    "df[\"year\"] = df[\"time_end\"].dt.year\n",
    "df[\"month\"] = df[\"time_end\"].dt.month\n",
    "df[\"day\"] = df[\"time_end\"].dt.day\n",
    "df[\"dow\"] = df[\"time_end\"].dt.day_name()\n",
    "df[\"time_of_day\"] = df[\"time_end\"].dt.time\n",
    "df[\"hour\"] = df[\"time_end\"].dt.hour\n",
    "df.head()"
   ]
  },
  {
   "attachments": {},
   "cell_type": "markdown",
   "id": "2b586e75-a263-4ed3-8b3b-ed78e29d9e16",
   "metadata": {},
   "source": [
    "# ANOVA (Analysis Of Variance) test\n",
    "- Null hypothesis: numerical and categorical values are not correlated\n",
    "- P-value: The probability of Null hypothesis being true\n",
    "- Accept Null hypothesis if P-value>0.05. Means variables are NOT correlated\n",
    "- Reject Null hypothesis if P-value<0.05. Means variables are correlated"
   ]
  },
  {
   "cell_type": "code",
   "execution_count": 4,
   "id": "2d089b1f-df1d-425b-b2d4-d8df5655ff38",
   "metadata": {
    "tags": []
   },
   "outputs": [],
   "source": [
    "from scipy.stats import f_oneway"
   ]
  },
  {
   "attachments": {},
   "cell_type": "markdown",
   "id": "5ec84063-0579-41f5-b44b-05d16c6f556c",
   "metadata": {},
   "source": [
    "## Between count (numerical) and day of week (categorical)"
   ]
  },
  {
   "cell_type": "code",
   "execution_count": 5,
   "id": "bd5db99a-9b73-496b-9784-a70ecc68756c",
   "metadata": {
    "tags": []
   },
   "outputs": [
    {
     "name": "stdout",
     "output_type": "stream",
     "text": [
      "P-value: 0.0\n",
      "Count and day of week ARE correlated\n"
     ]
    }
   ],
   "source": [
    "category_group_lists = df[[\"total_count\",\"dow\"]].groupby('dow')['total_count'].apply(list)\n",
    "anova_results = f_oneway(*category_group_lists)\n",
    "print(\"P-value:\",anova_results[1])\n",
    "print(\"Count and day of week are NOT correlated\") if anova_results[1] > 0.05 else print(\"Count and day of week ARE correlated\")"
   ]
  },
  {
   "attachments": {},
   "cell_type": "markdown",
   "id": "4f987f19-106e-484b-bef9-25c19aaf6406",
   "metadata": {},
   "source": [
    "- P-value: 0.0\n",
    "- Count and day of week ARE correlated"
   ]
  },
  {
   "attachments": {},
   "cell_type": "markdown",
   "id": "352e4ff6-9a99-43c3-aec3-4c4242f2bb1d",
   "metadata": {},
   "source": [
    "## Between count (numerical) and detector location (categorical)"
   ]
  },
  {
   "cell_type": "code",
   "execution_count": 6,
   "id": "e6927101-1127-4801-8663-d4f9252d9c04",
   "metadata": {
    "tags": []
   },
   "outputs": [
    {
     "name": "stdout",
     "output_type": "stream",
     "text": [
      "P-value: 0.0\n",
      "Count and detector location ARE correlated\n"
     ]
    }
   ],
   "source": [
    "category_group_lists = df[[\"total_count\",\"location\"]].groupby('location')['total_count'].apply(list)\n",
    "anova_results = f_oneway(*category_group_lists)\n",
    "print(\"P-value:\",anova_results[1])\n",
    "print(\"Count and detector location are NOT correlated\") if anova_results[1] > 0.05 else print(\"Count and detector location ARE correlated\")"
   ]
  },
  {
   "attachments": {},
   "cell_type": "markdown",
   "id": "6068bef8-83b4-42bf-9046-8f928d149c53",
   "metadata": {},
   "source": [
    "## Between count (numerical) and day of week and detector location (categorical)"
   ]
  },
  {
   "cell_type": "code",
   "execution_count": 7,
   "id": "f302423a-79e2-456f-a95a-ed4ac7b9c21f",
   "metadata": {
    "tags": []
   },
   "outputs": [
    {
     "name": "stdout",
     "output_type": "stream",
     "text": [
      "P-value: 0.0\n",
      "Count and day of week ARE correlated\n"
     ]
    }
   ],
   "source": [
    "category_group_lists = df[[\"total_count\",\"dow\", \"location\"]].groupby([\"dow\",\"location\"])['total_count'].apply(list)\n",
    "\n",
    "anova_results = f_oneway(*category_group_lists)\n",
    "\n",
    "print(\"P-value:\",anova_results[1])\n",
    "print(\"Count and day of week are NOT correlated\") if anova_results[1] > 0.05 else print(\"Count and day of week ARE correlated\")"
   ]
  },
  {
   "attachments": {},
   "cell_type": "markdown",
   "id": "20cd1f8c-25e1-4310-ad35-8ad3f9167894",
   "metadata": {
    "tags": []
   },
   "source": [
    "# Calculate Pearson correlation of numerical features"
   ]
  },
  {
   "cell_type": "code",
   "execution_count": 8,
   "id": "b12d9b6e-d999-4e2c-b4bc-2311ee3f074d",
   "metadata": {
    "tags": []
   },
   "outputs": [],
   "source": [
    "data_to_correlate = df[[\"total_count\",\"month\",\"day\",\"hour\"]]\n",
    "\n",
    "corr_mat = data_to_correlate.corr()"
   ]
  },
  {
   "cell_type": "code",
   "execution_count": 9,
   "id": "6b42d5c1-1503-4bba-812f-3b17b9e6dc8f",
   "metadata": {
    "tags": []
   },
   "outputs": [
    {
     "data": {
      "image/png": "[encoded data removed]",
      "text/plain": [
       "<Figure size 640x480 with 2 Axes>"
      ]
     },
     "metadata": {},
     "output_type": "display_data"
    }
   ],
   "source": [
    "labels=[\"Volume\", \"Month\", \"Day\", \"Hour\"]\n",
    "\n",
    "ax = sns.heatmap(corr_mat,annot=True,linewidth=0.5,xticklabels=labels,yticklabels=labels)\n",
    "ax.xaxis.tick_top()\n",
    "plt.xticks(rotation=45)\n",
    "\n",
    "plt.savefig(\"./plots/020_correlations.eps\", format=\"eps\", bbox_inches=\"tight\")\n",
    "plt.savefig(\"./plots/020_correlations.png\", bbox_inches=\"tight\")\n",
    "plt.savefig(\"./plots/020_correlations.pdf\", bbox_inches=\"tight\")"
   ]
  },
  {
   "cell_type": "code",
   "execution_count": null,
   "id": "f2a2be92-aea7-49b5-9bfc-db6cb96ff7c6",
   "metadata": {},
   "outputs": [],
   "source": []
  }
 ],
 "metadata": {
  "kernelspec": {
   "display_name": "Python 3 (ipykernel)",
   "language": "python",
   "name": "python3"
  },
  "language_info": {
   "codemirror_mode": {
    "name": "ipython",
    "version": 3
   },
   "file_extension": ".py",
   "mimetype": "text/x-python",
   "name": "python",
   "nbconvert_exporter": "python",
   "pygments_lexer": "ipython3",
   "version": "3.10.10"
  }
 },
 "nbformat": 4,
 "nbformat_minor": 5
}

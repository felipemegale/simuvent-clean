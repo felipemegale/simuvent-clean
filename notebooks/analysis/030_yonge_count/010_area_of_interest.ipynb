{
 "cells": [
  {
   "cell_type": "code",
   "execution_count": 1,
   "id": "bd32f8a9-e244-4053-a468-d47f772989d0",
   "metadata": {
    "tags": []
   },
   "outputs": [],
   "source": [
    "import pandas as pd\n",
    "import ast\n",
    "import folium"
   ]
  },
  {
   "cell_type": "code",
   "execution_count": 3,
   "id": "fbb78ba8-d649-48a7-816d-da635d110f90",
   "metadata": {
    "tags": []
   },
   "outputs": [
    {
     "data": {
      "text/html": [
       "<div>\n",
       "<style scoped>\n",
       "    .dataframe tbody tr th:only-of-type {\n",
       "        vertical-align: middle;\n",
       "    }\n",
       "\n",
       "    .dataframe tbody tr th {\n",
       "        vertical-align: top;\n",
       "    }\n",
       "\n",
       "    .dataframe thead th {\n",
       "        text-align: right;\n",
       "    }\n",
       "</style>\n",
       "<table border=\"1\" class=\"dataframe\">\n",
       "  <thead>\n",
       "    <tr style=\"text-align: right;\">\n",
       "      <th></th>\n",
       "      <th>_id</th>\n",
       "      <th>location</th>\n",
       "      <th>lng</th>\n",
       "      <th>lat</th>\n",
       "      <th>time_end</th>\n",
       "      <th>total_count</th>\n",
       "      <th>distance_from_point</th>\n",
       "      <th>end_hour</th>\n",
       "      <th>end_minute</th>\n",
       "      <th>end_day_of_week</th>\n",
       "    </tr>\n",
       "  </thead>\n",
       "  <tbody>\n",
       "    <tr>\n",
       "      <th>0</th>\n",
       "      <td>1</td>\n",
       "      <td>BROADVIEW AVE AT ERINDALE AVE</td>\n",
       "      <td>-79.358652</td>\n",
       "      <td>43.677521</td>\n",
       "      <td>2020-01-08 07:45:00</td>\n",
       "      <td>207</td>\n",
       "      <td>3.710382</td>\n",
       "      <td>7</td>\n",
       "      <td>45</td>\n",
       "      <td>2</td>\n",
       "    </tr>\n",
       "    <tr>\n",
       "      <th>1</th>\n",
       "      <td>2</td>\n",
       "      <td>BROADVIEW AVE AT ERINDALE AVE</td>\n",
       "      <td>-79.358652</td>\n",
       "      <td>43.677521</td>\n",
       "      <td>2020-01-08 08:00:00</td>\n",
       "      <td>187</td>\n",
       "      <td>3.710382</td>\n",
       "      <td>8</td>\n",
       "      <td>0</td>\n",
       "      <td>2</td>\n",
       "    </tr>\n",
       "    <tr>\n",
       "      <th>2</th>\n",
       "      <td>3</td>\n",
       "      <td>BROADVIEW AVE AT ERINDALE AVE</td>\n",
       "      <td>-79.358652</td>\n",
       "      <td>43.677521</td>\n",
       "      <td>2020-01-08 08:15:00</td>\n",
       "      <td>218</td>\n",
       "      <td>3.710382</td>\n",
       "      <td>8</td>\n",
       "      <td>15</td>\n",
       "      <td>2</td>\n",
       "    </tr>\n",
       "    <tr>\n",
       "      <th>3</th>\n",
       "      <td>4</td>\n",
       "      <td>BROADVIEW AVE AT ERINDALE AVE</td>\n",
       "      <td>-79.358652</td>\n",
       "      <td>43.677521</td>\n",
       "      <td>2020-01-08 08:30:00</td>\n",
       "      <td>260</td>\n",
       "      <td>3.710382</td>\n",
       "      <td>8</td>\n",
       "      <td>30</td>\n",
       "      <td>2</td>\n",
       "    </tr>\n",
       "    <tr>\n",
       "      <th>4</th>\n",
       "      <td>5</td>\n",
       "      <td>BROADVIEW AVE AT ERINDALE AVE</td>\n",
       "      <td>-79.358652</td>\n",
       "      <td>43.677521</td>\n",
       "      <td>2020-01-08 08:45:00</td>\n",
       "      <td>232</td>\n",
       "      <td>3.710382</td>\n",
       "      <td>8</td>\n",
       "      <td>45</td>\n",
       "      <td>2</td>\n",
       "    </tr>\n",
       "  </tbody>\n",
       "</table>\n",
       "</div>"
      ],
      "text/plain": [
       "   _id                       location        lng        lat  \\\n",
       "0    1  BROADVIEW AVE AT ERINDALE AVE -79.358652  43.677521   \n",
       "1    2  BROADVIEW AVE AT ERINDALE AVE -79.358652  43.677521   \n",
       "2    3  BROADVIEW AVE AT ERINDALE AVE -79.358652  43.677521   \n",
       "3    4  BROADVIEW AVE AT ERINDALE AVE -79.358652  43.677521   \n",
       "4    5  BROADVIEW AVE AT ERINDALE AVE -79.358652  43.677521   \n",
       "\n",
       "              time_end  total_count  distance_from_point  end_hour  \\\n",
       "0  2020-01-08 07:45:00          207             3.710382         7   \n",
       "1  2020-01-08 08:00:00          187             3.710382         8   \n",
       "2  2020-01-08 08:15:00          218             3.710382         8   \n",
       "3  2020-01-08 08:30:00          260             3.710382         8   \n",
       "4  2020-01-08 08:45:00          232             3.710382         8   \n",
       "\n",
       "   end_minute  end_day_of_week  \n",
       "0          45                2  \n",
       "1           0                2  \n",
       "2          15                2  \n",
       "3          30                2  \n",
       "4          45                2  "
      ]
     },
     "execution_count": 3,
     "metadata": {},
     "output_type": "execute_result"
    }
   ],
   "source": [
    "df = pd.read_csv(\"../../../csv/v2/030_yonge_count_processed.csv.zip\")\n",
    "df.head()"
   ]
  },
  {
   "cell_type": "code",
   "execution_count": 4,
   "id": "19febd2d-90f8-4199-9f13-07a281480f60",
   "metadata": {
    "tags": []
   },
   "outputs": [
    {
     "data": {
      "text/html": [
       "<div>\n",
       "<style scoped>\n",
       "    .dataframe tbody tr th:only-of-type {\n",
       "        vertical-align: middle;\n",
       "    }\n",
       "\n",
       "    .dataframe tbody tr th {\n",
       "        vertical-align: top;\n",
       "    }\n",
       "\n",
       "    .dataframe thead th {\n",
       "        text-align: right;\n",
       "    }\n",
       "</style>\n",
       "<table border=\"1\" class=\"dataframe\">\n",
       "  <thead>\n",
       "    <tr style=\"text-align: right;\">\n",
       "      <th></th>\n",
       "      <th>location</th>\n",
       "      <th>lat</th>\n",
       "      <th>lng</th>\n",
       "    </tr>\n",
       "  </thead>\n",
       "  <tbody>\n",
       "    <tr>\n",
       "      <th>0</th>\n",
       "      <td>BROADVIEW AVE AT ERINDALE AVE</td>\n",
       "      <td>43.677521</td>\n",
       "      <td>-79.358652</td>\n",
       "    </tr>\n",
       "    <tr>\n",
       "      <th>32</th>\n",
       "      <td>ISLINGTON AVE AT MARKET GARDEN MEWS</td>\n",
       "      <td>43.622903</td>\n",
       "      <td>-79.514446</td>\n",
       "    </tr>\n",
       "    <tr>\n",
       "      <th>64</th>\n",
       "      <td>INDIAN GROVE AT INDIAN VALLEY CRES</td>\n",
       "      <td>43.651255</td>\n",
       "      <td>-79.457233</td>\n",
       "    </tr>\n",
       "    <tr>\n",
       "      <th>96</th>\n",
       "      <td>BROOKSIDE AVE AT ST JOHNS RD</td>\n",
       "      <td>43.661452</td>\n",
       "      <td>-79.492137</td>\n",
       "    </tr>\n",
       "    <tr>\n",
       "      <th>128</th>\n",
       "      <td>GORMLEY AVE AT LASCELLES BLVD</td>\n",
       "      <td>43.694278</td>\n",
       "      <td>-79.399207</td>\n",
       "    </tr>\n",
       "  </tbody>\n",
       "</table>\n",
       "</div>"
      ],
      "text/plain": [
       "                                location        lat        lng\n",
       "0          BROADVIEW AVE AT ERINDALE AVE  43.677521 -79.358652\n",
       "32   ISLINGTON AVE AT MARKET GARDEN MEWS  43.622903 -79.514446\n",
       "64    INDIAN GROVE AT INDIAN VALLEY CRES  43.651255 -79.457233\n",
       "96          BROOKSIDE AVE AT ST JOHNS RD  43.661452 -79.492137\n",
       "128        GORMLEY AVE AT LASCELLES BLVD  43.694278 -79.399207"
      ]
     },
     "execution_count": 4,
     "metadata": {},
     "output_type": "execute_result"
    }
   ],
   "source": [
    "coords = df[[\"location\",\"lat\",\"lng\"]].drop_duplicates(\"location\")\n",
    "coords.head()"
   ]
  },
  {
   "cell_type": "markdown",
   "id": "7c9a712c-8ba5-45f3-ab25-ff7128a7037f",
   "metadata": {},
   "source": [
    "# Saving all detector locations"
   ]
  },
  {
   "cell_type": "code",
   "execution_count": 6,
   "id": "5178c8a7-1e4e-469d-ab6c-e297cf821a85",
   "metadata": {
    "tags": []
   },
   "outputs": [],
   "source": [
    "loc=[43.660834, -79.388976]\n",
    "map1 = folium.Map(location=loc, tiles=\"OpenStreetMap\", zoom_start=14)"
   ]
  },
  {
   "cell_type": "code",
   "execution_count": 8,
   "id": "224a2297-69b9-418b-957a-4c56dc1b72c2",
   "metadata": {
    "tags": []
   },
   "outputs": [],
   "source": [
    "for i in range(len(coords)):\n",
    "    lat = coords.iloc[i][\"lat\"]\n",
    "    lng = coords.iloc[i][\"lng\"]\n",
    "    folium.Marker(location=[lat,lng]).add_to(map1)"
   ]
  },
  {
   "cell_type": "code",
   "execution_count": 10,
   "id": "7668ecba-5053-45bb-91d9-bf183a2068a3",
   "metadata": {
    "tags": []
   },
   "outputs": [],
   "source": [
    "map1.save(\"./maps/010_yonge_count_map1.html\")"
   ]
  },
  {
   "cell_type": "markdown",
   "id": "36f513ce-cf73-4131-87d2-2cdb701c82d6",
   "metadata": {},
   "source": [
    "# Saving detector locations in Yonge St only"
   ]
  },
  {
   "cell_type": "code",
   "execution_count": 19,
   "id": "1ee87727-5cee-4f3c-9519-bf21462a2a2b",
   "metadata": {
    "tags": []
   },
   "outputs": [
    {
     "data": {
      "text/html": [
       "<div>\n",
       "<style scoped>\n",
       "    .dataframe tbody tr th:only-of-type {\n",
       "        vertical-align: middle;\n",
       "    }\n",
       "\n",
       "    .dataframe tbody tr th {\n",
       "        vertical-align: top;\n",
       "    }\n",
       "\n",
       "    .dataframe thead th {\n",
       "        text-align: right;\n",
       "    }\n",
       "</style>\n",
       "<table border=\"1\" class=\"dataframe\">\n",
       "  <thead>\n",
       "    <tr style=\"text-align: right;\">\n",
       "      <th></th>\n",
       "      <th>location</th>\n",
       "      <th>lat</th>\n",
       "      <th>lng</th>\n",
       "    </tr>\n",
       "  </thead>\n",
       "  <tbody>\n",
       "    <tr>\n",
       "      <th>17379</th>\n",
       "      <td>LAWRENCE AVE AT YONGE ST (PX 55)</td>\n",
       "      <td>43.725101</td>\n",
       "      <td>-79.402195</td>\n",
       "    </tr>\n",
       "    <tr>\n",
       "      <th>24707</th>\n",
       "      <td>WELLINGTON ST AT YONGE ST (PX 30)</td>\n",
       "      <td>43.647846</td>\n",
       "      <td>-79.377370</td>\n",
       "    </tr>\n",
       "    <tr>\n",
       "      <th>25059</th>\n",
       "      <td>FRONT ST AT YONGE ST (PX 29)</td>\n",
       "      <td>43.646884</td>\n",
       "      <td>-79.376974</td>\n",
       "    </tr>\n",
       "    <tr>\n",
       "      <th>25411</th>\n",
       "      <td>THE ESPLANADE AT YONGE ST (PX 2345)</td>\n",
       "      <td>43.645783</td>\n",
       "      <td>-79.376503</td>\n",
       "    </tr>\n",
       "    <tr>\n",
       "      <th>30627</th>\n",
       "      <td>BROADWAY AVE &amp; MONTGOMERY AVE AT YONGE ST (PX 50)</td>\n",
       "      <td>43.709583</td>\n",
       "      <td>-79.398997</td>\n",
       "    </tr>\n",
       "  </tbody>\n",
       "</table>\n",
       "</div>"
      ],
      "text/plain": [
       "                                                location        lat        lng\n",
       "17379                   LAWRENCE AVE AT YONGE ST (PX 55)  43.725101 -79.402195\n",
       "24707                  WELLINGTON ST AT YONGE ST (PX 30)  43.647846 -79.377370\n",
       "25059                       FRONT ST AT YONGE ST (PX 29)  43.646884 -79.376974\n",
       "25411                THE ESPLANADE AT YONGE ST (PX 2345)  43.645783 -79.376503\n",
       "30627  BROADWAY AVE & MONTGOMERY AVE AT YONGE ST (PX 50)  43.709583 -79.398997"
      ]
     },
     "execution_count": 19,
     "metadata": {},
     "output_type": "execute_result"
    }
   ],
   "source": [
    "coords_yonge = coords[coords[\"location\"].str.contains(\"YONGE ST\")]\n",
    "coords_yonge.head()"
   ]
  },
  {
   "cell_type": "code",
   "execution_count": 20,
   "id": "92aa7c58-8c2e-4294-b3d0-bf2c6b121df0",
   "metadata": {
    "tags": []
   },
   "outputs": [],
   "source": [
    "map2 = folium.Map(location=loc, tiles=\"OpenStreetMap\", zoom_start=14)\n",
    "\n",
    "for i in range(len(coords_yonge)):\n",
    "    lat = coords_yonge.iloc[i][\"lat\"]\n",
    "    lng = coords_yonge.iloc[i][\"lng\"]\n",
    "    folium.Marker(location=[lat,lng]).add_to(map2)\n",
    "    \n",
    "map2.save(\"./maps/010_yonge_count_map2.html\")"
   ]
  },
  {
   "cell_type": "code",
   "execution_count": null,
   "id": "de090e63-a2c3-4a75-8a02-5f01968519e6",
   "metadata": {},
   "outputs": [],
   "source": []
  }
 ],
 "metadata": {
  "kernelspec": {
   "display_name": "Python 3 (ipykernel)",
   "language": "python",
   "name": "python3"
  },
  "language_info": {
   "codemirror_mode": {
    "name": "ipython",
    "version": 3
   },
   "file_extension": ".py",
   "mimetype": "text/x-python",
   "name": "python",
   "nbconvert_exporter": "python",
   "pygments_lexer": "ipython3",
   "version": "3.10.10"
  }
 },
 "nbformat": 4,
 "nbformat_minor": 5
}

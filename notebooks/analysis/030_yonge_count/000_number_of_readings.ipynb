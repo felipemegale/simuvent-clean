{
 "cells": [
  {
   "cell_type": "code",
   "execution_count": null,
   "id": "20777d13-1435-4e8a-a425-455d4f1e1eba",
   "metadata": {
    "tags": []
   },
   "outputs": [],
   "source": [
    "import pandas as pd\n",
    "import seaborn as sns\n",
    "import matplotlib.pyplot as plt\n",
    "sns.set_theme()"
   ]
  },
  {
   "cell_type": "code",
   "execution_count": null,
   "id": "2ba2a12a-5c12-443a-a0b2-21be138b6b82",
   "metadata": {
    "tags": []
   },
   "outputs": [],
   "source": [
    "df = pd.read_csv(\"../../../csv/v2/030_yonge_count_processed.csv.zip\")\n",
    "df.drop(\"end_day_of_week\",axis=1,inplace=True)\n",
    "df"
   ]
  },
  {
   "cell_type": "code",
   "execution_count": null,
   "id": "7b500113-1b10-4d60-80d4-aa5fd10bd65b",
   "metadata": {
    "tags": []
   },
   "outputs": [],
   "source": [
    "df[\"time_end\"] = pd.to_datetime(df[\"time_end\"],utc=True)\n",
    "df"
   ]
  },
  {
   "cell_type": "markdown",
   "id": "d8cecd2a-06c9-4681-b92d-beda7fb1b257",
   "metadata": {},
   "source": [
    "# Filter off only locations about Yonge St"
   ]
  },
  {
   "cell_type": "code",
   "execution_count": null,
   "id": "3a2f5a86-0249-4cf7-8274-092166f5e354",
   "metadata": {
    "tags": []
   },
   "outputs": [],
   "source": [
    "df = df[df[\"location\"].str.contains(\"YONGE ST\")]"
   ]
  },
  {
   "cell_type": "code",
   "execution_count": null,
   "id": "30b18e96-139a-40f9-b3b4-76118af968a6",
   "metadata": {},
   "outputs": [],
   "source": [
    "print(len(df[\"location\"].drop_duplicates()))"
   ]
  },
  {
   "cell_type": "markdown",
   "id": "3bc115fc-a5ee-464a-9f6b-214ca102818a",
   "metadata": {},
   "source": [
    "# Understanding the time span"
   ]
  },
  {
   "cell_type": "code",
   "execution_count": null,
   "id": "af7eec69-6789-4160-b650-cc501130a604",
   "metadata": {
    "tags": []
   },
   "outputs": [],
   "source": [
    "df.sort_values(by=\"time_end\",inplace=True)\n",
    "df"
   ]
  },
  {
   "cell_type": "markdown",
   "id": "c9234f2b-6ba5-424f-ac48-0ca207959f4e",
   "metadata": {},
   "source": [
    "## First and last dates"
   ]
  },
  {
   "cell_type": "code",
   "execution_count": null,
   "id": "96036623-e759-4b50-bdc6-1be60d87acaa",
   "metadata": {
    "tags": []
   },
   "outputs": [],
   "source": [
    "print(\"First available date and time:\",df.iloc[0][\"time_end\"])\n",
    "print(\"Last available date and time:\",df.iloc[len(df)-1][\"time_end\"])"
   ]
  },
  {
   "cell_type": "markdown",
   "id": "0bd0ef6c-d264-4741-b0f7-54b7d7c7616b",
   "metadata": {
    "tags": []
   },
   "source": [
    "### Further expand \"time_end\""
   ]
  },
  {
   "cell_type": "code",
   "execution_count": null,
   "id": "e0e65b08-6ba8-4b06-8fa2-9ab2fcad685c",
   "metadata": {
    "tags": []
   },
   "outputs": [],
   "source": [
    "df[\"year\"] = df.time_end.dt.year\n",
    "df[\"month_name\"] = df.time_end.dt.month_name()\n",
    "df[\"month\"] = df.time_end.dt.month\n",
    "df[\"day\"] = df.time_end.dt.day\n",
    "df[\"day_of_week_name\"] = df.time_end.dt.day_name()\n",
    "df[\"day_of_week\"] = df.time_end.dt.day_of_week\n",
    "df[\"year_month\"] = df.time_end.dt.to_period(\"M\")\n",
    "df.head()"
   ]
  },
  {
   "cell_type": "markdown",
   "id": "1faf9add-294d-450b-8310-94b1a068fa2f",
   "metadata": {},
   "source": [
    "## Show number of readings per day in the entire dataset"
   ]
  },
  {
   "cell_type": "code",
   "execution_count": null,
   "id": "dd5ee9de-69cc-4fba-9e58-a908371488e3",
   "metadata": {
    "tags": []
   },
   "outputs": [],
   "source": [
    "readings_per_day = df.groupby([\"year\",\"month_name\",\"month\",\"day\"]).count().reset_index()\n",
    "readings_per_day = readings_per_day.sort_values(by=[\"year\",\"month_name\",\"day\"])\n",
    "readings_per_day.head()"
   ]
  },
  {
   "cell_type": "code",
   "execution_count": null,
   "id": "07b950e5-4678-41b6-9c29-cf878046661a",
   "metadata": {
    "tags": []
   },
   "outputs": [],
   "source": [
    "day_order = readings_per_day[\"day\"].sort_values().drop_duplicates()\n",
    "month_order = readings_per_day[[\"year\",\"month\",\"month_name\"]].sort_values(by=[\"year\",\"month\"]).drop_duplicates()[\"month_name\"]\n",
    "\n",
    "ax = sns.catplot(data=readings_per_day,x=\"day\",y=\"_id\",col=\"month_name\",col_wrap=4,\n",
    "                 col_order=month_order,margin_titles=True,kind=\"bar\",sharey=False)\n",
    "ax.set_titles(col_template=\"{col_name}\",row_template=\"{row_name}\")\n",
    "ax.set(xlabel=\"\",ylabel=\"Count\",xticks=[day for day in day_order if day%2!=0])\n",
    "ax.set_xticklabels([day for day in day_order if day%2!=0],rotation=45)\n",
    "\n",
    "plt.savefig(\"./plots/000_number_of_readings_per_day.eps\",format=\"eps\",bbox_inches=\"tight\")\n",
    "plt.savefig(\"./plots/000_number_of_readings_per_day.png\",bbox_inches=\"tight\")"
   ]
  },
  {
   "cell_type": "markdown",
   "id": "d4ba74ef-9d96-4e99-bd95-dcd08d5389d7",
   "metadata": {},
   "source": [
    "## Number of readings per month"
   ]
  },
  {
   "cell_type": "code",
   "execution_count": null,
   "id": "6b07df3d-94dc-4cb1-924f-f90c847ad646",
   "metadata": {
    "tags": []
   },
   "outputs": [],
   "source": [
    "df[\"year_month_str\"] = df[\"year_month\"].astype(str)\n",
    "\n",
    "ax = sns.histplot(data=df, x=\"year_month_str\", color=\"steelblue\")\n",
    "ax.set(ylabel=\"Num. Observations\", xlabel=\"Year & Month\")\n",
    "\n",
    "plt.xticks(rotation=30, size=10)\n",
    "\n",
    "plt.savefig(\"./plots/000_yonge_num_readings_per_month.eps\", format=\"eps\", bbox_inches=\"tight\")\n",
    "plt.savefig(\"./plots/000_yonge_num_readings_per_month.png\", bbox_inches=\"tight\")\n",
    "plt.savefig(\"./plots/000_yonge_num_readings_per_month.pdf\", bbox_inches=\"tight\")"
   ]
  },
  {
   "cell_type": "markdown",
   "id": "ba4e0574-cfb1-48b0-b36b-e0039f847b53",
   "metadata": {},
   "source": [
    "# Get number of observations from each detector and plot top 3 and last 3"
   ]
  },
  {
   "cell_type": "code",
   "execution_count": null,
   "id": "0656f33d-e9a2-4bef-84a3-862c0547c3ee",
   "metadata": {},
   "outputs": [],
   "source": [
    "num_observations_per_detector = df[[\"location\",\"_id\"]].groupby(\"location\").count().reset_index()\n",
    "lowest_readings = num_observations_per_detector.sort_values(by=\"_id\").head(5)\n",
    "highest_readings = num_observations_per_detector.sort_values(by=\"_id\", ascending=False).head(5)\n",
    "readings_df = pd.concat([highest_readings, lowest_readings])\n",
    "readings_df.sort_values(by=\"_id\", inplace=True, ascending=False)"
   ]
  },
  {
   "cell_type": "code",
   "execution_count": null,
   "id": "69007b3e-58cc-4ac7-a04f-c7f042241bec",
   "metadata": {},
   "outputs": [],
   "source": [
    "readings_df"
   ]
  },
  {
   "cell_type": "code",
   "execution_count": null,
   "id": "8fe8eaff-b763-4de5-b4fb-47053cdd8f08",
   "metadata": {},
   "outputs": [],
   "source": [
    "ax = sns.barplot(data=readings_df, x=\"_id\", y=\"location\", orient=\"h\")\n",
    "ax.set(ylabel=\"Detector Location\")\n",
    "ax.set(xlabel=\"Num. Observations\")\n",
    "\n",
    "plt.savefig(\"./plots/000_num_readings_per_detector.eps\", format=\"eps\", bbox_inches=\"tight\")\n",
    "plt.savefig(\"./plots/000_num_readings_per_detector.png\", bbox_inches=\"tight\")\n",
    "plt.savefig(\"./plots/000_num_readings_per_detector.pdf\", bbox_inches=\"tight\")"
   ]
  },
  {
   "cell_type": "markdown",
   "id": "1c5e6eb6-3c05-4660-9b0b-0414faeb51a6",
   "metadata": {
    "tags": []
   },
   "source": [
    "# Show mean number of readings per day of week in the entire dataset"
   ]
  },
  {
   "cell_type": "code",
   "execution_count": null,
   "id": "9aba0e58-22d7-44c8-9bdb-7b0c6b5e79ff",
   "metadata": {},
   "outputs": [],
   "source": [
    "df.head()"
   ]
  },
  {
   "cell_type": "code",
   "execution_count": null,
   "id": "26d7700e-4d71-46c3-8ddb-15b53651f0ba",
   "metadata": {
    "tags": []
   },
   "outputs": [],
   "source": [
    "readings_per_dow = df.groupby([\"year\",\"month_name\",\"month\",\"day_of_week_name\",\"day_of_week\"]).mean().reset_index()\n",
    "readings_per_dow.head()"
   ]
  },
  {
   "cell_type": "code",
   "execution_count": null,
   "id": "f7408c77-80af-47af-bc4e-c1d65f1b70ed",
   "metadata": {
    "tags": []
   },
   "outputs": [],
   "source": [
    "readings_per_dow = readings_per_dow.sort_values(by=[\"year\",\"month\",\"day_of_week\"])\n",
    "readings_per_dow.head()"
   ]
  },
  {
   "cell_type": "code",
   "execution_count": null,
   "id": "c7e68139-1ad0-4258-b723-a6f29509fa62",
   "metadata": {
    "tags": []
   },
   "outputs": [],
   "source": [
    "dow_order = readings_per_dow[[\"day_of_week_name\",\"day_of_week\"]].sort_values(by=\"day_of_week\").drop_duplicates()[\"day_of_week_name\"]\n",
    "month_order = readings_per_dow[[\"month_name\",\"month\"]].sort_values(by=\"month\").drop_duplicates()[\"month_name\"]\n",
    "\n",
    "ax = sns.catplot(data=readings_per_dow,x=\"month_name\",y=\"total_count\",col=\"day_of_week_name\",col_wrap=4,sharey=False,kind=\"bar\",margin_titles=True,row_order=dow_order)\n",
    "ax.set_titles(col_template=\"{col_name}\",row_template=\"{row_name}\")\n",
    "ax.set(xlabel=\"\",ylabel=\"Count\")\n",
    "ax.set_xticklabels(month_order,rotation=45)\n",
    "\n",
    "plt.savefig(\"./plots/000_mean_number_of_readings_per_dow.eps\",format=\"eps\",bbox_inches=\"tight\")\n",
    "plt.savefig(\"./plots/000_mean_number_of_readings_per_dow.png\",bbox_inches=\"tight\")"
   ]
  },
  {
   "cell_type": "markdown",
   "id": "8a67a2fb-ded9-46e8-a3cb-e30d2fde2555",
   "metadata": {},
   "source": [
    "# Show median number of readings per day of week in the entire dataset"
   ]
  },
  {
   "cell_type": "code",
   "execution_count": null,
   "id": "3cd1d16c-3138-4a23-ba06-1bb13efbc307",
   "metadata": {
    "tags": []
   },
   "outputs": [],
   "source": [
    "readings_per_dow = df.groupby([\"year\",\"month_name\",\"month\",\"day_of_week_name\",\"day_of_week\"]).median().reset_index()\n",
    "readings_per_dow.head()"
   ]
  },
  {
   "cell_type": "code",
   "execution_count": null,
   "id": "bc173233-3efc-4cae-b217-33a0138a0a97",
   "metadata": {
    "tags": []
   },
   "outputs": [],
   "source": [
    "readings_per_dow = readings_per_dow.sort_values(by=[\"year\",\"month\",\"day_of_week\"])\n",
    "readings_per_dow.head()"
   ]
  },
  {
   "cell_type": "code",
   "execution_count": null,
   "id": "2bd7bf61-c049-40ef-99fb-bb5035c3f344",
   "metadata": {
    "tags": []
   },
   "outputs": [],
   "source": [
    "dow_order = readings_per_dow[[\"day_of_week_name\",\"day_of_week\"]].sort_values(by=\"day_of_week\").drop_duplicates()[\"day_of_week_name\"]\n",
    "\n",
    "ax = sns.catplot(data=readings_per_dow,x=\"month_name\",y=\"total_count\",col=\"day_of_week_name\",col_wrap=4,sharey=False,kind=\"bar\",margin_titles=True,row_order=dow_order)\n",
    "ax.set_titles(col_template=\"{col_name}\",row_template=\"{row_name}\")\n",
    "ax.set(xlabel=\"\",ylabel=\"Count\")\n",
    "ax.set_xticklabels(month_order,rotation=45)\n",
    "\n",
    "plt.savefig(\"./plots/000_median_number_of_readings_per_dow.eps\",format=\"eps\",bbox_inches=\"tight\")\n",
    "plt.savefig(\"./plots/000_median_number_of_readings_per_dow.png\",bbox_inches=\"tight\")"
   ]
  },
  {
   "cell_type": "markdown",
   "id": "bb70f26b-b424-4669-a763-3314e2021765",
   "metadata": {},
   "source": [
    "# Show total number of readings per location"
   ]
  },
  {
   "cell_type": "markdown",
   "id": "0034c032-e883-4be8-baaa-d676762f60cc",
   "metadata": {},
   "source": [
    "## Get total number of locations"
   ]
  },
  {
   "cell_type": "code",
   "execution_count": null,
   "id": "7ad8ccb2-acc6-4d24-8c0b-7b2f33e06368",
   "metadata": {
    "tags": []
   },
   "outputs": [],
   "source": [
    "len(df[\"location\"].drop_duplicates())"
   ]
  },
  {
   "cell_type": "code",
   "execution_count": null,
   "id": "26a3a6fb-13c2-467a-b8d1-535f58d99ac9",
   "metadata": {
    "tags": []
   },
   "outputs": [],
   "source": [
    "df"
   ]
  },
  {
   "cell_type": "code",
   "execution_count": null,
   "id": "82ecf386-9c52-44a7-8d81-4329e0d73026",
   "metadata": {
    "tags": []
   },
   "outputs": [],
   "source": [
    "vol_per_detector = df.groupby(\"location\").sum().reset_index()[[\"location\",\"total_count\"]]\n",
    "vol_per_detector.head()"
   ]
  },
  {
   "cell_type": "code",
   "execution_count": null,
   "id": "50236fa6-7966-4cdc-bde9-1be8d5c6c244",
   "metadata": {
    "tags": []
   },
   "outputs": [],
   "source": [
    "vol_per_detector = vol_per_detector.sort_values(by=\"location\")\n",
    "\n",
    "ax = sns.catplot(kind=\"bar\",data=vol_per_detector,x=\"location\",y=\"total_count\",hue=\"location\",aspect=2,dodge=False)\n",
    "ax.set(xlabel=\"Detector Location\",ylabel=\"Vehicle Count (log)\",xticklabels=\"\",yscale=\"log\")\n",
    "plt.legend(bbox_to_anchor=(1.02, 1), loc='upper left', borderaxespad=0)\n",
    "\n",
    "plt.savefig(\"./plots/000_total_readings_detector.eps\",format=\"eps\", bbox_inches=\"tight\")\n",
    "plt.savefig(\"./plots/000_total_readings_detector.png\", bbox_inches=\"tight\")"
   ]
  },
  {
   "cell_type": "markdown",
   "id": "983d24e3-61fd-44d0-8e15-e28de717658d",
   "metadata": {},
   "source": [
    "# Vehicle count per detector, per day of week\n",
    "- Too many locations, still dont know how to plot"
   ]
  },
  {
   "cell_type": "code",
   "execution_count": null,
   "id": "44c99a70-3b8d-4c31-8ce0-e6b62a48ea5e",
   "metadata": {
    "tags": []
   },
   "outputs": [],
   "source": [
    "vol_per_detector_and_dow = df.groupby([\"location\",\"day_of_week\",\"day_of_week_name\"]).sum().reset_index()\n",
    "vol_per_detector_and_dow.head()"
   ]
  },
  {
   "cell_type": "code",
   "execution_count": null,
   "id": "cf4938eb-1133-4fca-b1e0-30e89e6f6919",
   "metadata": {
    "tags": []
   },
   "outputs": [],
   "source": [
    "ax = sns.catplot(data=vol_per_detector_and_dow,x=\"location\",y=\"total_count\",col=\"day_of_week_name\",hue=\"location\",sharey=False,dodge=False,kind=\"point\")\n",
    "\n",
    "ax.set_titles(col_template=\"{col_name}\")\n",
    "ax.set(xlabel=\"Detector Location\",ylabel=\"Vehicle Count (log)\",xticklabels=\"\",yscale=\"log\")\n",
    "# plt.legend(bbox_to_anchor=(1.02, 1), loc='upper left', borderaxespad=0)\n",
    "\n",
    "# plt.savefig(\"./plots/000_readings_per_detector_per_dow.eps\",format=\"eps\", bbox_inches=\"tight\")\n",
    "# plt.savefig(\"./plots/000_readings_per_detector_per_dow.png\", bbox_inches=\"tight\")"
   ]
  },
  {
   "cell_type": "markdown",
   "id": "454f40cb-4bad-4969-8b06-395a185aac20",
   "metadata": {},
   "source": [
    "# YONGE ST AT CHAPLIN CRES & DAVISVILLE AVE (PX 47) detector data per day of week and time"
   ]
  },
  {
   "cell_type": "markdown",
   "id": "dcf051de-1bea-45f1-bdce-f84681dd0eca",
   "metadata": {},
   "source": [
    "## Mean volume per day of week and time"
   ]
  },
  {
   "cell_type": "code",
   "execution_count": null,
   "id": "96bc96d2-087e-49c6-9d0a-d03505785545",
   "metadata": {
    "tags": []
   },
   "outputs": [],
   "source": [
    "detector = df[df[\"location\"] == \"YONGE ST AT CHAPLIN CRES & DAVISVILLE AVE (PX 47)\"]\n",
    "detector[\"time_of_day\"] = detector[\"time_end\"].dt.time.astype(str)\n",
    "detector[\"hour\"] = detector[\"time_end\"].dt.hour\n",
    "detector"
   ]
  },
  {
   "cell_type": "code",
   "execution_count": null,
   "id": "c2365715-da80-4c8b-aa01-bee9ef0996f9",
   "metadata": {
    "tags": []
   },
   "outputs": [],
   "source": [
    "detector_data_mean = detector[[\"location\", \"total_count\", \"day_of_week\",\"day_of_week_name\",\"time_of_day\", \"hour\"]].groupby([\"day_of_week\",\"day_of_week_name\",\"time_of_day\",\"location\",\"hour\"]).mean().reset_index()\n",
    "detector_data_mean"
   ]
  },
  {
   "cell_type": "code",
   "execution_count": null,
   "id": "03a7fd6f-03eb-4a9b-93ae-3ade30138034",
   "metadata": {
    "tags": []
   },
   "outputs": [],
   "source": [
    "x_labels = detector_data_mean[\"hour\"].drop_duplicates().astype(int)\n",
    "\n",
    "ax = sns.lineplot(data=detector_data_mean,x=\"time_of_day\",y=\"total_count\",hue=\"day_of_week_name\")\n",
    "ax.legend().set_title(\"Weekday\")\n",
    "ax.set(xlabel=\"Time of Day\",ylabel=\"Volume (mean)\",title=\"YONGE ST AT CHAPLIN CRES & DAVISVILLE AVE (PX 47)\")\n",
    "\n",
    "for idx, label in enumerate(ax.get_xticklabels()):\n",
    "    if idx % 10 == 0:  # every 10th label is kept\n",
    "        label.set_visible(True)\n",
    "    else:\n",
    "        label.set_visible(False)\n",
    "        \n",
    "plt.xticks(rotation=30)\n",
    "\n",
    "plt.savefig(\"./plots/000_count_mean_per_dow.eps\",format=\"eps\",bbox_inches=\"tight\")\n",
    "plt.savefig(\"./plots/000_count_mean_per_dow.png\",bbox_inches=\"tight\")\n",
    "plt.savefig(\"./plots/000_count_mean_per_dow.pdf\",bbox_inches=\"tight\")"
   ]
  },
  {
   "cell_type": "markdown",
   "id": "06874cf9-ae6a-456c-8cbe-54c170dff7c3",
   "metadata": {},
   "source": [
    "## Median volume per day of week and time"
   ]
  },
  {
   "cell_type": "code",
   "execution_count": null,
   "id": "f040d26e-ed87-45ba-997f-d698a3963ccc",
   "metadata": {
    "tags": []
   },
   "outputs": [],
   "source": [
    "detector_data_median = detector[[\"location\", \"total_count\", \"day_of_week\",\"day_of_week_name\",\"time_of_day\", \"hour\"]].groupby([\"day_of_week\",\"day_of_week_name\",\"time_of_day\",\"location\",\"hour\"]).median().reset_index()\n",
    "detector_data_median"
   ]
  },
  {
   "cell_type": "code",
   "execution_count": null,
   "id": "b0f8a20e-ddfb-4600-9797-34652e003b43",
   "metadata": {
    "tags": []
   },
   "outputs": [],
   "source": [
    "x_labels = detector_data_median[\"hour\"].drop_duplicates().astype(int)\n",
    "\n",
    "ax = sns.lineplot(data=detector_data_median,x=\"time_of_day\",y=\"total_count\",hue=\"day_of_week_name\")\n",
    "ax.legend().set_title(\"Weekday\")\n",
    "ax.set(xlabel=\"Time of Day\",ylabel=\"Volume (median)\",title=\"YONGE ST AT CHAPLIN CRES & DAVISVILLE AVE (PX 47)\")\n",
    "\n",
    "for idx, label in enumerate(ax.get_xticklabels()):\n",
    "    if idx % 10 == 0:  # every 10th label is kept\n",
    "        label.set_visible(True)\n",
    "    else:\n",
    "        label.set_visible(False)\n",
    "        \n",
    "plt.xticks(rotation=30)\n",
    "\n",
    "plt.savefig(\"./plots/000_count_median_per_dow.eps\",format=\"eps\",bbox_inches=\"tight\")\n",
    "plt.savefig(\"./plots/000_count_median_per_dow.png\",bbox_inches=\"tight\")\n",
    "plt.savefig(\"./plots/000_count_median_per_dow.pdf\",bbox_inches=\"tight\")"
   ]
  },
  {
   "cell_type": "markdown",
   "id": "8a962e9d-d47a-4947-a306-325089031415",
   "metadata": {},
   "source": [
    "# All detectors volume mean per dow and time"
   ]
  },
  {
   "cell_type": "code",
   "execution_count": null,
   "id": "52fc1aa6-c71c-46e0-85d2-6203bd86167b",
   "metadata": {
    "tags": []
   },
   "outputs": [],
   "source": [
    "detector_data = df.groupby([\"day_of_week\",\"day_of_week_name\",\"location\",\"time_of_day\"]).mean().reset_index()\n",
    "detector_data.sample(5)"
   ]
  },
  {
   "cell_type": "code",
   "execution_count": null,
   "id": "cb00ab84-912e-4b6d-bbf4-7916b8dd61ae",
   "metadata": {
    "tags": []
   },
   "outputs": [],
   "source": [
    "g = sns.FacetGrid(detector_data,col=\"location\",col_wrap=8,hue=\"day_of_week_name\",sharey=False)\n",
    "g.set_titles(col_template=\"{col_name}\",size=8)\n",
    "g.map(sns.lineplot,\"time_of_day\",\"total_count\")\n",
    "g.add_legend(title=\"Day of Week\")\n",
    "g.set(xlabel=\"\",ylabel=\"Count (mean)\")\n",
    "\n",
    "for ax in g.axes.flat:\n",
    "    for idx, label in enumerate(ax.get_xticklabels()):\n",
    "        if idx % 10 == 0:  # every 10th label is kept\n",
    "            label.set_visible(True)\n",
    "            label.set_rotation(45)\n",
    "        else:\n",
    "            label.set_visible(False)\n",
    "            \n",
    "plt.savefig(\"./plots/000_count_mean_per_dow_all_locs.eps\",format=\"eps\",bbox_inches=\"tight\")\n",
    "plt.savefig(\"./plots/000_count_mean_per_dow_all_locs.png\",bbox_inches=\"tight\")"
   ]
  },
  {
   "cell_type": "markdown",
   "id": "ec48d38e-d282-4a67-9b69-4bfbe901bb0d",
   "metadata": {
    "tags": []
   },
   "source": [
    "# All detectors volume median per dow and time"
   ]
  },
  {
   "cell_type": "code",
   "execution_count": null,
   "id": "57a54048-2b9e-4721-87df-c5bd70304454",
   "metadata": {
    "tags": []
   },
   "outputs": [],
   "source": [
    "detector_data = df.groupby([\"day_of_week\",\"day_of_week_name\",\"location\",\"time_of_day\"]).median().reset_index()\n",
    "detector_data.sample(5)"
   ]
  },
  {
   "cell_type": "code",
   "execution_count": null,
   "id": "c0871a45-4df9-4c94-8852-6b92a7b8bb86",
   "metadata": {
    "tags": []
   },
   "outputs": [],
   "source": [
    "g = sns.FacetGrid(detector_data,col=\"location\",col_wrap=6,hue=\"day_of_week_name\",sharey=False)\n",
    "g.set_titles(col_template=\"{col_name}\",size=8)\n",
    "g.map(sns.lineplot,\"time_of_day\",\"total_count\")\n",
    "g.add_legend(title=\"Day of Week\")\n",
    "g.set(xlabel=\"\",ylabel=\"Count (median)\")\n",
    "\n",
    "for ax in g.axes.flat:\n",
    "    for idx, label in enumerate(ax.get_xticklabels()):\n",
    "        if idx % 10 == 0:  # every 10th label is kept\n",
    "            label.set_visible(True)\n",
    "            label.set_rotation(45)\n",
    "        else:\n",
    "            label.set_visible(False)\n",
    "            \n",
    "plt.savefig(\"./plots/000_count_median_per_dow_all_locs.eps\",format=\"eps\",bbox_inches=\"tight\")\n",
    "plt.savefig(\"./plots/000_count_median_per_dow_all_locs.png\",bbox_inches=\"tight\")"
   ]
  },
  {
   "cell_type": "code",
   "execution_count": null,
   "id": "3e9b5e5c-402c-41a9-9927-98bbbd4edc27",
   "metadata": {},
   "outputs": [],
   "source": []
  }
 ],
 "metadata": {
  "kernelspec": {
   "display_name": "Python 3 (ipykernel)",
   "language": "python",
   "name": "python3"
  },
  "language_info": {
   "codemirror_mode": {
    "name": "ipython",
    "version": 3
   },
   "file_extension": ".py",
   "mimetype": "text/x-python",
   "name": "python",
   "nbconvert_exporter": "python",
   "pygments_lexer": "ipython3",
   "version": "3.11.5"
  }
 },
 "nbformat": 4,
 "nbformat_minor": 5
}

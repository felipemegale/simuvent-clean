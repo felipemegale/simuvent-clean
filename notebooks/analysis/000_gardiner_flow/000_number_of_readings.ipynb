{
 "cells": [
  {
   "cell_type": "code",
   "execution_count": 1,
   "metadata": {
    "tags": []
   },
   "outputs": [],
   "source": [
    "from datetime import datetime as dt\n",
    "import pandas as pd\n",
    "from matplotlib import pyplot as plt\n",
    "import seaborn as sns\n",
    "sns.set_theme()"
   ]
  },
  {
   "cell_type": "code",
   "execution_count": 2,
   "metadata": {
    "collapsed": false,
    "jupyter": {
     "outputs_hidden": false
    }
   },
   "outputs": [],
   "source": [
    "df = pd.read_csv(\"../../../csv/v2/050_gardiner_flow_processed.csv.zip\")"
   ]
  },
  {
   "cell_type": "code",
   "execution_count": 3,
   "metadata": {
    "collapsed": false,
    "jupyter": {
     "outputs_hidden": false
    }
   },
   "outputs": [
    {
     "name": "stderr",
     "output_type": "stream",
     "text": [
      "/tmp/ipykernel_39955/3366148013.py:10: UserWarning: Converting to PeriodArray/Index representation will drop timezone information.\n",
      "  df[\"year_month\"] = df[\"collectedAt\"].dt.to_period(\"M\")\n",
      "/tmp/ipykernel_39955/3366148013.py:11: UserWarning: Converting to PeriodArray/Index representation will drop timezone information.\n",
      "  df[\"year_month_day\"] = df[\"collectedAt\"].dt.to_period(\"D\")\n"
     ]
    }
   ],
   "source": [
    "df[\"collectedAt\"] = pd.to_datetime(df[\"collectedAt\"], utc=True)\n",
    "df[\"collectedAt\"] = df.collectedAt.dt.floor(freq=\"s\")\n",
    "df[\"year\"] = df[\"collectedAt\"].dt.year\n",
    "df[\"month\"] = df[\"collectedAt\"].dt.month\n",
    "df[\"day\"] = df[\"collectedAt\"].dt.day\n",
    "df[\"hour\"] = df[\"collectedAt\"].dt.hour\n",
    "df[\"dow\"] = df[\"collectedAt\"].dt.day_of_week\n",
    "df[\"dow_name\"] = df[\"collectedAt\"].dt.day_name()\n",
    "df[\"month_name\"] = df[\"collectedAt\"].dt.month_name()\n",
    "df[\"year_month\"] = df[\"collectedAt\"].dt.to_period(\"M\")\n",
    "df[\"year_month_day\"] = df[\"collectedAt\"].dt.to_period(\"D\")"
   ]
  },
  {
   "cell_type": "code",
   "execution_count": 4,
   "metadata": {
    "collapsed": false,
    "jupyter": {
     "outputs_hidden": false
    }
   },
   "outputs": [
    {
     "data": {
      "text/plain": [
       "['July',\n",
       " 'August',\n",
       " 'September',\n",
       " 'October',\n",
       " 'November',\n",
       " 'December',\n",
       " 'January',\n",
       " 'February',\n",
       " 'March']"
      ]
     },
     "execution_count": 4,
     "metadata": {},
     "output_type": "execute_result"
    }
   ],
   "source": [
    "list(df[\"month_name\"].drop_duplicates())"
   ]
  },
  {
   "attachments": {},
   "cell_type": "markdown",
   "metadata": {},
   "source": [
    "# Date & time"
   ]
  },
  {
   "attachments": {},
   "cell_type": "markdown",
   "metadata": {},
   "source": [
    "## Span"
   ]
  },
  {
   "cell_type": "code",
   "execution_count": 5,
   "metadata": {
    "collapsed": false,
    "jupyter": {
     "outputs_hidden": false
    }
   },
   "outputs": [
    {
     "data": {
      "text/html": [
       "<div>\n",
       "<style scoped>\n",
       "    .dataframe tbody tr th:only-of-type {\n",
       "        vertical-align: middle;\n",
       "    }\n",
       "\n",
       "    .dataframe tbody tr th {\n",
       "        vertical-align: top;\n",
       "    }\n",
       "\n",
       "    .dataframe thead th {\n",
       "        text-align: right;\n",
       "    }\n",
       "</style>\n",
       "<table border=\"1\" class=\"dataframe\">\n",
       "  <thead>\n",
       "    <tr style=\"text-align: right;\">\n",
       "      <th></th>\n",
       "      <th>currentSpeed</th>\n",
       "      <th>freeFlowSpeed</th>\n",
       "      <th>currentTravelTime</th>\n",
       "      <th>freeFlowTravelTime</th>\n",
       "      <th>roadClosure</th>\n",
       "      <th>coordinates</th>\n",
       "      <th>collectedAt</th>\n",
       "      <th>year</th>\n",
       "      <th>month</th>\n",
       "      <th>day</th>\n",
       "      <th>hour</th>\n",
       "      <th>dow</th>\n",
       "      <th>dow_name</th>\n",
       "      <th>month_name</th>\n",
       "      <th>year_month</th>\n",
       "      <th>year_month_day</th>\n",
       "    </tr>\n",
       "  </thead>\n",
       "  <tbody>\n",
       "    <tr>\n",
       "      <th>0</th>\n",
       "      <td>94</td>\n",
       "      <td>94</td>\n",
       "      <td>297</td>\n",
       "      <td>297</td>\n",
       "      <td>False</td>\n",
       "      <td>[{'latitude': 43.681009250673604, 'longitude':...</td>\n",
       "      <td>2022-07-14 12:45:00+00:00</td>\n",
       "      <td>2022</td>\n",
       "      <td>7</td>\n",
       "      <td>14</td>\n",
       "      <td>12</td>\n",
       "      <td>3</td>\n",
       "      <td>Thursday</td>\n",
       "      <td>July</td>\n",
       "      <td>2022-07</td>\n",
       "      <td>2022-07-14</td>\n",
       "    </tr>\n",
       "    <tr>\n",
       "      <th>1</th>\n",
       "      <td>94</td>\n",
       "      <td>94</td>\n",
       "      <td>297</td>\n",
       "      <td>297</td>\n",
       "      <td>False</td>\n",
       "      <td>[{'latitude': 43.681009250673604, 'longitude':...</td>\n",
       "      <td>2022-07-14 12:51:44+00:00</td>\n",
       "      <td>2022</td>\n",
       "      <td>7</td>\n",
       "      <td>14</td>\n",
       "      <td>12</td>\n",
       "      <td>3</td>\n",
       "      <td>Thursday</td>\n",
       "      <td>July</td>\n",
       "      <td>2022-07</td>\n",
       "      <td>2022-07-14</td>\n",
       "    </tr>\n",
       "    <tr>\n",
       "      <th>2</th>\n",
       "      <td>75</td>\n",
       "      <td>93</td>\n",
       "      <td>372</td>\n",
       "      <td>300</td>\n",
       "      <td>False</td>\n",
       "      <td>[{'latitude': 43.681009250673604, 'longitude':...</td>\n",
       "      <td>2022-07-14 12:55:27+00:00</td>\n",
       "      <td>2022</td>\n",
       "      <td>7</td>\n",
       "      <td>14</td>\n",
       "      <td>12</td>\n",
       "      <td>3</td>\n",
       "      <td>Thursday</td>\n",
       "      <td>July</td>\n",
       "      <td>2022-07</td>\n",
       "      <td>2022-07-14</td>\n",
       "    </tr>\n",
       "    <tr>\n",
       "      <th>3</th>\n",
       "      <td>72</td>\n",
       "      <td>94</td>\n",
       "      <td>388</td>\n",
       "      <td>297</td>\n",
       "      <td>False</td>\n",
       "      <td>[{'latitude': 43.681009250673604, 'longitude':...</td>\n",
       "      <td>2022-07-14 13:00:00+00:00</td>\n",
       "      <td>2022</td>\n",
       "      <td>7</td>\n",
       "      <td>14</td>\n",
       "      <td>13</td>\n",
       "      <td>3</td>\n",
       "      <td>Thursday</td>\n",
       "      <td>July</td>\n",
       "      <td>2022-07</td>\n",
       "      <td>2022-07-14</td>\n",
       "    </tr>\n",
       "    <tr>\n",
       "      <th>4</th>\n",
       "      <td>94</td>\n",
       "      <td>94</td>\n",
       "      <td>297</td>\n",
       "      <td>297</td>\n",
       "      <td>False</td>\n",
       "      <td>[{'latitude': 43.681009250673604, 'longitude':...</td>\n",
       "      <td>2022-07-14 13:05:00+00:00</td>\n",
       "      <td>2022</td>\n",
       "      <td>7</td>\n",
       "      <td>14</td>\n",
       "      <td>13</td>\n",
       "      <td>3</td>\n",
       "      <td>Thursday</td>\n",
       "      <td>July</td>\n",
       "      <td>2022-07</td>\n",
       "      <td>2022-07-14</td>\n",
       "    </tr>\n",
       "    <tr>\n",
       "      <th>...</th>\n",
       "      <td>...</td>\n",
       "      <td>...</td>\n",
       "      <td>...</td>\n",
       "      <td>...</td>\n",
       "      <td>...</td>\n",
       "      <td>...</td>\n",
       "      <td>...</td>\n",
       "      <td>...</td>\n",
       "      <td>...</td>\n",
       "      <td>...</td>\n",
       "      <td>...</td>\n",
       "      <td>...</td>\n",
       "      <td>...</td>\n",
       "      <td>...</td>\n",
       "      <td>...</td>\n",
       "      <td>...</td>\n",
       "    </tr>\n",
       "    <tr>\n",
       "      <th>73530</th>\n",
       "      <td>92</td>\n",
       "      <td>92</td>\n",
       "      <td>303</td>\n",
       "      <td>303</td>\n",
       "      <td>False</td>\n",
       "      <td>[{'latitude': 43.681009250673604, 'longitude':...</td>\n",
       "      <td>2023-03-26 21:35:00+00:00</td>\n",
       "      <td>2023</td>\n",
       "      <td>3</td>\n",
       "      <td>26</td>\n",
       "      <td>21</td>\n",
       "      <td>6</td>\n",
       "      <td>Sunday</td>\n",
       "      <td>March</td>\n",
       "      <td>2023-03</td>\n",
       "      <td>2023-03-26</td>\n",
       "    </tr>\n",
       "    <tr>\n",
       "      <th>73531</th>\n",
       "      <td>92</td>\n",
       "      <td>92</td>\n",
       "      <td>303</td>\n",
       "      <td>303</td>\n",
       "      <td>False</td>\n",
       "      <td>[{'latitude': 43.681009250673604, 'longitude':...</td>\n",
       "      <td>2023-03-26 21:40:00+00:00</td>\n",
       "      <td>2023</td>\n",
       "      <td>3</td>\n",
       "      <td>26</td>\n",
       "      <td>21</td>\n",
       "      <td>6</td>\n",
       "      <td>Sunday</td>\n",
       "      <td>March</td>\n",
       "      <td>2023-03</td>\n",
       "      <td>2023-03-26</td>\n",
       "    </tr>\n",
       "    <tr>\n",
       "      <th>73532</th>\n",
       "      <td>79</td>\n",
       "      <td>93</td>\n",
       "      <td>353</td>\n",
       "      <td>300</td>\n",
       "      <td>False</td>\n",
       "      <td>[{'latitude': 43.681009250673604, 'longitude':...</td>\n",
       "      <td>2023-03-26 21:45:00+00:00</td>\n",
       "      <td>2023</td>\n",
       "      <td>3</td>\n",
       "      <td>26</td>\n",
       "      <td>21</td>\n",
       "      <td>6</td>\n",
       "      <td>Sunday</td>\n",
       "      <td>March</td>\n",
       "      <td>2023-03</td>\n",
       "      <td>2023-03-26</td>\n",
       "    </tr>\n",
       "    <tr>\n",
       "      <th>73533</th>\n",
       "      <td>92</td>\n",
       "      <td>92</td>\n",
       "      <td>303</td>\n",
       "      <td>303</td>\n",
       "      <td>False</td>\n",
       "      <td>[{'latitude': 43.681009250673604, 'longitude':...</td>\n",
       "      <td>2023-03-26 21:50:00+00:00</td>\n",
       "      <td>2023</td>\n",
       "      <td>3</td>\n",
       "      <td>26</td>\n",
       "      <td>21</td>\n",
       "      <td>6</td>\n",
       "      <td>Sunday</td>\n",
       "      <td>March</td>\n",
       "      <td>2023-03</td>\n",
       "      <td>2023-03-26</td>\n",
       "    </tr>\n",
       "    <tr>\n",
       "      <th>73534</th>\n",
       "      <td>92</td>\n",
       "      <td>92</td>\n",
       "      <td>303</td>\n",
       "      <td>303</td>\n",
       "      <td>False</td>\n",
       "      <td>[{'latitude': 43.681009250673604, 'longitude':...</td>\n",
       "      <td>2023-03-26 21:55:00+00:00</td>\n",
       "      <td>2023</td>\n",
       "      <td>3</td>\n",
       "      <td>26</td>\n",
       "      <td>21</td>\n",
       "      <td>6</td>\n",
       "      <td>Sunday</td>\n",
       "      <td>March</td>\n",
       "      <td>2023-03</td>\n",
       "      <td>2023-03-26</td>\n",
       "    </tr>\n",
       "  </tbody>\n",
       "</table>\n",
       "<p>73535 rows × 16 columns</p>\n",
       "</div>"
      ],
      "text/plain": [
       "       currentSpeed  freeFlowSpeed  currentTravelTime  freeFlowTravelTime  \\\n",
       "0                94             94                297                 297   \n",
       "1                94             94                297                 297   \n",
       "2                75             93                372                 300   \n",
       "3                72             94                388                 297   \n",
       "4                94             94                297                 297   \n",
       "...             ...            ...                ...                 ...   \n",
       "73530            92             92                303                 303   \n",
       "73531            92             92                303                 303   \n",
       "73532            79             93                353                 300   \n",
       "73533            92             92                303                 303   \n",
       "73534            92             92                303                 303   \n",
       "\n",
       "       roadClosure                                        coordinates  \\\n",
       "0            False  [{'latitude': 43.681009250673604, 'longitude':...   \n",
       "1            False  [{'latitude': 43.681009250673604, 'longitude':...   \n",
       "2            False  [{'latitude': 43.681009250673604, 'longitude':...   \n",
       "3            False  [{'latitude': 43.681009250673604, 'longitude':...   \n",
       "4            False  [{'latitude': 43.681009250673604, 'longitude':...   \n",
       "...            ...                                                ...   \n",
       "73530        False  [{'latitude': 43.681009250673604, 'longitude':...   \n",
       "73531        False  [{'latitude': 43.681009250673604, 'longitude':...   \n",
       "73532        False  [{'latitude': 43.681009250673604, 'longitude':...   \n",
       "73533        False  [{'latitude': 43.681009250673604, 'longitude':...   \n",
       "73534        False  [{'latitude': 43.681009250673604, 'longitude':...   \n",
       "\n",
       "                    collectedAt  year  month  day  hour  dow  dow_name  \\\n",
       "0     2022-07-14 12:45:00+00:00  2022      7   14    12    3  Thursday   \n",
       "1     2022-07-14 12:51:44+00:00  2022      7   14    12    3  Thursday   \n",
       "2     2022-07-14 12:55:27+00:00  2022      7   14    12    3  Thursday   \n",
       "3     2022-07-14 13:00:00+00:00  2022      7   14    13    3  Thursday   \n",
       "4     2022-07-14 13:05:00+00:00  2022      7   14    13    3  Thursday   \n",
       "...                         ...   ...    ...  ...   ...  ...       ...   \n",
       "73530 2023-03-26 21:35:00+00:00  2023      3   26    21    6    Sunday   \n",
       "73531 2023-03-26 21:40:00+00:00  2023      3   26    21    6    Sunday   \n",
       "73532 2023-03-26 21:45:00+00:00  2023      3   26    21    6    Sunday   \n",
       "73533 2023-03-26 21:50:00+00:00  2023      3   26    21    6    Sunday   \n",
       "73534 2023-03-26 21:55:00+00:00  2023      3   26    21    6    Sunday   \n",
       "\n",
       "      month_name year_month year_month_day  \n",
       "0           July    2022-07     2022-07-14  \n",
       "1           July    2022-07     2022-07-14  \n",
       "2           July    2022-07     2022-07-14  \n",
       "3           July    2022-07     2022-07-14  \n",
       "4           July    2022-07     2022-07-14  \n",
       "...          ...        ...            ...  \n",
       "73530      March    2023-03     2023-03-26  \n",
       "73531      March    2023-03     2023-03-26  \n",
       "73532      March    2023-03     2023-03-26  \n",
       "73533      March    2023-03     2023-03-26  \n",
       "73534      March    2023-03     2023-03-26  \n",
       "\n",
       "[73535 rows x 16 columns]"
      ]
     },
     "execution_count": 5,
     "metadata": {},
     "output_type": "execute_result"
    }
   ],
   "source": [
    "df = df.sort_values(by=\"collectedAt\")\n",
    "df"
   ]
  },
  {
   "attachments": {},
   "cell_type": "markdown",
   "metadata": {},
   "source": [
    "## Readings per day"
   ]
  },
  {
   "cell_type": "code",
   "execution_count": 6,
   "metadata": {
    "collapsed": false,
    "jupyter": {
     "outputs_hidden": false
    }
   },
   "outputs": [],
   "source": [
    "readings_per_day = df.groupby([\"year\", \"month\", \"day\"]).count().reset_index()\n",
    "readings_per_day[\"date\"] = readings_per_day.apply(lambda x: dt.strptime(f\"{x.year}-{x.month}-{x.day}\", \"%Y-%m-%d\"), axis=1)"
   ]
  },
  {
   "cell_type": "code",
   "execution_count": 7,
   "metadata": {},
   "outputs": [
    {
     "data": {
      "text/html": [
       "<div>\n",
       "<style scoped>\n",
       "    .dataframe tbody tr th:only-of-type {\n",
       "        vertical-align: middle;\n",
       "    }\n",
       "\n",
       "    .dataframe tbody tr th {\n",
       "        vertical-align: top;\n",
       "    }\n",
       "\n",
       "    .dataframe thead th {\n",
       "        text-align: right;\n",
       "    }\n",
       "</style>\n",
       "<table border=\"1\" class=\"dataframe\">\n",
       "  <thead>\n",
       "    <tr style=\"text-align: right;\">\n",
       "      <th></th>\n",
       "      <th>year</th>\n",
       "      <th>month</th>\n",
       "      <th>day</th>\n",
       "      <th>currentSpeed</th>\n",
       "      <th>freeFlowSpeed</th>\n",
       "      <th>currentTravelTime</th>\n",
       "      <th>freeFlowTravelTime</th>\n",
       "      <th>roadClosure</th>\n",
       "      <th>coordinates</th>\n",
       "      <th>collectedAt</th>\n",
       "      <th>hour</th>\n",
       "      <th>dow</th>\n",
       "      <th>dow_name</th>\n",
       "      <th>month_name</th>\n",
       "      <th>year_month</th>\n",
       "      <th>year_month_day</th>\n",
       "      <th>date</th>\n",
       "    </tr>\n",
       "  </thead>\n",
       "  <tbody>\n",
       "    <tr>\n",
       "      <th>0</th>\n",
       "      <td>2022</td>\n",
       "      <td>7</td>\n",
       "      <td>14</td>\n",
       "      <td>135</td>\n",
       "      <td>135</td>\n",
       "      <td>135</td>\n",
       "      <td>135</td>\n",
       "      <td>135</td>\n",
       "      <td>135</td>\n",
       "      <td>135</td>\n",
       "      <td>135</td>\n",
       "      <td>135</td>\n",
       "      <td>135</td>\n",
       "      <td>135</td>\n",
       "      <td>135</td>\n",
       "      <td>135</td>\n",
       "      <td>2022-07-14</td>\n",
       "    </tr>\n",
       "    <tr>\n",
       "      <th>1</th>\n",
       "      <td>2022</td>\n",
       "      <td>7</td>\n",
       "      <td>15</td>\n",
       "      <td>287</td>\n",
       "      <td>287</td>\n",
       "      <td>287</td>\n",
       "      <td>287</td>\n",
       "      <td>287</td>\n",
       "      <td>287</td>\n",
       "      <td>287</td>\n",
       "      <td>287</td>\n",
       "      <td>287</td>\n",
       "      <td>287</td>\n",
       "      <td>287</td>\n",
       "      <td>287</td>\n",
       "      <td>287</td>\n",
       "      <td>2022-07-15</td>\n",
       "    </tr>\n",
       "    <tr>\n",
       "      <th>2</th>\n",
       "      <td>2022</td>\n",
       "      <td>7</td>\n",
       "      <td>16</td>\n",
       "      <td>288</td>\n",
       "      <td>288</td>\n",
       "      <td>288</td>\n",
       "      <td>288</td>\n",
       "      <td>288</td>\n",
       "      <td>288</td>\n",
       "      <td>288</td>\n",
       "      <td>288</td>\n",
       "      <td>288</td>\n",
       "      <td>288</td>\n",
       "      <td>288</td>\n",
       "      <td>288</td>\n",
       "      <td>288</td>\n",
       "      <td>2022-07-16</td>\n",
       "    </tr>\n",
       "    <tr>\n",
       "      <th>3</th>\n",
       "      <td>2022</td>\n",
       "      <td>7</td>\n",
       "      <td>17</td>\n",
       "      <td>288</td>\n",
       "      <td>288</td>\n",
       "      <td>288</td>\n",
       "      <td>288</td>\n",
       "      <td>288</td>\n",
       "      <td>288</td>\n",
       "      <td>288</td>\n",
       "      <td>288</td>\n",
       "      <td>288</td>\n",
       "      <td>288</td>\n",
       "      <td>288</td>\n",
       "      <td>288</td>\n",
       "      <td>288</td>\n",
       "      <td>2022-07-17</td>\n",
       "    </tr>\n",
       "    <tr>\n",
       "      <th>4</th>\n",
       "      <td>2022</td>\n",
       "      <td>7</td>\n",
       "      <td>18</td>\n",
       "      <td>288</td>\n",
       "      <td>288</td>\n",
       "      <td>288</td>\n",
       "      <td>288</td>\n",
       "      <td>288</td>\n",
       "      <td>288</td>\n",
       "      <td>288</td>\n",
       "      <td>288</td>\n",
       "      <td>288</td>\n",
       "      <td>288</td>\n",
       "      <td>288</td>\n",
       "      <td>288</td>\n",
       "      <td>288</td>\n",
       "      <td>2022-07-18</td>\n",
       "    </tr>\n",
       "  </tbody>\n",
       "</table>\n",
       "</div>"
      ],
      "text/plain": [
       "   year  month  day  currentSpeed  freeFlowSpeed  currentTravelTime  \\\n",
       "0  2022      7   14           135            135                135   \n",
       "1  2022      7   15           287            287                287   \n",
       "2  2022      7   16           288            288                288   \n",
       "3  2022      7   17           288            288                288   \n",
       "4  2022      7   18           288            288                288   \n",
       "\n",
       "   freeFlowTravelTime  roadClosure  coordinates  collectedAt  hour  dow  \\\n",
       "0                 135          135          135          135   135  135   \n",
       "1                 287          287          287          287   287  287   \n",
       "2                 288          288          288          288   288  288   \n",
       "3                 288          288          288          288   288  288   \n",
       "4                 288          288          288          288   288  288   \n",
       "\n",
       "   dow_name  month_name  year_month  year_month_day       date  \n",
       "0       135         135         135             135 2022-07-14  \n",
       "1       287         287         287             287 2022-07-15  \n",
       "2       288         288         288             288 2022-07-16  \n",
       "3       288         288         288             288 2022-07-17  \n",
       "4       288         288         288             288 2022-07-18  "
      ]
     },
     "execution_count": 7,
     "metadata": {},
     "output_type": "execute_result"
    }
   ],
   "source": [
    "readings_per_day.head()"
   ]
  },
  {
   "cell_type": "code",
   "execution_count": 8,
   "metadata": {
    "collapsed": false,
    "jupyter": {
     "outputs_hidden": false
    }
   },
   "outputs": [
    {
     "name": "stdout",
     "output_type": "stream",
     "text": [
      "Total days: 256\n"
     ]
    }
   ],
   "source": [
    "print(\"Total days:\", len(readings_per_day))"
   ]
  },
  {
   "cell_type": "code",
   "execution_count": 9,
   "metadata": {
    "collapsed": false,
    "jupyter": {
     "outputs_hidden": false
    }
   },
   "outputs": [
    {
     "data": {
      "image/png": "[encoded data removed]",
      "text/plain": [
       "<Figure size 640x480 with 1 Axes>"
      ]
     },
     "metadata": {},
     "output_type": "display_data"
    }
   ],
   "source": [
    "ax = sns.scatterplot(data=readings_per_day,x=\"date\",y=\"currentSpeed\")\n",
    "ax.set(xlabel=\"Date\",ylabel=\"Number of observations\")\n",
    "plt.xticks(rotation=30)\n",
    "plt.savefig(\"./plots/000_number_of_readings_per_day.eps\", format=\"eps\", bbox_inches=\"tight\")\n",
    "plt.savefig(\"./plots/000_number_of_readings_per_day.png\", bbox_inches=\"tight\")"
   ]
  },
  {
   "attachments": {},
   "cell_type": "markdown",
   "metadata": {},
   "source": [
    "### For most days, there were 288 data points collected"
   ]
  },
  {
   "attachments": {},
   "cell_type": "markdown",
   "metadata": {},
   "source": [
    "## Readings per month"
   ]
  },
  {
   "cell_type": "code",
   "execution_count": 10,
   "metadata": {
    "collapsed": false,
    "jupyter": {
     "outputs_hidden": false
    }
   },
   "outputs": [],
   "source": [
    "readings_per_month = df.groupby([\"year\",\"month_name\"]).count().reset_index()[[\"month_name\",\"currentSpeed\"]]\n",
    "readings_per_month = readings_per_month.rename(columns={\"currentSpeed\":\"readings\"})"
   ]
  },
  {
   "cell_type": "code",
   "execution_count": 11,
   "metadata": {},
   "outputs": [
    {
     "data": {
      "text/html": [
       "<div>\n",
       "<style scoped>\n",
       "    .dataframe tbody tr th:only-of-type {\n",
       "        vertical-align: middle;\n",
       "    }\n",
       "\n",
       "    .dataframe tbody tr th {\n",
       "        vertical-align: top;\n",
       "    }\n",
       "\n",
       "    .dataframe thead th {\n",
       "        text-align: right;\n",
       "    }\n",
       "</style>\n",
       "<table border=\"1\" class=\"dataframe\">\n",
       "  <thead>\n",
       "    <tr style=\"text-align: right;\">\n",
       "      <th></th>\n",
       "      <th>month_name</th>\n",
       "      <th>readings</th>\n",
       "    </tr>\n",
       "  </thead>\n",
       "  <tbody>\n",
       "    <tr>\n",
       "      <th>0</th>\n",
       "      <td>August</td>\n",
       "      <td>8927</td>\n",
       "    </tr>\n",
       "    <tr>\n",
       "      <th>1</th>\n",
       "      <td>December</td>\n",
       "      <td>8927</td>\n",
       "    </tr>\n",
       "    <tr>\n",
       "      <th>2</th>\n",
       "      <td>July</td>\n",
       "      <td>5030</td>\n",
       "    </tr>\n",
       "    <tr>\n",
       "      <th>3</th>\n",
       "      <td>November</td>\n",
       "      <td>8639</td>\n",
       "    </tr>\n",
       "    <tr>\n",
       "      <th>4</th>\n",
       "      <td>October</td>\n",
       "      <td>8926</td>\n",
       "    </tr>\n",
       "    <tr>\n",
       "      <th>5</th>\n",
       "      <td>September</td>\n",
       "      <td>8640</td>\n",
       "    </tr>\n",
       "    <tr>\n",
       "      <th>6</th>\n",
       "      <td>February</td>\n",
       "      <td>8062</td>\n",
       "    </tr>\n",
       "    <tr>\n",
       "      <th>7</th>\n",
       "      <td>January</td>\n",
       "      <td>8924</td>\n",
       "    </tr>\n",
       "    <tr>\n",
       "      <th>8</th>\n",
       "      <td>March</td>\n",
       "      <td>7460</td>\n",
       "    </tr>\n",
       "  </tbody>\n",
       "</table>\n",
       "</div>"
      ],
      "text/plain": [
       "  month_name  readings\n",
       "0     August      8927\n",
       "1   December      8927\n",
       "2       July      5030\n",
       "3   November      8639\n",
       "4    October      8926\n",
       "5  September      8640\n",
       "6   February      8062\n",
       "7    January      8924\n",
       "8      March      7460"
      ]
     },
     "execution_count": 11,
     "metadata": {},
     "output_type": "execute_result"
    }
   ],
   "source": [
    "readings_per_month"
   ]
  },
  {
   "cell_type": "code",
   "execution_count": 12,
   "metadata": {
    "collapsed": false,
    "jupyter": {
     "outputs_hidden": false
    }
   },
   "outputs": [
    {
     "data": {
      "image/png": "[encoded data removed]",
      "text/plain": [
       "<Figure size 640x480 with 1 Axes>"
      ]
     },
     "metadata": {},
     "output_type": "display_data"
    }
   ],
   "source": [
    "ax = sns.barplot(data=readings_per_month,x=\"month_name\",y=\"readings\", order=list(df[\"month_name\"].drop_duplicates()),width=0.5)\n",
    "ax.set(xlabel=\"Month\",ylabel=\"Number of observations\")\n",
    "plt.xticks(rotation=30)\n",
    "plt.savefig(\"./plots/000_number_of_readings_per_month.eps\", format=\"eps\", bbox_inches=\"tight\")\n",
    "plt.savefig(\"./plots/000_number_of_readings_per_month.png\", bbox_inches=\"tight\")"
   ]
  },
  {
   "attachments": {},
   "cell_type": "markdown",
   "metadata": {},
   "source": [
    "### July has less data because I started collecting on the 14th at 12:45PM"
   ]
  },
  {
   "cell_type": "code",
   "execution_count": 13,
   "metadata": {},
   "outputs": [
    {
     "name": "stderr",
     "output_type": "stream",
     "text": [
      "The PostScript backend does not support transparency; partially transparent artists will be rendered opaque.\n"
     ]
    },
    {
     "data": {
      "image/png": "[encoded data removed]",
      "text/plain": [
       "<Figure size 640x480 with 1 Axes>"
      ]
     },
     "metadata": {},
     "output_type": "display_data"
    }
   ],
   "source": [
    "ax = sns.histplot(data=df, x=\"month_name\")\n",
    "ax.set(ylabel=\"Number of observations\")\n",
    "ax.set(xlabel=\"Month\")\n",
    "plt.xticks(rotation=30)\n",
    "plt.savefig(\"./plots/000_hist_num_readings_per_month.eps\", format=\"eps\", bbox_inches=\"tight\")\n",
    "plt.savefig(\"./plots/000_hist_num_readings_per_month.png\", bbox_inches=\"tight\")\n",
    "plt.savefig(\"./plots/000_hist_num_readings_per_month.pdf\", bbox_inches=\"tight\")"
   ]
  },
  {
   "cell_type": "code",
   "execution_count": null,
   "metadata": {},
   "outputs": [],
   "source": []
  }
 ],
 "metadata": {
  "kernelspec": {
   "display_name": "Python 3 (ipykernel)",
   "language": "python",
   "name": "python3"
  }
 },
 "nbformat": 4,
 "nbformat_minor": 4
}

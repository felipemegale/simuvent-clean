{
 "cells": [
  {
   "cell_type": "code",
   "execution_count": null,
   "metadata": {
    "tags": []
   },
   "outputs": [],
   "source": [
    "import pandas as pd\n",
    "from matplotlib import pyplot as plt\n",
    "import folium\n",
    "import seaborn as sns\n",
    "sns.set_theme()"
   ]
  },
  {
   "cell_type": "code",
   "execution_count": null,
   "metadata": {
    "collapsed": false,
    "jupyter": {
     "outputs_hidden": false
    },
    "tags": []
   },
   "outputs": [],
   "source": [
    "df = pd.read_csv(\"../../../csv/v2/050_gardiner_flow_processed.csv.zip\")"
   ]
  },
  {
   "cell_type": "code",
   "execution_count": null,
   "metadata": {
    "collapsed": false,
    "jupyter": {
     "outputs_hidden": false
    },
    "tags": []
   },
   "outputs": [],
   "source": [
    "df[\"collectedAt\"] = pd.to_datetime(df[\"collectedAt\"], utc=True)\n",
    "df[\"collectedAt\"] = df.collectedAt.dt.floor(freq=\"s\")\n",
    "df[\"year\"] = df[\"collectedAt\"].dt.year\n",
    "df[\"month\"] = df[\"collectedAt\"].dt.month\n",
    "df[\"day\"] = df[\"collectedAt\"].dt.day\n",
    "df[\"hour\"] = df[\"collectedAt\"].dt.hour\n",
    "df[\"dow\"] = df[\"collectedAt\"].dt.day_of_week\n",
    "df[\"dow_name\"] = df[\"collectedAt\"].dt.day_name()\n",
    "df[\"month_name\"] = df[\"collectedAt\"].dt.month_name()\n",
    "df[\"year_month\"] = df[\"collectedAt\"].dt.to_period(\"M\").astype(str)\n",
    "df[\"year_month_day\"] = df[\"collectedAt\"].dt.to_period(\"D\").astype(str)"
   ]
  },
  {
   "cell_type": "markdown",
   "metadata": {},
   "source": [
    "# Speed\n",
    "\n",
    "- All data provided by TomTom are averages of the values throughout Gardiner Expy - all the way from the DVP to QEW (about 7-8km in extension)."
   ]
  },
  {
   "cell_type": "markdown",
   "metadata": {},
   "source": [
    "## Current Speed - Monthly analysis\n",
    "- This plot shows the mean and confidence interval for each day of the month"
   ]
  },
  {
   "cell_type": "code",
   "execution_count": null,
   "metadata": {},
   "outputs": [],
   "source": [
    "g = sns.FacetGrid(df,col=\"month_name\",hue=\"month\",col_wrap=4,sharex=False)\n",
    "g.map(sns.lineplot,\"day\",\"currentSpeed\")\n",
    "g.set_axis_labels(\"Day\", \"Current Speed (km/h)\")\n",
    "g.set_titles(col_template=\"{col_name}\")\n",
    "plt.savefig(\"./plots/010_current_speed_all_months.eps\", format=\"eps\", bbox_inches=\"tight\")\n",
    "plt.savefig(\"./plots/010_current_speed_all_months.png\", bbox_inches=\"tight\")"
   ]
  },
  {
   "cell_type": "markdown",
   "metadata": {},
   "source": [
    "## Current Speed - Month sample\n",
    "- Sample a month from the dataframe\n",
    "- Plot all observations for that month\n",
    "- In detail, this is what each month looks like"
   ]
  },
  {
   "cell_type": "code",
   "execution_count": null,
   "metadata": {},
   "outputs": [],
   "source": [
    "sample_month = df.sample()[\"year_month\"]\n",
    "sample_month = sample_month.iloc[0]\n",
    "df_sample = df[df[\"year_month\"] == sample_month]\n",
    "print(\"Num observations\", len(df_sample))\n",
    "df_sample.head()"
   ]
  },
  {
   "cell_type": "code",
   "execution_count": null,
   "metadata": {},
   "outputs": [],
   "source": [
    "ax = sns.lineplot(data=df_sample,x=\"collectedAt\",y=\"currentSpeed\",estimator=None)\n",
    "ax.set(xlabel=\"\", ylabel=\"Current Speed (km/h)\")\n",
    "plt.xticks(rotation=45)\n",
    "plt.savefig(\"./plots/010_current_speed_sampled_month.eps\", format=\"eps\", bbox_inches=\"tight\")\n",
    "plt.savefig(\"./plots/010_current_speed_sampled_month.png\", bbox_inches=\"tight\")"
   ]
  },
  {
   "cell_type": "markdown",
   "metadata": {},
   "source": [
    "## Current Speed - Day sample\n",
    "- Sample a day fromthe dataframe\n",
    "- In detail, this is what a day looks like"
   ]
  },
  {
   "cell_type": "code",
   "execution_count": null,
   "metadata": {
    "tags": []
   },
   "outputs": [],
   "source": [
    "sample_day = df.sample()[\"year_month_day\"]\n",
    "sample_day = sample_day.iloc[0]\n",
    "df_sample = df[df[\"year_month_day\"] == sample_day]\n",
    "print(\"Num observations\", len(df_sample))\n",
    "df_sample.head()"
   ]
  },
  {
   "cell_type": "code",
   "execution_count": null,
   "metadata": {
    "tags": []
   },
   "outputs": [],
   "source": [
    "data_row = df_sample.iloc[0]\n",
    "title = f\"{data_row.month_name} {data_row.day}, {data_row.year}\"\n",
    "ax = sns.lineplot(data=df_sample,x=\"collectedAt\",y=\"currentSpeed\",estimator=None)\n",
    "ax.set(xlabel=\"\", ylabel=\"Current Speed (km/h)\")\n",
    "ax.set_title(title)\n",
    "plt.xticks(rotation=45)\n",
    "plt.savefig(\"./plots/010_current_speed_sampled_day.eps\", format=\"eps\", bbox_inches=\"tight\")\n",
    "plt.savefig(\"./plots/010_current_speed_sampled_day.png\", bbox_inches=\"tight\")"
   ]
  },
  {
   "cell_type": "markdown",
   "metadata": {
    "jupyter": {
     "outputs_hidden": false
    }
   },
   "source": [
    "## Current Speed - Month and day of week\n",
    "- Aggregate entire df based on day of week by mean (1) and median (2)\n",
    "- Try and show mean and confidence interval"
   ]
  },
  {
   "cell_type": "code",
   "execution_count": null,
   "metadata": {},
   "outputs": [],
   "source": [
    "df_by_dow_mean = df.drop([\"coordinates\", \"year_month\", \"year_month_day\"], axis=1).groupby([\"month_name\",\"dow_name\"]).mean().reset_index()\\\n",
    "    .sort_values(by=[\"year\",\"month\",\"dow\"]).reset_index()\\\n",
    "    .drop(columns=[\"index\"])\n",
    "df_by_dow_median = df.drop([\"coordinates\", \"year_month\", \"year_month_day\"], axis=1).groupby([\"month_name\",\"dow_name\"]).median().reset_index()\\\n",
    "    .sort_values(by=[\"year\",\"month\",\"dow\"]).reset_index()\\\n",
    "    .drop(columns=[\"index\"])"
   ]
  },
  {
   "cell_type": "code",
   "execution_count": null,
   "metadata": {},
   "outputs": [],
   "source": [
    "df_by_dow_mean.head()"
   ]
  },
  {
   "cell_type": "code",
   "execution_count": null,
   "metadata": {},
   "outputs": [],
   "source": [
    "df_by_dow_median.head()"
   ]
  },
  {
   "cell_type": "code",
   "execution_count": null,
   "metadata": {},
   "outputs": [],
   "source": [
    "dow_order = list(df_by_dow_mean.sort_values(by=\"dow\")[\"dow_name\"].drop_duplicates())\n",
    "g = sns.FacetGrid(df,col=\"dow_name\",row=\"month_name\",hue=\"dow_name\",col_order=dow_order,sharex=False,sharey=False,margin_titles=True)\n",
    "g.map(sns.lineplot,\"hour\",\"currentSpeed\")\n",
    "g.set_axis_labels(\"Hour of day\", \"Current Speed (km/h)\")\n",
    "g.set_titles(col_template=\"{col_name}\",row_template=\"{row_name}\")\n",
    "plt.savefig(\"./plots/010_current_speed_month_and_dow_mean.eps\", format=\"eps\", bbox_inches=\"tight\")\n",
    "plt.savefig(\"./plots/010_current_speed_month_and_dow_mean.png\", bbox_inches=\"tight\")"
   ]
  },
  {
   "cell_type": "code",
   "execution_count": null,
   "metadata": {},
   "outputs": [],
   "source": [
    "dow_order = list(df_by_dow_median.sort_values(by=\"dow\")[\"dow_name\"].drop_duplicates())\n",
    "g = sns.FacetGrid(df,col=\"dow_name\",row=\"month_name\",hue=\"dow_name\",col_order=dow_order,sharex=False,sharey=False,margin_titles=True)\n",
    "g.map(sns.lineplot,\"hour\",\"currentSpeed\",estimator=\"median\")\n",
    "g.set_axis_labels(\"Hour of day\", \"Current Speed (km/h)\")\n",
    "g.set_titles(col_template=\"{col_name}\",row_template=\"{row_name}\")\n",
    "plt.savefig(\"./plots/010_current_speed_month_and_dow_median.eps\", format=\"eps\", bbox_inches=\"tight\")\n",
    "plt.savefig(\"./plots/010_current_speed_month_and_dow_median.png\", bbox_inches=\"tight\")"
   ]
  },
  {
   "cell_type": "code",
   "execution_count": null,
   "metadata": {},
   "outputs": [],
   "source": [
    "df_dow_mean = df.drop([\"coordinates\", \"month_name\", \"year_month\", \"year_month_day\"], axis=1).groupby([\"dow\", \"dow_name\", \"hour\"]).mean().reset_index()\n",
    "df_dow_mean[\"Weekday\"] = df_dow_mean[\"dow_name\"]\n",
    "df_dow_mean"
   ]
  },
  {
   "cell_type": "code",
   "execution_count": null,
   "metadata": {},
   "outputs": [],
   "source": [
    "df_dow_median = df.drop([\"coordinates\", \"month_name\", \"year_month\", \"year_month_day\"], axis=1).groupby([\"dow\", \"dow_name\", \"hour\"]).median().reset_index()\n",
    "df_dow_median[\"Weekday\"] = df_dow_median[\"dow_name\"]\n",
    "df_dow_median"
   ]
  },
  {
   "cell_type": "code",
   "execution_count": null,
   "metadata": {},
   "outputs": [],
   "source": [
    "ax = sns.lineplot(data=df_dow_mean, x=\"hour\", y=\"currentSpeed\", hue=\"Weekday\")\n",
    "ax.set(ylabel=\"Current Speed (km/h)\", xlabel=\"Hour of Day\")\n",
    "plt.savefig(\"./plots/010_current_speed_weekday_mean.eps\", format=\"eps\", bbox_inches=\"tight\")\n",
    "plt.savefig(\"./plots/010_current_speed_weekday_mean.png\", bbox_inches=\"tight\")\n",
    "plt.savefig(\"./plots/010_current_speed_weekday_mean.pdf\", bbox_inches=\"tight\")"
   ]
  },
  {
   "cell_type": "code",
   "execution_count": null,
   "metadata": {},
   "outputs": [],
   "source": [
    "ax = sns.lineplot(data=df_dow_median, x=\"hour\", y=\"currentSpeed\", hue=\"Weekday\")\n",
    "ax.set(ylabel=\"Current Speed (km/h)\", xlabel=\"Hour of Day\")\n",
    "plt.savefig(\"./plots/010_current_speed_weekday_median.eps\", format=\"eps\", bbox_inches=\"tight\")\n",
    "plt.savefig(\"./plots/010_current_speed_weekday_median.png\", bbox_inches=\"tight\")\n",
    "plt.savefig(\"./plots/010_current_speed_weekday_median.pdf\", bbox_inches=\"tight\")"
   ]
  },
  {
   "cell_type": "code",
   "execution_count": null,
   "metadata": {},
   "outputs": [],
   "source": []
  }
 ],
 "metadata": {
  "kernelspec": {
   "display_name": "Python 3 (ipykernel)",
   "language": "python",
   "name": "python3"
  },
  "language_info": {
   "codemirror_mode": {
    "name": "ipython",
    "version": 3
   },
   "file_extension": ".py",
   "mimetype": "text/x-python",
   "name": "python",
   "nbconvert_exporter": "python",
   "pygments_lexer": "ipython3",
   "version": "3.11.5"
  }
 },
 "nbformat": 4,
 "nbformat_minor": 4
}

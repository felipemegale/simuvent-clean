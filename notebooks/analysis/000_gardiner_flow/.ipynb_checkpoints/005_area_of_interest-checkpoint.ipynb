{
 "cells": [
  {
   "cell_type": "code",
   "execution_count": 1,
   "id": "6a59591d-e049-4c63-8db0-0eb726aebc8c",
   "metadata": {},
   "outputs": [],
   "source": [
    "import pandas as pd\n",
    "import ast\n",
    "import folium"
   ]
  },
  {
   "cell_type": "code",
   "execution_count": 2,
   "id": "cdfcc73f-4f97-4441-a12a-b759a0f81d02",
   "metadata": {},
   "outputs": [],
   "source": [
    "speed_df = pd.read_csv(\"../../../csv/v2/050_gardiner_flow_processed.csv.zip\")"
   ]
  },
  {
   "cell_type": "code",
   "execution_count": 3,
   "id": "790aace0-1201-4507-aa77-41f5e92e270b",
   "metadata": {},
   "outputs": [],
   "source": [
    "unique_coords = speed_df[\"coordinates\"].drop_duplicates().reset_index()\n",
    "unique_coords = unique_coords[\"coordinates\"]"
   ]
  },
  {
   "cell_type": "code",
   "execution_count": 4,
   "id": "5fee28f7-63e8-4498-be59-fbed182d5408",
   "metadata": {},
   "outputs": [
    {
     "data": {
      "text/plain": [
       "0    [{'latitude': 43.681009250673604, 'longitude':...\n",
       "1    [{'latitude': 43.681009250673604, 'longitude':...\n",
       "2    [{'latitude': 43.681009250673604, 'longitude':...\n",
       "3    [{'latitude': 43.681009250673604, 'longitude':...\n",
       "Name: coordinates, dtype: object"
      ]
     },
     "execution_count": 4,
     "metadata": {},
     "output_type": "execute_result"
    }
   ],
   "source": [
    "unique_coords"
   ]
  },
  {
   "cell_type": "code",
   "execution_count": 5,
   "id": "522a9293-e596-450b-9eba-49069b277e99",
   "metadata": {},
   "outputs": [],
   "source": [
    "unique_coords = unique_coords.apply(lambda x: ast.literal_eval(x))"
   ]
  },
  {
   "cell_type": "code",
   "execution_count": 6,
   "id": "f1d06537-a0a8-47ca-b280-faae3a2840e3",
   "metadata": {},
   "outputs": [],
   "source": [
    "loc=[43.660834, -79.388976]\n",
    "map1 = folium.Map(location=loc, tiles=\"OpenStreetMap\", zoom_start=14)\n",
    "map2 = folium.Map(location=loc, tiles=\"OpenStreetMap\", zoom_start=14)\n",
    "map3 = folium.Map(location=loc, tiles=\"OpenStreetMap\", zoom_start=14)\n",
    "map4 = folium.Map(location=loc, tiles=\"OpenStreetMap\", zoom_start=14)"
   ]
  },
  {
   "cell_type": "code",
   "execution_count": 7,
   "id": "35acfdb3-6efa-4bf1-93ca-6981c9dacc1e",
   "metadata": {},
   "outputs": [],
   "source": [
    "coords1 = unique_coords[0]\n",
    "coords2 = unique_coords[1]\n",
    "coords3 = unique_coords[2]\n",
    "coords4 = unique_coords[3]"
   ]
  },
  {
   "cell_type": "code",
   "execution_count": 8,
   "id": "1ff6dc76-ca6e-4627-bae4-d5e927cfb902",
   "metadata": {},
   "outputs": [],
   "source": [
    "for coord in coords1:\n",
    "    folium.Marker(location=[coord[\"latitude\"], coord[\"longitude\"]]).add_to(map1)\n",
    "\n",
    "for coord in coords2:\n",
    "    folium.Marker(location=[coord[\"latitude\"], coord[\"longitude\"]]).add_to(map2)\n",
    "\n",
    "for coord in coords3:\n",
    "    folium.Marker(location=[coord[\"latitude\"], coord[\"longitude\"]]).add_to(map3)\n",
    "\n",
    "for coord in coords4:\n",
    "    folium.Marker(location=[coord[\"latitude\"], coord[\"longitude\"]]).add_to(map4)"
   ]
  },
  {
   "cell_type": "code",
   "execution_count": 9,
   "id": "3fc02751-b7eb-43a3-815e-2069f88b2853",
   "metadata": {},
   "outputs": [],
   "source": [
    "map1.save(\"./maps/005_gardiner_flow_map1.html\")\n",
    "map2.save(\"./maps/005_gardiner_flow_map2.html\")\n",
    "map3.save(\"./maps/005_gardiner_flow_map3.html\")\n",
    "map4.save(\"./maps/005_gardiner_flow_map4.html\")"
   ]
  },
  {
   "cell_type": "markdown",
   "id": "e245100f-9e9f-413e-94af-a259f50e767d",
   "metadata": {},
   "source": [
    "- Coordinate lists are only slightly different, not relevant."
   ]
  }
 ],
 "metadata": {
  "kernelspec": {
   "display_name": "Python 3 (ipykernel)",
   "language": "python",
   "name": "python3"
  },
  "language_info": {
   "codemirror_mode": {
    "name": "ipython",
    "version": 3
   },
   "file_extension": ".py",
   "mimetype": "text/x-python",
   "name": "python",
   "nbconvert_exporter": "python",
   "pygments_lexer": "ipython3",
   "version": "3.9.16"
  }
 },
 "nbformat": 4,
 "nbformat_minor": 5
}

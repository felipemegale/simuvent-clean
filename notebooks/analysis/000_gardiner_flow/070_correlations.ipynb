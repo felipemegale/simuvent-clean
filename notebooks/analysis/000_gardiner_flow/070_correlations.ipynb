{
 "cells": [
  {
   "cell_type": "code",
   "execution_count": 1,
   "id": "58080e70-d2a8-4343-997f-a6d253716037",
   "metadata": {},
   "outputs": [],
   "source": [
    "import pandas as pd\n",
    "from matplotlib import pyplot as plt\n",
    "import seaborn as sns\n",
    "sns.set_theme()"
   ]
  },
  {
   "cell_type": "code",
   "execution_count": 2,
   "id": "b169b7e4-08c8-46fc-986a-cd66633cd4eb",
   "metadata": {},
   "outputs": [],
   "source": [
    "df = pd.read_csv(\"../../../csv/v2/050_gardiner_flow_processed.csv.zip\")"
   ]
  },
  {
   "cell_type": "code",
   "execution_count": 3,
   "id": "8f573e66-7bf4-4621-baee-39b38f4788f9",
   "metadata": {},
   "outputs": [
    {
     "name": "stderr",
     "output_type": "stream",
     "text": [
      "/tmp/ipykernel_40494/3071565371.py:10: UserWarning: Converting to PeriodArray/Index representation will drop timezone information.\n",
      "  df[\"year_month\"] = df[\"collectedAt\"].dt.to_period(\"M\").astype(str)\n",
      "/tmp/ipykernel_40494/3071565371.py:11: UserWarning: Converting to PeriodArray/Index representation will drop timezone information.\n",
      "  df[\"year_month_day\"] = df[\"collectedAt\"].dt.to_period(\"D\").astype(str)\n"
     ]
    }
   ],
   "source": [
    "df[\"collectedAt\"] = pd.to_datetime(df[\"collectedAt\"], utc=True)\n",
    "df[\"collectedAt\"] = df.collectedAt.dt.floor(freq=\"s\")\n",
    "df[\"year\"] = df[\"collectedAt\"].dt.year\n",
    "df[\"month\"] = df[\"collectedAt\"].dt.month\n",
    "df[\"day\"] = df[\"collectedAt\"].dt.day\n",
    "df[\"hour\"] = df[\"collectedAt\"].dt.hour\n",
    "df[\"dow\"] = df[\"collectedAt\"].dt.day_of_week\n",
    "df[\"dow_name\"] = df[\"collectedAt\"].dt.day_name()\n",
    "df[\"month_name\"] = df[\"collectedAt\"].dt.month_name()\n",
    "df[\"year_month\"] = df[\"collectedAt\"].dt.to_period(\"M\").astype(str)\n",
    "df[\"year_month_day\"] = df[\"collectedAt\"].dt.to_period(\"D\").astype(str)"
   ]
  },
  {
   "cell_type": "code",
   "execution_count": 4,
   "id": "7711c9c5-62a0-4089-9440-1148962c2250",
   "metadata": {},
   "outputs": [
    {
     "data": {
      "text/html": [
       "<div>\n",
       "<style scoped>\n",
       "    .dataframe tbody tr th:only-of-type {\n",
       "        vertical-align: middle;\n",
       "    }\n",
       "\n",
       "    .dataframe tbody tr th {\n",
       "        vertical-align: top;\n",
       "    }\n",
       "\n",
       "    .dataframe thead th {\n",
       "        text-align: right;\n",
       "    }\n",
       "</style>\n",
       "<table border=\"1\" class=\"dataframe\">\n",
       "  <thead>\n",
       "    <tr style=\"text-align: right;\">\n",
       "      <th></th>\n",
       "      <th>currentSpeed</th>\n",
       "      <th>freeFlowSpeed</th>\n",
       "      <th>currentTravelTime</th>\n",
       "      <th>freeFlowTravelTime</th>\n",
       "      <th>roadClosure</th>\n",
       "      <th>coordinates</th>\n",
       "      <th>collectedAt</th>\n",
       "      <th>year</th>\n",
       "      <th>month</th>\n",
       "      <th>day</th>\n",
       "      <th>hour</th>\n",
       "      <th>dow</th>\n",
       "      <th>dow_name</th>\n",
       "      <th>month_name</th>\n",
       "      <th>year_month</th>\n",
       "      <th>year_month_day</th>\n",
       "    </tr>\n",
       "  </thead>\n",
       "  <tbody>\n",
       "    <tr>\n",
       "      <th>0</th>\n",
       "      <td>94</td>\n",
       "      <td>94</td>\n",
       "      <td>297</td>\n",
       "      <td>297</td>\n",
       "      <td>False</td>\n",
       "      <td>[{'latitude': 43.681009250673604, 'longitude':...</td>\n",
       "      <td>2022-07-14 12:45:00+00:00</td>\n",
       "      <td>2022</td>\n",
       "      <td>7</td>\n",
       "      <td>14</td>\n",
       "      <td>12</td>\n",
       "      <td>3</td>\n",
       "      <td>Thursday</td>\n",
       "      <td>July</td>\n",
       "      <td>2022-07</td>\n",
       "      <td>2022-07-14</td>\n",
       "    </tr>\n",
       "    <tr>\n",
       "      <th>1</th>\n",
       "      <td>94</td>\n",
       "      <td>94</td>\n",
       "      <td>297</td>\n",
       "      <td>297</td>\n",
       "      <td>False</td>\n",
       "      <td>[{'latitude': 43.681009250673604, 'longitude':...</td>\n",
       "      <td>2022-07-14 12:51:44+00:00</td>\n",
       "      <td>2022</td>\n",
       "      <td>7</td>\n",
       "      <td>14</td>\n",
       "      <td>12</td>\n",
       "      <td>3</td>\n",
       "      <td>Thursday</td>\n",
       "      <td>July</td>\n",
       "      <td>2022-07</td>\n",
       "      <td>2022-07-14</td>\n",
       "    </tr>\n",
       "    <tr>\n",
       "      <th>2</th>\n",
       "      <td>75</td>\n",
       "      <td>93</td>\n",
       "      <td>372</td>\n",
       "      <td>300</td>\n",
       "      <td>False</td>\n",
       "      <td>[{'latitude': 43.681009250673604, 'longitude':...</td>\n",
       "      <td>2022-07-14 12:55:27+00:00</td>\n",
       "      <td>2022</td>\n",
       "      <td>7</td>\n",
       "      <td>14</td>\n",
       "      <td>12</td>\n",
       "      <td>3</td>\n",
       "      <td>Thursday</td>\n",
       "      <td>July</td>\n",
       "      <td>2022-07</td>\n",
       "      <td>2022-07-14</td>\n",
       "    </tr>\n",
       "    <tr>\n",
       "      <th>3</th>\n",
       "      <td>72</td>\n",
       "      <td>94</td>\n",
       "      <td>388</td>\n",
       "      <td>297</td>\n",
       "      <td>False</td>\n",
       "      <td>[{'latitude': 43.681009250673604, 'longitude':...</td>\n",
       "      <td>2022-07-14 13:00:00+00:00</td>\n",
       "      <td>2022</td>\n",
       "      <td>7</td>\n",
       "      <td>14</td>\n",
       "      <td>13</td>\n",
       "      <td>3</td>\n",
       "      <td>Thursday</td>\n",
       "      <td>July</td>\n",
       "      <td>2022-07</td>\n",
       "      <td>2022-07-14</td>\n",
       "    </tr>\n",
       "    <tr>\n",
       "      <th>4</th>\n",
       "      <td>94</td>\n",
       "      <td>94</td>\n",
       "      <td>297</td>\n",
       "      <td>297</td>\n",
       "      <td>False</td>\n",
       "      <td>[{'latitude': 43.681009250673604, 'longitude':...</td>\n",
       "      <td>2022-07-14 13:05:00+00:00</td>\n",
       "      <td>2022</td>\n",
       "      <td>7</td>\n",
       "      <td>14</td>\n",
       "      <td>13</td>\n",
       "      <td>3</td>\n",
       "      <td>Thursday</td>\n",
       "      <td>July</td>\n",
       "      <td>2022-07</td>\n",
       "      <td>2022-07-14</td>\n",
       "    </tr>\n",
       "  </tbody>\n",
       "</table>\n",
       "</div>"
      ],
      "text/plain": [
       "   currentSpeed  freeFlowSpeed  currentTravelTime  freeFlowTravelTime  \\\n",
       "0            94             94                297                 297   \n",
       "1            94             94                297                 297   \n",
       "2            75             93                372                 300   \n",
       "3            72             94                388                 297   \n",
       "4            94             94                297                 297   \n",
       "\n",
       "   roadClosure                                        coordinates  \\\n",
       "0        False  [{'latitude': 43.681009250673604, 'longitude':...   \n",
       "1        False  [{'latitude': 43.681009250673604, 'longitude':...   \n",
       "2        False  [{'latitude': 43.681009250673604, 'longitude':...   \n",
       "3        False  [{'latitude': 43.681009250673604, 'longitude':...   \n",
       "4        False  [{'latitude': 43.681009250673604, 'longitude':...   \n",
       "\n",
       "                collectedAt  year  month  day  hour  dow  dow_name month_name  \\\n",
       "0 2022-07-14 12:45:00+00:00  2022      7   14    12    3  Thursday       July   \n",
       "1 2022-07-14 12:51:44+00:00  2022      7   14    12    3  Thursday       July   \n",
       "2 2022-07-14 12:55:27+00:00  2022      7   14    12    3  Thursday       July   \n",
       "3 2022-07-14 13:00:00+00:00  2022      7   14    13    3  Thursday       July   \n",
       "4 2022-07-14 13:05:00+00:00  2022      7   14    13    3  Thursday       July   \n",
       "\n",
       "  year_month year_month_day  \n",
       "0    2022-07     2022-07-14  \n",
       "1    2022-07     2022-07-14  \n",
       "2    2022-07     2022-07-14  \n",
       "3    2022-07     2022-07-14  \n",
       "4    2022-07     2022-07-14  "
      ]
     },
     "execution_count": 4,
     "metadata": {},
     "output_type": "execute_result"
    }
   ],
   "source": [
    "df.head()"
   ]
  },
  {
   "cell_type": "code",
   "execution_count": 5,
   "id": "9b2b413f-9d22-4d73-aa23-54e9940f711b",
   "metadata": {},
   "outputs": [
    {
     "data": {
      "text/html": [
       "<div>\n",
       "<style scoped>\n",
       "    .dataframe tbody tr th:only-of-type {\n",
       "        vertical-align: middle;\n",
       "    }\n",
       "\n",
       "    .dataframe tbody tr th {\n",
       "        vertical-align: top;\n",
       "    }\n",
       "\n",
       "    .dataframe thead th {\n",
       "        text-align: right;\n",
       "    }\n",
       "</style>\n",
       "<table border=\"1\" class=\"dataframe\">\n",
       "  <thead>\n",
       "    <tr style=\"text-align: right;\">\n",
       "      <th></th>\n",
       "      <th>currentSpeed</th>\n",
       "      <th>currentTravelTime</th>\n",
       "      <th>freeFlowSpeed</th>\n",
       "      <th>freeFlowTravelTime</th>\n",
       "      <th>hour</th>\n",
       "    </tr>\n",
       "  </thead>\n",
       "  <tbody>\n",
       "    <tr>\n",
       "      <th>0</th>\n",
       "      <td>94</td>\n",
       "      <td>297</td>\n",
       "      <td>94</td>\n",
       "      <td>297</td>\n",
       "      <td>12</td>\n",
       "    </tr>\n",
       "    <tr>\n",
       "      <th>1</th>\n",
       "      <td>94</td>\n",
       "      <td>297</td>\n",
       "      <td>94</td>\n",
       "      <td>297</td>\n",
       "      <td>12</td>\n",
       "    </tr>\n",
       "    <tr>\n",
       "      <th>2</th>\n",
       "      <td>75</td>\n",
       "      <td>372</td>\n",
       "      <td>93</td>\n",
       "      <td>300</td>\n",
       "      <td>12</td>\n",
       "    </tr>\n",
       "    <tr>\n",
       "      <th>3</th>\n",
       "      <td>72</td>\n",
       "      <td>388</td>\n",
       "      <td>94</td>\n",
       "      <td>297</td>\n",
       "      <td>13</td>\n",
       "    </tr>\n",
       "    <tr>\n",
       "      <th>4</th>\n",
       "      <td>94</td>\n",
       "      <td>297</td>\n",
       "      <td>94</td>\n",
       "      <td>297</td>\n",
       "      <td>13</td>\n",
       "    </tr>\n",
       "    <tr>\n",
       "      <th>...</th>\n",
       "      <td>...</td>\n",
       "      <td>...</td>\n",
       "      <td>...</td>\n",
       "      <td>...</td>\n",
       "      <td>...</td>\n",
       "    </tr>\n",
       "    <tr>\n",
       "      <th>73530</th>\n",
       "      <td>92</td>\n",
       "      <td>303</td>\n",
       "      <td>92</td>\n",
       "      <td>303</td>\n",
       "      <td>21</td>\n",
       "    </tr>\n",
       "    <tr>\n",
       "      <th>73531</th>\n",
       "      <td>92</td>\n",
       "      <td>303</td>\n",
       "      <td>92</td>\n",
       "      <td>303</td>\n",
       "      <td>21</td>\n",
       "    </tr>\n",
       "    <tr>\n",
       "      <th>73532</th>\n",
       "      <td>79</td>\n",
       "      <td>353</td>\n",
       "      <td>93</td>\n",
       "      <td>300</td>\n",
       "      <td>21</td>\n",
       "    </tr>\n",
       "    <tr>\n",
       "      <th>73533</th>\n",
       "      <td>92</td>\n",
       "      <td>303</td>\n",
       "      <td>92</td>\n",
       "      <td>303</td>\n",
       "      <td>21</td>\n",
       "    </tr>\n",
       "    <tr>\n",
       "      <th>73534</th>\n",
       "      <td>92</td>\n",
       "      <td>303</td>\n",
       "      <td>92</td>\n",
       "      <td>303</td>\n",
       "      <td>21</td>\n",
       "    </tr>\n",
       "  </tbody>\n",
       "</table>\n",
       "<p>73535 rows × 5 columns</p>\n",
       "</div>"
      ],
      "text/plain": [
       "       currentSpeed  currentTravelTime  freeFlowSpeed  freeFlowTravelTime  \\\n",
       "0                94                297             94                 297   \n",
       "1                94                297             94                 297   \n",
       "2                75                372             93                 300   \n",
       "3                72                388             94                 297   \n",
       "4                94                297             94                 297   \n",
       "...             ...                ...            ...                 ...   \n",
       "73530            92                303             92                 303   \n",
       "73531            92                303             92                 303   \n",
       "73532            79                353             93                 300   \n",
       "73533            92                303             92                 303   \n",
       "73534            92                303             92                 303   \n",
       "\n",
       "       hour  \n",
       "0        12  \n",
       "1        12  \n",
       "2        12  \n",
       "3        13  \n",
       "4        13  \n",
       "...     ...  \n",
       "73530    21  \n",
       "73531    21  \n",
       "73532    21  \n",
       "73533    21  \n",
       "73534    21  \n",
       "\n",
       "[73535 rows x 5 columns]"
      ]
     },
     "execution_count": 5,
     "metadata": {},
     "output_type": "execute_result"
    }
   ],
   "source": [
    "speeds_and_times_df = df[[\"currentSpeed\",\"currentTravelTime\",\"freeFlowSpeed\",\"freeFlowTravelTime\",\"hour\"]]\n",
    "speeds_and_times_df"
   ]
  },
  {
   "cell_type": "code",
   "execution_count": 6,
   "id": "683e1a37-bb69-4ccf-9e8b-95d07df7121b",
   "metadata": {},
   "outputs": [
    {
     "data": {
      "text/html": [
       "<div>\n",
       "<style scoped>\n",
       "    .dataframe tbody tr th:only-of-type {\n",
       "        vertical-align: middle;\n",
       "    }\n",
       "\n",
       "    .dataframe tbody tr th {\n",
       "        vertical-align: top;\n",
       "    }\n",
       "\n",
       "    .dataframe thead th {\n",
       "        text-align: right;\n",
       "    }\n",
       "</style>\n",
       "<table border=\"1\" class=\"dataframe\">\n",
       "  <thead>\n",
       "    <tr style=\"text-align: right;\">\n",
       "      <th></th>\n",
       "      <th>currentSpeed</th>\n",
       "      <th>currentTravelTime</th>\n",
       "      <th>freeFlowSpeed</th>\n",
       "      <th>freeFlowTravelTime</th>\n",
       "      <th>hour</th>\n",
       "    </tr>\n",
       "  </thead>\n",
       "  <tbody>\n",
       "    <tr>\n",
       "      <th>currentSpeed</th>\n",
       "      <td>1.000000</td>\n",
       "      <td>-0.952418</td>\n",
       "      <td>0.247652</td>\n",
       "      <td>-0.266884</td>\n",
       "      <td>-0.535137</td>\n",
       "    </tr>\n",
       "    <tr>\n",
       "      <th>currentTravelTime</th>\n",
       "      <td>-0.952418</td>\n",
       "      <td>1.000000</td>\n",
       "      <td>-0.212014</td>\n",
       "      <td>0.235245</td>\n",
       "      <td>0.477516</td>\n",
       "    </tr>\n",
       "    <tr>\n",
       "      <th>freeFlowSpeed</th>\n",
       "      <td>0.247652</td>\n",
       "      <td>-0.212014</td>\n",
       "      <td>1.000000</td>\n",
       "      <td>-0.987909</td>\n",
       "      <td>-0.136300</td>\n",
       "    </tr>\n",
       "    <tr>\n",
       "      <th>freeFlowTravelTime</th>\n",
       "      <td>-0.266884</td>\n",
       "      <td>0.235245</td>\n",
       "      <td>-0.987909</td>\n",
       "      <td>1.000000</td>\n",
       "      <td>0.147162</td>\n",
       "    </tr>\n",
       "    <tr>\n",
       "      <th>hour</th>\n",
       "      <td>-0.535137</td>\n",
       "      <td>0.477516</td>\n",
       "      <td>-0.136300</td>\n",
       "      <td>0.147162</td>\n",
       "      <td>1.000000</td>\n",
       "    </tr>\n",
       "  </tbody>\n",
       "</table>\n",
       "</div>"
      ],
      "text/plain": [
       "                    currentSpeed  currentTravelTime  freeFlowSpeed  \\\n",
       "currentSpeed            1.000000          -0.952418       0.247652   \n",
       "currentTravelTime      -0.952418           1.000000      -0.212014   \n",
       "freeFlowSpeed           0.247652          -0.212014       1.000000   \n",
       "freeFlowTravelTime     -0.266884           0.235245      -0.987909   \n",
       "hour                   -0.535137           0.477516      -0.136300   \n",
       "\n",
       "                    freeFlowTravelTime      hour  \n",
       "currentSpeed                 -0.266884 -0.535137  \n",
       "currentTravelTime             0.235245  0.477516  \n",
       "freeFlowSpeed                -0.987909 -0.136300  \n",
       "freeFlowTravelTime            1.000000  0.147162  \n",
       "hour                          0.147162  1.000000  "
      ]
     },
     "execution_count": 6,
     "metadata": {},
     "output_type": "execute_result"
    }
   ],
   "source": [
    "speeds_and_times_df_corr = speeds_and_times_df.corr()\n",
    "speeds_and_times_df_corr"
   ]
  },
  {
   "cell_type": "code",
   "execution_count": 7,
   "id": "537fa281-1f30-45f3-b7d0-96e06e51c45b",
   "metadata": {},
   "outputs": [
    {
     "data": {
      "image/png": "[encoded data removed]",
      "text/plain": [
       "<Figure size 640x480 with 2 Axes>"
      ]
     },
     "metadata": {},
     "output_type": "display_data"
    }
   ],
   "source": [
    "labels=[\"Current Speed\", \"Current Travel Time\", \"Free Flow Speed\", \"Free Flow Travel Time\", \"Hour\"]\n",
    "ax = sns.heatmap(speeds_and_times_df_corr,xticklabels=labels,yticklabels=labels,annot=True,linewidth=0.5)\n",
    "ax.xaxis.tick_top()\n",
    "plt.xticks(rotation=45)\n",
    "plt.savefig(\"./plots/070_speed_travel_time_correlation.eps\", format=\"eps\", bbox_inches=\"tight\")\n",
    "plt.savefig(\"./plots/070_speed_travel_time_correlation.png\", bbox_inches=\"tight\")\n",
    "plt.savefig(\"./plots/070_speed_travel_time_correlation.pdf\", bbox_inches=\"tight\")"
   ]
  },
  {
   "attachments": {},
   "cell_type": "markdown",
   "id": "bb0da818-56a9-4f9f-8cd5-001b6ca4a88f",
   "metadata": {},
   "source": [
    "# ANOVA (Analysis Of Variance) test\n",
    "- Null hypothesis: numerical and categorical values are not correlated\n",
    "- P-value: The probability of Null hypothesis being true\n",
    "- Accept Null hypothesis if P-value>0.05. Means variables are NOT correlated\n",
    "- Reject Null hypothesis if P-value<0.05. Means variables are correlated"
   ]
  },
  {
   "cell_type": "code",
   "execution_count": 8,
   "id": "134ab872-74aa-451c-adcf-b9ca01f3031b",
   "metadata": {},
   "outputs": [],
   "source": [
    "from scipy.stats import f_oneway"
   ]
  },
  {
   "attachments": {},
   "cell_type": "markdown",
   "id": "a03d9ff1-a487-4495-966c-487b31c4d48a",
   "metadata": {
    "tags": []
   },
   "source": [
    "## Between day of week (categorical) and current speed (numerical)"
   ]
  },
  {
   "cell_type": "code",
   "execution_count": 9,
   "id": "e729438f-4006-486f-b24f-8ad582cdf2ce",
   "metadata": {},
   "outputs": [
    {
     "name": "stdout",
     "output_type": "stream",
     "text": [
      "P-value: 0.0\n",
      "Speed and day of week ARE correlated\n"
     ]
    }
   ],
   "source": [
    "category_group_lists = df[[\"currentSpeed\",\"dow_name\"]].groupby('dow_name')['currentSpeed'].apply(list)\n",
    "anova_results = f_oneway(*category_group_lists)\n",
    "print(\"P-value:\",anova_results[1])\n",
    "print(\"Speed and day of week are NOT correlated\") if anova_results[1] > 0.05 else print(\"Speed and day of week ARE correlated\")"
   ]
  },
  {
   "attachments": {},
   "cell_type": "markdown",
   "id": "dc8dd32e-0dc0-4a6a-b9df-fbc1fce80d76",
   "metadata": {},
   "source": [
    "## Between day of week (categorical) and current travel time (numerical)"
   ]
  },
  {
   "cell_type": "code",
   "execution_count": 10,
   "id": "94164db4-21bc-4351-bd28-ec89492f077d",
   "metadata": {},
   "outputs": [
    {
     "name": "stdout",
     "output_type": "stream",
     "text": [
      "P-value: 0.0\n",
      "Travel time and day of week ARE correlated\n"
     ]
    }
   ],
   "source": [
    "category_group_lists = df[[\"currentTravelTime\",\"dow_name\"]].groupby('dow_name')['currentTravelTime'].apply(list)\n",
    "anova_results = f_oneway(*category_group_lists)\n",
    "print(\"P-value:\",anova_results[1])\n",
    "print(\"Travel time and day of week are NOT correlated\") if anova_results[1] > 0.05 else print(\"Travel time and day of week ARE correlated\")"
   ]
  },
  {
   "attachments": {},
   "cell_type": "markdown",
   "id": "bf36e5c1-2ee9-4b87-abcd-bf86e9e3cb0c",
   "metadata": {},
   "source": [
    "## Between month (categorical) and current speed (numerical)"
   ]
  },
  {
   "cell_type": "code",
   "execution_count": 11,
   "id": "7b042a53-3796-449d-8796-b7b087c488b3",
   "metadata": {},
   "outputs": [
    {
     "name": "stdout",
     "output_type": "stream",
     "text": [
      "P-value: 1.917777800503801e-125\n",
      "Speed and month ARE correlated\n"
     ]
    }
   ],
   "source": [
    "category_group_lists = df[[\"currentSpeed\",\"month_name\"]].groupby('month_name')['currentSpeed'].apply(list)\n",
    "anova_results = f_oneway(*category_group_lists)\n",
    "print(\"P-value:\",anova_results[1])\n",
    "print(\"Speed and month are NOT correlated\") if anova_results[1] > 0.05 else print(\"Speed and month ARE correlated\")"
   ]
  },
  {
   "attachments": {},
   "cell_type": "markdown",
   "id": "28d2bebf-329e-433c-859e-e5fe9a93179f",
   "metadata": {},
   "source": [
    "## Between month (categorical) and current travel time (numerical)"
   ]
  },
  {
   "cell_type": "code",
   "execution_count": 12,
   "id": "11119514-a430-459d-a335-67adea9f4469",
   "metadata": {},
   "outputs": [
    {
     "name": "stdout",
     "output_type": "stream",
     "text": [
      "P-value: 4.648527263448263e-131\n",
      "Travel time and month ARE correlated\n"
     ]
    }
   ],
   "source": [
    "category_group_lists = df[[\"currentTravelTime\",\"month_name\"]].groupby('month_name')['currentTravelTime'].apply(list)\n",
    "anova_results = f_oneway(*category_group_lists)\n",
    "print(\"P-value:\",anova_results[1])\n",
    "print(\"Travel time and month are NOT correlated\") if anova_results[1] > 0.05 else print(\"Travel time and month ARE correlated\")"
   ]
  },
  {
   "attachments": {},
   "cell_type": "markdown",
   "id": "acba1cc8-97e3-4b88-930d-f94641d4f335",
   "metadata": {},
   "source": [
    "## Between day of week & month (categorical) and current speed (numerical)"
   ]
  },
  {
   "cell_type": "code",
   "execution_count": 13,
   "id": "3fb0a018-5e7a-42f3-9f56-f8c69836885f",
   "metadata": {},
   "outputs": [
    {
     "name": "stdout",
     "output_type": "stream",
     "text": [
      "P-value: 0.0\n",
      "Speed and day of week & month ARE correlated\n"
     ]
    }
   ],
   "source": [
    "category_group_lists = df[[\"currentSpeed\",\"dow_name\", \"month_name\"]].groupby([\"dow_name\", \"month_name\"])['currentSpeed'].apply(list)\n",
    "\n",
    "anova_results = f_oneway(*category_group_lists)\n",
    "\n",
    "print(\"P-value:\",anova_results[1])\n",
    "print(\"Speed and day of week & month NOT correlated\") if anova_results[1] > 0.05 else print(\"Speed and day of week & month ARE correlated\")"
   ]
  },
  {
   "attachments": {},
   "cell_type": "markdown",
   "id": "3338ae0b-8592-43eb-8b32-c8a7704f0058",
   "metadata": {},
   "source": [
    "## Between day of week & month (categorical) and current travel time (numerical)"
   ]
  },
  {
   "cell_type": "code",
   "execution_count": 14,
   "id": "2a699e92-d1ec-4f42-88bc-b5f98d9a7bdd",
   "metadata": {},
   "outputs": [
    {
     "name": "stdout",
     "output_type": "stream",
     "text": [
      "P-value: 0.0\n",
      "Travel time and day of week & month ARE correlated\n"
     ]
    }
   ],
   "source": [
    "category_group_lists = df[[\"currentTravelTime\",\"dow_name\", \"month_name\"]].groupby([\"dow_name\", \"month_name\"])['currentTravelTime'].apply(list)\n",
    "\n",
    "anova_results = f_oneway(*category_group_lists)\n",
    "\n",
    "print(\"P-value:\",anova_results[1])\n",
    "print(\"Travel time and day of week & month NOT correlated\") if anova_results[1] > 0.05 else print(\"Travel time and day of week & month ARE correlated\")"
   ]
  },
  {
   "cell_type": "code",
   "execution_count": null,
   "id": "dfb7bffb-cf50-47c1-80a4-3fe54ee40f11",
   "metadata": {},
   "outputs": [],
   "source": []
  }
 ],
 "metadata": {
  "kernelspec": {
   "display_name": "Python 3 (ipykernel)",
   "language": "python",
   "name": "python3"
  }
 },
 "nbformat": 4,
 "nbformat_minor": 5
}

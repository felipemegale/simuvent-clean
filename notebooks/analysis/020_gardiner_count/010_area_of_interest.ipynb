{
 "cells": [
  {
   "cell_type": "code",
   "execution_count": 1,
   "id": "588e0bf0-e0fe-42f9-a1c2-2a62e4117414",
   "metadata": {},
   "outputs": [],
   "source": [
    "import pandas as pd\n",
    "import ast\n",
    "import folium"
   ]
  },
  {
   "cell_type": "code",
   "execution_count": 2,
   "id": "e9f5bb97-093c-40dc-a4b4-0aae7d1907cf",
   "metadata": {},
   "outputs": [
    {
     "data": {
      "text/html": [
       "<div>\n",
       "<style scoped>\n",
       "    .dataframe tbody tr th:only-of-type {\n",
       "        vertical-align: middle;\n",
       "    }\n",
       "\n",
       "    .dataframe tbody tr th {\n",
       "        vertical-align: top;\n",
       "    }\n",
       "\n",
       "    .dataframe thead th {\n",
       "        text-align: right;\n",
       "    }\n",
       "</style>\n",
       "<table border=\"1\" class=\"dataframe\">\n",
       "  <thead>\n",
       "    <tr style=\"text-align: right;\">\n",
       "      <th></th>\n",
       "      <th>detector_id</th>\n",
       "      <th>datetime_bin</th>\n",
       "      <th>volume_15min</th>\n",
       "      <th>number_of_lanes</th>\n",
       "      <th>primary_road</th>\n",
       "      <th>direction</th>\n",
       "      <th>latitude</th>\n",
       "      <th>longitude</th>\n",
       "      <th>detector_loc</th>\n",
       "    </tr>\n",
       "  </thead>\n",
       "  <tbody>\n",
       "    <tr>\n",
       "      <th>0</th>\n",
       "      <td>DW0040DWG</td>\n",
       "      <td>2022-08-11 15:00:00</td>\n",
       "      <td>160</td>\n",
       "      <td>3</td>\n",
       "      <td>F G Gardiner Xy W</td>\n",
       "      <td>W</td>\n",
       "      <td>43.638046</td>\n",
       "      <td>-79.396634</td>\n",
       "      <td>W of SPADINA AV</td>\n",
       "    </tr>\n",
       "    <tr>\n",
       "      <th>1</th>\n",
       "      <td>DW0126DEG</td>\n",
       "      <td>2022-08-11 15:00:00</td>\n",
       "      <td>170</td>\n",
       "      <td>3</td>\n",
       "      <td>F G Gardiner Xy E</td>\n",
       "      <td>E</td>\n",
       "      <td>43.638420</td>\n",
       "      <td>-79.451353</td>\n",
       "      <td>W of RONCESVALLES AVE</td>\n",
       "    </tr>\n",
       "    <tr>\n",
       "      <th>2</th>\n",
       "      <td>DW0140DEG</td>\n",
       "      <td>2022-08-11 15:00:00</td>\n",
       "      <td>169</td>\n",
       "      <td>3</td>\n",
       "      <td>F G Gardiner Xy E</td>\n",
       "      <td>E</td>\n",
       "      <td>43.637296</td>\n",
       "      <td>-79.464739</td>\n",
       "      <td>E of ELLIS AVE</td>\n",
       "    </tr>\n",
       "    <tr>\n",
       "      <th>3</th>\n",
       "      <td>DW0140DWG</td>\n",
       "      <td>2022-08-11 15:00:00</td>\n",
       "      <td>123</td>\n",
       "      <td>3</td>\n",
       "      <td>F G Gardiner Xy W</td>\n",
       "      <td>W</td>\n",
       "      <td>43.637449</td>\n",
       "      <td>-79.464777</td>\n",
       "      <td>E of ELLIS AVE</td>\n",
       "    </tr>\n",
       "    <tr>\n",
       "      <th>4</th>\n",
       "      <td>DW0201DWG</td>\n",
       "      <td>2022-08-11 15:00:00</td>\n",
       "      <td>134</td>\n",
       "      <td>3</td>\n",
       "      <td>F G Gardiner Xy W</td>\n",
       "      <td>W</td>\n",
       "      <td>43.614486</td>\n",
       "      <td>-79.546012</td>\n",
       "      <td>At THE EAST MALL</td>\n",
       "    </tr>\n",
       "  </tbody>\n",
       "</table>\n",
       "</div>"
      ],
      "text/plain": [
       "  detector_id         datetime_bin  volume_15min  number_of_lanes  \\\n",
       "0   DW0040DWG  2022-08-11 15:00:00           160                3   \n",
       "1   DW0126DEG  2022-08-11 15:00:00           170                3   \n",
       "2   DW0140DEG  2022-08-11 15:00:00           169                3   \n",
       "3   DW0140DWG  2022-08-11 15:00:00           123                3   \n",
       "4   DW0201DWG  2022-08-11 15:00:00           134                3   \n",
       "\n",
       "        primary_road direction   latitude  longitude           detector_loc  \n",
       "0  F G Gardiner Xy W         W  43.638046 -79.396634        W of SPADINA AV  \n",
       "1  F G Gardiner Xy E         E  43.638420 -79.451353  W of RONCESVALLES AVE  \n",
       "2  F G Gardiner Xy E         E  43.637296 -79.464739         E of ELLIS AVE  \n",
       "3  F G Gardiner Xy W         W  43.637449 -79.464777         E of ELLIS AVE  \n",
       "4  F G Gardiner Xy W         W  43.614486 -79.546012       At THE EAST MALL  "
      ]
     },
     "execution_count": 2,
     "metadata": {},
     "output_type": "execute_result"
    }
   ],
   "source": [
    "df = pd.read_csv(\"../../../csv/v2/040_gardiner_count_processed.csv.zip\")\n",
    "df.head()"
   ]
  },
  {
   "cell_type": "code",
   "execution_count": 23,
   "id": "6b7461c7-52b1-4a47-bed9-1a2145ad69cf",
   "metadata": {},
   "outputs": [
    {
     "data": {
      "text/html": [
       "<div>\n",
       "<style scoped>\n",
       "    .dataframe tbody tr th:only-of-type {\n",
       "        vertical-align: middle;\n",
       "    }\n",
       "\n",
       "    .dataframe tbody tr th {\n",
       "        vertical-align: top;\n",
       "    }\n",
       "\n",
       "    .dataframe thead th {\n",
       "        text-align: right;\n",
       "    }\n",
       "</style>\n",
       "<table border=\"1\" class=\"dataframe\">\n",
       "  <thead>\n",
       "    <tr style=\"text-align: right;\">\n",
       "      <th></th>\n",
       "      <th>detector_loc</th>\n",
       "      <th>latitude</th>\n",
       "      <th>longitude</th>\n",
       "    </tr>\n",
       "  </thead>\n",
       "  <tbody>\n",
       "    <tr>\n",
       "      <th>0</th>\n",
       "      <td>W of SPADINA AV</td>\n",
       "      <td>43.638046</td>\n",
       "      <td>-79.396634</td>\n",
       "    </tr>\n",
       "    <tr>\n",
       "      <th>1</th>\n",
       "      <td>W of RONCESVALLES AVE</td>\n",
       "      <td>43.638420</td>\n",
       "      <td>-79.451353</td>\n",
       "    </tr>\n",
       "    <tr>\n",
       "      <th>2</th>\n",
       "      <td>E of ELLIS AVE</td>\n",
       "      <td>43.637296</td>\n",
       "      <td>-79.464739</td>\n",
       "    </tr>\n",
       "    <tr>\n",
       "      <th>4</th>\n",
       "      <td>At THE EAST MALL</td>\n",
       "      <td>43.614486</td>\n",
       "      <td>-79.546012</td>\n",
       "    </tr>\n",
       "    <tr>\n",
       "      <th>5</th>\n",
       "      <td>E of STRACHAN AVE</td>\n",
       "      <td>43.637454</td>\n",
       "      <td>-79.409834</td>\n",
       "    </tr>\n",
       "  </tbody>\n",
       "</table>\n",
       "</div>"
      ],
      "text/plain": [
       "            detector_loc   latitude  longitude\n",
       "0        W of SPADINA AV  43.638046 -79.396634\n",
       "1  W of RONCESVALLES AVE  43.638420 -79.451353\n",
       "2         E of ELLIS AVE  43.637296 -79.464739\n",
       "4       At THE EAST MALL  43.614486 -79.546012\n",
       "5      E of STRACHAN AVE  43.637454 -79.409834"
      ]
     },
     "execution_count": 23,
     "metadata": {},
     "output_type": "execute_result"
    }
   ],
   "source": [
    "coords = df[[\"detector_loc\",\"latitude\",\"longitude\"]].drop_duplicates(\"detector_loc\")\n",
    "coords.head()"
   ]
  },
  {
   "cell_type": "code",
   "execution_count": 24,
   "id": "4b00ddd3-a356-4c2e-916b-e1e092f62b16",
   "metadata": {},
   "outputs": [],
   "source": [
    "loc=[43.660834, -79.388976]\n",
    "map1 = folium.Map(location=loc, tiles=\"OpenStreetMap\", zoom_start=14)"
   ]
  },
  {
   "cell_type": "code",
   "execution_count": 25,
   "id": "622b72aa-7680-487a-8995-1b23008e0847",
   "metadata": {},
   "outputs": [],
   "source": [
    "for i in range(len(coords)):\n",
    "    lat = coords.iloc[i][\"latitude\"]\n",
    "    lng = coords.iloc[i][\"longitude\"]\n",
    "    folium.Marker(location=[lat,lng]).add_to(map1)"
   ]
  },
  {
   "cell_type": "code",
   "execution_count": 26,
   "id": "f9f76fc8-db00-4ecf-a787-3be2fdb364e8",
   "metadata": {},
   "outputs": [],
   "source": [
    "map1.save(\"./maps/010_gardiner_count_map1.html\")"
   ]
  },
  {
   "cell_type": "code",
   "execution_count": null,
   "id": "a7d3332d-a5ae-4e5f-aa6d-fabfeff7c036",
   "metadata": {},
   "outputs": [],
   "source": []
  }
 ],
 "metadata": {
  "kernelspec": {
   "display_name": "Python 3 (ipykernel)",
   "language": "python",
   "name": "python3"
  },
  "language_info": {
   "codemirror_mode": {
    "name": "ipython",
    "version": 3
   },
   "file_extension": ".py",
   "mimetype": "text/x-python",
   "name": "python",
   "nbconvert_exporter": "python",
   "pygments_lexer": "ipython3",
   "version": "3.10.10"
  }
 },
 "nbformat": 4,
 "nbformat_minor": 5
}

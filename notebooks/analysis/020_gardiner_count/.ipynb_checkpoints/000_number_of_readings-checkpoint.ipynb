{
 "cells": [
  {
   "cell_type": "code",
   "execution_count": null,
   "id": "efb881a5-1a72-4e8b-9060-09b47a06a241",
   "metadata": {
    "tags": []
   },
   "outputs": [],
   "source": [
    "import pandas as pd\n",
    "from matplotlib import pyplot as plt\n",
    "import seaborn as sns\n",
    "sns.set_theme()"
   ]
  },
  {
   "cell_type": "code",
   "execution_count": null,
   "id": "cc848754-d8e8-42fc-8d07-846d22059960",
   "metadata": {
    "tags": []
   },
   "outputs": [],
   "source": [
    "df = pd.read_csv(\"../../../csv/v2/040_gardiner_count_processed.csv.zip\")\n",
    "df"
   ]
  },
  {
   "cell_type": "code",
   "execution_count": null,
   "id": "f0ff28ae-840b-435d-ade6-2394c54b9709",
   "metadata": {
    "tags": []
   },
   "outputs": [],
   "source": [
    "df[\"datetime_bin\"] = pd.to_datetime(df[\"datetime_bin\"],utc=True)\n",
    "df[\"year\"] = df[\"datetime_bin\"].dt.year\n",
    "df[\"year_month\"] = df[\"datetime_bin\"].dt.to_period(\"M\")\n",
    "df[\"year_month_day\"] = df[\"datetime_bin\"].dt.to_period(\"D\")\n",
    "df[\"month\"] = df[\"datetime_bin\"].dt.month\n",
    "df[\"month_name\"] = df[\"datetime_bin\"].dt.month_name()\n",
    "df[\"day\"] = df[\"datetime_bin\"].dt.day\n",
    "df[\"dow\"] = df[\"datetime_bin\"].dt.day_of_week\n",
    "df[\"dow_name\"] = df[\"datetime_bin\"].dt.day_name()\n",
    "df"
   ]
  },
  {
   "cell_type": "code",
   "execution_count": null,
   "id": "e7d55f48-1567-4ad4-8779-fc4252bbeeb8",
   "metadata": {
    "tags": []
   },
   "outputs": [],
   "source": [
    "df = df.sort_values(by=\"datetime_bin\")\n",
    "df"
   ]
  },
  {
   "cell_type": "markdown",
   "id": "668ba359-7c3a-4622-aad1-1dc7c160f29e",
   "metadata": {},
   "source": [
    "# Dates"
   ]
  },
  {
   "cell_type": "markdown",
   "id": "37f958ea-c120-4137-a419-6f0d22a257af",
   "metadata": {},
   "source": [
    "## Date span"
   ]
  },
  {
   "cell_type": "code",
   "execution_count": null,
   "id": "1e4925cd-53c8-4c7f-a82a-c3c01a39edbc",
   "metadata": {
    "tags": []
   },
   "outputs": [],
   "source": [
    "print(\"First available date:\", df.iloc[0][\"datetime_bin\"])\n",
    "print(\"Last available date:\", df.iloc[len(df)-1][\"datetime_bin\"])"
   ]
  },
  {
   "cell_type": "markdown",
   "id": "5f5a5ef0-11cd-46e4-a7d6-15d82765fdf4",
   "metadata": {},
   "source": [
    "## Number of days with reported data"
   ]
  },
  {
   "cell_type": "code",
   "execution_count": null,
   "id": "a38ba05f-b418-4fbe-8cf1-cd31c9d7c4f4",
   "metadata": {
    "tags": []
   },
   "outputs": [],
   "source": [
    "print(len(df[\"year_month_day\"].drop_duplicates()))"
   ]
  },
  {
   "cell_type": "markdown",
   "id": "f4a5ed85-87ea-47e6-8fc9-d987f92936f1",
   "metadata": {},
   "source": [
    "### Since there is only speed data from 2022 (July onwards), it is fair to filter the count dataframe\n",
    "- There is no gardiner count data for July"
   ]
  },
  {
   "cell_type": "code",
   "execution_count": null,
   "id": "3fa22c15-032e-4990-a68b-b6ba03002aca",
   "metadata": {
    "tags": []
   },
   "outputs": [],
   "source": [
    "df_2022 = df[(df[\"year\"] == 2022)]"
   ]
  },
  {
   "cell_type": "code",
   "execution_count": null,
   "id": "3621ac94-132e-4535-b3e5-3ba04425b93e",
   "metadata": {
    "tags": []
   },
   "outputs": [],
   "source": [
    "print(len(df_2022))\n",
    "df_2022.head()"
   ]
  },
  {
   "cell_type": "code",
   "execution_count": null,
   "id": "490c2726-aa05-48ad-92d1-94bb5c394306",
   "metadata": {
    "tags": []
   },
   "outputs": [],
   "source": [
    "print(\"First date of 2022\", df_2022.iloc[0][\"datetime_bin\"])\n",
    "print(\"Last date of 2022\", df_2022.iloc[len(df_2022)-1][\"datetime_bin\"])"
   ]
  },
  {
   "cell_type": "markdown",
   "id": "aaf12507-ab69-42d1-9c53-051b010a2cf3",
   "metadata": {},
   "source": [
    "There are only 1696 data readings for the timespan of available speed data"
   ]
  },
  {
   "cell_type": "markdown",
   "id": "0c456172-3acc-4bbb-b8d0-4e81513fb754",
   "metadata": {},
   "source": [
    "# Show number of readings per day in the entire dataset"
   ]
  },
  {
   "cell_type": "code",
   "execution_count": null,
   "id": "49b529c5-0a2b-4978-867e-2dd5ecb76c51",
   "metadata": {
    "tags": []
   },
   "outputs": [],
   "source": [
    "readings_per_day = df.groupby([\"year\",\"month_name\",\"month\",\"day\"]).count().reset_index()\n",
    "readings_per_day = readings_per_day.sort_values(by=[\"year\",\"month\",\"day\"])"
   ]
  },
  {
   "cell_type": "code",
   "execution_count": null,
   "id": "59f313d5-78b9-4273-b2ef-54d0dc702541",
   "metadata": {
    "tags": []
   },
   "outputs": [],
   "source": [
    "readings_per_day.head()"
   ]
  },
  {
   "cell_type": "code",
   "execution_count": null,
   "id": "132a939c-a066-4a2f-992d-96e7cc79d86a",
   "metadata": {
    "tags": []
   },
   "outputs": [],
   "source": [
    "day_order = readings_per_day[\"day\"].sort_values().drop_duplicates()\n",
    "dayticks = [day for day in day_order if day%2!=0]\n",
    "\n",
    "fig, axes = plt.subplots(2,3, figsize=(16,9))\n",
    "\n",
    "aug_data = df[df[\"month\"] == 8]\n",
    "sep_data = df[df[\"month\"] == 9]\n",
    "oct_data = df[df[\"month\"] == 10]\n",
    "nov_data = df[df[\"month\"] == 11]\n",
    "dec_data = df[df[\"month\"] == 12]\n",
    "jan_data = df[df[\"month\"] == 1]\n",
    "\n",
    "ax1 = sns.histplot(data=aug_data, x=\"day\", discrete=True, ax=axes[0,0])\n",
    "ax1.set(xlabel=\"\", ylabel=\"Num. Observations\", title=\"Aug. 2022\", xticks=dayticks)\n",
    "ax1.tick_params(axis='x', rotation=30)\n",
    "\n",
    "ax2 = sns.histplot(data=sep_data, x=\"day\", discrete=True, ax=axes[0,1])\n",
    "ax2.set(xlabel=\"\", ylabel=\"\", title=\"Sep. 2022\", xticks=dayticks)\n",
    "ax2.tick_params(axis='x', rotation=30)\n",
    "\n",
    "ax3 = sns.histplot(data=oct_data, x=\"day\", discrete=True, ax=axes[0,2])\n",
    "ax3.set(xlabel=\"\", ylabel=\"\", title=\"Oct. 2022\", xticks=dayticks)\n",
    "ax3.tick_params(axis='x', rotation=30)\n",
    "\n",
    "ax4 = sns.histplot(data=nov_data, x=\"day\", discrete=True, ax=axes[1,0])\n",
    "ax4.set(xlabel=\"Day\", ylabel=\"Num. Observations\", title=\"Nov. 2022\", xticks=dayticks)\n",
    "ax4.tick_params(axis='x', rotation=30)\n",
    "\n",
    "ax5 = sns.histplot(data=dec_data, x=\"day\", discrete=True, ax=axes[1,1])\n",
    "ax5.set(xlabel=\"Day\", ylabel=\"\", title=\"Dec. 2022\", xticks=dayticks)\n",
    "ax5.tick_params(axis='x', rotation=30)\n",
    "\n",
    "ax6 = sns.histplot(data=jan_data, x=\"day\", discrete=True, ax=axes[1,2])\n",
    "ax6.set(xlabel=\"Day\", ylabel=\"\", title=\"Jan. 2023\", xticks=dayticks)\n",
    "ax6.tick_params(axis='x', rotation=30)\n",
    "\n",
    "plt.savefig(\"./plots/000_gardiner_volume_num_readings_per_day.eps\", format=\"eps\", bbox_inches=\"tight\")\n",
    "plt.savefig(\"./plots/000_gardiner_volume_num_readings_per_day.png\", bbox_inches=\"tight\")\n",
    "plt.savefig(\"./plots/000_gardiner_volume_num_readings_per_day.pdf\", bbox_inches=\"tight\")"
   ]
  },
  {
   "cell_type": "code",
   "execution_count": null,
   "id": "b308a988-9d77-4dd0-b00c-f70a4f136fca",
   "metadata": {},
   "outputs": [],
   "source": [
    "month_order = readings_per_day[[\"year\",\"month_name\",\"month\"]].sort_values(by=[\"year\",\"month\"]).drop_duplicates()[\"month_name\"]\n",
    "\n",
    "ax = sns.catplot(data=readings_per_day,x=\"day\",y=\"detector_id\",col=\"month_name\",col_wrap=4,\n",
    "                 col_order=month_order,margin_titles=True,kind=\"bar\",sharey=False)\n",
    "ax.set_titles(col_template=\"{col_name}\",row_template=\"{row_name}\")\n",
    "ax.set(xlabel=\"\",ylabel=\"Count\",xticks=[day for day in day_order if day%2!=0])\n",
    "ax.set_xticklabels([day for day in day_order if day%2!=0],rotation=45)\n",
    "\n",
    "plt.savefig(\"./plots/000_number_of_readings_per_day.eps\",format=\"eps\",bbox_inches=\"tight\")\n",
    "plt.savefig(\"./plots/000_number_of_readings_per_day.png\",bbox_inches=\"tight\")\n",
    "plt.savefig(\"./plots/000_number_of_readings_per_day.pdf\",bbox_inches=\"tight\")"
   ]
  },
  {
   "cell_type": "markdown",
   "id": "67e300b0-1db0-44e5-a2e9-a4b9bb04cb52",
   "metadata": {
    "tags": []
   },
   "source": [
    "# Show number of readings per month in the entire dataset"
   ]
  },
  {
   "cell_type": "code",
   "execution_count": null,
   "id": "5ac1162f-d401-45e5-8b86-b58c7689ba67",
   "metadata": {},
   "outputs": [],
   "source": [
    "readings_per_month = df.groupby([\"year_month\"]).count().reset_index()[[\"year_month\",\"detector_id\"]]"
   ]
  },
  {
   "cell_type": "code",
   "execution_count": null,
   "id": "62762860-9c7f-45e0-ad89-e5d357a8d7b0",
   "metadata": {},
   "outputs": [],
   "source": [
    "readings_per_month"
   ]
  },
  {
   "cell_type": "code",
   "execution_count": null,
   "id": "76b0d5f5-fa0d-4638-9e38-62b34a4191c4",
   "metadata": {},
   "outputs": [],
   "source": [
    "ax = sns.catplot(data=readings_per_month,x=\"year_month\",y=\"detector_id\",kind=\"bar\")\n",
    "ax.set_xticklabels(rotation=30)\n",
    "ax.set(xlabel=\"\",ylabel=\"Count\",yscale=\"log\")\n",
    "ax.set_titles(col_template=\"{col_name}\")\n",
    "\n",
    "plt.savefig(\"./plots/000_number_of_readings_per_month.eps\",format=\"eps\",bbox_inches=\"tight\")\n",
    "plt.savefig(\"./plots/000_number_of_readings_per_month.png\",bbox_inches=\"tight\")"
   ]
  },
  {
   "cell_type": "markdown",
   "id": "43a360f1-b673-4e1c-aa2e-f097b57d48a7",
   "metadata": {},
   "source": [
    "# Show mean number of readings per day of week in the entire dataset\n",
    "- There are no count data for Monday, Sunday"
   ]
  },
  {
   "cell_type": "code",
   "execution_count": null,
   "id": "437551a4-038b-4b30-841c-57471d8950af",
   "metadata": {},
   "outputs": [],
   "source": [
    "readings_per_dow = df.groupby([\"year\",\"month_name\",\"month\",\"dow_name\",\"dow\"]).mean().reset_index()\n",
    "readings_per_dow.head()"
   ]
  },
  {
   "cell_type": "code",
   "execution_count": null,
   "id": "3c6757d7-b42c-43b7-80f3-c5e1f0e28c22",
   "metadata": {},
   "outputs": [],
   "source": [
    "readings_per_dow = readings_per_dow.sort_values(by=[\"year\",\"month\",\"dow\"])\n",
    "readings_per_dow.head()"
   ]
  },
  {
   "cell_type": "code",
   "execution_count": null,
   "id": "60a80c3c-e4d0-41b4-9b24-ad4a71da40f1",
   "metadata": {},
   "outputs": [],
   "source": [
    "dow_order = readings_per_dow[[\"dow_name\",\"dow\"]].sort_values(by=\"dow\").drop_duplicates()[\"dow_name\"]\n",
    "\n",
    "ax = sns.catplot(data=readings_per_dow,x=\"month_name\",y=\"volume_15min\",col=\"dow_name\",col_wrap=4,sharey=False,kind=\"bar\",margin_titles=True,row_order=dow_order)\n",
    "ax.set_titles(col_template=\"{col_name}\",row_template=\"{row_name}\")\n",
    "ax.set(xlabel=\"\",ylabel=\"Count\")\n",
    "ax.set_xticklabels(month_order,rotation=30)\n",
    "\n",
    "plt.savefig(\"./plots/000_mean_number_of_readings_per_dow.eps\",format=\"eps\",bbox_inches=\"tight\")\n",
    "plt.savefig(\"./plots/000_mean_number_of_readings_per_dow.png\",bbox_inches=\"tight\")"
   ]
  },
  {
   "cell_type": "markdown",
   "id": "292bc9a4-9f30-4187-8390-b06e1427cf1a",
   "metadata": {},
   "source": [
    "# Show median number of readings per day of week in the entire dataset\n",
    "- There are no count data for Monday, Sunday"
   ]
  },
  {
   "cell_type": "code",
   "execution_count": null,
   "id": "496dab4e-554a-4b2b-9801-0dc8c60b32be",
   "metadata": {},
   "outputs": [],
   "source": [
    "readings_per_dow = df.groupby([\"year\",\"month_name\",\"month\",\"dow_name\",\"dow\"]).median().reset_index()\n",
    "readings_per_dow.head()"
   ]
  },
  {
   "cell_type": "code",
   "execution_count": null,
   "id": "ee3a94a4-11f2-43e1-a819-b10a2ebea83f",
   "metadata": {},
   "outputs": [],
   "source": [
    "readings_per_dow = readings_per_dow.sort_values(by=[\"year\",\"month\",\"dow\"])\n",
    "readings_per_dow.head()"
   ]
  },
  {
   "cell_type": "code",
   "execution_count": null,
   "id": "8d417706-593b-4544-99d0-df15ed0806b7",
   "metadata": {},
   "outputs": [],
   "source": [
    "dow_order = readings_per_dow[[\"dow_name\",\"dow\"]].sort_values(by=\"dow\").drop_duplicates()[\"dow_name\"]\n",
    "\n",
    "ax = sns.catplot(data=readings_per_dow,x=\"month_name\",y=\"volume_15min\",col=\"dow_name\",col_wrap=4,sharey=False,kind=\"bar\",margin_titles=True,row_order=dow_order)\n",
    "ax.set_titles(col_template=\"{col_name}\",row_template=\"{row_name}\")\n",
    "ax.set(xlabel=\"\",ylabel=\"Count\")\n",
    "ax.set_xticklabels(month_order,rotation=45)\n",
    "\n",
    "plt.savefig(\"./plots/000_median_number_of_readings_per_dow.eps\",format=\"eps\",bbox_inches=\"tight\")\n",
    "plt.savefig(\"./plots/000_median_number_of_readings_per_dow.png\",bbox_inches=\"tight\")"
   ]
  },
  {
   "cell_type": "markdown",
   "id": "af16170f-9efd-46d8-9ce4-e728e50c4996",
   "metadata": {},
   "source": [
    "# Show total number of readings per location\n",
    "- There are 23 unique detector locations"
   ]
  },
  {
   "cell_type": "code",
   "execution_count": null,
   "id": "50ca4b2f-3545-4980-bdc2-0c4b4f1e81d8",
   "metadata": {},
   "outputs": [],
   "source": [
    "print(\"Total number of locations:\",len(df[\"detector_loc\"].drop_duplicates()))"
   ]
  },
  {
   "cell_type": "markdown",
   "id": "4e824573-1bf9-463b-9425-bd84503fd4f8",
   "metadata": {},
   "source": [
    "- In the entire dataset, these are the how many vehicles were detected per location"
   ]
  },
  {
   "cell_type": "code",
   "execution_count": null,
   "id": "69a23c0b-42da-4b0a-b3fb-f26cb935a77d",
   "metadata": {},
   "outputs": [],
   "source": [
    "vol_per_detector = df.drop([\"datetime_bin\", \"year_month\", \"year_month_day\"], axis=1).groupby(\"detector_loc\").sum().reset_index()[[\"detector_loc\",\"volume_15min\"]]\n",
    "vol_per_detector.head()"
   ]
  },
  {
   "cell_type": "code",
   "execution_count": null,
   "id": "1355c5c6-f329-45b8-88cc-f0d2be4d9bd3",
   "metadata": {},
   "outputs": [],
   "source": [
    "vol_per_detector = vol_per_detector.sort_values(by=\"detector_loc\")\n",
    "\n",
    "ax = sns.catplot(kind=\"bar\",data=vol_per_detector,x=\"detector_loc\",y=\"volume_15min\",hue=\"detector_loc\",aspect=2,dodge=False)\n",
    "ax.set(xlabel=\"Detector Location\",ylabel=\"Vehicle Volume (log)\",xticklabels=\"\",yscale=\"log\")\n",
    "plt.legend(bbox_to_anchor=(1.02, 1), loc='upper left', borderaxespad=0)\n",
    "\n",
    "plt.savefig(\"./plots/000_total_readings_detector.eps\",format=\"eps\", bbox_inches=\"tight\")\n",
    "plt.savefig(\"./plots/000_total_readings_detector.png\", bbox_inches=\"tight\")\n",
    "plt.savefig(\"./plots/000_total_readings_detector.pdf\", bbox_inches=\"tight\")"
   ]
  },
  {
   "cell_type": "markdown",
   "id": "ae2397d3-0a5f-4513-9ddf-39f4ecd12348",
   "metadata": {},
   "source": [
    "# Vehicle count per detector, per day of week"
   ]
  },
  {
   "cell_type": "code",
   "execution_count": null,
   "id": "6a940bf0-c1d2-4c6b-b9bf-3ba7a81a3f2b",
   "metadata": {},
   "outputs": [],
   "source": [
    "vol_per_detector_and_dow = df.drop([\"datetime_bin\", \"year_month\", \"year_month_day\"], axis=1).groupby([\"detector_loc\",\"dow\",\"dow_name\"]).sum().reset_index()\n",
    "vol_per_detector_and_dow.head()"
   ]
  },
  {
   "cell_type": "code",
   "execution_count": null,
   "id": "e16efcb6-661c-43fc-a69a-bf3eed573ae3",
   "metadata": {},
   "outputs": [],
   "source": [
    "ax = sns.catplot(kind=\"bar\",data=vol_per_detector_and_dow,x=\"detector_loc\",y=\"volume_15min\",\n",
    "                 col=\"dow_name\",col_wrap=4,hue=\"detector_loc\",dodge=False,sharey=False)\n",
    "ax.set_titles(col_template=\"{col_name}\")\n",
    "ax.set(xlabel=\"Detector Location\",ylabel=\"Vehicle Count (log)\",xticklabels=\"\",yscale=\"log\")\n",
    "plt.legend(bbox_to_anchor=(1.02, 1), loc='upper left', borderaxespad=0)\n",
    "\n",
    "plt.savefig(\"./plots/000_readings_per_detector_per_dow.eps\",format=\"eps\", bbox_inches=\"tight\")\n",
    "plt.savefig(\"./plots/000_readings_per_detector_per_dow.png\", bbox_inches=\"tight\")\n",
    "plt.savefig(\"./plots/000_readings_per_detector_per_dow.pdf\", bbox_inches=\"tight\")"
   ]
  },
  {
   "cell_type": "markdown",
   "id": "f9775e82-3c1b-419f-aa5a-61fda0064d2a",
   "metadata": {
    "tags": []
   },
   "source": [
    "# Random detector data per day of week and time"
   ]
  },
  {
   "cell_type": "markdown",
   "id": "1d561ef3-de9d-4af7-b4d5-23c06cf7e8ba",
   "metadata": {},
   "source": [
    "- Mean volume per day of week and time"
   ]
  },
  {
   "cell_type": "code",
   "execution_count": null,
   "id": "0f561ecc-4dee-4dcd-8d8e-61a2ac5404d0",
   "metadata": {
    "tags": []
   },
   "outputs": [],
   "source": [
    "random_detector = \"E of DUNN AV\""
   ]
  },
  {
   "cell_type": "code",
   "execution_count": null,
   "id": "a6706648-e815-4881-bd9d-6e85dfd04c3d",
   "metadata": {
    "tags": []
   },
   "outputs": [],
   "source": [
    "df[\"time_of_day\"] = df[\"datetime_bin\"].dt.time.astype(str)\n",
    "df[\"hour\"] = df[\"datetime_bin\"].dt.hour\n",
    "df.head()"
   ]
  },
  {
   "cell_type": "code",
   "execution_count": null,
   "id": "c2da77f0-d7ba-4d73-9a4c-ac522842c638",
   "metadata": {
    "tags": []
   },
   "outputs": [],
   "source": [
    "random_detector_data = df[df[\"detector_loc\"] == random_detector]\n",
    "random_detector_data.head()"
   ]
  },
  {
   "cell_type": "code",
   "execution_count": null,
   "id": "ef30058d-da30-4175-ada5-c6aeff0976e9",
   "metadata": {
    "tags": []
   },
   "outputs": [],
   "source": [
    "random_detector_data_mean = random_detector_data.drop(\n",
    "    [\n",
    "        \"detector_id\",\n",
    "        \"primary_road\",\n",
    "        \"direction\",\n",
    "        \"datetime_bin\",\n",
    "        \"year_month\",\n",
    "        \"year_month_day\",\n",
    "        \"month_name\",\n",
    "        \"number_of_lanes\",\n",
    "        \"latitude\",\n",
    "        \"longitude\",\n",
    "        \"year\",\n",
    "        \"month\",\n",
    "        \"day\"\n",
    "    ], axis=1\n",
    ").groupby([\"dow\",\"dow_name\",\"time_of_day\",\"hour\",\"detector_loc\"]).mean().reset_index()\n",
    "random_detector_data_mean.head()"
   ]
  },
  {
   "cell_type": "code",
   "execution_count": null,
   "id": "0c3feae4-0e72-46e6-8c2b-8eb1893f8622",
   "metadata": {
    "tags": []
   },
   "outputs": [],
   "source": [
    "x_labels = random_detector_data_mean[\"hour\"].drop_duplicates().astype(int)\n",
    "\n",
    "ax = sns.lineplot(data=random_detector_data_mean,x=\"time_of_day\",y=\"volume_15min\",hue=\"dow_name\")\n",
    "ax.legend().set_title(\"Weekday\")\n",
    "ax.set(xlabel=\"Time of Day\",ylabel=\"Volume (mean)\",title=random_detector)\n",
    "\n",
    "for idx, label in enumerate(ax.get_xticklabels()):\n",
    "    if idx % 10 == 0:  # every 10th label is kept\n",
    "        label.set_visible(True)\n",
    "    else:\n",
    "        label.set_visible(False)\n",
    "        \n",
    "plt.xticks(rotation=30)\n",
    "\n",
    "plt.savefig(\"./plots/000_volume_mean_per_dow.eps\",format=\"eps\",bbox_inches=\"tight\")\n",
    "plt.savefig(\"./plots/000_volume_mean_per_dow.png\",bbox_inches=\"tight\")\n",
    "plt.savefig(\"./plots/000_volume_mean_per_dow.pdf\",bbox_inches=\"tight\")"
   ]
  },
  {
   "cell_type": "markdown",
   "id": "a32a86d9-c0da-40d0-9f08-1b66f102f9fd",
   "metadata": {},
   "source": [
    "- Median volume per day of week and time"
   ]
  },
  {
   "cell_type": "code",
   "execution_count": null,
   "id": "8b93c802-859b-4916-bfcb-cd7832850352",
   "metadata": {
    "tags": []
   },
   "outputs": [],
   "source": [
    "random_detector_data_median = random_detector_data.drop(\n",
    "    [\n",
    "        \"detector_id\",\n",
    "        \"primary_road\",\n",
    "        \"direction\",\n",
    "        \"datetime_bin\",\n",
    "        \"year_month\",\n",
    "        \"year_month_day\",\n",
    "        \"month_name\",\n",
    "        \"number_of_lanes\",\n",
    "        \"latitude\",\n",
    "        \"longitude\",\n",
    "        \"year\",\n",
    "        \"month\",\n",
    "        \"day\"\n",
    "    ], axis=1\n",
    ").groupby([\"dow\",\"dow_name\",\"time_of_day\",\"hour\",\"detector_loc\"]).median().reset_index()\n",
    "random_detector_data_median.head()"
   ]
  },
  {
   "cell_type": "code",
   "execution_count": null,
   "id": "f8d3431c-8bb0-4a88-b4fa-6cec1fa9fb4f",
   "metadata": {
    "tags": []
   },
   "outputs": [],
   "source": [
    "x_labels = random_detector_data_median[\"hour\"].drop_duplicates().astype(int)\n",
    "\n",
    "ax = sns.lineplot(data=random_detector_data_median,x=\"time_of_day\",y=\"volume_15min\",hue=\"dow_name\")\n",
    "ax.legend().set_title(\"Weekday\")\n",
    "ax.set(xlabel=\"Time of Day\",ylabel=\"Volume (median)\",title=random_detector)\n",
    "\n",
    "for idx, label in enumerate(ax.get_xticklabels()):\n",
    "    if idx % 10 == 0:  # every 10th label is kept\n",
    "        label.set_visible(True)\n",
    "    else:\n",
    "        label.set_visible(False)\n",
    "        \n",
    "plt.xticks(rotation=30)\n",
    "\n",
    "plt.savefig(\"./plots/000_volume_median_per_dow.eps\",format=\"eps\",bbox_inches=\"tight\")\n",
    "plt.savefig(\"./plots/000_volume_median_per_dow.png\",bbox_inches=\"tight\")\n",
    "plt.savefig(\"./plots/000_volume_median_per_dow.pdf\",bbox_inches=\"tight\")"
   ]
  },
  {
   "cell_type": "markdown",
   "id": "152907b5-09ee-4304-af4e-507146c4469f",
   "metadata": {
    "tags": []
   },
   "source": [
    "# All detectors volume mean per dow and time"
   ]
  },
  {
   "cell_type": "code",
   "execution_count": null,
   "id": "f88a2358-37f0-4f31-ac3b-38202df854ed",
   "metadata": {},
   "outputs": [],
   "source": [
    "detector_data = df.groupby([\"dow\",\"dow_name\",\"detector_loc\",\"time_of_day\"]).mean().reset_index()\n",
    "detector_data.sample(5)"
   ]
  },
  {
   "cell_type": "code",
   "execution_count": null,
   "id": "db7accfc-a98f-4dae-8e4b-6d6c011b4674",
   "metadata": {},
   "outputs": [],
   "source": [
    "g = sns.FacetGrid(detector_data,col=\"detector_loc\",col_wrap=6,hue=\"dow_name\",sharey=False)\n",
    "g.set_titles(col_template=\"{col_name}\")\n",
    "g.map(sns.lineplot,\"time_of_day\",\"volume_15min\")\n",
    "g.add_legend(title=\"Day of Week\")\n",
    "g.set(xlabel=\"\",ylabel=\"Volume (mean)\")\n",
    "\n",
    "for ax in g.axes.flat:\n",
    "    for idx, label in enumerate(ax.get_xticklabels()):\n",
    "        if idx % 10 == 0:  # every 10th label is kept\n",
    "            label.set_visible(True)\n",
    "            label.set_rotation(45)\n",
    "        else:\n",
    "            label.set_visible(False)\n",
    "            \n",
    "plt.savefig(\"./plots/000_volume_mean_per_dow_all_locs.eps\",format=\"eps\",bbox_inches=\"tight\")\n",
    "plt.savefig(\"./plots/000_volume_mean_per_dow_all_locs.png\",bbox_inches=\"tight\")"
   ]
  },
  {
   "cell_type": "markdown",
   "id": "0bec3a57-e167-4ada-a89a-8bb684a2eb63",
   "metadata": {},
   "source": [
    "# All detectors volume median per dow and time"
   ]
  },
  {
   "cell_type": "code",
   "execution_count": null,
   "id": "e2bc6e2c-bc38-4e09-84ad-9cb90caaa59a",
   "metadata": {},
   "outputs": [],
   "source": [
    "detector_data = df.groupby([\"dow\",\"dow_name\",\"detector_loc\",\"time_of_day\"]).median().reset_index()\n",
    "detector_data.sample(5)"
   ]
  },
  {
   "cell_type": "code",
   "execution_count": null,
   "id": "889c96af-884f-476b-bb58-8507d40ed6a9",
   "metadata": {},
   "outputs": [],
   "source": [
    "g = sns.FacetGrid(detector_data,col=\"detector_loc\",col_wrap=6,hue=\"dow_name\",sharey=False)\n",
    "g.set_titles(col_template=\"{col_name}\")\n",
    "g.map(sns.lineplot,\"time_of_day\",\"volume_15min\")\n",
    "g.add_legend(title=\"Day of Week\")\n",
    "g.set(xlabel=\"\",ylabel=\"Volume (median)\")\n",
    "\n",
    "for ax in g.axes.flat:\n",
    "    for idx, label in enumerate(ax.get_xticklabels()):\n",
    "        if idx % 10 == 0:  # every 10th label is kept\n",
    "            label.set_visible(True)\n",
    "            label.set_rotation(45)\n",
    "        else:\n",
    "            label.set_visible(False)\n",
    "            \n",
    "plt.savefig(\"./plots/000_volume_median_per_dow_all_locs.eps\",format=\"eps\",bbox_inches=\"tight\")\n",
    "plt.savefig(\"./plots/000_volume_median_per_dow_all_locs.png\",bbox_inches=\"tight\")"
   ]
  },
  {
   "cell_type": "code",
   "execution_count": null,
   "id": "ba0f6f19-8426-4160-a310-bab038ad0640",
   "metadata": {},
   "outputs": [],
   "source": []
  }
 ],
 "metadata": {
  "kernelspec": {
   "display_name": "Python 3 (ipykernel)",
   "language": "python",
   "name": "python3"
  },
  "language_info": {
   "codemirror_mode": {
    "name": "ipython",
    "version": 3
   },
   "file_extension": ".py",
   "mimetype": "text/x-python",
   "name": "python",
   "nbconvert_exporter": "python",
   "pygments_lexer": "ipython3",
   "version": "3.11.5"
  }
 },
 "nbformat": 4,
 "nbformat_minor": 5
}

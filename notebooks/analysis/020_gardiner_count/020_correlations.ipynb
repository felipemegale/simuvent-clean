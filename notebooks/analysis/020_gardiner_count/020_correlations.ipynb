{
 "cells": [
  {
   "cell_type": "code",
   "execution_count": 1,
   "id": "2f7afe1c-9d4c-4c38-b729-423a78bdd834",
   "metadata": {},
   "outputs": [],
   "source": [
    "import pandas as pd\n",
    "from matplotlib import pyplot as plt\n",
    "import seaborn as sns\n",
    "sns.set_theme()"
   ]
  },
  {
   "cell_type": "code",
   "execution_count": 2,
   "id": "0abec8cb-3e63-4429-acfa-3cf795d2c1ce",
   "metadata": {},
   "outputs": [
    {
     "data": {
      "text/html": [
       "<div>\n",
       "<style scoped>\n",
       "    .dataframe tbody tr th:only-of-type {\n",
       "        vertical-align: middle;\n",
       "    }\n",
       "\n",
       "    .dataframe tbody tr th {\n",
       "        vertical-align: top;\n",
       "    }\n",
       "\n",
       "    .dataframe thead th {\n",
       "        text-align: right;\n",
       "    }\n",
       "</style>\n",
       "<table border=\"1\" class=\"dataframe\">\n",
       "  <thead>\n",
       "    <tr style=\"text-align: right;\">\n",
       "      <th></th>\n",
       "      <th>detector_id</th>\n",
       "      <th>datetime_bin</th>\n",
       "      <th>volume_15min</th>\n",
       "      <th>number_of_lanes</th>\n",
       "      <th>primary_road</th>\n",
       "      <th>direction</th>\n",
       "      <th>latitude</th>\n",
       "      <th>longitude</th>\n",
       "      <th>detector_loc</th>\n",
       "    </tr>\n",
       "  </thead>\n",
       "  <tbody>\n",
       "    <tr>\n",
       "      <th>0</th>\n",
       "      <td>DW0040DWG</td>\n",
       "      <td>2022-08-11 15:00:00</td>\n",
       "      <td>160</td>\n",
       "      <td>3</td>\n",
       "      <td>F G Gardiner Xy W</td>\n",
       "      <td>W</td>\n",
       "      <td>43.638046</td>\n",
       "      <td>-79.396634</td>\n",
       "      <td>W of SPADINA AV</td>\n",
       "    </tr>\n",
       "    <tr>\n",
       "      <th>1</th>\n",
       "      <td>DW0126DEG</td>\n",
       "      <td>2022-08-11 15:00:00</td>\n",
       "      <td>170</td>\n",
       "      <td>3</td>\n",
       "      <td>F G Gardiner Xy E</td>\n",
       "      <td>E</td>\n",
       "      <td>43.638420</td>\n",
       "      <td>-79.451353</td>\n",
       "      <td>W of RONCESVALLES AVE</td>\n",
       "    </tr>\n",
       "    <tr>\n",
       "      <th>2</th>\n",
       "      <td>DW0140DEG</td>\n",
       "      <td>2022-08-11 15:00:00</td>\n",
       "      <td>169</td>\n",
       "      <td>3</td>\n",
       "      <td>F G Gardiner Xy E</td>\n",
       "      <td>E</td>\n",
       "      <td>43.637296</td>\n",
       "      <td>-79.464739</td>\n",
       "      <td>E of ELLIS AVE</td>\n",
       "    </tr>\n",
       "    <tr>\n",
       "      <th>3</th>\n",
       "      <td>DW0140DWG</td>\n",
       "      <td>2022-08-11 15:00:00</td>\n",
       "      <td>123</td>\n",
       "      <td>3</td>\n",
       "      <td>F G Gardiner Xy W</td>\n",
       "      <td>W</td>\n",
       "      <td>43.637449</td>\n",
       "      <td>-79.464777</td>\n",
       "      <td>E of ELLIS AVE</td>\n",
       "    </tr>\n",
       "    <tr>\n",
       "      <th>4</th>\n",
       "      <td>DW0201DWG</td>\n",
       "      <td>2022-08-11 15:00:00</td>\n",
       "      <td>134</td>\n",
       "      <td>3</td>\n",
       "      <td>F G Gardiner Xy W</td>\n",
       "      <td>W</td>\n",
       "      <td>43.614486</td>\n",
       "      <td>-79.546012</td>\n",
       "      <td>At THE EAST MALL</td>\n",
       "    </tr>\n",
       "  </tbody>\n",
       "</table>\n",
       "</div>"
      ],
      "text/plain": [
       "  detector_id         datetime_bin  volume_15min  number_of_lanes  \\\n",
       "0   DW0040DWG  2022-08-11 15:00:00           160                3   \n",
       "1   DW0126DEG  2022-08-11 15:00:00           170                3   \n",
       "2   DW0140DEG  2022-08-11 15:00:00           169                3   \n",
       "3   DW0140DWG  2022-08-11 15:00:00           123                3   \n",
       "4   DW0201DWG  2022-08-11 15:00:00           134                3   \n",
       "\n",
       "        primary_road direction   latitude  longitude           detector_loc  \n",
       "0  F G Gardiner Xy W         W  43.638046 -79.396634        W of SPADINA AV  \n",
       "1  F G Gardiner Xy E         E  43.638420 -79.451353  W of RONCESVALLES AVE  \n",
       "2  F G Gardiner Xy E         E  43.637296 -79.464739         E of ELLIS AVE  \n",
       "3  F G Gardiner Xy W         W  43.637449 -79.464777         E of ELLIS AVE  \n",
       "4  F G Gardiner Xy W         W  43.614486 -79.546012       At THE EAST MALL  "
      ]
     },
     "execution_count": 2,
     "metadata": {},
     "output_type": "execute_result"
    }
   ],
   "source": [
    "df = pd.read_csv(\"../../../csv/v2/040_gardiner_count_processed.csv.zip\")\n",
    "df.head()"
   ]
  },
  {
   "attachments": {},
   "cell_type": "markdown",
   "id": "1bd9b5fc-8a38-495f-a7c8-3efbc0f05f7a",
   "metadata": {},
   "source": [
    "# Separate datetime into multiple date-related attributes"
   ]
  },
  {
   "cell_type": "code",
   "execution_count": 3,
   "id": "24ab05c2-fbda-4560-ac46-50a3419cf0d3",
   "metadata": {},
   "outputs": [
    {
     "data": {
      "text/html": [
       "<div>\n",
       "<style scoped>\n",
       "    .dataframe tbody tr th:only-of-type {\n",
       "        vertical-align: middle;\n",
       "    }\n",
       "\n",
       "    .dataframe tbody tr th {\n",
       "        vertical-align: top;\n",
       "    }\n",
       "\n",
       "    .dataframe thead th {\n",
       "        text-align: right;\n",
       "    }\n",
       "</style>\n",
       "<table border=\"1\" class=\"dataframe\">\n",
       "  <thead>\n",
       "    <tr style=\"text-align: right;\">\n",
       "      <th></th>\n",
       "      <th>detector_id</th>\n",
       "      <th>datetime_bin</th>\n",
       "      <th>volume_15min</th>\n",
       "      <th>number_of_lanes</th>\n",
       "      <th>primary_road</th>\n",
       "      <th>direction</th>\n",
       "      <th>latitude</th>\n",
       "      <th>longitude</th>\n",
       "      <th>detector_loc</th>\n",
       "      <th>year</th>\n",
       "      <th>month</th>\n",
       "      <th>day</th>\n",
       "      <th>dow</th>\n",
       "      <th>time_of_day</th>\n",
       "      <th>hour</th>\n",
       "    </tr>\n",
       "  </thead>\n",
       "  <tbody>\n",
       "    <tr>\n",
       "      <th>0</th>\n",
       "      <td>DW0040DWG</td>\n",
       "      <td>2022-08-11 15:00:00+00:00</td>\n",
       "      <td>160</td>\n",
       "      <td>3</td>\n",
       "      <td>F G Gardiner Xy W</td>\n",
       "      <td>W</td>\n",
       "      <td>43.638046</td>\n",
       "      <td>-79.396634</td>\n",
       "      <td>W of SPADINA AV</td>\n",
       "      <td>2022</td>\n",
       "      <td>8</td>\n",
       "      <td>11</td>\n",
       "      <td>Thursday</td>\n",
       "      <td>15:00:00</td>\n",
       "      <td>15</td>\n",
       "    </tr>\n",
       "    <tr>\n",
       "      <th>1</th>\n",
       "      <td>DW0126DEG</td>\n",
       "      <td>2022-08-11 15:00:00+00:00</td>\n",
       "      <td>170</td>\n",
       "      <td>3</td>\n",
       "      <td>F G Gardiner Xy E</td>\n",
       "      <td>E</td>\n",
       "      <td>43.638420</td>\n",
       "      <td>-79.451353</td>\n",
       "      <td>W of RONCESVALLES AVE</td>\n",
       "      <td>2022</td>\n",
       "      <td>8</td>\n",
       "      <td>11</td>\n",
       "      <td>Thursday</td>\n",
       "      <td>15:00:00</td>\n",
       "      <td>15</td>\n",
       "    </tr>\n",
       "    <tr>\n",
       "      <th>2</th>\n",
       "      <td>DW0140DEG</td>\n",
       "      <td>2022-08-11 15:00:00+00:00</td>\n",
       "      <td>169</td>\n",
       "      <td>3</td>\n",
       "      <td>F G Gardiner Xy E</td>\n",
       "      <td>E</td>\n",
       "      <td>43.637296</td>\n",
       "      <td>-79.464739</td>\n",
       "      <td>E of ELLIS AVE</td>\n",
       "      <td>2022</td>\n",
       "      <td>8</td>\n",
       "      <td>11</td>\n",
       "      <td>Thursday</td>\n",
       "      <td>15:00:00</td>\n",
       "      <td>15</td>\n",
       "    </tr>\n",
       "    <tr>\n",
       "      <th>3</th>\n",
       "      <td>DW0140DWG</td>\n",
       "      <td>2022-08-11 15:00:00+00:00</td>\n",
       "      <td>123</td>\n",
       "      <td>3</td>\n",
       "      <td>F G Gardiner Xy W</td>\n",
       "      <td>W</td>\n",
       "      <td>43.637449</td>\n",
       "      <td>-79.464777</td>\n",
       "      <td>E of ELLIS AVE</td>\n",
       "      <td>2022</td>\n",
       "      <td>8</td>\n",
       "      <td>11</td>\n",
       "      <td>Thursday</td>\n",
       "      <td>15:00:00</td>\n",
       "      <td>15</td>\n",
       "    </tr>\n",
       "    <tr>\n",
       "      <th>4</th>\n",
       "      <td>DW0201DWG</td>\n",
       "      <td>2022-08-11 15:00:00+00:00</td>\n",
       "      <td>134</td>\n",
       "      <td>3</td>\n",
       "      <td>F G Gardiner Xy W</td>\n",
       "      <td>W</td>\n",
       "      <td>43.614486</td>\n",
       "      <td>-79.546012</td>\n",
       "      <td>At THE EAST MALL</td>\n",
       "      <td>2022</td>\n",
       "      <td>8</td>\n",
       "      <td>11</td>\n",
       "      <td>Thursday</td>\n",
       "      <td>15:00:00</td>\n",
       "      <td>15</td>\n",
       "    </tr>\n",
       "  </tbody>\n",
       "</table>\n",
       "</div>"
      ],
      "text/plain": [
       "  detector_id              datetime_bin  volume_15min  number_of_lanes  \\\n",
       "0   DW0040DWG 2022-08-11 15:00:00+00:00           160                3   \n",
       "1   DW0126DEG 2022-08-11 15:00:00+00:00           170                3   \n",
       "2   DW0140DEG 2022-08-11 15:00:00+00:00           169                3   \n",
       "3   DW0140DWG 2022-08-11 15:00:00+00:00           123                3   \n",
       "4   DW0201DWG 2022-08-11 15:00:00+00:00           134                3   \n",
       "\n",
       "        primary_road direction   latitude  longitude           detector_loc  \\\n",
       "0  F G Gardiner Xy W         W  43.638046 -79.396634        W of SPADINA AV   \n",
       "1  F G Gardiner Xy E         E  43.638420 -79.451353  W of RONCESVALLES AVE   \n",
       "2  F G Gardiner Xy E         E  43.637296 -79.464739         E of ELLIS AVE   \n",
       "3  F G Gardiner Xy W         W  43.637449 -79.464777         E of ELLIS AVE   \n",
       "4  F G Gardiner Xy W         W  43.614486 -79.546012       At THE EAST MALL   \n",
       "\n",
       "   year  month  day       dow time_of_day  hour  \n",
       "0  2022      8   11  Thursday    15:00:00    15  \n",
       "1  2022      8   11  Thursday    15:00:00    15  \n",
       "2  2022      8   11  Thursday    15:00:00    15  \n",
       "3  2022      8   11  Thursday    15:00:00    15  \n",
       "4  2022      8   11  Thursday    15:00:00    15  "
      ]
     },
     "execution_count": 3,
     "metadata": {},
     "output_type": "execute_result"
    }
   ],
   "source": [
    "df[\"datetime_bin\"] = pd.to_datetime(df[\"datetime_bin\"],utc=True)\n",
    "df[\"year\"] = df[\"datetime_bin\"].dt.year\n",
    "df[\"month\"] = df[\"datetime_bin\"].dt.month\n",
    "df[\"day\"] = df[\"datetime_bin\"].dt.day\n",
    "df[\"dow\"] = df[\"datetime_bin\"].dt.day_name()\n",
    "df[\"time_of_day\"] = df[\"datetime_bin\"].dt.time\n",
    "df[\"hour\"] = df[\"datetime_bin\"].dt.hour\n",
    "df.head()"
   ]
  },
  {
   "attachments": {},
   "cell_type": "markdown",
   "id": "84148397-dd8e-48b7-bc25-cf8a694e7557",
   "metadata": {},
   "source": [
    "# ANOVA (Analysis Of Variance) test\n",
    "- Null hypothesis: numerical and categorical values are not correlated\n",
    "- P-value: The probability of Null hypothesis being true\n",
    "- Accept Null hypothesis if P-value>0.05. Means variables are NOT correlated\n",
    "- Reject Null hypothesis if P-value<0.05. Means variables are correlated"
   ]
  },
  {
   "cell_type": "code",
   "execution_count": 4,
   "id": "aab8e320-b3ce-47b0-a972-08ff45882074",
   "metadata": {},
   "outputs": [],
   "source": [
    "from scipy.stats import f_oneway"
   ]
  },
  {
   "attachments": {},
   "cell_type": "markdown",
   "id": "b8d2dc56-d9a7-4168-8896-f17c2da99733",
   "metadata": {},
   "source": [
    "## Between count (numerical) and day of week (categorical)"
   ]
  },
  {
   "cell_type": "code",
   "execution_count": 5,
   "id": "c81ac06f-c0f0-40c5-8032-fd4ce5c03611",
   "metadata": {},
   "outputs": [
    {
     "name": "stdout",
     "output_type": "stream",
     "text": [
      "P-value: 4.037702865282701e-198\n",
      "Count and day of week ARE correlated\n"
     ]
    }
   ],
   "source": [
    "category_group_lists = df[[\"volume_15min\",\"dow\"]].groupby('dow')['volume_15min'].apply(list)\n",
    "anova_results = f_oneway(*category_group_lists)\n",
    "print(\"P-value:\",anova_results[1])\n",
    "print(\"Count and day of week are NOT correlated\") if anova_results[1] > 0.05 else print(\"Count and day of week ARE correlated\")"
   ]
  },
  {
   "attachments": {},
   "cell_type": "markdown",
   "id": "c66b666c-1b8f-4174-8e7c-986e818b28b8",
   "metadata": {},
   "source": [
    "- P-value: 4.037702865282701e-198\n",
    "- Count and day of week ARE correlated"
   ]
  },
  {
   "attachments": {},
   "cell_type": "markdown",
   "id": "7d17f371-77d2-42ad-a722-8aad9ad6dc9e",
   "metadata": {},
   "source": [
    "## Between count (numerical) and direction (categorical)"
   ]
  },
  {
   "cell_type": "code",
   "execution_count": 6,
   "id": "2bf397c0-dd1c-4408-bac0-bf8c0eccffe8",
   "metadata": {},
   "outputs": [
    {
     "name": "stdout",
     "output_type": "stream",
     "text": [
      "P-value: 1.143923737219441e-279\n",
      "Count and direction ARE correlated\n"
     ]
    }
   ],
   "source": [
    "category_group_lists = df[[\"volume_15min\",\"direction\"]].groupby('direction')['volume_15min'].apply(list)\n",
    "anova_results = f_oneway(*category_group_lists)\n",
    "print(\"P-value:\",anova_results[1])\n",
    "print(\"Count and direction are NOT correlated\") if anova_results[1] > 0.05 else print(\"Count and direction ARE correlated\")"
   ]
  },
  {
   "attachments": {},
   "cell_type": "markdown",
   "id": "bcaa132d-d0c8-430a-bc56-d725310ae801",
   "metadata": {},
   "source": [
    "- P-value: 1.143923737219441e-279\n",
    "- Count and direction ARE correlated"
   ]
  },
  {
   "attachments": {},
   "cell_type": "markdown",
   "id": "b4f21ad9-321c-4faf-8d2e-9bf8ee62a458",
   "metadata": {},
   "source": [
    "## Between count (numerical) and detector location (categorical)"
   ]
  },
  {
   "cell_type": "code",
   "execution_count": 7,
   "id": "f61e566b-b7d1-4af3-b668-0ff06bdd04b5",
   "metadata": {},
   "outputs": [
    {
     "name": "stdout",
     "output_type": "stream",
     "text": [
      "P-value: 0.0\n",
      "Count and detector location ARE correlated\n"
     ]
    }
   ],
   "source": [
    "category_group_lists = df[[\"volume_15min\",\"detector_loc\"]].groupby('detector_loc')['volume_15min'].apply(list)\n",
    "anova_results = f_oneway(*category_group_lists)\n",
    "print(\"P-value:\",anova_results[1])\n",
    "print(\"Count and detector location are NOT correlated\") if anova_results[1] > 0.05 else print(\"Count and detector location ARE correlated\")"
   ]
  },
  {
   "attachments": {},
   "cell_type": "markdown",
   "id": "73a19e50-dfdd-4af9-8bd7-c324ea34649a",
   "metadata": {},
   "source": [
    "- P-value: 0.0\n",
    "- Count and detector location ARE correlated"
   ]
  },
  {
   "attachments": {},
   "cell_type": "markdown",
   "id": "6531bcfd-552b-439d-b9ee-a2555e1d485b",
   "metadata": {},
   "source": [
    "## Between count (numerical) and day of week, direction & detector location (categorical)"
   ]
  },
  {
   "cell_type": "code",
   "execution_count": 8,
   "id": "16dcd668-3fbf-4b84-b3f5-05f77cb328f8",
   "metadata": {},
   "outputs": [
    {
     "name": "stdout",
     "output_type": "stream",
     "text": [
      "P-value: 0.0\n",
      "Count and day of week ARE correlated\n"
     ]
    }
   ],
   "source": [
    "category_group_lists = df[[\"volume_15min\",\"dow\", \"direction\", \"detector_loc\"]].groupby([\"dow\",\"direction\",\"detector_loc\"])['volume_15min'].apply(list)\n",
    "\n",
    "anova_results = f_oneway(*category_group_lists)\n",
    "\n",
    "print(\"P-value:\",anova_results[1])\n",
    "print(\"Count and day of week are NOT correlated\") if anova_results[1] > 0.05 else print(\"Count and day of week ARE correlated\")"
   ]
  },
  {
   "attachments": {},
   "cell_type": "markdown",
   "id": "35f977f9-2c4a-483a-9091-a1ce9c8d162d",
   "metadata": {},
   "source": [
    "# Calculate Pearson correlation of numerical features"
   ]
  },
  {
   "cell_type": "code",
   "execution_count": 9,
   "id": "426fcd52-b6f3-4cca-9df0-f3fcbb8e9abb",
   "metadata": {},
   "outputs": [],
   "source": [
    "data_to_correlate = df[[\"volume_15min\", \"number_of_lanes\",\"month\",\"day\",\"hour\"]]\n",
    "\n",
    "corr_mat = data_to_correlate.corr()"
   ]
  },
  {
   "cell_type": "code",
   "execution_count": 10,
   "id": "dd111e02-b15e-4ceb-940d-34157e69f00c",
   "metadata": {},
   "outputs": [
    {
     "data": {
      "image/png": "[encoded data removed]",
      "text/plain": [
       "<Figure size 640x480 with 2 Axes>"
      ]
     },
     "metadata": {},
     "output_type": "display_data"
    }
   ],
   "source": [
    "labels=[\"Volume\", \"Num. lanes\", \"Month\", \"Day\", \"Hour\"]\n",
    "\n",
    "ax = sns.heatmap(corr_mat,annot=True,linewidth=0.5,xticklabels=labels,yticklabels=labels)\n",
    "ax.xaxis.tick_top()\n",
    "plt.xticks(rotation=45)\n",
    "\n",
    "plt.savefig(\"./plots/020_correlations.eps\", format=\"eps\", bbox_inches=\"tight\")\n",
    "plt.savefig(\"./plots/020_correlations.png\", bbox_inches=\"tight\")\n",
    "plt.savefig(\"./plots/020_correlations.pdf\", bbox_inches=\"tight\")"
   ]
  },
  {
   "attachments": {},
   "cell_type": "markdown",
   "id": "58715960-a216-40d8-94dd-21a68be73acb",
   "metadata": {},
   "source": [
    "- Volume and num lanes: larger roads (more lanes) support more vehicles\n",
    "- Volume and month: number of vehicles decrease as we get closer to December\n",
    "- Volume and hour: as the day goes by (hour goes from 0 towards 23), the volume increases\n",
    "- Should I keep \"month\" and \"day\"?"
   ]
  }
 ],
 "metadata": {
  "kernelspec": {
   "display_name": "Python 3 (ipykernel)",
   "language": "python",
   "name": "python3"
  },
  "language_info": {
   "codemirror_mode": {
    "name": "ipython",
    "version": 3
   },
   "file_extension": ".py",
   "mimetype": "text/x-python",
   "name": "python",
   "nbconvert_exporter": "python",
   "pygments_lexer": "ipython3",
   "version": "3.10.10"
  }
 },
 "nbformat": 4,
 "nbformat_minor": 5
}

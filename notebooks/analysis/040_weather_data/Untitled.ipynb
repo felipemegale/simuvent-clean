{
 "cells": [
  {
   "cell_type": "code",
   "execution_count": 1,
   "id": "6465c3f6-4716-41c3-81f8-49a96dc50dea",
   "metadata": {},
   "outputs": [],
   "source": [
    "import folium"
   ]
  },
  {
   "cell_type": "code",
   "execution_count": 2,
   "id": "d0279f31-bf32-4b0e-b698-a5ebf8bade63",
   "metadata": {},
   "outputs": [],
   "source": [
    "loc=[43.660834, -79.388976]\n",
    "map = folium.Map(location=loc, tiles=\"OpenStreetMap\", zoom_start=14)\n",
    "\n",
    "folium.Marker(location=(43.646882, -79.376952)).add_to(map)\n",
    "\n",
    "map.save(\"./maps/010_weather_data_location.html\")"
   ]
  }
 ],
 "metadata": {
  "kernelspec": {
   "display_name": "Python 3 (ipykernel)",
   "language": "python",
   "name": "python3"
  },
  "language_info": {
   "codemirror_mode": {
    "name": "ipython",
    "version": 3
   },
   "file_extension": ".py",
   "mimetype": "text/x-python",
   "name": "python",
   "nbconvert_exporter": "python",
   "pygments_lexer": "ipython3",
   "version": "3.11.5"
  }
 },
 "nbformat": 4,
 "nbformat_minor": 5
}

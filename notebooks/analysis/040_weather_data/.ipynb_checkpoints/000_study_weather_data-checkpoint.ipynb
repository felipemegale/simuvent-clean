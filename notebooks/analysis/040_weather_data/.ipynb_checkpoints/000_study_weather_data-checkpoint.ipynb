{
 "cells": [
  {
   "cell_type": "code",
   "execution_count": null,
   "id": "f0e5cf13-3668-4cde-ba3b-dd55876b6826",
   "metadata": {
    "tags": []
   },
   "outputs": [],
   "source": [
    "import pandas as pd\n",
    "import numpy as np\n",
    "import seaborn as sns\n",
    "import matplotlib.pyplot as plt\n",
    "sns.set_theme()"
   ]
  },
  {
   "cell_type": "code",
   "execution_count": null,
   "id": "fd0df9c7-4f07-493c-9b37-17e0189e0a0a",
   "metadata": {
    "tags": []
   },
   "outputs": [],
   "source": [
    "df = pd.read_csv(\"../../../csv/v2/010_weather_data_processed.csv.zip\")\n",
    "df"
   ]
  },
  {
   "cell_type": "markdown",
   "id": "143c064d-45e1-4d10-96d2-5be9d4077c4d",
   "metadata": {},
   "source": [
    "# Process date and timedate"
   ]
  },
  {
   "cell_type": "code",
   "execution_count": null,
   "id": "cbee57eb-7f9e-4f90-a1c1-6bf426cc6b6c",
   "metadata": {
    "tags": []
   },
   "outputs": [],
   "source": [
    "df[\"collectedAt\"] = pd.to_datetime(df[\"collectedAt\"],utc=True)\n",
    "df.head()"
   ]
  },
  {
   "cell_type": "code",
   "execution_count": null,
   "id": "46939607-7b33-4d0b-bf44-fa294cf1ada4",
   "metadata": {
    "tags": []
   },
   "outputs": [],
   "source": [
    "df[\"month\"] = df.collectedAt.dt.month_name()\n",
    "df[\"day\"] = df.collectedAt.dt.day\n",
    "df[\"day_of_week\"] = df.collectedAt.dt.day_of_week\n",
    "df[\"day_of_week_name\"] = df.collectedAt.dt.day_name()\n",
    "df[\"hour\"] = df.collectedAt.dt.hour\n",
    "df[\"minute\"] = df.collectedAt.dt.minute\n",
    "df.head()"
   ]
  },
  {
   "cell_type": "markdown",
   "id": "87c1a4cd-3e07-4c9d-854f-ed1da26225f7",
   "metadata": {},
   "source": [
    "## Get time span"
   ]
  },
  {
   "cell_type": "code",
   "execution_count": null,
   "id": "c100fc45-ddae-4c0f-936f-81e4b7a4b272",
   "metadata": {
    "tags": []
   },
   "outputs": [],
   "source": [
    "print(df[\"collectedAt\"].min())\n",
    "print(df[\"collectedAt\"].max())"
   ]
  },
  {
   "cell_type": "code",
   "execution_count": null,
   "id": "4a6c0a59-f590-421e-aeb4-ce16c1a8a29a",
   "metadata": {
    "tags": []
   },
   "outputs": [],
   "source": [
    "df.dtypes"
   ]
  },
  {
   "cell_type": "markdown",
   "id": "a7b01136-ee8a-4e4c-8e82-d186db61b6b7",
   "metadata": {},
   "source": [
    "# Analyze \"weather\""
   ]
  },
  {
   "cell_type": "code",
   "execution_count": null,
   "id": "f2accf15-75ee-4225-96ee-ba039ba33b04",
   "metadata": {
    "tags": []
   },
   "outputs": [],
   "source": [
    "df.weather.value_counts()"
   ]
  },
  {
   "cell_type": "markdown",
   "id": "887493a4-3480-44d8-b056-a883c5a51baa",
   "metadata": {},
   "source": [
    "## Group categories\n",
    "- Leave 800 as is (clear)\n",
    "- Map 801-804 (cloudy)\n",
    "- Map 7xx: atmosphere (what may decrease visibility)\n",
    "- Map 6xx: snowy conditions\n",
    "- Map 5xx: rainy conditions\n",
    "- Map 3xx: drizzle (can be included as wet condition in rain)\n",
    "- Map 2xx: thunderstorm (can also be included as wet conditions in rain)"
   ]
  },
  {
   "cell_type": "code",
   "execution_count": null,
   "id": "a8664455-376c-410b-8e74-c7fd14be4922",
   "metadata": {
    "tags": []
   },
   "outputs": [],
   "source": [
    "rainy_condition_codes = np.concatenate([np.arange(200,300,1),np.arange(300,400,1),np.arange(500,600,1)])\n",
    "\n",
    "df[\"cloudy\"] = df.apply(lambda x: 1 if 801 <= x[\"weather\"] <= 804 else 0,axis=1)\n",
    "df[\"clear\"] = df.apply(lambda x: 1 if x[\"weather\"] == 800 else 0,axis=1)\n",
    "df[\"atmosphere\"] = df.apply(lambda x: 1 if 700 <= x[\"weather\"] <= 799 else 0,axis=1)\n",
    "df[\"snowy\"] = df.apply(lambda x: 1 if 600 <= x[\"weather\"] <= 699 else 0,axis=1)\n",
    "df[\"rainy\"] = df.apply(lambda x: 1 if x[\"weather\"] in rainy_condition_codes else 0,axis=1)\n",
    "\n",
    "df.head()"
   ]
  },
  {
   "cell_type": "markdown",
   "id": "e2d09a2e-0287-48db-b980-8be679026513",
   "metadata": {},
   "source": [
    "### How many readings are cloudy?"
   ]
  },
  {
   "cell_type": "code",
   "execution_count": null,
   "id": "c79859b2-56c8-432e-a278-ce5452ec04be",
   "metadata": {
    "tags": []
   },
   "outputs": [],
   "source": [
    "df.cloudy.value_counts()"
   ]
  },
  {
   "cell_type": "markdown",
   "id": "b299f9e7-ed8a-4e8e-b361-9ca18279402e",
   "metadata": {},
   "source": [
    "### How many readings are clear?"
   ]
  },
  {
   "cell_type": "code",
   "execution_count": null,
   "id": "32670297-c670-4b85-b01f-77370b11e2dd",
   "metadata": {
    "tags": []
   },
   "outputs": [],
   "source": [
    "df.clear.value_counts()"
   ]
  },
  {
   "cell_type": "markdown",
   "id": "34cf0804-219c-43e0-9da1-5ba2860a3479",
   "metadata": {},
   "source": [
    "### How many readings are atmosphere (fog, haze, mist, etc; anything that lowers visibility)?"
   ]
  },
  {
   "cell_type": "code",
   "execution_count": null,
   "id": "9b2f9491-373c-4f69-8af8-9bf29d836794",
   "metadata": {
    "tags": []
   },
   "outputs": [],
   "source": [
    "df.atmosphere.value_counts()"
   ]
  },
  {
   "cell_type": "markdown",
   "id": "b9503097-aec1-45ca-99e8-7b982b914940",
   "metadata": {},
   "source": [
    "### How many readings are snowy?"
   ]
  },
  {
   "cell_type": "code",
   "execution_count": null,
   "id": "955e1b06-8208-4e0d-9483-a46fe20ddd75",
   "metadata": {
    "tags": []
   },
   "outputs": [],
   "source": [
    "df.snowy.value_counts()"
   ]
  },
  {
   "cell_type": "markdown",
   "id": "4da863f2-9fbf-43c4-8957-3935721301a4",
   "metadata": {},
   "source": [
    "### How many readings are rainy?"
   ]
  },
  {
   "cell_type": "code",
   "execution_count": null,
   "id": "544b2e58-621f-43ea-8717-f543d12f0039",
   "metadata": {
    "tags": []
   },
   "outputs": [],
   "source": [
    "df.rainy.value_counts()"
   ]
  },
  {
   "cell_type": "markdown",
   "id": "de891ff8-fd3f-44a8-a609-a97068cf5639",
   "metadata": {},
   "source": [
    "## Plot weather histogram"
   ]
  },
  {
   "cell_type": "code",
   "execution_count": null,
   "id": "04f14f67-9922-4bfb-8317-4c974cf5beb6",
   "metadata": {},
   "outputs": [],
   "source": [
    "def convert_weather_code_to_weather_name(x):\n",
    "    if 801 <= x <= 804:\n",
    "        return \"Clouds\"\n",
    "    if x == 800:\n",
    "        return \"Clear\"\n",
    "    if 700 <= x <= 799:\n",
    "        return \"Fog/Mist\"\n",
    "    if 600 <= x <= 699:\n",
    "        return \"Snowy\"\n",
    "    if x in rainy_condition_codes:\n",
    "        return \"Rainy\"\n",
    "        \n",
    "\n",
    "tmp_df = df.copy(deep=True)\n",
    "\n",
    "tmp_df[\"Weather Condition\"] = tmp_df[\"weather\"].apply(lambda x: convert_weather_code_to_weather_name(x))\n",
    "tmp_df"
   ]
  },
  {
   "cell_type": "code",
   "execution_count": null,
   "id": "cbfe2fe4-1eb0-40b6-b0ba-6b4630749249",
   "metadata": {
    "tags": []
   },
   "outputs": [],
   "source": [
    "weather_condition_order = list(tmp_df.groupby(\"Weather Condition\").count().reset_index().sort_values(by=\"weather\", ascending=False)[\"Weather Condition\"])\n",
    "tmp_df[\"weather_condition_ordered\"] = pd.Categorical(tmp_df[\"Weather Condition\"], weather_condition_order)\n",
    "\n",
    "ax = sns.histplot(data=tmp_df,x=\"weather_condition_ordered\")\n",
    "ax.set(ylabel=\"Num. Observations\", xlabel=\"Weather Condition\")\n",
    "\n",
    "plt.savefig(\"./plots/000_weather_category_histogram.eps\",format=\"eps\",bbox_inches=\"tight\")\n",
    "plt.savefig(\"./plots/000_weather_category_histogram.png\",bbox_inches=\"tight\")\n",
    "plt.savefig(\"./plots/000_weather_category_histogram.pdf\",bbox_inches=\"tight\")"
   ]
  },
  {
   "cell_type": "markdown",
   "id": "48a3256c-e1c8-42c9-9484-8713265c1bde",
   "metadata": {},
   "source": [
    "### Drop \"weather\" attribute because it has been dealt with already"
   ]
  },
  {
   "cell_type": "code",
   "execution_count": null,
   "id": "049a8038-0d2d-499d-bd38-4333c4da15cd",
   "metadata": {
    "tags": []
   },
   "outputs": [],
   "source": [
    "df.drop(\"weather\",inplace=True,axis=1)\n",
    "df.head()"
   ]
  },
  {
   "cell_type": "markdown",
   "id": "4ffdd238-7975-4368-8e91-5653c6e4f11b",
   "metadata": {},
   "source": [
    "# Analyze Visibility"
   ]
  },
  {
   "cell_type": "markdown",
   "id": "a18c74ce-1fdc-4b98-afe0-5375f388e796",
   "metadata": {},
   "source": [
    "## Plot Visibility Histogram"
   ]
  },
  {
   "cell_type": "code",
   "execution_count": null,
   "id": "8a19fcf1-5d9a-4869-8e31-a25e7670bccc",
   "metadata": {
    "tags": []
   },
   "outputs": [],
   "source": [
    "ax = sns.histplot(data=df,x=\"visibility\", kde=True)\n",
    "ax.set(ylabel=\"Num. Observations (log)\", yscale=\"log\")\n",
    "ax.set(xlabel=\"Visibility (m)\")\n",
    "\n",
    "plt.savefig(\"./plots/000_visibility_histogram.eps\",format=\"eps\",bbox_inches=\"tight\")\n",
    "plt.savefig(\"./plots/000_visibility_histogram.png\",bbox_inches=\"tight\")\n",
    "plt.savefig(\"./plots/000_visibility_histogram.pdf\",bbox_inches=\"tight\")"
   ]
  },
  {
   "cell_type": "markdown",
   "id": "3a6302ee-d719-4a55-a27c-a32bfa29b480",
   "metadata": {},
   "source": [
    "## Plot Visibility Line Plot"
   ]
  },
  {
   "cell_type": "code",
   "execution_count": null,
   "id": "7ed7f7cc-394e-43e0-8f69-712f6d6ab444",
   "metadata": {
    "tags": []
   },
   "outputs": [],
   "source": [
    "ax = sns.lineplot(data=df,x=\"collectedAt\",y=\"visibility\")\n",
    "ax.set(ylabel=\"Visibility (m)\")\n",
    "ax.set(xlabel=\"Date\")\n",
    "ax.set_xticklabels(ax.get_xticklabels(), rotation=30)\n",
    "\n",
    "plt.savefig(\"./plots/000_visibility.eps\",format=\"eps\",bbox_inches=\"tight\")\n",
    "plt.savefig(\"./plots/000_visibility.png\",bbox_inches=\"tight\")\n",
    "plt.savefig(\"./plots/000_visibility.pdf\",bbox_inches=\"tight\")"
   ]
  },
  {
   "cell_type": "markdown",
   "id": "88b5d4f0-c88c-420c-b534-5aa138698364",
   "metadata": {},
   "source": [
    "# Visibility Line Plot for January"
   ]
  },
  {
   "cell_type": "code",
   "execution_count": null,
   "id": "0a38d9cd-a96f-4e97-ad21-a8fa397f15d1",
   "metadata": {},
   "outputs": [],
   "source": [
    "from matplotlib.dates import DateFormatter\n",
    "from pandas.plotting import register_matplotlib_converters\n",
    "register_matplotlib_converters()\n",
    "\n",
    "x_labels = df[df[\"month\"] == \"January\"][\"collectedAt\"].dt.day.drop_duplicates()\n",
    "\n",
    "ax = sns.lineplot(data=df[df[\"month\"] == \"January\"],x=\"collectedAt\",y=\"visibility\")\n",
    "ax.set(ylabel=\"Visibility (m)\")\n",
    "ax.set(xlabel=\"Day\")\n",
    "\n",
    "date_form = DateFormatter(\"%d\")\n",
    "ax.xaxis.set_major_formatter(date_form)\n",
    "\n",
    "# plt.xticks(rotation=30)\n",
    "\n",
    "plt.savefig(\"./plots/000_visibility_january.eps\",format=\"eps\",bbox_inches=\"tight\")\n",
    "plt.savefig(\"./plots/000_visibility_january.png\",bbox_inches=\"tight\")\n",
    "plt.savefig(\"./plots/000_visibility_january.pdf\",bbox_inches=\"tight\")"
   ]
  },
  {
   "cell_type": "markdown",
   "id": "f9e5c05f-24b6-4d02-8d73-74d97125d79c",
   "metadata": {},
   "source": [
    "# Analyze Temperature"
   ]
  },
  {
   "cell_type": "markdown",
   "id": "d84d9fe5-75dd-45c8-9510-1643c7c74ff1",
   "metadata": {},
   "source": [
    "## Plot Current Temperature"
   ]
  },
  {
   "cell_type": "code",
   "execution_count": null,
   "id": "414f14d6-1895-413c-9384-27e07be20afe",
   "metadata": {
    "tags": []
   },
   "outputs": [],
   "source": [
    "ax = sns.lineplot(data=df,x=\"collectedAt\",y=\"temperature\")\n",
    "ax.set(ylabel=\"Temperature (Celsius)\")\n",
    "ax.set(xlabel=\"Date\")\n",
    "ax.set_xticklabels(ax.get_xticklabels(), rotation=30)\n",
    "\n",
    "plt.savefig(\"./plots/000_current_temperature.eps\",format=\"eps\",bbox_inches=\"tight\")\n",
    "plt.savefig(\"./plots/000_current_temperature.png\",bbox_inches=\"tight\")\n",
    "plt.savefig(\"./plots/000_current_temperature.pdf\",bbox_inches=\"tight\")"
   ]
  },
  {
   "cell_type": "markdown",
   "id": "559dd6e8-10c0-4d4d-a631-2dce3f0db14f",
   "metadata": {},
   "source": [
    "## Plot Feels Like"
   ]
  },
  {
   "cell_type": "code",
   "execution_count": null,
   "id": "45ad85d3-9f1b-45c0-817f-c6ca9b405d23",
   "metadata": {
    "tags": []
   },
   "outputs": [],
   "source": [
    "ax = sns.lineplot(data=df,x=\"collectedAt\",y=\"FeelsLike\")\n",
    "ax.set(ylabel=\"Feels Like (Celsius)\")\n",
    "ax.set(xlabel=\"Date\")\n",
    "ax.set_xticklabels(ax.get_xticklabels(), rotation=30)\n",
    "\n",
    "plt.savefig(\"./plots/000_feels_like.eps\",format=\"eps\",bbox_inches=\"tight\")\n",
    "plt.savefig(\"./plots/000_feels_like.png\",bbox_inches=\"tight\")"
   ]
  },
  {
   "cell_type": "markdown",
   "id": "c2873563-2cbc-49e1-aed6-d08c8f15a03c",
   "metadata": {},
   "source": [
    "## Plot current temperature and feels like"
   ]
  },
  {
   "cell_type": "code",
   "execution_count": null,
   "id": "4d1736e4-fbb0-4bb5-858f-7bee760d4ec8",
   "metadata": {
    "tags": []
   },
   "outputs": [],
   "source": [
    "df[\"Temperature\"] = df[\"temperature\"]\n",
    "df[\"Feels Like\"] = df[\"FeelsLike\"]\n",
    "temp_df = df[[\"collectedAt\",\"Temperature\",\"Feels Like\"]].melt(\"collectedAt\",var_name='cols', value_name='vals')\n",
    "temp_df.head()"
   ]
  },
  {
   "cell_type": "code",
   "execution_count": null,
   "id": "00180c41-fadc-4965-9618-e60b27680a6a",
   "metadata": {
    "tags": []
   },
   "outputs": [],
   "source": [
    "ax = sns.lineplot(data=temp_df,x=\"collectedAt\", y=\"vals\", hue='cols', alpha=0.7)\n",
    "ax.set(ylabel=\"Temperature (Celsius)\")\n",
    "ax.set(xlabel=\"Date\")\n",
    "ax.set_xticklabels(ax.get_xticklabels(), rotation=30)\n",
    "plt.legend(title=\"\")\n",
    "\n",
    "plt.savefig(\"./plots/000_temp_and_feels_like.eps\",format=\"eps\",bbox_inches=\"tight\")\n",
    "plt.savefig(\"./plots/000_temp_and_feels_like.png\",bbox_inches=\"tight\")\n",
    "plt.savefig(\"./plots/000_temp_and_feels_like.pdf\",bbox_inches=\"tight\")"
   ]
  },
  {
   "cell_type": "markdown",
   "id": "a520328e-fd86-4294-af4f-cd4d59986f12",
   "metadata": {},
   "source": [
    "# Analyze humidity"
   ]
  },
  {
   "cell_type": "markdown",
   "id": "cf7728ea-d5e5-4aad-8646-69afd7416f82",
   "metadata": {},
   "source": [
    "## Plot Humidity Histogram"
   ]
  },
  {
   "cell_type": "code",
   "execution_count": null,
   "id": "ae56ddfb-f87e-421c-8490-d1e848321f10",
   "metadata": {
    "tags": []
   },
   "outputs": [],
   "source": [
    "ax = sns.histplot(data=df,x=\"humidity\",binwidth=4,kde=True)\n",
    "ax.set(ylabel=\"Num. Observations\", xlabel=\"Humidity (%)\")\n",
    "\n",
    "plt.savefig(\"./plots/000_humidity_histogram.eps\",format=\"eps\",bbox_inches=\"tight\")\n",
    "plt.savefig(\"./plots/000_humidity_histogram.png\",bbox_inches=\"tight\")\n",
    "plt.savefig(\"./plots/000_humidity_histogram.pdf\",bbox_inches=\"tight\")"
   ]
  },
  {
   "cell_type": "markdown",
   "id": "21ec764d-8e05-4b63-bfc9-f8bd67e365fe",
   "metadata": {},
   "source": [
    "## Plot Humidity Line Plot"
   ]
  },
  {
   "cell_type": "code",
   "execution_count": null,
   "id": "b7b1423b-4af0-4f50-b701-00823a983d55",
   "metadata": {
    "tags": []
   },
   "outputs": [],
   "source": [
    "ax = sns.lineplot(data=df[df[\"month\"] == \"December\"],x=\"collectedAt\",y=\"humidity\")\n",
    "ax.set(ylabel=\"Humidity (%)\")\n",
    "ax.set(xlabel=\"Day\")\n",
    "ax.set_xticklabels(ax.get_xticklabels())\n",
    "\n",
    "ax.xaxis.set_major_formatter(date_form)\n",
    "\n",
    "plt.savefig(\"./plots/000_humidity_december.eps\",format=\"eps\",bbox_inches=\"tight\")\n",
    "plt.savefig(\"./plots/000_humidity_december.png\",bbox_inches=\"tight\")\n",
    "plt.savefig(\"./plots/000_humidity_december.pdf\",bbox_inches=\"tight\")"
   ]
  },
  {
   "cell_type": "markdown",
   "id": "b18de79d-b474-4a83-800c-57a1fc3f2e72",
   "metadata": {},
   "source": [
    "# Analyze Wind"
   ]
  },
  {
   "cell_type": "markdown",
   "id": "b0aef792-a948-4163-9b46-5092677a1b44",
   "metadata": {},
   "source": [
    "## Wind Speed Histogram"
   ]
  },
  {
   "cell_type": "code",
   "execution_count": null,
   "id": "61e6564b-787d-48b8-9cc2-89d7ebaace5e",
   "metadata": {
    "tags": []
   },
   "outputs": [],
   "source": [
    "ax = sns.histplot(data=df,x=\"windSpeed\",kde=True)\n",
    "ax.set(ylabel=\"Num. Observations\", xlabel=\"Wind Speed (km/h)\")\n",
    "\n",
    "plt.savefig(\"./plots/000_wind_speed_histogram.eps\",format=\"eps\",bbox_inches=\"tight\")\n",
    "plt.savefig(\"./plots/000_wind_speed_histogram.png\",bbox_inches=\"tight\")\n",
    "plt.savefig(\"./plots/000_wind_speed_histogram.pdf\",bbox_inches=\"tight\")"
   ]
  },
  {
   "cell_type": "markdown",
   "id": "d7a52375-aaf8-4de9-bf2f-f42dc1826a5f",
   "metadata": {},
   "source": [
    "## Wind Speed Line Plot"
   ]
  },
  {
   "cell_type": "code",
   "execution_count": null,
   "id": "4832a008-6588-49cf-bd77-3f5e0edc11bb",
   "metadata": {
    "tags": []
   },
   "outputs": [],
   "source": [
    "tmp_wind_df = df[(df[\"month\"] == \"December\") & (df[\"minute\"].isin([0,30]))]\n",
    "\n",
    "ax = sns.lineplot(data=tmp_wind_df,x=\"collectedAt\",y=\"windSpeed\")\n",
    "ax.set(ylabel=\"Wind Speed (km/h)\")\n",
    "ax.set(xlabel=\"Day\")\n",
    "ax.set_xticklabels(ax.get_xticklabels())\n",
    "\n",
    "ax.xaxis.set_major_formatter(date_form)\n",
    "\n",
    "plt.savefig(\"./plots/000_wind_speed_december.eps\",format=\"eps\",bbox_inches=\"tight\")\n",
    "plt.savefig(\"./plots/000_wind_speed_december.png\",bbox_inches=\"tight\")\n",
    "plt.savefig(\"./plots/000_wind_speed_december.pdf\",bbox_inches=\"tight\")"
   ]
  },
  {
   "cell_type": "markdown",
   "id": "e92e71b5-fe44-4243-a869-ce19fb2a6ca0",
   "metadata": {},
   "source": [
    "## Wind Degree Histogram"
   ]
  },
  {
   "cell_type": "code",
   "execution_count": null,
   "id": "3f6d383d-6f73-46cc-a0e9-283aa99a9f0e",
   "metadata": {
    "tags": []
   },
   "outputs": [],
   "source": [
    "ax = sns.histplot(data=df,x=\"windDegree\",kde=True)\n",
    "ax.set(xlabel=\"Wind Degree\")\n",
    "\n",
    "plt.savefig(\"./plots/000_wind_degree_histogram.eps\",format=\"eps\",bbox_inches=\"tight\")\n",
    "plt.savefig(\"./plots/000_wind_degree_histogram.png\",bbox_inches=\"tight\")"
   ]
  },
  {
   "cell_type": "markdown",
   "id": "f254fbd1-1ef8-4219-af4e-ae0e8821ed9d",
   "metadata": {},
   "source": [
    "## Wind Degree Line Plot"
   ]
  },
  {
   "cell_type": "code",
   "execution_count": null,
   "id": "0f9d5d0b-a7d7-45ed-a5e1-411501fd9f2e",
   "metadata": {
    "tags": []
   },
   "outputs": [],
   "source": [
    "ax = sns.lineplot(data=df,x=\"collectedAt\",y=\"windDegree\")\n",
    "ax.set(ylabel=\"Wind Degree\")\n",
    "ax.set(xlabel=\"Date\")\n",
    "ax.set_xticklabels(ax.get_xticklabels(), rotation=30)\n",
    "\n",
    "plt.savefig(\"./plots/000_wind_degree.eps\",format=\"eps\",bbox_inches=\"tight\")\n",
    "plt.savefig(\"./plots/000_wind_degree.png\",bbox_inches=\"tight\")"
   ]
  },
  {
   "cell_type": "markdown",
   "id": "76071f28-2f23-43ac-9be1-8d37681051d7",
   "metadata": {},
   "source": [
    "# Analyze Cloudy Conditions"
   ]
  },
  {
   "cell_type": "markdown",
   "id": "a13ef6d3-492d-44b8-98fd-e9c7dfa64458",
   "metadata": {},
   "source": [
    "## Plot Cloudiness Histogram"
   ]
  },
  {
   "cell_type": "code",
   "execution_count": null,
   "id": "bd4bb672-69b2-4111-b203-6506c0fab6f9",
   "metadata": {
    "tags": []
   },
   "outputs": [],
   "source": [
    "ax = sns.histplot(data=df,x=\"cloudsAll\",kde=True)\n",
    "ax.set(ylabel=\"Num. Observations\", xlabel=\"Cloudiness (%)\")\n",
    "\n",
    "plt.savefig(\"./plots/000_cloudiness_hist.eps\",format=\"eps\",bbox_inches=\"tight\")\n",
    "plt.savefig(\"./plots/000_cloudiness_hist.png\",bbox_inches=\"tight\")\n",
    "plt.savefig(\"./plots/000_cloudiness_hist.pdf\",bbox_inches=\"tight\")"
   ]
  },
  {
   "cell_type": "markdown",
   "id": "d4f79cce-5c20-449f-850e-ac5d2dc6433f",
   "metadata": {},
   "source": [
    "## Plot Cloudiness Line Plot"
   ]
  },
  {
   "cell_type": "code",
   "execution_count": null,
   "id": "cc611918-9f3e-4ace-bda1-cf7cd4095af4",
   "metadata": {
    "tags": []
   },
   "outputs": [],
   "source": [
    "tmp_df = df[(df[\"month\"] == \"December\") & (df[\"minute\"].isin([0,30]))]\n",
    "\n",
    "ax = sns.lineplot(data=tmp_df,x=\"collectedAt\",y=\"cloudsAll\")\n",
    "ax.set(ylabel=\"Cloudiness (%)\")\n",
    "ax.set(xlabel=\"Day\")\n",
    "ax.set_xticklabels(ax.get_xticklabels())\n",
    "\n",
    "ax.xaxis.set_major_formatter(date_form)\n",
    "\n",
    "plt.savefig(\"./plots/000_cloudiness_december.eps\",format=\"eps\",bbox_inches=\"tight\")\n",
    "plt.savefig(\"./plots/000_cloudiness_december.png\",bbox_inches=\"tight\")\n",
    "plt.savefig(\"./plots/000_cloudiness_december.pdf\",bbox_inches=\"tight\")"
   ]
  },
  {
   "cell_type": "markdown",
   "id": "0bbb1d4f-945e-4608-bb52-ba62362c9710",
   "metadata": {},
   "source": [
    "# Analyze Precipitation"
   ]
  },
  {
   "cell_type": "markdown",
   "id": "ff23378f-42ae-4d57-abec-c3833b79afbe",
   "metadata": {
    "tags": []
   },
   "source": [
    "## Rain 1h"
   ]
  },
  {
   "cell_type": "markdown",
   "id": "58135cce-64ed-439f-909d-7d414c4a1602",
   "metadata": {
    "tags": []
   },
   "source": [
    "### Plot Rain 1h Histogram"
   ]
  },
  {
   "cell_type": "code",
   "execution_count": null,
   "id": "14052bec-525e-411a-9af0-30b555a00d8e",
   "metadata": {
    "tags": []
   },
   "outputs": [],
   "source": [
    "ax = sns.histplot(data=df,x=\"rain1h\")\n",
    "ax.set(yscale=\"log\", ylabel=\"Num. Observations (log)\")\n",
    "ax.set(xlabel=\"Rainfall (mm/h)\")\n",
    "\n",
    "plt.savefig(\"./plots/000_rain_1h_histogram.eps\",format=\"eps\",bbox_inches=\"tight\")\n",
    "plt.savefig(\"./plots/000_rain_1h_histogram.png\",bbox_inches=\"tight\")\n",
    "plt.savefig(\"./plots/000_rain_1h_histogram.pdf\",bbox_inches=\"tight\")"
   ]
  },
  {
   "cell_type": "markdown",
   "id": "56cae137-dacc-4299-a914-bc6e9d73b202",
   "metadata": {},
   "source": [
    "### Plot Rain 1h Line Plot"
   ]
  },
  {
   "cell_type": "code",
   "execution_count": null,
   "id": "9277a099-fe7b-475c-8687-a55d509fa367",
   "metadata": {
    "tags": []
   },
   "outputs": [],
   "source": [
    "ax = sns.lineplot(data=df,x=\"collectedAt\",y=\"rain1h\")\n",
    "ax.set(ylabel=\"Rainfall (mm/h)\")\n",
    "ax.set(xlabel=\"Date\")\n",
    "ax.set_xticklabels(ax.get_xticklabels())\n",
    "\n",
    "for idx, label in enumerate(ax.get_xticklabels()):\n",
    "    if idx % 2 == 0:  # every 2nd label is kept\n",
    "        label.set_visible(True)\n",
    "    else:\n",
    "        label.set_visible(False)\n",
    "\n",
    "plt.savefig(\"./plots/000_rain_1h.eps\",format=\"eps\",bbox_inches=\"tight\")\n",
    "plt.savefig(\"./plots/000_rain_1h.png\",bbox_inches=\"tight\")\n",
    "plt.savefig(\"./plots/000_rain_1h.pdf\",bbox_inches=\"tight\")"
   ]
  },
  {
   "cell_type": "markdown",
   "id": "d391e5f6-08cc-470e-baab-2869d223492c",
   "metadata": {
    "tags": []
   },
   "source": [
    "## Snow 1h"
   ]
  },
  {
   "cell_type": "markdown",
   "id": "3426de19-12fc-43ae-a231-85126f0aef3f",
   "metadata": {
    "tags": []
   },
   "source": [
    "### Plot Snow 1h Histogram"
   ]
  },
  {
   "cell_type": "code",
   "execution_count": null,
   "id": "aa8b5b73-b60c-4bfb-aa48-8fc8836a0a02",
   "metadata": {
    "tags": []
   },
   "outputs": [],
   "source": [
    "ax = sns.histplot(data=df,x=\"snow1h\")\n",
    "ax.set(yscale=\"log\", ylabel=\"Num. Observations (log)\")\n",
    "ax.set(xlabel=\"Snowfall (mm/h)\")\n",
    "\n",
    "plt.savefig(\"./plots/000_snow_1h_histogram.eps\",format=\"eps\",bbox_inches=\"tight\")\n",
    "plt.savefig(\"./plots/000_snow_1h_histogram.png\",bbox_inches=\"tight\")\n",
    "plt.savefig(\"./plots/000_snow_1h_histogram.pdf\",bbox_inches=\"tight\")"
   ]
  },
  {
   "cell_type": "markdown",
   "id": "050e01aa-7aa8-4f97-8339-a17f82ae4c1f",
   "metadata": {
    "tags": []
   },
   "source": [
    "### Plot Snow 1h Line Plot"
   ]
  },
  {
   "cell_type": "code",
   "execution_count": null,
   "id": "b2b69957-d862-483d-9cc3-66413e550b3c",
   "metadata": {
    "tags": []
   },
   "outputs": [],
   "source": [
    "ax = sns.lineplot(data=df[df[\"month\"].isin([\"November\",\"December\", \"January\", \"February\", \"March\"])],x=\"collectedAt\",y=\"snow1h\")\n",
    "ax.set(ylabel=\"Snowfall (mm/h)\")\n",
    "ax.set(xlabel=\"Date\")\n",
    "ax.set_xticklabels(ax.get_xticklabels())\n",
    "\n",
    "for idx, label in enumerate(ax.get_xticklabels()):\n",
    "    if idx % 1 == 0:  # every 2nd label is kept\n",
    "        label.set_visible(True)\n",
    "    else:\n",
    "        label.set_visible(False)\n",
    "\n",
    "plt.savefig(\"./plots/000_snow_1h.eps\",format=\"eps\",bbox_inches=\"tight\")\n",
    "plt.savefig(\"./plots/000_snow_1h.png\",bbox_inches=\"tight\")\n",
    "plt.savefig(\"./plots/000_snow_1h.pdf\",bbox_inches=\"tight\")"
   ]
  },
  {
   "cell_type": "markdown",
   "id": "1f111adf-2edc-48f3-8d44-b40089a92860",
   "metadata": {},
   "source": [
    "# Analyze Visibility and Precipitation"
   ]
  },
  {
   "cell_type": "markdown",
   "id": "8998c034-c921-4335-ad74-15a480a399af",
   "metadata": {},
   "source": [
    "## Visibility vs. Rain"
   ]
  },
  {
   "cell_type": "code",
   "execution_count": null,
   "id": "805e686d-4f18-463b-8f0d-0f2bcdd12b11",
   "metadata": {
    "tags": []
   },
   "outputs": [],
   "source": [
    "df[\"Visibility\"] = df[\"visibility\"]\n",
    "df[\"Rain\"] = df[\"rain1h\"]\n",
    "temp_df = df[[\"collectedAt\",\"Visibility\",\"Rain\"]].melt(\"collectedAt\",var_name='cols', value_name='vals')\n",
    "print(len(temp_df))\n",
    "temp_df.head()"
   ]
  },
  {
   "cell_type": "code",
   "execution_count": null,
   "id": "5d26d7da-c62c-4353-a10a-5aa3d05ac6a9",
   "metadata": {
    "tags": []
   },
   "outputs": [],
   "source": [
    "ax = sns.lineplot(data=temp_df,x=\"collectedAt\", y=\"vals\", hue='cols')\n",
    "ax.set(ylabel=\"Visibility/Rain (log)\")\n",
    "ax.set(yscale=\"log\")\n",
    "ax.set(xlabel=\"Date\")\n",
    "ax.set_xticklabels(ax.get_xticklabels(), rotation=30)\n",
    "plt.legend(title=\"\")\n",
    "\n",
    "plt.savefig(\"./plots/000_visibility_rain.eps\",format=\"eps\",bbox_inches=\"tight\")\n",
    "plt.savefig(\"./plots/000_visibility_rain.png\",bbox_inches=\"tight\")\n",
    "plt.savefig(\"./plots/000_visibility_rain.pdf\",bbox_inches=\"tight\")"
   ]
  },
  {
   "cell_type": "markdown",
   "id": "337e0d5b-fcc1-4a6c-a6c6-54cddd5d6b51",
   "metadata": {},
   "source": [
    "## Visibility vs. Snow"
   ]
  },
  {
   "cell_type": "code",
   "execution_count": null,
   "id": "9b07cc98-6e61-4578-958c-955c1798a892",
   "metadata": {
    "tags": []
   },
   "outputs": [],
   "source": [
    "df[\"Snow\"] = df[\"snow1h\"]\n",
    "temp_df = df[[\"collectedAt\",\"Visibility\",\"Snow\"]].melt(\"collectedAt\",var_name='cols', value_name='vals')\n",
    "print(len(temp_df))\n",
    "temp_df.head()"
   ]
  },
  {
   "cell_type": "code",
   "execution_count": null,
   "id": "3c2fea23-4017-49a7-ab3b-056936a4bef5",
   "metadata": {
    "tags": []
   },
   "outputs": [],
   "source": [
    "ax = sns.lineplot(data=temp_df,x=\"collectedAt\", y=\"vals\", hue='cols')\n",
    "ax.set(ylabel=\"Visibility/Snow (log)\")\n",
    "ax.set(yscale=\"log\")\n",
    "ax.set(xlabel=\"Date\")\n",
    "ax.set_xticklabels(ax.get_xticklabels(), rotation=30)\n",
    "plt.legend(title=\"\")\n",
    "\n",
    "plt.savefig(\"./plots/000_visibility_snow.eps\",format=\"eps\",bbox_inches=\"tight\")\n",
    "plt.savefig(\"./plots/000_visibility_snow.png\",bbox_inches=\"tight\")\n",
    "plt.savefig(\"./plots/000_visibility_snow.pdf\",bbox_inches=\"tight\")"
   ]
  },
  {
   "cell_type": "markdown",
   "id": "15e11933-abee-49fb-a44e-0ed229a73100",
   "metadata": {},
   "source": [
    "## Visibility vs. Precipitation"
   ]
  },
  {
   "cell_type": "code",
   "execution_count": null,
   "id": "6d1a81a5-69df-42e0-9080-1a58a04d7974",
   "metadata": {},
   "outputs": [],
   "source": [
    "df[\"Visibility\"] = df[\"visibility\"]\n",
    "df[\"Rain\"] = df[\"rain1h\"]\n",
    "df[\"Snow\"] = df[\"snow1h\"]\n",
    "\n",
    "temp_df = df[[\"collectedAt\",\"Visibility\",\"Rain\", \"Snow\"]].melt(\"collectedAt\",var_name='cols', value_name='vals')\n",
    "print(len(temp_df))\n",
    "temp_df.head()"
   ]
  },
  {
   "cell_type": "code",
   "execution_count": null,
   "id": "fd4d5c04-cf07-4996-93da-6605a9697932",
   "metadata": {},
   "outputs": [],
   "source": [
    "ax = sns.lineplot(data=temp_df,x=\"collectedAt\", y=\"vals\", hue='cols', alpha=0.7)\n",
    "ax.set(ylabel=\"Visibility/Precipitation (log)\")\n",
    "ax.set(yscale=\"log\")\n",
    "ax.set(xlabel=\"Date\")\n",
    "ax.set_xticklabels(ax.get_xticklabels())\n",
    "plt.legend(title=\"\")\n",
    "\n",
    "for idx, label in enumerate(ax.get_xticklabels()):\n",
    "    if idx % 2 == 0:  # every 2nd label is kept\n",
    "        label.set_visible(True)\n",
    "    else:\n",
    "        label.set_visible(False)\n",
    "\n",
    "plt.savefig(\"./plots/000_visibility_precipitation.eps\",format=\"eps\",bbox_inches=\"tight\")\n",
    "plt.savefig(\"./plots/000_visibility_precipitation.png\",bbox_inches=\"tight\")\n",
    "plt.savefig(\"./plots/000_visibility_precipitation.pdf\",bbox_inches=\"tight\")"
   ]
  },
  {
   "cell_type": "markdown",
   "id": "8c1c4c42-5d73-4f5c-8812-c73f8aef2176",
   "metadata": {},
   "source": [
    "# Show Correlation Between Visibility, Temperature and Precipitation"
   ]
  },
  {
   "cell_type": "code",
   "execution_count": null,
   "id": "fa82e5f4-d8ad-4d48-b3ff-94d860199291",
   "metadata": {
    "tags": []
   },
   "outputs": [],
   "source": [
    "data_to_correlate = df[[\"visibility\",\"temperature\",\"rain1h\",\"snow1h\"]]\n",
    "\n",
    "corr_mat = data_to_correlate.corr()"
   ]
  },
  {
   "cell_type": "code",
   "execution_count": null,
   "id": "67c12aec-9574-4530-a7f4-a872341511ad",
   "metadata": {
    "tags": []
   },
   "outputs": [],
   "source": [
    "data_to_correlate"
   ]
  },
  {
   "cell_type": "code",
   "execution_count": null,
   "id": "e4827bc6-c09c-4df6-a349-231075d778c6",
   "metadata": {
    "tags": []
   },
   "outputs": [],
   "source": [
    "labels=[\"Vis.\", \"Temp.\", \"Rain\", \"Snow\"]\n",
    "\n",
    "ax = sns.heatmap(corr_mat,annot=True,linewidth=0.5,xticklabels=labels,yticklabels=labels)\n",
    "ax.xaxis.tick_top()\n",
    "plt.xticks(rotation=45)\n",
    "\n",
    "plt.savefig(\"./plots/000_correlations.eps\", format=\"eps\", bbox_inches=\"tight\")\n",
    "plt.savefig(\"./plots/000_correlations.png\", bbox_inches=\"tight\")\n",
    "plt.savefig(\"./plots/000_correlations.pdf\", bbox_inches=\"tight\")"
   ]
  },
  {
   "cell_type": "markdown",
   "id": "6d775662-2a79-4d72-b32e-b7fdd7a9429a",
   "metadata": {},
   "source": [
    "- There is no sense in looking for correlation between these attributes and time period because nature is not bound to societal constructs such as daily routine"
   ]
  }
 ],
 "metadata": {
  "kernelspec": {
   "display_name": "Python 3 (ipykernel)",
   "language": "python",
   "name": "python3"
  },
  "language_info": {
   "codemirror_mode": {
    "name": "ipython",
    "version": 3
   },
   "file_extension": ".py",
   "mimetype": "text/x-python",
   "name": "python",
   "nbconvert_exporter": "python",
   "pygments_lexer": "ipython3",
   "version": "3.11.5"
  }
 },
 "nbformat": 4,
 "nbformat_minor": 5
}

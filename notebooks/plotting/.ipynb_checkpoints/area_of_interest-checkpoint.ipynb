{
 "cells": [
  {
   "cell_type": "code",
   "execution_count": 1,
   "id": "a6daa681-2d10-47f6-8bac-1e31cde2a604",
   "metadata": {},
   "outputs": [],
   "source": [
    "import folium"
   ]
  },
  {
   "cell_type": "code",
   "execution_count": 2,
   "id": "0ba73d10-792a-4b89-9d2f-ceca86f3fd8d",
   "metadata": {},
   "outputs": [],
   "source": [
    "loc=[43.660834, -79.388976]\n",
    "gardiner_expy_coord = [43.642355,-79.379665]\n",
    "yonge_front_coord = [43.646882,-79.376952]"
   ]
  },
  {
   "cell_type": "code",
   "execution_count": 3,
   "id": "6667bf68-8b13-42be-99d0-fd17f9700206",
   "metadata": {},
   "outputs": [
    {
     "data": {
      "text/plain": [
       "<folium.map.Marker at 0x7f397fad6f80>"
      ]
     },
     "execution_count": 3,
     "metadata": {},
     "output_type": "execute_result"
    }
   ],
   "source": [
    "map = folium.Map(location=loc, tiles=\"OpenStreetMap\", zoom_start=14)\n",
    "folium.Marker(location=gardiner_expy_coord, icon=folium.Icon(color=\"blue\")).add_to(map)\n",
    "folium.Marker(location=yonge_front_coord, icon=folium.Icon(color=\"green\"),).add_to(map)"
   ]
  },
  {
   "cell_type": "code",
   "execution_count": 4,
   "id": "c63f7c6a-bfd2-4400-bcc6-d3a51b9b56e6",
   "metadata": {},
   "outputs": [],
   "source": [
    "map.save(\"../../img/area_of_interest.html\")"
   ]
  },
  {
   "cell_type": "code",
   "execution_count": null,
   "id": "565a0e65-d7ec-4beb-ac22-e96e3cad1609",
   "metadata": {},
   "outputs": [],
   "source": []
  }
 ],
 "metadata": {
  "kernelspec": {
   "display_name": "Python 3 (ipykernel)",
   "language": "python",
   "name": "python3"
  },
  "language_info": {
   "codemirror_mode": {
    "name": "ipython",
    "version": 3
   },
   "file_extension": ".py",
   "mimetype": "text/x-python",
   "name": "python",
   "nbconvert_exporter": "python",
   "pygments_lexer": "ipython3",
   "version": "3.10.10"
  }
 },
 "nbformat": 4,
 "nbformat_minor": 5
}

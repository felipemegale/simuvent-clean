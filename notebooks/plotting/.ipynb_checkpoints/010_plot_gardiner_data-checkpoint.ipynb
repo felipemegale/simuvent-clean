{
 "cells": [
  {
   "cell_type": "code",
   "execution_count": 1,
   "metadata": {},
   "outputs": [],
   "source": [
    "import pandas as pd\n"
   ]
  },
  {
   "cell_type": "code",
   "execution_count": 2,
   "metadata": {},
   "outputs": [],
   "source": [
    "gardiner_df = pd.read_csv(\"../../csv/gardiner_count_flow_weather_encoded_v2.csv\", index_col=False)\n",
    "gardiner_df = gardiner_df.drop(columns=[\"Unnamed: 0\"])\n"
   ]
  },
  {
   "cell_type": "code",
   "execution_count": 3,
   "metadata": {},
   "outputs": [],
   "source": [
    "gardiner_df_road_closure_03 = gardiner_df[gardiner_df[\"roadClosure\"] == 0.000000]\n",
    "gardiner_df_road_closure_13 = gardiner_df[gardiner_df[\"roadClosure\"] == 1/3]\n",
    "gardiner_df_road_closure_23 = gardiner_df[gardiner_df[\"roadClosure\"] == 2/3]\n",
    "gardiner_df_road_closure_33 = gardiner_df[gardiner_df[\"roadClosure\"] == 1.000000]\n"
   ]
  },
  {
   "cell_type": "code",
   "execution_count": 4,
   "metadata": {},
   "outputs": [
    {
     "name": "stdout",
     "output_type": "stream",
     "text": [
      "14000\n",
      "4\n",
      "2\n",
      "6\n"
     ]
    }
   ],
   "source": [
    "print(len(gardiner_df_road_closure_03))\n",
    "print(len(gardiner_df_road_closure_13))\n",
    "print(len(gardiner_df_road_closure_23))\n",
    "print(len(gardiner_df_road_closure_33))\n"
   ]
  },
  {
   "attachments": {},
   "cell_type": "markdown",
   "metadata": {},
   "source": [
    "Attribute roadClosure is biased towards the road not being closed."
   ]
  },
  {
   "cell_type": "code",
   "execution_count": 5,
   "metadata": {},
   "outputs": [],
   "source": [
    "gardiner_df = gardiner_df.drop(columns=[\"roadClosure\"])\n"
   ]
  },
  {
   "attachments": {},
   "cell_type": "markdown",
   "metadata": {},
   "source": [
    "Travel time and speed are mean values of an 8km stretch going from north DVP all the way down to Gardiner Expy\n",
    "The zoom parameter doesn't influence much since it's just for rendering maps"
   ]
  },
  {
   "cell_type": "markdown",
   "source": [],
   "metadata": {
    "collapsed": false
   }
  }
 ],
 "metadata": {
  "kernelspec": {
   "display_name": "base",
   "language": "python",
   "name": "python3"
  },
  "language_info": {
   "codemirror_mode": {
    "name": "ipython",
    "version": 3
   },
   "file_extension": ".py",
   "mimetype": "text/x-python",
   "name": "python",
   "nbconvert_exporter": "python",
   "pygments_lexer": "ipython3",
   "version": "3.9.12"
  },
  "orig_nbformat": 4,
  "vscode": {
   "interpreter": {
    "hash": "441dc1402921fbb61858fb02f3d232c916b48a98c37dfe20550e811f9428eba6"
   }
  }
 },
 "nbformat": 4,
 "nbformat_minor": 2
}

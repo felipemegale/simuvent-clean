{
 "cells": [
  {
   "cell_type": "code",
   "execution_count": 1,
   "id": "15a175bf-a6f0-4750-9bda-a9e6c206dcf3",
   "metadata": {
    "tags": []
   },
   "outputs": [],
   "source": [
    "import os\n",
    "import pandas as pd\n",
    "import seaborn as sns\n",
    "import matplotlib.pyplot as plt\n",
    "import ml_help\n",
    "import joblib\n",
    "from sklearn.model_selection import train_test_split\n",
    "from sklearn.preprocessing import StandardScaler\n",
    "from sklearn.pipeline import make_pipeline\n",
    "from time import time\n",
    "sns.set_theme()"
   ]
  },
  {
   "cell_type": "code",
   "execution_count": 2,
   "id": "30cb8f8a-ffb0-4d1b-b3be-f29c04a5ffdd",
   "metadata": {},
   "outputs": [],
   "source": [
    "metrics_available = os.listdir(\"./metrics\")\n",
    "METRICS_DONE = \"015_gardiner_count_only_cv_metrics.csv.zip\" in metrics_available and \"015_gardiner_count_only_metrics.csv.zip\" in metrics_available"
   ]
  },
  {
   "attachments": {},
   "cell_type": "markdown",
   "id": "3c968065-4ddd-46d8-91d9-5b940e32cccd",
   "metadata": {},
   "source": [
    "# Load data"
   ]
  },
  {
   "cell_type": "code",
   "execution_count": 3,
   "id": "6fa78adb-49e0-4174-b604-b6078345f293",
   "metadata": {
    "tags": []
   },
   "outputs": [
    {
     "data": {
      "text/html": [
       "<div>\n",
       "<style scoped>\n",
       "    .dataframe tbody tr th:only-of-type {\n",
       "        vertical-align: middle;\n",
       "    }\n",
       "\n",
       "    .dataframe tbody tr th {\n",
       "        vertical-align: top;\n",
       "    }\n",
       "\n",
       "    .dataframe thead th {\n",
       "        text-align: right;\n",
       "    }\n",
       "</style>\n",
       "<table border=\"1\" class=\"dataframe\">\n",
       "  <thead>\n",
       "    <tr style=\"text-align: right;\">\n",
       "      <th></th>\n",
       "      <th>datetime_bin</th>\n",
       "      <th>volume_15min</th>\n",
       "      <th>number_of_lanes</th>\n",
       "      <th>direction</th>\n",
       "      <th>month</th>\n",
       "      <th>day</th>\n",
       "      <th>day_of_week</th>\n",
       "      <th>hour</th>\n",
       "      <th>minute</th>\n",
       "      <th>dist_from_mid_point</th>\n",
       "    </tr>\n",
       "  </thead>\n",
       "  <tbody>\n",
       "    <tr>\n",
       "      <th>0</th>\n",
       "      <td>2022-08-11 15:00:00+00:00</td>\n",
       "      <td>160</td>\n",
       "      <td>3</td>\n",
       "      <td>W</td>\n",
       "      <td>August</td>\n",
       "      <td>11</td>\n",
       "      <td>Thursday</td>\n",
       "      <td>15</td>\n",
       "      <td>0</td>\n",
       "      <td>4.887837</td>\n",
       "    </tr>\n",
       "    <tr>\n",
       "      <th>1</th>\n",
       "      <td>2022-08-11 15:00:00+00:00</td>\n",
       "      <td>170</td>\n",
       "      <td>3</td>\n",
       "      <td>E</td>\n",
       "      <td>August</td>\n",
       "      <td>11</td>\n",
       "      <td>Thursday</td>\n",
       "      <td>15</td>\n",
       "      <td>0</td>\n",
       "      <td>0.474912</td>\n",
       "    </tr>\n",
       "    <tr>\n",
       "      <th>2</th>\n",
       "      <td>2022-08-11 15:00:00+00:00</td>\n",
       "      <td>169</td>\n",
       "      <td>3</td>\n",
       "      <td>E</td>\n",
       "      <td>August</td>\n",
       "      <td>11</td>\n",
       "      <td>Thursday</td>\n",
       "      <td>15</td>\n",
       "      <td>0</td>\n",
       "      <td>-0.635254</td>\n",
       "    </tr>\n",
       "  </tbody>\n",
       "</table>\n",
       "</div>"
      ],
      "text/plain": [
       "                datetime_bin  volume_15min  number_of_lanes direction   month  \\\n",
       "0  2022-08-11 15:00:00+00:00           160                3         W  August   \n",
       "1  2022-08-11 15:00:00+00:00           170                3         E  August   \n",
       "2  2022-08-11 15:00:00+00:00           169                3         E  August   \n",
       "\n",
       "   day day_of_week  hour  minute  dist_from_mid_point  \n",
       "0   11    Thursday    15       0             4.887837  \n",
       "1   11    Thursday    15       0             0.474912  \n",
       "2   11    Thursday    15       0            -0.635254  "
      ]
     },
     "execution_count": 3,
     "metadata": {},
     "output_type": "execute_result"
    }
   ],
   "source": [
    "df = pd.read_csv(\"./data/gardiner_count.csv.zip\")\n",
    "df.head(3)"
   ]
  },
  {
   "cell_type": "code",
   "execution_count": 4,
   "id": "3c5bc3db-53cb-4537-b6ac-9b2a4416da31",
   "metadata": {
    "tags": []
   },
   "outputs": [
    {
     "data": {
      "text/html": [
       "<div>\n",
       "<style scoped>\n",
       "    .dataframe tbody tr th:only-of-type {\n",
       "        vertical-align: middle;\n",
       "    }\n",
       "\n",
       "    .dataframe tbody tr th {\n",
       "        vertical-align: top;\n",
       "    }\n",
       "\n",
       "    .dataframe thead th {\n",
       "        text-align: right;\n",
       "    }\n",
       "</style>\n",
       "<table border=\"1\" class=\"dataframe\">\n",
       "  <thead>\n",
       "    <tr style=\"text-align: right;\">\n",
       "      <th></th>\n",
       "      <th>volume_15min</th>\n",
       "      <th>number_of_lanes</th>\n",
       "      <th>direction</th>\n",
       "      <th>month</th>\n",
       "      <th>day</th>\n",
       "      <th>day_of_week</th>\n",
       "      <th>hour</th>\n",
       "      <th>minute</th>\n",
       "      <th>dist_from_mid_point</th>\n",
       "    </tr>\n",
       "  </thead>\n",
       "  <tbody>\n",
       "    <tr>\n",
       "      <th>0</th>\n",
       "      <td>160</td>\n",
       "      <td>3</td>\n",
       "      <td>W</td>\n",
       "      <td>August</td>\n",
       "      <td>11</td>\n",
       "      <td>Thursday</td>\n",
       "      <td>15</td>\n",
       "      <td>0</td>\n",
       "      <td>4.887837</td>\n",
       "    </tr>\n",
       "    <tr>\n",
       "      <th>1</th>\n",
       "      <td>170</td>\n",
       "      <td>3</td>\n",
       "      <td>E</td>\n",
       "      <td>August</td>\n",
       "      <td>11</td>\n",
       "      <td>Thursday</td>\n",
       "      <td>15</td>\n",
       "      <td>0</td>\n",
       "      <td>0.474912</td>\n",
       "    </tr>\n",
       "    <tr>\n",
       "      <th>2</th>\n",
       "      <td>169</td>\n",
       "      <td>3</td>\n",
       "      <td>E</td>\n",
       "      <td>August</td>\n",
       "      <td>11</td>\n",
       "      <td>Thursday</td>\n",
       "      <td>15</td>\n",
       "      <td>0</td>\n",
       "      <td>-0.635254</td>\n",
       "    </tr>\n",
       "  </tbody>\n",
       "</table>\n",
       "</div>"
      ],
      "text/plain": [
       "   volume_15min  number_of_lanes direction   month  day day_of_week  hour  \\\n",
       "0           160                3         W  August   11    Thursday    15   \n",
       "1           170                3         E  August   11    Thursday    15   \n",
       "2           169                3         E  August   11    Thursday    15   \n",
       "\n",
       "   minute  dist_from_mid_point  \n",
       "0       0             4.887837  \n",
       "1       0             0.474912  \n",
       "2       0            -0.635254  "
      ]
     },
     "execution_count": 4,
     "metadata": {},
     "output_type": "execute_result"
    }
   ],
   "source": [
    "df.drop([\"datetime_bin\"],axis=1,inplace=True)\n",
    "df.head(3)"
   ]
  },
  {
   "cell_type": "code",
   "execution_count": 5,
   "id": "09523935-9f3e-4bb0-9d23-e15fd30bea24",
   "metadata": {
    "tags": []
   },
   "outputs": [
    {
     "data": {
      "text/html": [
       "<div>\n",
       "<style scoped>\n",
       "    .dataframe tbody tr th:only-of-type {\n",
       "        vertical-align: middle;\n",
       "    }\n",
       "\n",
       "    .dataframe tbody tr th {\n",
       "        vertical-align: top;\n",
       "    }\n",
       "\n",
       "    .dataframe thead th {\n",
       "        text-align: right;\n",
       "    }\n",
       "</style>\n",
       "<table border=\"1\" class=\"dataframe\">\n",
       "  <thead>\n",
       "    <tr style=\"text-align: right;\">\n",
       "      <th></th>\n",
       "      <th>volume_15min</th>\n",
       "      <th>number_of_lanes</th>\n",
       "      <th>day</th>\n",
       "      <th>hour</th>\n",
       "      <th>minute</th>\n",
       "      <th>dist_from_mid_point</th>\n",
       "      <th>direction_E</th>\n",
       "      <th>direction_W</th>\n",
       "      <th>month_August</th>\n",
       "      <th>month_December</th>\n",
       "      <th>...</th>\n",
       "      <th>month_November</th>\n",
       "      <th>month_October</th>\n",
       "      <th>month_September</th>\n",
       "      <th>day_of_week_Friday</th>\n",
       "      <th>day_of_week_Monday</th>\n",
       "      <th>day_of_week_Saturday</th>\n",
       "      <th>day_of_week_Sunday</th>\n",
       "      <th>day_of_week_Thursday</th>\n",
       "      <th>day_of_week_Tuesday</th>\n",
       "      <th>day_of_week_Wednesday</th>\n",
       "    </tr>\n",
       "  </thead>\n",
       "  <tbody>\n",
       "    <tr>\n",
       "      <th>0</th>\n",
       "      <td>160.0</td>\n",
       "      <td>3.0</td>\n",
       "      <td>11.0</td>\n",
       "      <td>15.0</td>\n",
       "      <td>0.0</td>\n",
       "      <td>4.887837</td>\n",
       "      <td>0.0</td>\n",
       "      <td>1.0</td>\n",
       "      <td>1.0</td>\n",
       "      <td>0.0</td>\n",
       "      <td>...</td>\n",
       "      <td>0.0</td>\n",
       "      <td>0.0</td>\n",
       "      <td>0.0</td>\n",
       "      <td>0.0</td>\n",
       "      <td>0.0</td>\n",
       "      <td>0.0</td>\n",
       "      <td>0.0</td>\n",
       "      <td>1.0</td>\n",
       "      <td>0.0</td>\n",
       "      <td>0.0</td>\n",
       "    </tr>\n",
       "    <tr>\n",
       "      <th>1</th>\n",
       "      <td>170.0</td>\n",
       "      <td>3.0</td>\n",
       "      <td>11.0</td>\n",
       "      <td>15.0</td>\n",
       "      <td>0.0</td>\n",
       "      <td>0.474912</td>\n",
       "      <td>1.0</td>\n",
       "      <td>0.0</td>\n",
       "      <td>1.0</td>\n",
       "      <td>0.0</td>\n",
       "      <td>...</td>\n",
       "      <td>0.0</td>\n",
       "      <td>0.0</td>\n",
       "      <td>0.0</td>\n",
       "      <td>0.0</td>\n",
       "      <td>0.0</td>\n",
       "      <td>0.0</td>\n",
       "      <td>0.0</td>\n",
       "      <td>1.0</td>\n",
       "      <td>0.0</td>\n",
       "      <td>0.0</td>\n",
       "    </tr>\n",
       "    <tr>\n",
       "      <th>2</th>\n",
       "      <td>169.0</td>\n",
       "      <td>3.0</td>\n",
       "      <td>11.0</td>\n",
       "      <td>15.0</td>\n",
       "      <td>0.0</td>\n",
       "      <td>-0.635254</td>\n",
       "      <td>1.0</td>\n",
       "      <td>0.0</td>\n",
       "      <td>1.0</td>\n",
       "      <td>0.0</td>\n",
       "      <td>...</td>\n",
       "      <td>0.0</td>\n",
       "      <td>0.0</td>\n",
       "      <td>0.0</td>\n",
       "      <td>0.0</td>\n",
       "      <td>0.0</td>\n",
       "      <td>0.0</td>\n",
       "      <td>0.0</td>\n",
       "      <td>1.0</td>\n",
       "      <td>0.0</td>\n",
       "      <td>0.0</td>\n",
       "    </tr>\n",
       "  </tbody>\n",
       "</table>\n",
       "<p>3 rows × 21 columns</p>\n",
       "</div>"
      ],
      "text/plain": [
       "   volume_15min  number_of_lanes   day  hour  minute  dist_from_mid_point  \\\n",
       "0         160.0              3.0  11.0  15.0     0.0             4.887837   \n",
       "1         170.0              3.0  11.0  15.0     0.0             0.474912   \n",
       "2         169.0              3.0  11.0  15.0     0.0            -0.635254   \n",
       "\n",
       "   direction_E  direction_W  month_August  month_December  ...  \\\n",
       "0          0.0          1.0           1.0             0.0  ...   \n",
       "1          1.0          0.0           1.0             0.0  ...   \n",
       "2          1.0          0.0           1.0             0.0  ...   \n",
       "\n",
       "   month_November  month_October  month_September  day_of_week_Friday  \\\n",
       "0             0.0            0.0              0.0                 0.0   \n",
       "1             0.0            0.0              0.0                 0.0   \n",
       "2             0.0            0.0              0.0                 0.0   \n",
       "\n",
       "   day_of_week_Monday  day_of_week_Saturday  day_of_week_Sunday  \\\n",
       "0                 0.0                   0.0                 0.0   \n",
       "1                 0.0                   0.0                 0.0   \n",
       "2                 0.0                   0.0                 0.0   \n",
       "\n",
       "   day_of_week_Thursday  day_of_week_Tuesday  day_of_week_Wednesday  \n",
       "0                   1.0                  0.0                    0.0  \n",
       "1                   1.0                  0.0                    0.0  \n",
       "2                   1.0                  0.0                    0.0  \n",
       "\n",
       "[3 rows x 21 columns]"
      ]
     },
     "execution_count": 5,
     "metadata": {},
     "output_type": "execute_result"
    }
   ],
   "source": [
    "categorical_feats = [\"direction\",\"month\",\"day_of_week\"]\n",
    "    \n",
    "transformed_df = pd.get_dummies(df, columns=categorical_feats)\n",
    "transformed_df = transformed_df.astype(\"float32\")\n",
    "transformed_df.head(3)"
   ]
  },
  {
   "cell_type": "code",
   "execution_count": 6,
   "id": "587d00ac-ef1d-4cf2-9195-5af160105987",
   "metadata": {
    "tags": []
   },
   "outputs": [],
   "source": [
    "X = transformed_df.drop(\"volume_15min\",axis=1)\n",
    "y = transformed_df[\"volume_15min\"]\n",
    "\n",
    "X_train, X_test, y_train, y_test = train_test_split(X, y, test_size=0.20, random_state=42)"
   ]
  },
  {
   "attachments": {},
   "cell_type": "markdown",
   "id": "df0d65bc-db5f-4113-9af3-709101198f0c",
   "metadata": {},
   "source": [
    "# Load models"
   ]
  },
  {
   "cell_type": "code",
   "execution_count": 7,
   "id": "9fb8921f-b463-4823-ba5d-8064dad97b21",
   "metadata": {
    "tags": []
   },
   "outputs": [
    {
     "data": {
      "text/html": [
       "<div>\n",
       "<style scoped>\n",
       "    .dataframe tbody tr th:only-of-type {\n",
       "        vertical-align: middle;\n",
       "    }\n",
       "\n",
       "    .dataframe tbody tr th {\n",
       "        vertical-align: top;\n",
       "    }\n",
       "\n",
       "    .dataframe thead th {\n",
       "        text-align: right;\n",
       "    }\n",
       "</style>\n",
       "<table border=\"1\" class=\"dataframe\">\n",
       "  <thead>\n",
       "    <tr style=\"text-align: right;\">\n",
       "      <th></th>\n",
       "      <th>model</th>\n",
       "      <th>r2</th>\n",
       "      <th>mae</th>\n",
       "      <th>mse</th>\n",
       "      <th>rmse</th>\n",
       "      <th>mape</th>\n",
       "      <th>time_to_fit</th>\n",
       "      <th>time_to_predict</th>\n",
       "      <th>ttf</th>\n",
       "    </tr>\n",
       "  </thead>\n",
       "  <tbody>\n",
       "    <tr>\n",
       "      <th>0</th>\n",
       "      <td>XGBoost</td>\n",
       "      <td>0.970803</td>\n",
       "      <td>45.752130</td>\n",
       "      <td>4538.633000</td>\n",
       "      <td>67.369380</td>\n",
       "      <td>1.584660e+15</td>\n",
       "      <td>13.256450</td>\n",
       "      <td>0.130426</td>\n",
       "      <td>NaN</td>\n",
       "    </tr>\n",
       "    <tr>\n",
       "      <th>1</th>\n",
       "      <td>Random Forest</td>\n",
       "      <td>0.937069</td>\n",
       "      <td>65.349060</td>\n",
       "      <td>9782.534180</td>\n",
       "      <td>98.906693</td>\n",
       "      <td>2.955529e+15</td>\n",
       "      <td>NaN</td>\n",
       "      <td>NaN</td>\n",
       "      <td>1.311731</td>\n",
       "    </tr>\n",
       "    <tr>\n",
       "      <th>2</th>\n",
       "      <td>MLP</td>\n",
       "      <td>0.924641</td>\n",
       "      <td>74.008790</td>\n",
       "      <td>11714.545000</td>\n",
       "      <td>108.233750</td>\n",
       "      <td>3.004927e+15</td>\n",
       "      <td>NaN</td>\n",
       "      <td>NaN</td>\n",
       "      <td>171.602071</td>\n",
       "    </tr>\n",
       "    <tr>\n",
       "      <th>3</th>\n",
       "      <td>Decision Tree</td>\n",
       "      <td>0.839230</td>\n",
       "      <td>115.802268</td>\n",
       "      <td>24991.620848</td>\n",
       "      <td>158.087384</td>\n",
       "      <td>4.068522e+15</td>\n",
       "      <td>0.267455</td>\n",
       "      <td>0.011391</td>\n",
       "      <td>NaN</td>\n",
       "    </tr>\n",
       "  </tbody>\n",
       "</table>\n",
       "</div>"
      ],
      "text/plain": [
       "           model        r2         mae           mse        rmse  \\\n",
       "0        XGBoost  0.970803   45.752130   4538.633000   67.369380   \n",
       "1  Random Forest  0.937069   65.349060   9782.534180   98.906693   \n",
       "2            MLP  0.924641   74.008790  11714.545000  108.233750   \n",
       "3  Decision Tree  0.839230  115.802268  24991.620848  158.087384   \n",
       "\n",
       "           mape  time_to_fit  time_to_predict         ttf  \n",
       "0  1.584660e+15    13.256450         0.130426         NaN  \n",
       "1  2.955529e+15          NaN              NaN    1.311731  \n",
       "2  3.004927e+15          NaN              NaN  171.602071  \n",
       "3  4.068522e+15     0.267455         0.011391         NaN  "
      ]
     },
     "execution_count": 7,
     "metadata": {},
     "output_type": "execute_result"
    }
   ],
   "source": [
    "metrics = pd.read_csv(\"./metrics/014_best_metrics.csv.zip\")\n",
    "metrics"
   ]
  },
  {
   "attachments": {},
   "cell_type": "markdown",
   "id": "a893221d-8d50-4f13-a5ca-381b1fc68738",
   "metadata": {},
   "source": [
    "## XGBoost"
   ]
  },
  {
   "attachments": {},
   "cell_type": "markdown",
   "id": "498836da-0a06-41e0-a184-cc9ac6958c8b",
   "metadata": {
    "tags": []
   },
   "source": [
    "### Run CV"
   ]
  },
  {
   "cell_type": "code",
   "execution_count": 8,
   "id": "c3b9d6a9-86d4-4a6b-9ffe-437e0c0f2a3e",
   "metadata": {
    "tags": []
   },
   "outputs": [],
   "source": [
    "import xgboost as xgb\n",
    "\n",
    "params = ml_help.params_to_dict(\"013_xgboost\")"
   ]
  },
  {
   "cell_type": "code",
   "execution_count": 9,
   "id": "1d61f69b-a70e-4c1d-b2e2-b9cef71a0e4a",
   "metadata": {},
   "outputs": [],
   "source": [
    "params['predictor'] = 'cpu_predictor'\n",
    "params['tree_method'] = 'hist'\n",
    "    \n",
    "xgboost_pipeline = make_pipeline(StandardScaler(),xgb.XGBRegressor(**params))\n",
    "\n",
    "if not METRICS_DONE:\n",
    "    \n",
    "    xgb_cv_metrics = ml_help.run_stratified_kfold(\"XGBoost\",xgboost_pipeline,X_train,y_train)\n",
    "    xgb_cv_metrics"
   ]
  },
  {
   "attachments": {},
   "cell_type": "markdown",
   "id": "3d926b07-6cc6-411f-bc51-0966e983028f",
   "metadata": {},
   "source": [
    "### Run test using previously unseen data"
   ]
  },
  {
   "cell_type": "code",
   "execution_count": 10,
   "id": "d45e7a05-ced8-41b2-b703-a2f0f2665a1c",
   "metadata": {
    "tags": []
   },
   "outputs": [
    {
     "data": {
      "text/plain": [
       "{'model': 'XGBoost',\n",
       " 'r2': 0.9681590541414763,\n",
       " 'mae': 47.989197,\n",
       " 'mse': 4986.042,\n",
       " 'rmse': 70.61191,\n",
       " 'mape': 2479787100000000.0,\n",
       " 'time_to_fit': 21.217866897583008}"
      ]
     },
     "execution_count": 10,
     "metadata": {},
     "output_type": "execute_result"
    }
   ],
   "source": [
    "xgboost_pipeline = make_pipeline(StandardScaler(),xgb.XGBRegressor(**params))\n",
    "\n",
    "start = time()\n",
    "pipe = xgboost_pipeline.fit(X_train,y_train)\n",
    "end = time()\n",
    "\n",
    "y_pred = pipe.predict(X_test)\n",
    "\n",
    "xgb_metrics = ml_help.get_metrics_reg(\"XGBoost\",y_test,y_pred)\n",
    "xgb_metrics[\"time_to_fit\"] = end-start\n",
    "xgb_metrics"
   ]
  },
  {
   "cell_type": "code",
   "execution_count": 22,
   "id": "d1f919e5-d183-47fe-9e9c-325f54393065",
   "metadata": {},
   "outputs": [
    {
     "data": {
      "text/html": [
       "<div>\n",
       "<style scoped>\n",
       "    .dataframe tbody tr th:only-of-type {\n",
       "        vertical-align: middle;\n",
       "    }\n",
       "\n",
       "    .dataframe tbody tr th {\n",
       "        vertical-align: top;\n",
       "    }\n",
       "\n",
       "    .dataframe thead th {\n",
       "        text-align: right;\n",
       "    }\n",
       "</style>\n",
       "<table border=\"1\" class=\"dataframe\">\n",
       "  <thead>\n",
       "    <tr style=\"text-align: right;\">\n",
       "      <th></th>\n",
       "      <th>number_of_lanes</th>\n",
       "      <th>day</th>\n",
       "      <th>hour</th>\n",
       "      <th>minute</th>\n",
       "      <th>dist_from_mid_point</th>\n",
       "      <th>direction_E</th>\n",
       "      <th>direction_W</th>\n",
       "      <th>month_August</th>\n",
       "      <th>month_December</th>\n",
       "      <th>month_January</th>\n",
       "      <th>...</th>\n",
       "      <th>month_September</th>\n",
       "      <th>day_of_week_Friday</th>\n",
       "      <th>day_of_week_Monday</th>\n",
       "      <th>day_of_week_Saturday</th>\n",
       "      <th>day_of_week_Sunday</th>\n",
       "      <th>day_of_week_Thursday</th>\n",
       "      <th>day_of_week_Tuesday</th>\n",
       "      <th>day_of_week_Wednesday</th>\n",
       "      <th>Actual</th>\n",
       "      <th>Pred.</th>\n",
       "    </tr>\n",
       "  </thead>\n",
       "  <tbody>\n",
       "    <tr>\n",
       "      <th>140115</th>\n",
       "      <td>4.0</td>\n",
       "      <td>29.0</td>\n",
       "      <td>0.0</td>\n",
       "      <td>0.0</td>\n",
       "      <td>-3.325903</td>\n",
       "      <td>1.0</td>\n",
       "      <td>0.0</td>\n",
       "      <td>0.0</td>\n",
       "      <td>1.0</td>\n",
       "      <td>0.0</td>\n",
       "      <td>...</td>\n",
       "      <td>0.0</td>\n",
       "      <td>0.0</td>\n",
       "      <td>0.0</td>\n",
       "      <td>0.0</td>\n",
       "      <td>0.0</td>\n",
       "      <td>1.0</td>\n",
       "      <td>0.0</td>\n",
       "      <td>0.0</td>\n",
       "      <td>346.0</td>\n",
       "      <td>342.571625</td>\n",
       "    </tr>\n",
       "    <tr>\n",
       "      <th>140116</th>\n",
       "      <td>2.0</td>\n",
       "      <td>29.0</td>\n",
       "      <td>0.0</td>\n",
       "      <td>0.0</td>\n",
       "      <td>-5.040938</td>\n",
       "      <td>1.0</td>\n",
       "      <td>0.0</td>\n",
       "      <td>0.0</td>\n",
       "      <td>1.0</td>\n",
       "      <td>0.0</td>\n",
       "      <td>...</td>\n",
       "      <td>0.0</td>\n",
       "      <td>0.0</td>\n",
       "      <td>0.0</td>\n",
       "      <td>0.0</td>\n",
       "      <td>0.0</td>\n",
       "      <td>1.0</td>\n",
       "      <td>0.0</td>\n",
       "      <td>0.0</td>\n",
       "      <td>100.0</td>\n",
       "      <td>109.487106</td>\n",
       "    </tr>\n",
       "    <tr>\n",
       "      <th>140119</th>\n",
       "      <td>3.0</td>\n",
       "      <td>29.0</td>\n",
       "      <td>0.0</td>\n",
       "      <td>0.0</td>\n",
       "      <td>0.474912</td>\n",
       "      <td>1.0</td>\n",
       "      <td>0.0</td>\n",
       "      <td>0.0</td>\n",
       "      <td>1.0</td>\n",
       "      <td>0.0</td>\n",
       "      <td>...</td>\n",
       "      <td>0.0</td>\n",
       "      <td>0.0</td>\n",
       "      <td>0.0</td>\n",
       "      <td>0.0</td>\n",
       "      <td>0.0</td>\n",
       "      <td>1.0</td>\n",
       "      <td>0.0</td>\n",
       "      <td>0.0</td>\n",
       "      <td>362.0</td>\n",
       "      <td>369.287018</td>\n",
       "    </tr>\n",
       "    <tr>\n",
       "      <th>140125</th>\n",
       "      <td>3.0</td>\n",
       "      <td>29.0</td>\n",
       "      <td>0.0</td>\n",
       "      <td>0.0</td>\n",
       "      <td>-1.724957</td>\n",
       "      <td>1.0</td>\n",
       "      <td>0.0</td>\n",
       "      <td>0.0</td>\n",
       "      <td>1.0</td>\n",
       "      <td>0.0</td>\n",
       "      <td>...</td>\n",
       "      <td>0.0</td>\n",
       "      <td>0.0</td>\n",
       "      <td>0.0</td>\n",
       "      <td>0.0</td>\n",
       "      <td>0.0</td>\n",
       "      <td>1.0</td>\n",
       "      <td>0.0</td>\n",
       "      <td>0.0</td>\n",
       "      <td>344.0</td>\n",
       "      <td>328.898224</td>\n",
       "    </tr>\n",
       "    <tr>\n",
       "      <th>140128</th>\n",
       "      <td>3.0</td>\n",
       "      <td>29.0</td>\n",
       "      <td>0.0</td>\n",
       "      <td>15.0</td>\n",
       "      <td>1.832536</td>\n",
       "      <td>1.0</td>\n",
       "      <td>0.0</td>\n",
       "      <td>0.0</td>\n",
       "      <td>1.0</td>\n",
       "      <td>0.0</td>\n",
       "      <td>...</td>\n",
       "      <td>0.0</td>\n",
       "      <td>0.0</td>\n",
       "      <td>0.0</td>\n",
       "      <td>0.0</td>\n",
       "      <td>0.0</td>\n",
       "      <td>1.0</td>\n",
       "      <td>0.0</td>\n",
       "      <td>0.0</td>\n",
       "      <td>245.0</td>\n",
       "      <td>264.449371</td>\n",
       "    </tr>\n",
       "    <tr>\n",
       "      <th>...</th>\n",
       "      <td>...</td>\n",
       "      <td>...</td>\n",
       "      <td>...</td>\n",
       "      <td>...</td>\n",
       "      <td>...</td>\n",
       "      <td>...</td>\n",
       "      <td>...</td>\n",
       "      <td>...</td>\n",
       "      <td>...</td>\n",
       "      <td>...</td>\n",
       "      <td>...</td>\n",
       "      <td>...</td>\n",
       "      <td>...</td>\n",
       "      <td>...</td>\n",
       "      <td>...</td>\n",
       "      <td>...</td>\n",
       "      <td>...</td>\n",
       "      <td>...</td>\n",
       "      <td>...</td>\n",
       "      <td>...</td>\n",
       "      <td>...</td>\n",
       "    </tr>\n",
       "    <tr>\n",
       "      <th>141722</th>\n",
       "      <td>3.0</td>\n",
       "      <td>29.0</td>\n",
       "      <td>23.0</td>\n",
       "      <td>30.0</td>\n",
       "      <td>-1.724957</td>\n",
       "      <td>1.0</td>\n",
       "      <td>0.0</td>\n",
       "      <td>0.0</td>\n",
       "      <td>1.0</td>\n",
       "      <td>0.0</td>\n",
       "      <td>...</td>\n",
       "      <td>0.0</td>\n",
       "      <td>0.0</td>\n",
       "      <td>0.0</td>\n",
       "      <td>0.0</td>\n",
       "      <td>0.0</td>\n",
       "      <td>1.0</td>\n",
       "      <td>0.0</td>\n",
       "      <td>0.0</td>\n",
       "      <td>475.0</td>\n",
       "      <td>498.366608</td>\n",
       "    </tr>\n",
       "    <tr>\n",
       "      <th>141725</th>\n",
       "      <td>3.0</td>\n",
       "      <td>29.0</td>\n",
       "      <td>23.0</td>\n",
       "      <td>45.0</td>\n",
       "      <td>-1.724957</td>\n",
       "      <td>1.0</td>\n",
       "      <td>0.0</td>\n",
       "      <td>0.0</td>\n",
       "      <td>1.0</td>\n",
       "      <td>0.0</td>\n",
       "      <td>...</td>\n",
       "      <td>0.0</td>\n",
       "      <td>0.0</td>\n",
       "      <td>0.0</td>\n",
       "      <td>0.0</td>\n",
       "      <td>0.0</td>\n",
       "      <td>1.0</td>\n",
       "      <td>0.0</td>\n",
       "      <td>0.0</td>\n",
       "      <td>391.0</td>\n",
       "      <td>417.238464</td>\n",
       "    </tr>\n",
       "    <tr>\n",
       "      <th>141726</th>\n",
       "      <td>3.0</td>\n",
       "      <td>29.0</td>\n",
       "      <td>23.0</td>\n",
       "      <td>45.0</td>\n",
       "      <td>1.832536</td>\n",
       "      <td>1.0</td>\n",
       "      <td>0.0</td>\n",
       "      <td>0.0</td>\n",
       "      <td>1.0</td>\n",
       "      <td>0.0</td>\n",
       "      <td>...</td>\n",
       "      <td>0.0</td>\n",
       "      <td>0.0</td>\n",
       "      <td>0.0</td>\n",
       "      <td>0.0</td>\n",
       "      <td>0.0</td>\n",
       "      <td>1.0</td>\n",
       "      <td>0.0</td>\n",
       "      <td>0.0</td>\n",
       "      <td>346.0</td>\n",
       "      <td>356.334839</td>\n",
       "    </tr>\n",
       "    <tr>\n",
       "      <th>141728</th>\n",
       "      <td>3.0</td>\n",
       "      <td>29.0</td>\n",
       "      <td>23.0</td>\n",
       "      <td>45.0</td>\n",
       "      <td>-7.665465</td>\n",
       "      <td>0.0</td>\n",
       "      <td>1.0</td>\n",
       "      <td>0.0</td>\n",
       "      <td>1.0</td>\n",
       "      <td>0.0</td>\n",
       "      <td>...</td>\n",
       "      <td>0.0</td>\n",
       "      <td>0.0</td>\n",
       "      <td>0.0</td>\n",
       "      <td>0.0</td>\n",
       "      <td>0.0</td>\n",
       "      <td>1.0</td>\n",
       "      <td>0.0</td>\n",
       "      <td>0.0</td>\n",
       "      <td>288.0</td>\n",
       "      <td>263.901672</td>\n",
       "    </tr>\n",
       "    <tr>\n",
       "      <th>141736</th>\n",
       "      <td>3.0</td>\n",
       "      <td>29.0</td>\n",
       "      <td>23.0</td>\n",
       "      <td>45.0</td>\n",
       "      <td>0.474912</td>\n",
       "      <td>1.0</td>\n",
       "      <td>0.0</td>\n",
       "      <td>0.0</td>\n",
       "      <td>1.0</td>\n",
       "      <td>0.0</td>\n",
       "      <td>...</td>\n",
       "      <td>0.0</td>\n",
       "      <td>0.0</td>\n",
       "      <td>0.0</td>\n",
       "      <td>0.0</td>\n",
       "      <td>0.0</td>\n",
       "      <td>1.0</td>\n",
       "      <td>0.0</td>\n",
       "      <td>0.0</td>\n",
       "      <td>430.0</td>\n",
       "      <td>459.782715</td>\n",
       "    </tr>\n",
       "  </tbody>\n",
       "</table>\n",
       "<p>326 rows × 22 columns</p>\n",
       "</div>"
      ],
      "text/plain": [
       "        number_of_lanes   day  hour  minute  dist_from_mid_point  direction_E  \\\n",
       "140115              4.0  29.0   0.0     0.0            -3.325903          1.0   \n",
       "140116              2.0  29.0   0.0     0.0            -5.040938          1.0   \n",
       "140119              3.0  29.0   0.0     0.0             0.474912          1.0   \n",
       "140125              3.0  29.0   0.0     0.0            -1.724957          1.0   \n",
       "140128              3.0  29.0   0.0    15.0             1.832536          1.0   \n",
       "...                 ...   ...   ...     ...                  ...          ...   \n",
       "141722              3.0  29.0  23.0    30.0            -1.724957          1.0   \n",
       "141725              3.0  29.0  23.0    45.0            -1.724957          1.0   \n",
       "141726              3.0  29.0  23.0    45.0             1.832536          1.0   \n",
       "141728              3.0  29.0  23.0    45.0            -7.665465          0.0   \n",
       "141736              3.0  29.0  23.0    45.0             0.474912          1.0   \n",
       "\n",
       "        direction_W  month_August  month_December  month_January  ...  \\\n",
       "140115          0.0           0.0             1.0            0.0  ...   \n",
       "140116          0.0           0.0             1.0            0.0  ...   \n",
       "140119          0.0           0.0             1.0            0.0  ...   \n",
       "140125          0.0           0.0             1.0            0.0  ...   \n",
       "140128          0.0           0.0             1.0            0.0  ...   \n",
       "...             ...           ...             ...            ...  ...   \n",
       "141722          0.0           0.0             1.0            0.0  ...   \n",
       "141725          0.0           0.0             1.0            0.0  ...   \n",
       "141726          0.0           0.0             1.0            0.0  ...   \n",
       "141728          1.0           0.0             1.0            0.0  ...   \n",
       "141736          0.0           0.0             1.0            0.0  ...   \n",
       "\n",
       "        month_September  day_of_week_Friday  day_of_week_Monday  \\\n",
       "140115              0.0                 0.0                 0.0   \n",
       "140116              0.0                 0.0                 0.0   \n",
       "140119              0.0                 0.0                 0.0   \n",
       "140125              0.0                 0.0                 0.0   \n",
       "140128              0.0                 0.0                 0.0   \n",
       "...                 ...                 ...                 ...   \n",
       "141722              0.0                 0.0                 0.0   \n",
       "141725              0.0                 0.0                 0.0   \n",
       "141726              0.0                 0.0                 0.0   \n",
       "141728              0.0                 0.0                 0.0   \n",
       "141736              0.0                 0.0                 0.0   \n",
       "\n",
       "        day_of_week_Saturday  day_of_week_Sunday  day_of_week_Thursday  \\\n",
       "140115                   0.0                 0.0                   1.0   \n",
       "140116                   0.0                 0.0                   1.0   \n",
       "140119                   0.0                 0.0                   1.0   \n",
       "140125                   0.0                 0.0                   1.0   \n",
       "140128                   0.0                 0.0                   1.0   \n",
       "...                      ...                 ...                   ...   \n",
       "141722                   0.0                 0.0                   1.0   \n",
       "141725                   0.0                 0.0                   1.0   \n",
       "141726                   0.0                 0.0                   1.0   \n",
       "141728                   0.0                 0.0                   1.0   \n",
       "141736                   0.0                 0.0                   1.0   \n",
       "\n",
       "        day_of_week_Tuesday  day_of_week_Wednesday  Actual       Pred.  \n",
       "140115                  0.0                    0.0   346.0  342.571625  \n",
       "140116                  0.0                    0.0   100.0  109.487106  \n",
       "140119                  0.0                    0.0   362.0  369.287018  \n",
       "140125                  0.0                    0.0   344.0  328.898224  \n",
       "140128                  0.0                    0.0   245.0  264.449371  \n",
       "...                     ...                    ...     ...         ...  \n",
       "141722                  0.0                    0.0   475.0  498.366608  \n",
       "141725                  0.0                    0.0   391.0  417.238464  \n",
       "141726                  0.0                    0.0   346.0  356.334839  \n",
       "141728                  0.0                    0.0   288.0  263.901672  \n",
       "141736                  0.0                    0.0   430.0  459.782715  \n",
       "\n",
       "[326 rows x 22 columns]"
      ]
     },
     "execution_count": 22,
     "metadata": {},
     "output_type": "execute_result"
    }
   ],
   "source": [
    "data = X_test.copy(deep=True)\n",
    "data[\"Actual\"] = y_test\n",
    "data[\"Pred.\"] = y_pred\n",
    "data.sort_index(inplace=True)\n",
    "data_dec = data[(data[\"month_December\"] == 1) & (data[\"day\"] == 29)]\n",
    "data_dec"
   ]
  },
  {
   "cell_type": "code",
   "execution_count": 24,
   "id": "21200dd5-65b3-4050-a47b-146e41ff17b0",
   "metadata": {},
   "outputs": [
    {
     "name": "stderr",
     "output_type": "stream",
     "text": [
      "The PostScript backend does not support transparency; partially transparent artists will be rendered opaque.\n"
     ]
    },
    {
     "data": {
      "image/png": "[encoded data removed]",
      "text/plain": [
       "<Figure size 640x480 with 1 Axes>"
      ]
     },
     "metadata": {},
     "output_type": "display_data"
    }
   ],
   "source": [
    "ax = sns.lineplot(data = pd.melt(data_dec[[\"hour\",\"Actual\",\"Pred.\"]], [\"hour\"]), x=\"hour\", y=\"value\", hue=\"variable\")\n",
    "ax.set(ylabel=\"Traffic Volume (vehicles/15min)\", xlabel=\"Time of Day (hour)\")\n",
    "ax.get_legend().set_title(\"Volume\")\n",
    "\n",
    "plt.savefig(\"./plots/015_xgboost_predictions_per_date.eps\", format=\"eps\", bbox_inches=\"tight\")\n",
    "plt.savefig(\"./plots/015_xgboost_predictions_per_date.png\", bbox_inches=\"tight\")\n",
    "plt.savefig(\"./plots/015_xgboost_predictions_per_date.pdf\", bbox_inches=\"tight\")"
   ]
  },
  {
   "cell_type": "code",
   "execution_count": 11,
   "id": "634f797a-aa29-4515-a560-fa88bb78b53e",
   "metadata": {
    "tags": []
   },
   "outputs": [],
   "source": [
    "if not METRICS_DONE:\n",
    "    ml_help.plot_prediction(y_test, y_pred, \"XGBoost\", \"Vehicle Count\", \"015_xgboost_predictions\")"
   ]
  },
  {
   "attachments": {},
   "cell_type": "markdown",
   "id": "fd1d0307-0b10-4527-8111-67b9550862aa",
   "metadata": {},
   "source": [
    "## Random Forest"
   ]
  },
  {
   "attachments": {},
   "cell_type": "markdown",
   "id": "4635d3cd-2337-4b26-950b-093b12f662aa",
   "metadata": {},
   "source": [
    "### Run CV"
   ]
  },
  {
   "cell_type": "code",
   "execution_count": 12,
   "id": "67f6f8c0-4d71-401a-a518-58ec744e0a50",
   "metadata": {
    "tags": []
   },
   "outputs": [],
   "source": [
    "if not METRICS_DONE:\n",
    "    from sklearn.ensemble import RandomForestRegressor\n",
    "    \n",
    "    params = ml_help.params_to_dict(\"013_random_forest\")"
   ]
  },
  {
   "cell_type": "code",
   "execution_count": 13,
   "id": "9a4e0b87-0849-4e9b-b643-d528aaf73b4f",
   "metadata": {},
   "outputs": [],
   "source": [
    "if not METRICS_DONE:\n",
    "    random_forest_pipeline = make_pipeline(StandardScaler(),RandomForestRegressor(**params))\n",
    "    \n",
    "    random_forest_cv_metrics = ml_help.run_stratified_kfold(\"Random Forest\",random_forest_pipeline,X_train,y_train)\n",
    "    random_forest_cv_metrics"
   ]
  },
  {
   "attachments": {},
   "cell_type": "markdown",
   "id": "c33c9d44-951a-4d1e-9f11-6ca99d83c8d4",
   "metadata": {},
   "source": [
    "### Test using previously unseen data"
   ]
  },
  {
   "cell_type": "code",
   "execution_count": 14,
   "id": "cb383755-8154-4a48-b641-4ea474f048a9",
   "metadata": {
    "tags": []
   },
   "outputs": [],
   "source": [
    "if not METRICS_DONE:\n",
    "    random_forest_pipeline = make_pipeline(StandardScaler(),RandomForestRegressor(**params))\n",
    "\n",
    "    start = time()\n",
    "    pipe = random_forest_pipeline.fit(X_train,y_train)\n",
    "    end = time()\n",
    "    \n",
    "    y_pred = pipe.predict(X_test)\n",
    "    \n",
    "    random_forest_metrics = ml_help.get_metrics_reg(\"Random Forest\",y_test,y_pred)\n",
    "    random_forest_metrics[\"time_to_fit\"] = end-start\n",
    "    random_forest_metrics"
   ]
  },
  {
   "cell_type": "code",
   "execution_count": 15,
   "id": "29271975-6170-48bd-b69c-f6643feff204",
   "metadata": {
    "tags": []
   },
   "outputs": [],
   "source": [
    "if not METRICS_DONE:\n",
    "    ml_help.plot_prediction(y_test, y_pred, \"Random Forest\", \"Vehicle Count\", \"015_random_forest_predictions\")"
   ]
  },
  {
   "attachments": {},
   "cell_type": "markdown",
   "id": "feda9a8d-d1f5-4ce1-9524-737b3e36e0cf",
   "metadata": {},
   "source": [
    "## Decision Tree"
   ]
  },
  {
   "attachments": {},
   "cell_type": "markdown",
   "id": "d3177da2-357f-4d88-8597-06ed92a362d6",
   "metadata": {
    "tags": []
   },
   "source": [
    "### Run CV"
   ]
  },
  {
   "cell_type": "code",
   "execution_count": 16,
   "id": "7475bf8a-7fee-4811-911a-ec6aef7f580d",
   "metadata": {
    "tags": []
   },
   "outputs": [],
   "source": [
    "if not METRICS_DONE:\n",
    "    from sklearn.tree import DecisionTreeRegressor\n",
    "    \n",
    "    params = ml_help.params_to_dict(\"013_decision_tree\")"
   ]
  },
  {
   "cell_type": "code",
   "execution_count": 17,
   "id": "22ec2a60-eafc-41a1-a062-e42179ddda31",
   "metadata": {},
   "outputs": [],
   "source": [
    "if not METRICS_DONE:\n",
    "    decision_tree_pipeline = make_pipeline(StandardScaler(),DecisionTreeRegressor(**params))\n",
    "    \n",
    "    dtr_cv_metrics = ml_help.run_stratified_kfold(\"Decision Tree\",decision_tree_pipeline,X_train,y_train)\n",
    "    dtr_cv_metrics"
   ]
  },
  {
   "attachments": {},
   "cell_type": "markdown",
   "id": "a6cbed24-959c-47e7-b2d1-97d7784f07be",
   "metadata": {},
   "source": [
    "### Test using previously unseen data"
   ]
  },
  {
   "cell_type": "code",
   "execution_count": 18,
   "id": "704c1098-37e9-4158-accb-8de04778afd3",
   "metadata": {
    "tags": []
   },
   "outputs": [],
   "source": [
    "if not METRICS_DONE:\n",
    "    decision_tree_pipeline = make_pipeline(StandardScaler(),DecisionTreeRegressor(**params))\n",
    "    \n",
    "    start = time()\n",
    "    pipe = decision_tree_pipeline.fit(X_train,y_train)\n",
    "    end = time()\n",
    "    \n",
    "    y_pred = pipe.predict(X_test)\n",
    "    \n",
    "    dtr_metrics = ml_help.get_metrics_reg(\"Decision Tree\",y_test,y_pred)\n",
    "    dtr_metrics[\"time_to_fit\"] = end-start\n",
    "    dtr_metrics"
   ]
  },
  {
   "cell_type": "code",
   "execution_count": 19,
   "id": "0144ea31-6f60-471d-80d9-1f2b7cc41dd2",
   "metadata": {
    "tags": []
   },
   "outputs": [],
   "source": [
    "if not METRICS_DONE:\n",
    "    ml_help.plot_prediction(y_test, y_pred, \"Decision Tree\", \"Vehicle Count\", \"015_decision_tree_predictions\")"
   ]
  },
  {
   "attachments": {},
   "cell_type": "markdown",
   "id": "f5585e5f-35d6-40af-b83e-f4f0322dbe80",
   "metadata": {},
   "source": [
    "## MLP"
   ]
  },
  {
   "attachments": {},
   "cell_type": "markdown",
   "id": "22f0298c-a78a-4ec2-a6bd-8ca2e93a6336",
   "metadata": {},
   "source": [
    "### Run CV"
   ]
  },
  {
   "cell_type": "code",
   "execution_count": 20,
   "id": "6df6a1f6-8104-4f69-a3b4-94b6cfd03e52",
   "metadata": {
    "tags": []
   },
   "outputs": [],
   "source": [
    "if not METRICS_DONE:\n",
    "    from sklearn.neural_network import MLPRegressor\n",
    "    \n",
    "    params = ml_help.params_to_dict(\"013_mlpr\")"
   ]
  },
  {
   "cell_type": "code",
   "execution_count": 21,
   "id": "9269a928-e9e6-4714-9cb6-ccdff1c55f73",
   "metadata": {},
   "outputs": [],
   "source": [
    "if not METRICS_DONE:\n",
    "    mlp_pipeline = make_pipeline(StandardScaler(),MLPRegressor(**params))\n",
    "    \n",
    "    mlp_cv_metrics = ml_help.run_stratified_kfold(\"MLP\",mlp_pipeline,X_train,y_train)\n",
    "    mlp_cv_metrics"
   ]
  },
  {
   "cell_type": "code",
   "execution_count": 22,
   "id": "d860811b-c40f-4eb4-b7cc-32d5b6e8583d",
   "metadata": {
    "tags": []
   },
   "outputs": [],
   "source": [
    "if not METRICS_DONE:\n",
    "    mlp_pipeline = make_pipeline(StandardScaler(),MLPRegressor(**params))\n",
    "    \n",
    "    start = time()\n",
    "    pipe = mlp_pipeline.fit(X_train,y_train)\n",
    "    end = time()\n",
    "    \n",
    "    y_pred = pipe.predict(X_test)\n",
    "    \n",
    "    mlp_metrics = ml_help.get_metrics_reg(\"MLP\",y_test,y_pred)\n",
    "    mlp_metrics[\"time_to_fit\"] = end-start\n",
    "    mlp_metrics"
   ]
  },
  {
   "cell_type": "code",
   "execution_count": 23,
   "id": "acf87be6-2016-4190-97f3-9b618f1b5c40",
   "metadata": {
    "tags": []
   },
   "outputs": [],
   "source": [
    "if not METRICS_DONE:\n",
    "    ml_help.plot_prediction(y_test, y_pred, \"MLP\", \"Vehicle Count\", \"015_mlp_predictions\")"
   ]
  },
  {
   "attachments": {},
   "cell_type": "markdown",
   "id": "1903ec6f-9009-4a41-b4fc-52efd627db93",
   "metadata": {},
   "source": [
    "# Store metrics"
   ]
  },
  {
   "cell_type": "code",
   "execution_count": 24,
   "id": "9552791e-b4a0-498d-8e6a-2e9525061cea",
   "metadata": {
    "tags": []
   },
   "outputs": [],
   "source": [
    "if not METRICS_DONE:\n",
    "    metrics_cv = pd.concat([pd.DataFrame(xgb_cv_metrics,index=[0]),pd.DataFrame(random_forest_cv_metrics,index=[0]),pd.DataFrame(dtr_cv_metrics,index=[0]),pd.DataFrame(mlp_cv_metrics,index=[0])])\n",
    "    metrics_cv.to_csv(\"./metrics/015_gardiner_count_only_cv_metrics.csv.zip\",index=False,compression=\"zip\")\n",
    "    \n",
    "    metrics = pd.concat([pd.DataFrame(xgb_metrics,index=[0]),pd.DataFrame(random_forest_metrics,index=[0]),pd.DataFrame(dtr_metrics,index=[0]),pd.DataFrame(mlp_metrics,index=[0])])\n",
    "    metrics.to_csv(\"./metrics/015_gardiner_count_only_metrics.csv.zip\",index=False,compression=\"zip\")\n",
    "else:\n",
    "    metrics_cv = pd.read_csv(\"./metrics/015_gardiner_count_only_cv_metrics.csv.zip\")\n",
    "    metrics = pd.read_csv(\"./metrics/015_gardiner_count_only_metrics.csv.zip\")"
   ]
  },
  {
   "attachments": {},
   "cell_type": "markdown",
   "id": "f07b08c9-e8fd-4fef-b327-4d67df2acb47",
   "metadata": {},
   "source": [
    "# Print CV metrics"
   ]
  },
  {
   "cell_type": "code",
   "execution_count": 25,
   "id": "85cd3a16-7eda-4c02-b202-5e5ca4844ba0",
   "metadata": {
    "tags": []
   },
   "outputs": [],
   "source": [
    "sns.set_theme()"
   ]
  },
  {
   "cell_type": "code",
   "execution_count": 30,
   "id": "378f4d0d-f035-4c20-9d23-f4e5870ce46b",
   "metadata": {
    "tags": []
   },
   "outputs": [
    {
     "name": "stderr",
     "output_type": "stream",
     "text": [
      "The PostScript backend does not support transparency; partially transparent artists will be rendered opaque.\n"
     ]
    },
    {
     "data": {
      "image/png": "[encoded data removed]",
      "text/plain": [
       "<Figure size 1000x1000 with 4 Axes>"
      ]
     },
     "metadata": {},
     "output_type": "display_data"
    }
   ],
   "source": [
    "metrics_cv.sort_values(by=\"r2\", ascending=False, inplace=True)\n",
    "ttf_order_cv = list(metrics_cv.sort_values(by=\"time_to_fit\")[\"model\"])\n",
    "\n",
    "fig, axes = plt.subplots(2, 2, figsize=(10, 10))\n",
    "\n",
    "sns.barplot(ax=axes[0, 0], data=metrics_cv, x='model', y='r2',hue=\"model\",dodge=False)\n",
    "sns.barplot(ax=axes[0, 1], data=metrics_cv, x='model', y='mae',hue=\"model\",dodge=False)\n",
    "# sns.barplot(ax=axes[0, 2], data=metrics_cv, x='model', y='mse',hue=\"model\",dodge=False)\n",
    "sns.barplot(ax=axes[1, 0], data=metrics_cv, x='model', y='rmse',hue=\"model\",dodge=False)\n",
    "# sns.barplot(ax=axes[1, 1], data=metrics_cv, x='model', y='mape',hue=\"model\",dodge=False)\n",
    "sns.barplot(ax=axes[1, 1], data=metrics_cv, x='model', y='time_to_fit',hue=\"model\",dodge=False, order=ttf_order_cv)\n",
    "\n",
    "axes[0, 0].set(xlabel=\"Model\",xticklabels=[])\n",
    "axes[0, 0].set(ylabel=\"R2\")\n",
    "axes[0, 0].get_legend().remove()\n",
    "\n",
    "axes[0, 1].set(xlabel=\"Model\",xticklabels=[])\n",
    "axes[0, 1].set(ylabel=\"MAE\")\n",
    "axes[0, 1].legend(loc='center left', bbox_to_anchor=(1, 0.5))\n",
    "\n",
    "# axes[0, 2].set(xlabel=\"Model\",xticklabels=[])\n",
    "# axes[0, 2].set(ylabel=\"MSE\")\n",
    "# axes[0, 2].legend(loc='center left', bbox_to_anchor=(1, 0.5))\n",
    "\n",
    "axes[1, 0].set(xlabel=\"Model\",xticklabels=[])\n",
    "axes[1, 0].set(ylabel=\"RMSE\")\n",
    "axes[1, 0].get_legend().remove()\n",
    "\n",
    "# axes[1, 1].set(xlabel=\"Model\",xticklabels=[])\n",
    "# axes[1, 1].set(ylabel=\"MAPE\")\n",
    "# axes[1, 1].get_legend().remove()\n",
    "\n",
    "axes[1, 1].set(xlabel=\"Model\",xticklabels=[])\n",
    "axes[1, 1].set(ylabel=\"Time to fit (log)\",yscale=\"log\")\n",
    "axes[1, 1].get_legend().remove()\n",
    "\n",
    "plt.savefig(\"./plots/015_gardiner_count_only_cv_metrics.eps\",format=\"eps\",bbox_inches=\"tight\")\n",
    "plt.savefig(\"./plots/015_gardiner_count_only_cv_metrics.png\",bbox_inches=\"tight\")\n",
    "plt.savefig(\"./plots/015_gardiner_count_only_cv_metrics.pdf\",bbox_inches=\"tight\")"
   ]
  },
  {
   "cell_type": "code",
   "execution_count": 33,
   "id": "5975501c-3bcc-47e4-8dd0-c46d8352bc2f",
   "metadata": {
    "tags": []
   },
   "outputs": [
    {
     "name": "stderr",
     "output_type": "stream",
     "text": [
      "The PostScript backend does not support transparency; partially transparent artists will be rendered opaque.\n"
     ]
    },
    {
     "data": {
      "image/png": "[encoded data removed]",
      "text/plain": [
       "<Figure size 1000x1000 with 4 Axes>"
      ]
     },
     "metadata": {},
     "output_type": "display_data"
    }
   ],
   "source": [
    "metrics.sort_values(by=\"r2\", ascending=False, inplace=True)\n",
    "ttf_order = list(metrics.sort_values(by=\"time_to_fit\")[\"model\"])\n",
    "\n",
    "fig, axes = plt.subplots(2, 2, figsize=(10, 10))\n",
    "\n",
    "sns.barplot(ax=axes[0, 0], data=metrics, x='model', y='r2',hue=\"model\",dodge=False)\n",
    "sns.barplot(ax=axes[0, 1], data=metrics, x='model', y='mae',hue=\"model\",dodge=False)\n",
    "# sns.barplot(ax=axes[0, 2], data=metrics, x='model', y='mse',hue=\"model\",dodge=False)\n",
    "sns.barplot(ax=axes[1, 0], data=metrics, x='model', y='rmse',hue=\"model\",dodge=False)\n",
    "# sns.barplot(ax=axes[1, 1], data=metrics, x='model', y='mape',hue=\"model\",dodge=False)\n",
    "sns.barplot(ax=axes[1, 1], data=metrics, x='model', y='time_to_fit',hue=\"model\",dodge=False, order=ttf_order)\n",
    "\n",
    "axes[0, 0].set(xlabel=\"Model\",xticklabels=[])\n",
    "axes[0, 0].set(ylabel=\"R2\")\n",
    "axes[0, 0].get_legend().remove()\n",
    "\n",
    "axes[0, 1].set(xlabel=\"Model\",xticklabels=[])\n",
    "axes[0, 1].set(ylabel=\"MAE\")\n",
    "axes[0, 1].legend(loc='center left', bbox_to_anchor=(1, 0.5))\n",
    "\n",
    "# axes[0, 2].set(xlabel=\"Model\",xticklabels=[])\n",
    "# axes[0, 2].set(ylabel=\"MSE\")\n",
    "# axes[0, 2].legend(loc='center left', bbox_to_anchor=(1, 0.5))\n",
    "\n",
    "axes[1, 0].set(xlabel=\"Model\",xticklabels=[])\n",
    "axes[1, 0].set(ylabel=\"RMSE\")\n",
    "axes[1, 0].get_legend().remove()\n",
    "\n",
    "# axes[1, 1].set(xlabel=\"Model\",xticklabels=[])\n",
    "# axes[1, 1].set(ylabel=\"MAPE\")\n",
    "# axes[1, 1].get_legend().remove()\n",
    "\n",
    "axes[1, 1].set(xlabel=\"Model\",xticklabels=[])\n",
    "axes[1, 1].set(ylabel=\"Time to fit (log)\", yscale=\"log\")\n",
    "axes[1, 1].get_legend().remove()\n",
    "\n",
    "plt.savefig(\"./plots/015_gardiner_count_only_metrics.eps\",format=\"eps\",bbox_inches=\"tight\")\n",
    "plt.savefig(\"./plots/015_gardiner_count_only_metrics.png\",bbox_inches=\"tight\")\n",
    "plt.savefig(\"./plots/015_gardiner_count_only_metrics.pdf\",bbox_inches=\"tight\")"
   ]
  },
  {
   "cell_type": "code",
   "execution_count": 32,
   "id": "860741fe-7c29-45b6-8bcf-426f61958ce4",
   "metadata": {},
   "outputs": [
    {
     "data": {
      "text/html": [
       "<div>\n",
       "<style scoped>\n",
       "    .dataframe tbody tr th:only-of-type {\n",
       "        vertical-align: middle;\n",
       "    }\n",
       "\n",
       "    .dataframe tbody tr th {\n",
       "        vertical-align: top;\n",
       "    }\n",
       "\n",
       "    .dataframe thead th {\n",
       "        text-align: right;\n",
       "    }\n",
       "</style>\n",
       "<table border=\"1\" class=\"dataframe\">\n",
       "  <thead>\n",
       "    <tr style=\"text-align: right;\">\n",
       "      <th></th>\n",
       "      <th>model</th>\n",
       "      <th>r2</th>\n",
       "      <th>mae</th>\n",
       "      <th>mse</th>\n",
       "      <th>rmse</th>\n",
       "      <th>mape</th>\n",
       "      <th>time_to_fit</th>\n",
       "    </tr>\n",
       "  </thead>\n",
       "  <tbody>\n",
       "    <tr>\n",
       "      <th>0</th>\n",
       "      <td>XGBoost</td>\n",
       "      <td>0.932328</td>\n",
       "      <td>64.778397</td>\n",
       "      <td>10596.979492</td>\n",
       "      <td>102.941635</td>\n",
       "      <td>3.687031e+15</td>\n",
       "      <td>16.107549</td>\n",
       "    </tr>\n",
       "    <tr>\n",
       "      <th>3</th>\n",
       "      <td>MLP</td>\n",
       "      <td>0.911549</td>\n",
       "      <td>76.450378</td>\n",
       "      <td>13850.723633</td>\n",
       "      <td>117.689095</td>\n",
       "      <td>4.258290e+15</td>\n",
       "      <td>435.986276</td>\n",
       "    </tr>\n",
       "    <tr>\n",
       "      <th>1</th>\n",
       "      <td>Random Forest</td>\n",
       "      <td>0.838758</td>\n",
       "      <td>114.536375</td>\n",
       "      <td>25249.306401</td>\n",
       "      <td>158.900303</td>\n",
       "      <td>5.676548e+15</td>\n",
       "      <td>40.697818</td>\n",
       "    </tr>\n",
       "    <tr>\n",
       "      <th>2</th>\n",
       "      <td>Decision Tree</td>\n",
       "      <td>0.830978</td>\n",
       "      <td>116.364922</td>\n",
       "      <td>26467.471636</td>\n",
       "      <td>162.688265</td>\n",
       "      <td>5.841025e+15</td>\n",
       "      <td>0.209941</td>\n",
       "    </tr>\n",
       "  </tbody>\n",
       "</table>\n",
       "</div>"
      ],
      "text/plain": [
       "           model        r2         mae           mse        rmse  \\\n",
       "0        XGBoost  0.932328   64.778397  10596.979492  102.941635   \n",
       "3            MLP  0.911549   76.450378  13850.723633  117.689095   \n",
       "1  Random Forest  0.838758  114.536375  25249.306401  158.900303   \n",
       "2  Decision Tree  0.830978  116.364922  26467.471636  162.688265   \n",
       "\n",
       "           mape  time_to_fit  \n",
       "0  3.687031e+15    16.107549  \n",
       "3  4.258290e+15   435.986276  \n",
       "1  5.676548e+15    40.697818  \n",
       "2  5.841025e+15     0.209941  "
      ]
     },
     "execution_count": 32,
     "metadata": {},
     "output_type": "execute_result"
    }
   ],
   "source": [
    "metrics"
   ]
  }
 ],
 "metadata": {
  "kernelspec": {
   "display_name": "Python 3 (ipykernel)",
   "language": "python",
   "name": "python3"
  },
  "language_info": {
   "codemirror_mode": {
    "name": "ipython",
    "version": 3
   },
   "file_extension": ".py",
   "mimetype": "text/x-python",
   "name": "python",
   "nbconvert_exporter": "python",
   "pygments_lexer": "ipython3",
   "version": "3.10.10"
  }
 },
 "nbformat": 4,
 "nbformat_minor": 5
}

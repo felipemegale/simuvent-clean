{
 "cells": [
  {
   "cell_type": "code",
   "execution_count": 1,
   "id": "ce4a1557-840f-4e65-ae43-a8a3a23ab106",
   "metadata": {
    "tags": []
   },
   "outputs": [],
   "source": [
    "import pandas as pd\n",
    "import seaborn as sns\n",
    "sns.set_theme()"
   ]
  },
  {
   "cell_type": "code",
   "execution_count": 2,
   "id": "17ae196c-3a50-4fb7-adb7-d94770f65df0",
   "metadata": {
    "tags": []
   },
   "outputs": [
    {
     "data": {
      "text/html": [
       "<div>\n",
       "<style scoped>\n",
       "    .dataframe tbody tr th:only-of-type {\n",
       "        vertical-align: middle;\n",
       "    }\n",
       "\n",
       "    .dataframe tbody tr th {\n",
       "        vertical-align: top;\n",
       "    }\n",
       "\n",
       "    .dataframe thead th {\n",
       "        text-align: right;\n",
       "    }\n",
       "</style>\n",
       "<table border=\"1\" class=\"dataframe\">\n",
       "  <thead>\n",
       "    <tr style=\"text-align: right;\">\n",
       "      <th></th>\n",
       "      <th>currentSpeed</th>\n",
       "      <th>freeFlowSpeed</th>\n",
       "      <th>currentTravelTime</th>\n",
       "      <th>freeFlowTravelTime</th>\n",
       "      <th>roadClosure</th>\n",
       "      <th>coordinates</th>\n",
       "      <th>collectedAt</th>\n",
       "    </tr>\n",
       "  </thead>\n",
       "  <tbody>\n",
       "    <tr>\n",
       "      <th>0</th>\n",
       "      <td>94</td>\n",
       "      <td>94</td>\n",
       "      <td>297</td>\n",
       "      <td>297</td>\n",
       "      <td>False</td>\n",
       "      <td>[{'latitude': 43.681009250673604, 'longitude':...</td>\n",
       "      <td>2022-07-14 12:45:00+00:00</td>\n",
       "    </tr>\n",
       "    <tr>\n",
       "      <th>1</th>\n",
       "      <td>94</td>\n",
       "      <td>94</td>\n",
       "      <td>297</td>\n",
       "      <td>297</td>\n",
       "      <td>False</td>\n",
       "      <td>[{'latitude': 43.681009250673604, 'longitude':...</td>\n",
       "      <td>2022-07-14 12:51:44+00:00</td>\n",
       "    </tr>\n",
       "    <tr>\n",
       "      <th>2</th>\n",
       "      <td>75</td>\n",
       "      <td>93</td>\n",
       "      <td>372</td>\n",
       "      <td>300</td>\n",
       "      <td>False</td>\n",
       "      <td>[{'latitude': 43.681009250673604, 'longitude':...</td>\n",
       "      <td>2022-07-14 12:55:27+00:00</td>\n",
       "    </tr>\n",
       "  </tbody>\n",
       "</table>\n",
       "</div>"
      ],
      "text/plain": [
       "   currentSpeed  freeFlowSpeed  currentTravelTime  freeFlowTravelTime  \\\n",
       "0            94             94                297                 297   \n",
       "1            94             94                297                 297   \n",
       "2            75             93                372                 300   \n",
       "\n",
       "   roadClosure                                        coordinates  \\\n",
       "0        False  [{'latitude': 43.681009250673604, 'longitude':...   \n",
       "1        False  [{'latitude': 43.681009250673604, 'longitude':...   \n",
       "2        False  [{'latitude': 43.681009250673604, 'longitude':...   \n",
       "\n",
       "                 collectedAt  \n",
       "0  2022-07-14 12:45:00+00:00  \n",
       "1  2022-07-14 12:51:44+00:00  \n",
       "2  2022-07-14 12:55:27+00:00  "
      ]
     },
     "execution_count": 2,
     "metadata": {},
     "output_type": "execute_result"
    }
   ],
   "source": [
    "df = pd.read_csv(\"../../csv/v2/050_gardiner_flow_processed.csv.zip\")\n",
    "df.head(3)"
   ]
  },
  {
   "cell_type": "markdown",
   "id": "28b994ab-cff9-49de-b570-2688ce11f14e",
   "metadata": {},
   "source": [
    "# Expand datetime into more granular, numerical features"
   ]
  },
  {
   "cell_type": "code",
   "execution_count": 3,
   "id": "b65376cd-4e89-4523-993e-68b66f57761b",
   "metadata": {
    "tags": []
   },
   "outputs": [
    {
     "data": {
      "text/html": [
       "<div>\n",
       "<style scoped>\n",
       "    .dataframe tbody tr th:only-of-type {\n",
       "        vertical-align: middle;\n",
       "    }\n",
       "\n",
       "    .dataframe tbody tr th {\n",
       "        vertical-align: top;\n",
       "    }\n",
       "\n",
       "    .dataframe thead th {\n",
       "        text-align: right;\n",
       "    }\n",
       "</style>\n",
       "<table border=\"1\" class=\"dataframe\">\n",
       "  <thead>\n",
       "    <tr style=\"text-align: right;\">\n",
       "      <th></th>\n",
       "      <th>currentSpeed</th>\n",
       "      <th>freeFlowSpeed</th>\n",
       "      <th>currentTravelTime</th>\n",
       "      <th>freeFlowTravelTime</th>\n",
       "      <th>roadClosure</th>\n",
       "      <th>coordinates</th>\n",
       "      <th>collectedAt</th>\n",
       "      <th>year</th>\n",
       "      <th>month</th>\n",
       "      <th>day</th>\n",
       "      <th>day_of_week</th>\n",
       "      <th>hour</th>\n",
       "      <th>minute</th>\n",
       "    </tr>\n",
       "  </thead>\n",
       "  <tbody>\n",
       "    <tr>\n",
       "      <th>0</th>\n",
       "      <td>94</td>\n",
       "      <td>94</td>\n",
       "      <td>297</td>\n",
       "      <td>297</td>\n",
       "      <td>False</td>\n",
       "      <td>[{'latitude': 43.681009250673604, 'longitude':...</td>\n",
       "      <td>2022-07-14 12:45:00+00:00</td>\n",
       "      <td>2022</td>\n",
       "      <td>July</td>\n",
       "      <td>14</td>\n",
       "      <td>Thursday</td>\n",
       "      <td>12</td>\n",
       "      <td>45</td>\n",
       "    </tr>\n",
       "    <tr>\n",
       "      <th>1</th>\n",
       "      <td>94</td>\n",
       "      <td>94</td>\n",
       "      <td>297</td>\n",
       "      <td>297</td>\n",
       "      <td>False</td>\n",
       "      <td>[{'latitude': 43.681009250673604, 'longitude':...</td>\n",
       "      <td>2022-07-14 12:51:44+00:00</td>\n",
       "      <td>2022</td>\n",
       "      <td>July</td>\n",
       "      <td>14</td>\n",
       "      <td>Thursday</td>\n",
       "      <td>12</td>\n",
       "      <td>51</td>\n",
       "    </tr>\n",
       "    <tr>\n",
       "      <th>2</th>\n",
       "      <td>75</td>\n",
       "      <td>93</td>\n",
       "      <td>372</td>\n",
       "      <td>300</td>\n",
       "      <td>False</td>\n",
       "      <td>[{'latitude': 43.681009250673604, 'longitude':...</td>\n",
       "      <td>2022-07-14 12:55:27+00:00</td>\n",
       "      <td>2022</td>\n",
       "      <td>July</td>\n",
       "      <td>14</td>\n",
       "      <td>Thursday</td>\n",
       "      <td>12</td>\n",
       "      <td>55</td>\n",
       "    </tr>\n",
       "  </tbody>\n",
       "</table>\n",
       "</div>"
      ],
      "text/plain": [
       "   currentSpeed  freeFlowSpeed  currentTravelTime  freeFlowTravelTime  \\\n",
       "0            94             94                297                 297   \n",
       "1            94             94                297                 297   \n",
       "2            75             93                372                 300   \n",
       "\n",
       "   roadClosure                                        coordinates  \\\n",
       "0        False  [{'latitude': 43.681009250673604, 'longitude':...   \n",
       "1        False  [{'latitude': 43.681009250673604, 'longitude':...   \n",
       "2        False  [{'latitude': 43.681009250673604, 'longitude':...   \n",
       "\n",
       "                collectedAt  year month  day day_of_week  hour  minute  \n",
       "0 2022-07-14 12:45:00+00:00  2022  July   14    Thursday    12      45  \n",
       "1 2022-07-14 12:51:44+00:00  2022  July   14    Thursday    12      51  \n",
       "2 2022-07-14 12:55:27+00:00  2022  July   14    Thursday    12      55  "
      ]
     },
     "execution_count": 3,
     "metadata": {},
     "output_type": "execute_result"
    }
   ],
   "source": [
    "df[\"collectedAt\"] = pd.to_datetime(df[\"collectedAt\"],utc=True)\n",
    "df[\"year\"] = df[\"collectedAt\"].dt.year\n",
    "df[\"month\"] = df[\"collectedAt\"].dt.month_name()\n",
    "df[\"day\"] = df[\"collectedAt\"].dt.day\n",
    "df[\"day_of_week\"] = df[\"collectedAt\"].dt.day_name()\n",
    "df[\"hour\"] = df[\"collectedAt\"].dt.hour\n",
    "df[\"minute\"] = df[\"collectedAt\"].dt.minute\n",
    "df.head(3)"
   ]
  },
  {
   "cell_type": "markdown",
   "id": "85d35a98-55d8-46dc-9aaf-ef9b204502b5",
   "metadata": {},
   "source": [
    "# Remove unused columns\n",
    "- Will not remove collectedAt definitely because it will be used to join with future datasets\n",
    "- Remove column coordinates because it has no purpose other than for plotting\n",
    "    - To see distance, go to analysis/000_gardiner_flow/065_distance_travelled"
   ]
  },
  {
   "cell_type": "code",
   "execution_count": 4,
   "id": "0c9f4171-37c2-473d-82cc-2197f951c1b8",
   "metadata": {
    "tags": []
   },
   "outputs": [
    {
     "data": {
      "text/html": [
       "<div>\n",
       "<style scoped>\n",
       "    .dataframe tbody tr th:only-of-type {\n",
       "        vertical-align: middle;\n",
       "    }\n",
       "\n",
       "    .dataframe tbody tr th {\n",
       "        vertical-align: top;\n",
       "    }\n",
       "\n",
       "    .dataframe thead th {\n",
       "        text-align: right;\n",
       "    }\n",
       "</style>\n",
       "<table border=\"1\" class=\"dataframe\">\n",
       "  <thead>\n",
       "    <tr style=\"text-align: right;\">\n",
       "      <th></th>\n",
       "      <th>currentSpeed</th>\n",
       "      <th>freeFlowSpeed</th>\n",
       "      <th>currentTravelTime</th>\n",
       "      <th>freeFlowTravelTime</th>\n",
       "      <th>roadClosure</th>\n",
       "      <th>collectedAt</th>\n",
       "      <th>year</th>\n",
       "      <th>month</th>\n",
       "      <th>day</th>\n",
       "      <th>day_of_week</th>\n",
       "      <th>hour</th>\n",
       "      <th>minute</th>\n",
       "    </tr>\n",
       "  </thead>\n",
       "  <tbody>\n",
       "    <tr>\n",
       "      <th>0</th>\n",
       "      <td>94</td>\n",
       "      <td>94</td>\n",
       "      <td>297</td>\n",
       "      <td>297</td>\n",
       "      <td>False</td>\n",
       "      <td>2022-07-14 12:45:00+00:00</td>\n",
       "      <td>2022</td>\n",
       "      <td>July</td>\n",
       "      <td>14</td>\n",
       "      <td>Thursday</td>\n",
       "      <td>12</td>\n",
       "      <td>45</td>\n",
       "    </tr>\n",
       "    <tr>\n",
       "      <th>1</th>\n",
       "      <td>94</td>\n",
       "      <td>94</td>\n",
       "      <td>297</td>\n",
       "      <td>297</td>\n",
       "      <td>False</td>\n",
       "      <td>2022-07-14 12:51:44+00:00</td>\n",
       "      <td>2022</td>\n",
       "      <td>July</td>\n",
       "      <td>14</td>\n",
       "      <td>Thursday</td>\n",
       "      <td>12</td>\n",
       "      <td>51</td>\n",
       "    </tr>\n",
       "    <tr>\n",
       "      <th>2</th>\n",
       "      <td>75</td>\n",
       "      <td>93</td>\n",
       "      <td>372</td>\n",
       "      <td>300</td>\n",
       "      <td>False</td>\n",
       "      <td>2022-07-14 12:55:27+00:00</td>\n",
       "      <td>2022</td>\n",
       "      <td>July</td>\n",
       "      <td>14</td>\n",
       "      <td>Thursday</td>\n",
       "      <td>12</td>\n",
       "      <td>55</td>\n",
       "    </tr>\n",
       "  </tbody>\n",
       "</table>\n",
       "</div>"
      ],
      "text/plain": [
       "   currentSpeed  freeFlowSpeed  currentTravelTime  freeFlowTravelTime  \\\n",
       "0            94             94                297                 297   \n",
       "1            94             94                297                 297   \n",
       "2            75             93                372                 300   \n",
       "\n",
       "   roadClosure               collectedAt  year month  day day_of_week  hour  \\\n",
       "0        False 2022-07-14 12:45:00+00:00  2022  July   14    Thursday    12   \n",
       "1        False 2022-07-14 12:51:44+00:00  2022  July   14    Thursday    12   \n",
       "2        False 2022-07-14 12:55:27+00:00  2022  July   14    Thursday    12   \n",
       "\n",
       "   minute  \n",
       "0      45  \n",
       "1      51  \n",
       "2      55  "
      ]
     },
     "execution_count": 4,
     "metadata": {},
     "output_type": "execute_result"
    }
   ],
   "source": [
    "df.drop(\"coordinates\",inplace=True,axis=1)\n",
    "df.head(3)"
   ]
  },
  {
   "cell_type": "markdown",
   "id": "3b66100d-b2fa-4a9d-b466-f86c3ba7ff03",
   "metadata": {},
   "source": [
    "# Analyse other categorical features"
   ]
  },
  {
   "cell_type": "code",
   "execution_count": 5,
   "id": "abc8822a-348c-48d0-bc80-1ac3d96ddace",
   "metadata": {
    "tags": []
   },
   "outputs": [
    {
     "data": {
      "text/plain": [
       "False    73522\n",
       "True        13\n",
       "Name: roadClosure, dtype: int64"
      ]
     },
     "execution_count": 5,
     "metadata": {},
     "output_type": "execute_result"
    }
   ],
   "source": [
    "df[\"roadClosure\"].value_counts()"
   ]
  },
  {
   "cell_type": "markdown",
   "id": "bd74e9b6-56e2-45ca-8aa7-ba99ad0a7889",
   "metadata": {},
   "source": [
    "- There are only 13 out of 73535 rows with roadClosure True\n",
    "- It is not relevant so we can remove"
   ]
  },
  {
   "cell_type": "code",
   "execution_count": 6,
   "id": "cd0c76cd-03fd-4a2d-9f97-48af840eb57c",
   "metadata": {
    "tags": []
   },
   "outputs": [
    {
     "data": {
      "text/html": [
       "<div>\n",
       "<style scoped>\n",
       "    .dataframe tbody tr th:only-of-type {\n",
       "        vertical-align: middle;\n",
       "    }\n",
       "\n",
       "    .dataframe tbody tr th {\n",
       "        vertical-align: top;\n",
       "    }\n",
       "\n",
       "    .dataframe thead th {\n",
       "        text-align: right;\n",
       "    }\n",
       "</style>\n",
       "<table border=\"1\" class=\"dataframe\">\n",
       "  <thead>\n",
       "    <tr style=\"text-align: right;\">\n",
       "      <th></th>\n",
       "      <th>currentSpeed</th>\n",
       "      <th>freeFlowSpeed</th>\n",
       "      <th>currentTravelTime</th>\n",
       "      <th>freeFlowTravelTime</th>\n",
       "      <th>collectedAt</th>\n",
       "      <th>year</th>\n",
       "      <th>month</th>\n",
       "      <th>day</th>\n",
       "      <th>day_of_week</th>\n",
       "      <th>hour</th>\n",
       "      <th>minute</th>\n",
       "    </tr>\n",
       "  </thead>\n",
       "  <tbody>\n",
       "    <tr>\n",
       "      <th>0</th>\n",
       "      <td>94</td>\n",
       "      <td>94</td>\n",
       "      <td>297</td>\n",
       "      <td>297</td>\n",
       "      <td>2022-07-14 12:45:00+00:00</td>\n",
       "      <td>2022</td>\n",
       "      <td>July</td>\n",
       "      <td>14</td>\n",
       "      <td>Thursday</td>\n",
       "      <td>12</td>\n",
       "      <td>45</td>\n",
       "    </tr>\n",
       "    <tr>\n",
       "      <th>1</th>\n",
       "      <td>94</td>\n",
       "      <td>94</td>\n",
       "      <td>297</td>\n",
       "      <td>297</td>\n",
       "      <td>2022-07-14 12:51:44+00:00</td>\n",
       "      <td>2022</td>\n",
       "      <td>July</td>\n",
       "      <td>14</td>\n",
       "      <td>Thursday</td>\n",
       "      <td>12</td>\n",
       "      <td>51</td>\n",
       "    </tr>\n",
       "    <tr>\n",
       "      <th>2</th>\n",
       "      <td>75</td>\n",
       "      <td>93</td>\n",
       "      <td>372</td>\n",
       "      <td>300</td>\n",
       "      <td>2022-07-14 12:55:27+00:00</td>\n",
       "      <td>2022</td>\n",
       "      <td>July</td>\n",
       "      <td>14</td>\n",
       "      <td>Thursday</td>\n",
       "      <td>12</td>\n",
       "      <td>55</td>\n",
       "    </tr>\n",
       "  </tbody>\n",
       "</table>\n",
       "</div>"
      ],
      "text/plain": [
       "   currentSpeed  freeFlowSpeed  currentTravelTime  freeFlowTravelTime  \\\n",
       "0            94             94                297                 297   \n",
       "1            94             94                297                 297   \n",
       "2            75             93                372                 300   \n",
       "\n",
       "                collectedAt  year month  day day_of_week  hour  minute  \n",
       "0 2022-07-14 12:45:00+00:00  2022  July   14    Thursday    12      45  \n",
       "1 2022-07-14 12:51:44+00:00  2022  July   14    Thursday    12      51  \n",
       "2 2022-07-14 12:55:27+00:00  2022  July   14    Thursday    12      55  "
      ]
     },
     "execution_count": 6,
     "metadata": {},
     "output_type": "execute_result"
    }
   ],
   "source": [
    "df.drop([\"roadClosure\"],inplace=True,axis=1)\n",
    "df.head(3)"
   ]
  },
  {
   "cell_type": "code",
   "execution_count": 7,
   "id": "7341cd3a-9fd8-4850-95d6-6eddfa2f67e0",
   "metadata": {
    "tags": []
   },
   "outputs": [
    {
     "data": {
      "text/plain": [
       "Saturday     10655\n",
       "Friday       10652\n",
       "Sunday       10632\n",
       "Thursday     10498\n",
       "Monday       10368\n",
       "Tuesday      10367\n",
       "Wednesday    10363\n",
       "Name: day_of_week, dtype: int64"
      ]
     },
     "execution_count": 7,
     "metadata": {},
     "output_type": "execute_result"
    }
   ],
   "source": [
    "df[\"day_of_week\"].value_counts()"
   ]
  },
  {
   "cell_type": "markdown",
   "id": "2a67018b-e95f-4b8a-94c8-2addf3492dd9",
   "metadata": {},
   "source": [
    "- Days of week are pretty well balanced"
   ]
  },
  {
   "cell_type": "markdown",
   "id": "49d59325-2ac6-4cdc-91f1-89e71840166f",
   "metadata": {},
   "source": [
    "# Consolidate desired features\n",
    "- Distance is fixed\n",
    "- Time is a function of speed and distance\n",
    "- Therefore, time depends on speed\n",
    "- My target is speed only"
   ]
  },
  {
   "cell_type": "code",
   "execution_count": 8,
   "id": "e549cd4c-d0b6-4028-908d-1119cf2f2f30",
   "metadata": {
    "tags": []
   },
   "outputs": [
    {
     "data": {
      "text/html": [
       "<div>\n",
       "<style scoped>\n",
       "    .dataframe tbody tr th:only-of-type {\n",
       "        vertical-align: middle;\n",
       "    }\n",
       "\n",
       "    .dataframe tbody tr th {\n",
       "        vertical-align: top;\n",
       "    }\n",
       "\n",
       "    .dataframe thead th {\n",
       "        text-align: right;\n",
       "    }\n",
       "</style>\n",
       "<table border=\"1\" class=\"dataframe\">\n",
       "  <thead>\n",
       "    <tr style=\"text-align: right;\">\n",
       "      <th></th>\n",
       "      <th>collectedAt</th>\n",
       "      <th>month</th>\n",
       "      <th>day</th>\n",
       "      <th>day_of_week</th>\n",
       "      <th>hour</th>\n",
       "      <th>minute</th>\n",
       "      <th>currentSpeed</th>\n",
       "    </tr>\n",
       "  </thead>\n",
       "  <tbody>\n",
       "    <tr>\n",
       "      <th>0</th>\n",
       "      <td>2022-07-14 12:45:00+00:00</td>\n",
       "      <td>July</td>\n",
       "      <td>14</td>\n",
       "      <td>Thursday</td>\n",
       "      <td>12</td>\n",
       "      <td>45</td>\n",
       "      <td>94</td>\n",
       "    </tr>\n",
       "    <tr>\n",
       "      <th>1</th>\n",
       "      <td>2022-07-14 12:51:44+00:00</td>\n",
       "      <td>July</td>\n",
       "      <td>14</td>\n",
       "      <td>Thursday</td>\n",
       "      <td>12</td>\n",
       "      <td>51</td>\n",
       "      <td>94</td>\n",
       "    </tr>\n",
       "    <tr>\n",
       "      <th>2</th>\n",
       "      <td>2022-07-14 12:55:27+00:00</td>\n",
       "      <td>July</td>\n",
       "      <td>14</td>\n",
       "      <td>Thursday</td>\n",
       "      <td>12</td>\n",
       "      <td>55</td>\n",
       "      <td>75</td>\n",
       "    </tr>\n",
       "  </tbody>\n",
       "</table>\n",
       "</div>"
      ],
      "text/plain": [
       "                collectedAt month  day day_of_week  hour  minute  currentSpeed\n",
       "0 2022-07-14 12:45:00+00:00  July   14    Thursday    12      45            94\n",
       "1 2022-07-14 12:51:44+00:00  July   14    Thursday    12      51            94\n",
       "2 2022-07-14 12:55:27+00:00  July   14    Thursday    12      55            75"
      ]
     },
     "execution_count": 8,
     "metadata": {},
     "output_type": "execute_result"
    }
   ],
   "source": [
    "data = df[[\"collectedAt\",\"month\",\"day\",\"day_of_week\",\"hour\",\"minute\",\"currentSpeed\"]]\n",
    "data.head(3)"
   ]
  },
  {
   "cell_type": "markdown",
   "id": "b2bc7a8e-6b22-43b7-a02d-2b3d28bf289d",
   "metadata": {},
   "source": [
    "# Analyze speeds"
   ]
  },
  {
   "cell_type": "markdown",
   "id": "89208cfd-ac20-43a0-a699-4098e2bf0a1f",
   "metadata": {},
   "source": [
    "## Let's see what the speeds look like"
   ]
  },
  {
   "cell_type": "code",
   "execution_count": 9,
   "id": "27a07a4f-c6ca-4d3e-ad42-42d3dc4d5b5b",
   "metadata": {
    "tags": []
   },
   "outputs": [
    {
     "data": {
      "text/plain": [
       "<Axes: xlabel='currentSpeed', ylabel='Count'>"
      ]
     },
     "execution_count": 9,
     "metadata": {},
     "output_type": "execute_result"
    },
    {
     "data": {
      "image/png": "[encoded data removed]",
      "text/plain": [
       "<Figure size 640x480 with 1 Axes>"
      ]
     },
     "metadata": {},
     "output_type": "display_data"
    }
   ],
   "source": [
    "sns.histplot(data=data,x=\"currentSpeed\",binwidth=3,kde=True)"
   ]
  },
  {
   "cell_type": "markdown",
   "id": "e28340c6-b7f9-45ab-b625-7a39551381fe",
   "metadata": {},
   "source": [
    "## Minimum, maximum, mean and median values for speed"
   ]
  },
  {
   "cell_type": "code",
   "execution_count": 13,
   "id": "ce8fb174-138f-4b97-9ab5-8b7a13e9c659",
   "metadata": {
    "tags": []
   },
   "outputs": [
    {
     "name": "stdout",
     "output_type": "stream",
     "text": [
      "Min speed:    16\n",
      "Max speed:    94\n",
      "Mean speed:   85.88472156116136\n",
      "Median speed: 93.0\n",
      "Variance:     165.12380374621216\n",
      "Std dev:      12.850050729324463\n"
     ]
    }
   ],
   "source": [
    "min_spd = data[\"currentSpeed\"].min()\n",
    "max_spd = data[\"currentSpeed\"].max()\n",
    "mean_spd = data[\"currentSpeed\"].mean()\n",
    "median_spd = data[\"currentSpeed\"].median()\n",
    "variance = data[\"currentSpeed\"].var()\n",
    "std_dev = data[\"currentSpeed\"].std()\n",
    "\n",
    "print(\n",
    "    f\"Min speed:    {min_spd}\\n\"\n",
    "    f\"Max speed:    {max_spd}\\n\"\n",
    "    f\"Mean speed:   {mean_spd}\\n\"\n",
    "    f\"Median speed: {median_spd}\\n\"\n",
    "    f\"Variance:     {variance}\\n\"\n",
    "    f\"Std dev:      {std_dev}\"\n",
    ")"
   ]
  },
  {
   "cell_type": "code",
   "execution_count": 11,
   "id": "27a65d2d-e465-44fe-8f6d-60ce53bce84d",
   "metadata": {},
   "outputs": [],
   "source": [
    "data.to_csv(\"./data/gardiner_flow.csv.zip\",index=False, compression=\"zip\")"
   ]
  }
 ],
 "metadata": {
  "kernelspec": {
   "display_name": "Python 3 (ipykernel)",
   "language": "python",
   "name": "python3"
  },
  "language_info": {
   "codemirror_mode": {
    "name": "ipython",
    "version": 3
   },
   "file_extension": ".py",
   "mimetype": "text/x-python",
   "name": "python",
   "nbconvert_exporter": "python",
   "pygments_lexer": "ipython3",
   "version": "3.10.10"
  }
 },
 "nbformat": 4,
 "nbformat_minor": 5
}

{
 "cells": [
  {
   "cell_type": "code",
   "execution_count": 1,
   "id": "e97f1781-f426-4f63-ae72-4bda3fe1932c",
   "metadata": {},
   "outputs": [],
   "source": [
    "import joblib\n",
    "import ml_help\n",
    "import pandas as pd\n",
    "from time import time\n",
    "from sklearn.model_selection import train_test_split"
   ]
  },
  {
   "cell_type": "markdown",
   "id": "02f1a19a-9700-4299-a3ec-a13bacb5ef17",
   "metadata": {},
   "source": [
    "# Load historical data"
   ]
  },
  {
   "cell_type": "code",
   "execution_count": 2,
   "id": "f459b380-4f0d-4948-b5d2-5cdf33a8213a",
   "metadata": {},
   "outputs": [],
   "source": [
    "flow_df = pd.read_csv(\"./data/gardiner_flow.csv.zip\")\n",
    "weather_df = pd.read_csv(\"./data/weather_data.csv.zip\")\n",
    "\n",
    "flow_df[\"collectedAt\"] = pd.to_datetime(flow_df[\"collectedAt\"],utc=True)\n",
    "flow_df[\"collectedAt\"] = flow_df[\"collectedAt\"].dt.floor(freq=\"t\")\n",
    "weather_df[\"collectedAt\"] = pd.to_datetime(weather_df[\"collectedAt\"],utc=True)\n",
    "weather_df[\"collectedAt\"] = weather_df[\"collectedAt\"].dt.floor(freq=\"t\")\n",
    "\n",
    "flow_df.drop(['month', 'day', 'day_of_week', 'hour', 'minute'],inplace=True,axis=1)\n",
    "weather_df.drop(['month', 'day', 'day_of_week', 'day_of_week_name', 'hour', 'minute', 'windDegree'],inplace=True,axis=1)\n",
    "\n",
    "df = flow_df.merge(weather_df,on=\"collectedAt\",how=\"inner\")\n",
    "df[\"Month\"] = df.collectedAt.dt.month_name()\n",
    "df[\"Weekday\"] = df.collectedAt.dt.day_name()\n",
    "df[\"Hour\"] = df.collectedAt.dt.hour\n",
    "df[\"Minute\"] = df.collectedAt.dt.minute\n",
    "df.drop(\"collectedAt\",inplace=True,axis=1)\n",
    "\n",
    "df.rename({\n",
    "    'visibility': \"Visibility\",\n",
    "    'temperature': \"Temperature\",\n",
    "    'FeelsLike': \"Feels Like\",\n",
    "    'humidity':\"Humidity\",\n",
    "    'windSpeed': \"Wind Speed\",\n",
    "    'cloudsAll': \"Clouds All\",\n",
    "    'rain1h': \"Rain (1h)\",\n",
    "    'snow1h': \"Snow (1h)\",\n",
    "    'cloudy':\"Cloudy\",\n",
    "    'clear':\"Clear\",\n",
    "    'atmosphere':\"Atmosphere\",\n",
    "    'snowy': \"Snowy\",\n",
    "    'rainy':\"Rainy\",\n",
    "}, axis=1, inplace=True)\n",
    "\n",
    "categorical_attrs = [\"Month\", \"Weekday\"]\n",
    "transformed_df_old = pd.get_dummies(df, columns=categorical_attrs, prefix=\"\", prefix_sep=\"\")\n",
    "transformed_df_old = transformed_df_old.astype(\"float32\")\n",
    "transformed_df_old['May'] = 0\n",
    "transformed_df_old = transformed_df_old.reindex(sorted(transformed_df_old.columns), axis=1)\n",
    "\n",
    "X_old = transformed_df_old.drop(\"currentSpeed\",axis=1)\n",
    "y_old = transformed_df_old[\"currentSpeed\"]\n",
    "\n",
    "X_train_old, X_test_old, y_train_old, y_test_old = train_test_split(X_old, y_old, test_size=0.20, random_state=42)"
   ]
  },
  {
   "cell_type": "markdown",
   "id": "716f65de-17de-4be9-93f3-51a1bd6e8c84",
   "metadata": {},
   "source": [
    "# Load future data"
   ]
  },
  {
   "cell_type": "code",
   "execution_count": 3,
   "id": "fffc4865-66f7-45ce-bbf2-3c1980009a91",
   "metadata": {},
   "outputs": [],
   "source": [
    "df_new = pd.read_csv(\"./data/202305_gardiner_flow_weather.csv.zip\")\n",
    "df_new['August'] = 0\n",
    "df_new['December'] = 0\n",
    "df_new['February'] = 0\n",
    "df_new['January'] = 0\n",
    "df_new['July'] = 0\n",
    "df_new['March'] = 0\n",
    "df_new['November'] = 0\n",
    "df_new['October'] = 0\n",
    "df_new['September'] = 0\n",
    "df_new = df_new.reindex(sorted(df_new.columns), axis=1)\n",
    "\n",
    "X_new = df_new.drop(\"currentSpeed\",axis=1)\n",
    "y_new = df_new[\"currentSpeed\"]\n",
    "\n",
    "X_train_new, X_test_new, y_train_new, y_test_new = train_test_split(X_new, y_new, test_size=0.20, random_state=42)"
   ]
  },
  {
   "cell_type": "markdown",
   "id": "81a0f937-89bb-46d7-941a-588d459a7a80",
   "metadata": {},
   "source": [
    "# XGBoost"
   ]
  },
  {
   "cell_type": "markdown",
   "id": "42a764c1-f58b-4dd6-8d77-9029cb731219",
   "metadata": {},
   "source": [
    "## Train on historical data"
   ]
  },
  {
   "cell_type": "code",
   "execution_count": 4,
   "id": "a0ee6f4b-1c46-4aaf-96f8-eb5403001c55",
   "metadata": {},
   "outputs": [
    {
     "name": "stdout",
     "output_type": "stream",
     "text": [
      "Training XGBoost on historical data...\n",
      "Training XGBoost on historical data... OK!\n"
     ]
    }
   ],
   "source": [
    "import xgboost as xgb\n",
    "from sklearn.preprocessing import StandardScaler\n",
    "from sklearn.pipeline import make_pipeline\n",
    "\n",
    "params = ml_help.params_to_dict(\"043_xgboost\")\n",
    "params[\"predictor\"] = \"cpu_predictor\"\n",
    "params[\"tree_method\"] = \"hist\"\n",
    "\n",
    "xgboost_pipeline = make_pipeline(StandardScaler(),xgb.XGBRegressor(**params))\n",
    "\n",
    "print(\"Training XGBoost on historical data...\")\n",
    "start = time()\n",
    "pipe = xgboost_pipeline.fit(X_train_old,y_train_old)\n",
    "end = time()\n",
    "print(\"Training XGBoost on historical data... OK!\")"
   ]
  },
  {
   "cell_type": "markdown",
   "id": "57f40002-0364-44b7-942d-c2e98b968ea3",
   "metadata": {},
   "source": [
    "## Test model using future data"
   ]
  },
  {
   "cell_type": "code",
   "execution_count": 5,
   "id": "9035a59c-b00f-45a2-8053-b93536a5f62f",
   "metadata": {},
   "outputs": [
    {
     "data": {
      "text/plain": [
       "{'model': 'XGBoost',\n",
       " 'r2': 0.6118330709702824,\n",
       " 'mae': 5.528493383563513,\n",
       " 'mse': 68.2619570439722,\n",
       " 'rmse': 8.262079462458116,\n",
       " 'mape': 0.07710248341115629,\n",
       " 'time_to_fit': 18.81388235092163}"
      ]
     },
     "execution_count": 5,
     "metadata": {},
     "output_type": "execute_result"
    }
   ],
   "source": [
    "y_pred_new = pipe.predict(X_test_new)\n",
    "xgb_metrics_new = ml_help.get_metrics_reg(\"XGBoost\",y_test_new,y_pred_new)\n",
    "xgb_metrics_new[\"time_to_fit\"] = end-start\n",
    "xgb_metrics_new"
   ]
  },
  {
   "cell_type": "markdown",
   "id": "484aee9b-f34f-4d0a-ba11-00d9324f0a70",
   "metadata": {},
   "source": [
    "## Test model using historical data"
   ]
  },
  {
   "cell_type": "code",
   "execution_count": 6,
   "id": "14688536-69fc-434f-8d22-bd9fcc4a69d2",
   "metadata": {},
   "outputs": [
    {
     "data": {
      "text/plain": [
       "{'model': 'XGBoost',\n",
       " 'r2': 0.8939052051954317,\n",
       " 'mae': 2.3543594,\n",
       " 'mse': 17.090115,\n",
       " 'rmse': 4.1340194,\n",
       " 'mape': 0.031136168,\n",
       " 'time_to_fit': 18.81388235092163}"
      ]
     },
     "execution_count": 6,
     "metadata": {},
     "output_type": "execute_result"
    }
   ],
   "source": [
    "y_pred_old = pipe.predict(X_test_old)\n",
    "xgb_metrics_old = ml_help.get_metrics_reg(\"XGBoost\",y_test_old,y_pred_old)\n",
    "xgb_metrics_old[\"time_to_fit\"] = end-start\n",
    "xgb_metrics_old"
   ]
  },
  {
   "cell_type": "markdown",
   "id": "57529855-fade-49c8-96ea-0516d5699273",
   "metadata": {},
   "source": [
    "# Random Forest"
   ]
  },
  {
   "cell_type": "markdown",
   "id": "08d56005-2f26-44ba-97bf-dba0f1c1ad23",
   "metadata": {},
   "source": [
    "## Train on historical data"
   ]
  },
  {
   "cell_type": "code",
   "execution_count": 7,
   "id": "c127cea3-2c06-495f-affe-60b345097ecc",
   "metadata": {},
   "outputs": [
    {
     "name": "stdout",
     "output_type": "stream",
     "text": [
      "Training Random Forest on historical data...\n",
      "Training Random Forest on historical data... OK!\n"
     ]
    }
   ],
   "source": [
    "from sklearn.ensemble import RandomForestRegressor\n",
    "\n",
    "params = ml_help.params_to_dict(\"043_random_forest\")\n",
    "\n",
    "random_forest_pipeline = make_pipeline(StandardScaler(),RandomForestRegressor(**params))\n",
    "\n",
    "print(\"Training Random Forest on historical data...\")\n",
    "start = time()\n",
    "pipe = random_forest_pipeline.fit(X_train_old,y_train_old)\n",
    "end = time()\n",
    "print(\"Training Random Forest on historical data... OK!\")"
   ]
  },
  {
   "cell_type": "markdown",
   "id": "384ef05a-c485-4080-884c-4561ed6b38d3",
   "metadata": {},
   "source": [
    "## Test model using future data"
   ]
  },
  {
   "cell_type": "code",
   "execution_count": 8,
   "id": "7b0466e5-f472-4de8-a223-1233ff4b8891",
   "metadata": {},
   "outputs": [
    {
     "data": {
      "text/plain": [
       "{'model': 'Random Forest',\n",
       " 'r2': 0.6398142038381591,\n",
       " 'mae': 4.847341187603148,\n",
       " 'mse': 63.34127280473746,\n",
       " 'rmse': 7.958723063704218,\n",
       " 'mape': 0.069110569123921,\n",
       " 'time_to_fit': 12.523934602737427}"
      ]
     },
     "execution_count": 8,
     "metadata": {},
     "output_type": "execute_result"
    }
   ],
   "source": [
    "y_pred_new = pipe.predict(X_test_new)\n",
    "rf_metrics_new = ml_help.get_metrics_reg(\"Random Forest\",y_test_new,y_pred_new)\n",
    "rf_metrics_new[\"time_to_fit\"] = end-start\n",
    "rf_metrics_new"
   ]
  },
  {
   "cell_type": "markdown",
   "id": "f156a324-bc05-436b-bca4-81a39eb234b8",
   "metadata": {},
   "source": [
    "## Test model using historical data"
   ]
  },
  {
   "cell_type": "code",
   "execution_count": 9,
   "id": "95763acb-6101-4106-bb96-fe84040fb11c",
   "metadata": {},
   "outputs": [
    {
     "data": {
      "text/plain": [
       "{'model': 'Random Forest',\n",
       " 'r2': 0.6955412216687005,\n",
       " 'mae': 4.199602880899329,\n",
       " 'mse': 49.04326999507352,\n",
       " 'rmse': 7.003090031912593,\n",
       " 'mape': 0.05817080058386192,\n",
       " 'time_to_fit': 12.523934602737427}"
      ]
     },
     "execution_count": 9,
     "metadata": {},
     "output_type": "execute_result"
    }
   ],
   "source": [
    "y_pred_old = pipe.predict(X_test_old)\n",
    "rf_metrics_old = ml_help.get_metrics_reg(\"Random Forest\",y_test_old,y_pred_old)\n",
    "rf_metrics_old[\"time_to_fit\"] = end-start\n",
    "rf_metrics_old"
   ]
  },
  {
   "cell_type": "markdown",
   "id": "5eb2b0e9-6779-4a8f-b933-6064cb993ae6",
   "metadata": {},
   "source": [
    "# Decision Tree"
   ]
  },
  {
   "cell_type": "markdown",
   "id": "ec800058-91dd-49d9-bf19-3791f238db8b",
   "metadata": {},
   "source": [
    "## Train on historical data"
   ]
  },
  {
   "cell_type": "code",
   "execution_count": 10,
   "id": "5d91c2b4-2067-4be8-914c-f9932645a007",
   "metadata": {},
   "outputs": [
    {
     "name": "stdout",
     "output_type": "stream",
     "text": [
      "Training Decision Tree on historical data...\n",
      "Training Decision Tree on historical data... OK!\n"
     ]
    }
   ],
   "source": [
    "from sklearn.tree import DecisionTreeRegressor\n",
    "\n",
    "params = ml_help.params_to_dict(\"043_decision_tree\")\n",
    "\n",
    "decision_tree_pipeline = make_pipeline(StandardScaler(),DecisionTreeRegressor(**params))\n",
    "\n",
    "print(\"Training Decision Tree on historical data...\")\n",
    "start = time()\n",
    "pipe = decision_tree_pipeline.fit(X_train_old,y_train_old)\n",
    "end = time()\n",
    "print(\"Training Decision Tree on historical data... OK!\")"
   ]
  },
  {
   "cell_type": "markdown",
   "id": "3f683a97-30f5-4442-ba63-20c7525486d5",
   "metadata": {},
   "source": [
    "## Test model using future data"
   ]
  },
  {
   "cell_type": "code",
   "execution_count": 11,
   "id": "07fba2c0-e6ef-4b7f-aaca-c1107739949d",
   "metadata": {},
   "outputs": [
    {
     "data": {
      "text/plain": [
       "{'model': 'Decision Tree',\n",
       " 'r2': 0.6172368862404298,\n",
       " 'mae': 4.902952995302113,\n",
       " 'mse': 67.31165711304706,\n",
       " 'rmse': 8.204368172689904,\n",
       " 'mape': 0.07027552986870383,\n",
       " 'time_to_fit': 0.1967945098876953}"
      ]
     },
     "execution_count": 11,
     "metadata": {},
     "output_type": "execute_result"
    }
   ],
   "source": [
    "y_pred_new = pipe.predict(X_test_new)\n",
    "dt_metrics_new = ml_help.get_metrics_reg(\"Decision Tree\",y_test_new,y_pred_new)\n",
    "dt_metrics_new[\"time_to_fit\"] = end-start\n",
    "dt_metrics_new"
   ]
  },
  {
   "cell_type": "markdown",
   "id": "1e0f2359-e075-473b-91f4-3e5ffb444d00",
   "metadata": {},
   "source": [
    "## Test model using historical data"
   ]
  },
  {
   "cell_type": "code",
   "execution_count": 12,
   "id": "f7b63b5a-f318-4396-b607-a1489a7d3f34",
   "metadata": {},
   "outputs": [
    {
     "data": {
      "text/plain": [
       "{'model': 'Decision Tree',\n",
       " 'r2': 0.6649662896070131,\n",
       " 'mae': 4.288244182306596,\n",
       " 'mse': 53.96838549478389,\n",
       " 'rmse': 7.346317818797652,\n",
       " 'mape': 0.05939933030510052,\n",
       " 'time_to_fit': 0.1967945098876953}"
      ]
     },
     "execution_count": 12,
     "metadata": {},
     "output_type": "execute_result"
    }
   ],
   "source": [
    "y_pred_old = pipe.predict(X_test_old)\n",
    "dt_metrics_old = ml_help.get_metrics_reg(\"Decision Tree\",y_test_old,y_pred_old)\n",
    "dt_metrics_old[\"time_to_fit\"] = end-start\n",
    "dt_metrics_old"
   ]
  },
  {
   "cell_type": "markdown",
   "id": "3fea3258-c590-479f-bc77-736225b7c88a",
   "metadata": {},
   "source": [
    "# MLP"
   ]
  },
  {
   "cell_type": "markdown",
   "id": "d11dd2e8-1493-4fbf-a7b0-906eae74aae2",
   "metadata": {},
   "source": [
    "## Train model using historical data"
   ]
  },
  {
   "cell_type": "code",
   "execution_count": 13,
   "id": "60402b97-7767-489c-a018-9a1bfbd964e0",
   "metadata": {},
   "outputs": [
    {
     "name": "stdout",
     "output_type": "stream",
     "text": [
      "Training MLP on historical data...\n",
      "Training MLP on historical data... OK!\n"
     ]
    }
   ],
   "source": [
    "from sklearn.neural_network import MLPRegressor\n",
    "\n",
    "params = ml_help.params_to_dict(\"043_mlpr\")\n",
    "\n",
    "mlp_pipeline = make_pipeline(StandardScaler(),MLPRegressor(**params))\n",
    "\n",
    "print(\"Training MLP on historical data...\")\n",
    "start = time()\n",
    "pipe = mlp_pipeline.fit(X_train_old,y_train_old)\n",
    "end = time()\n",
    "print(\"Training MLP on historical data... OK!\")"
   ]
  },
  {
   "cell_type": "markdown",
   "id": "f971cb01-b06b-4e3e-a695-701793054193",
   "metadata": {},
   "source": [
    "## Test model using future data"
   ]
  },
  {
   "cell_type": "code",
   "execution_count": 14,
   "id": "b1510177-9da8-48cd-828f-9449d084ebe2",
   "metadata": {},
   "outputs": [
    {
     "data": {
      "text/plain": [
       "{'model': 'MLP',\n",
       " 'r2': -0.39664460401020496,\n",
       " 'mae': 13.107622496578886,\n",
       " 'mse': 245.6100374211458,\n",
       " 'rmse': 15.671950657820034,\n",
       " 'mape': 0.16245509519035797,\n",
       " 'time_to_fit': 300.56917095184326}"
      ]
     },
     "execution_count": 14,
     "metadata": {},
     "output_type": "execute_result"
    }
   ],
   "source": [
    "y_pred_new = pipe.predict(X_test_new)\n",
    "mlp_metrics_new = ml_help.get_metrics_reg(\"MLP\",y_test_new,y_pred_new)\n",
    "mlp_metrics_new[\"time_to_fit\"] = end-start\n",
    "mlp_metrics_new"
   ]
  },
  {
   "cell_type": "markdown",
   "id": "70209f27-5086-46d8-9890-99f6b3cd098e",
   "metadata": {},
   "source": [
    "## Test model using historical data"
   ]
  },
  {
   "cell_type": "code",
   "execution_count": 15,
   "id": "38fc2415-2b98-4342-a988-da763fdefbb6",
   "metadata": {},
   "outputs": [
    {
     "data": {
      "text/plain": [
       "{'model': 'MLP',\n",
       " 'r2': 0.816597346855748,\n",
       " 'mae': 3.8109203570836576,\n",
       " 'mse': 29.54313186588019,\n",
       " 'rmse': 5.4353594054009156,\n",
       " 'mape': 0.048525777193784016,\n",
       " 'time_to_fit': 300.56917095184326}"
      ]
     },
     "execution_count": 15,
     "metadata": {},
     "output_type": "execute_result"
    }
   ],
   "source": [
    "y_pred_old = pipe.predict(X_test_old)\n",
    "mlp_metrics_old = ml_help.get_metrics_reg(\"MLP\",y_test_old,y_pred_old)\n",
    "mlp_metrics_old[\"time_to_fit\"] = end-start\n",
    "mlp_metrics_old"
   ]
  },
  {
   "cell_type": "markdown",
   "id": "bdfb2569-5d4e-49a2-981e-6d3b65f065eb",
   "metadata": {},
   "source": [
    "# Store metrics"
   ]
  },
  {
   "cell_type": "code",
   "execution_count": 16,
   "id": "26bcf4c8-bd87-47cd-a016-3bb19e9b2f02",
   "metadata": {},
   "outputs": [],
   "source": [
    "metrics_new = pd.concat([pd.DataFrame(xgb_metrics_new,index=[0]),pd.DataFrame(rf_metrics_new,index=[0]),pd.DataFrame(dt_metrics_new,index=[0]),pd.DataFrame(mlp_metrics_new,index=[0])])\n",
    "metrics_new.to_csv(\"./metrics/993_gardiner_flow_weather_metrics_new.csv.zip\",index=False,compression=\"zip\")\n",
    "\n",
    "metrics_old = pd.concat([pd.DataFrame(xgb_metrics_old,index=[0]),pd.DataFrame(rf_metrics_old,index=[0]),pd.DataFrame(dt_metrics_old,index=[0]),pd.DataFrame(mlp_metrics_old,index=[0])])\n",
    "metrics_old.to_csv(\"./metrics/993_gardiner_flow_weather_metrics_old.csv.zip\",index=False,compression=\"zip\")"
   ]
  },
  {
   "cell_type": "markdown",
   "id": "f4df7c35-c3e8-4dd6-ad69-2fac61c76dc1",
   "metadata": {},
   "source": [
    "# Plot metrics"
   ]
  },
  {
   "cell_type": "code",
   "execution_count": 21,
   "id": "001bef73-892a-45c8-a690-f01d1e2847cd",
   "metadata": {},
   "outputs": [
    {
     "data": {
      "text/html": [
       "<div>\n",
       "<style scoped>\n",
       "    .dataframe tbody tr th:only-of-type {\n",
       "        vertical-align: middle;\n",
       "    }\n",
       "\n",
       "    .dataframe tbody tr th {\n",
       "        vertical-align: top;\n",
       "    }\n",
       "\n",
       "    .dataframe thead th {\n",
       "        text-align: right;\n",
       "    }\n",
       "</style>\n",
       "<table border=\"1\" class=\"dataframe\">\n",
       "  <thead>\n",
       "    <tr style=\"text-align: right;\">\n",
       "      <th></th>\n",
       "      <th>model</th>\n",
       "      <th>r2</th>\n",
       "      <th>mae</th>\n",
       "      <th>mse</th>\n",
       "      <th>rmse</th>\n",
       "      <th>mape</th>\n",
       "      <th>time_to_fit</th>\n",
       "    </tr>\n",
       "  </thead>\n",
       "  <tbody>\n",
       "    <tr>\n",
       "      <th>0</th>\n",
       "      <td>XGBoost FX</td>\n",
       "      <td>0.611833</td>\n",
       "      <td>5.528493</td>\n",
       "      <td>68.261957</td>\n",
       "      <td>8.262079</td>\n",
       "      <td>0.077102</td>\n",
       "      <td>18.813882</td>\n",
       "    </tr>\n",
       "    <tr>\n",
       "      <th>1</th>\n",
       "      <td>Random Forest FX</td>\n",
       "      <td>0.639814</td>\n",
       "      <td>4.847341</td>\n",
       "      <td>63.341273</td>\n",
       "      <td>7.958723</td>\n",
       "      <td>0.069111</td>\n",
       "      <td>12.523935</td>\n",
       "    </tr>\n",
       "    <tr>\n",
       "      <th>2</th>\n",
       "      <td>Decision Tree FX</td>\n",
       "      <td>0.617237</td>\n",
       "      <td>4.902953</td>\n",
       "      <td>67.311657</td>\n",
       "      <td>8.204368</td>\n",
       "      <td>0.070276</td>\n",
       "      <td>0.196795</td>\n",
       "    </tr>\n",
       "    <tr>\n",
       "      <th>3</th>\n",
       "      <td>MLP FX</td>\n",
       "      <td>-0.396645</td>\n",
       "      <td>13.107622</td>\n",
       "      <td>245.610037</td>\n",
       "      <td>15.671951</td>\n",
       "      <td>0.162455</td>\n",
       "      <td>300.569171</td>\n",
       "    </tr>\n",
       "  </tbody>\n",
       "</table>\n",
       "</div>"
      ],
      "text/plain": [
       "              model        r2        mae         mse       rmse      mape  \\\n",
       "0        XGBoost FX  0.611833   5.528493   68.261957   8.262079  0.077102   \n",
       "1  Random Forest FX  0.639814   4.847341   63.341273   7.958723  0.069111   \n",
       "2  Decision Tree FX  0.617237   4.902953   67.311657   8.204368  0.070276   \n",
       "3            MLP FX -0.396645  13.107622  245.610037  15.671951  0.162455   \n",
       "\n",
       "   time_to_fit  \n",
       "0    18.813882  \n",
       "1    12.523935  \n",
       "2     0.196795  \n",
       "3   300.569171  "
      ]
     },
     "execution_count": 21,
     "metadata": {},
     "output_type": "execute_result"
    }
   ],
   "source": [
    "metrics_new = pd.read_csv(\"./metrics/993_gardiner_flow_weather_metrics_new.csv.zip\")\n",
    "metrics_new.at[0,\"model\"] = \"XGBoost FX\"\n",
    "metrics_new.at[1,\"model\"] = \"Random Forest FX\"\n",
    "metrics_new.at[2,\"model\"] = \"Decision Tree FX\"\n",
    "metrics_new.at[3,\"model\"] = \"MLP FX\"\n",
    "metrics_new"
   ]
  },
  {
   "cell_type": "code",
   "execution_count": 22,
   "id": "6656f2d4-e278-4abe-8dfb-9eb363c5d2e5",
   "metadata": {},
   "outputs": [
    {
     "data": {
      "text/html": [
       "<div>\n",
       "<style scoped>\n",
       "    .dataframe tbody tr th:only-of-type {\n",
       "        vertical-align: middle;\n",
       "    }\n",
       "\n",
       "    .dataframe tbody tr th {\n",
       "        vertical-align: top;\n",
       "    }\n",
       "\n",
       "    .dataframe thead th {\n",
       "        text-align: right;\n",
       "    }\n",
       "</style>\n",
       "<table border=\"1\" class=\"dataframe\">\n",
       "  <thead>\n",
       "    <tr style=\"text-align: right;\">\n",
       "      <th></th>\n",
       "      <th>model</th>\n",
       "      <th>r2</th>\n",
       "      <th>mae</th>\n",
       "      <th>mse</th>\n",
       "      <th>rmse</th>\n",
       "      <th>mape</th>\n",
       "      <th>time_to_fit</th>\n",
       "    </tr>\n",
       "  </thead>\n",
       "  <tbody>\n",
       "    <tr>\n",
       "      <th>0</th>\n",
       "      <td>XGBoost</td>\n",
       "      <td>0.893905</td>\n",
       "      <td>2.354359</td>\n",
       "      <td>17.090115</td>\n",
       "      <td>4.134019</td>\n",
       "      <td>0.031136</td>\n",
       "      <td>18.813882</td>\n",
       "    </tr>\n",
       "    <tr>\n",
       "      <th>1</th>\n",
       "      <td>Random Forest</td>\n",
       "      <td>0.695541</td>\n",
       "      <td>4.199603</td>\n",
       "      <td>49.043270</td>\n",
       "      <td>7.003090</td>\n",
       "      <td>0.058171</td>\n",
       "      <td>12.523935</td>\n",
       "    </tr>\n",
       "    <tr>\n",
       "      <th>2</th>\n",
       "      <td>Decision Tree</td>\n",
       "      <td>0.664966</td>\n",
       "      <td>4.288244</td>\n",
       "      <td>53.968385</td>\n",
       "      <td>7.346318</td>\n",
       "      <td>0.059399</td>\n",
       "      <td>0.196795</td>\n",
       "    </tr>\n",
       "    <tr>\n",
       "      <th>3</th>\n",
       "      <td>MLP</td>\n",
       "      <td>0.816597</td>\n",
       "      <td>3.810920</td>\n",
       "      <td>29.543132</td>\n",
       "      <td>5.435359</td>\n",
       "      <td>0.048526</td>\n",
       "      <td>300.569171</td>\n",
       "    </tr>\n",
       "  </tbody>\n",
       "</table>\n",
       "</div>"
      ],
      "text/plain": [
       "           model        r2       mae        mse      rmse      mape  \\\n",
       "0        XGBoost  0.893905  2.354359  17.090115  4.134019  0.031136   \n",
       "1  Random Forest  0.695541  4.199603  49.043270  7.003090  0.058171   \n",
       "2  Decision Tree  0.664966  4.288244  53.968385  7.346318  0.059399   \n",
       "3            MLP  0.816597  3.810920  29.543132  5.435359  0.048526   \n",
       "\n",
       "   time_to_fit  \n",
       "0    18.813882  \n",
       "1    12.523935  \n",
       "2     0.196795  \n",
       "3   300.569171  "
      ]
     },
     "execution_count": 22,
     "metadata": {},
     "output_type": "execute_result"
    }
   ],
   "source": [
    "metrics_old = pd.read_csv(\"./metrics/993_gardiner_flow_weather_metrics_old.csv.zip\")\n",
    "metrics_old"
   ]
  },
  {
   "cell_type": "code",
   "execution_count": 27,
   "id": "794e589e-5054-4b8c-8be9-852b6c47cc37",
   "metadata": {},
   "outputs": [
    {
     "data": {
      "text/html": [
       "<div>\n",
       "<style scoped>\n",
       "    .dataframe tbody tr th:only-of-type {\n",
       "        vertical-align: middle;\n",
       "    }\n",
       "\n",
       "    .dataframe tbody tr th {\n",
       "        vertical-align: top;\n",
       "    }\n",
       "\n",
       "    .dataframe thead th {\n",
       "        text-align: right;\n",
       "    }\n",
       "</style>\n",
       "<table border=\"1\" class=\"dataframe\">\n",
       "  <thead>\n",
       "    <tr style=\"text-align: right;\">\n",
       "      <th></th>\n",
       "      <th>model</th>\n",
       "      <th>r2</th>\n",
       "      <th>mae</th>\n",
       "      <th>mse</th>\n",
       "      <th>rmse</th>\n",
       "      <th>mape</th>\n",
       "      <th>time_to_fit</th>\n",
       "    </tr>\n",
       "  </thead>\n",
       "  <tbody>\n",
       "    <tr>\n",
       "      <th>0</th>\n",
       "      <td>XGBoost</td>\n",
       "      <td>0.893905</td>\n",
       "      <td>2.354359</td>\n",
       "      <td>17.090115</td>\n",
       "      <td>4.134019</td>\n",
       "      <td>0.031136</td>\n",
       "      <td>18.813882</td>\n",
       "    </tr>\n",
       "    <tr>\n",
       "      <th>3</th>\n",
       "      <td>MLP</td>\n",
       "      <td>0.816597</td>\n",
       "      <td>3.810920</td>\n",
       "      <td>29.543132</td>\n",
       "      <td>5.435359</td>\n",
       "      <td>0.048526</td>\n",
       "      <td>300.569171</td>\n",
       "    </tr>\n",
       "    <tr>\n",
       "      <th>1</th>\n",
       "      <td>Random Forest</td>\n",
       "      <td>0.695541</td>\n",
       "      <td>4.199603</td>\n",
       "      <td>49.043270</td>\n",
       "      <td>7.003090</td>\n",
       "      <td>0.058171</td>\n",
       "      <td>12.523935</td>\n",
       "    </tr>\n",
       "    <tr>\n",
       "      <th>2</th>\n",
       "      <td>Decision Tree</td>\n",
       "      <td>0.664966</td>\n",
       "      <td>4.288244</td>\n",
       "      <td>53.968385</td>\n",
       "      <td>7.346318</td>\n",
       "      <td>0.059399</td>\n",
       "      <td>0.196795</td>\n",
       "    </tr>\n",
       "    <tr>\n",
       "      <th>1</th>\n",
       "      <td>Random Forest FX</td>\n",
       "      <td>0.639814</td>\n",
       "      <td>4.847341</td>\n",
       "      <td>63.341273</td>\n",
       "      <td>7.958723</td>\n",
       "      <td>0.069111</td>\n",
       "      <td>12.523935</td>\n",
       "    </tr>\n",
       "    <tr>\n",
       "      <th>2</th>\n",
       "      <td>Decision Tree FX</td>\n",
       "      <td>0.617237</td>\n",
       "      <td>4.902953</td>\n",
       "      <td>67.311657</td>\n",
       "      <td>8.204368</td>\n",
       "      <td>0.070276</td>\n",
       "      <td>0.196795</td>\n",
       "    </tr>\n",
       "    <tr>\n",
       "      <th>0</th>\n",
       "      <td>XGBoost FX</td>\n",
       "      <td>0.611833</td>\n",
       "      <td>5.528493</td>\n",
       "      <td>68.261957</td>\n",
       "      <td>8.262079</td>\n",
       "      <td>0.077102</td>\n",
       "      <td>18.813882</td>\n",
       "    </tr>\n",
       "    <tr>\n",
       "      <th>3</th>\n",
       "      <td>MLP FX</td>\n",
       "      <td>-0.396645</td>\n",
       "      <td>13.107622</td>\n",
       "      <td>245.610037</td>\n",
       "      <td>15.671951</td>\n",
       "      <td>0.162455</td>\n",
       "      <td>300.569171</td>\n",
       "    </tr>\n",
       "  </tbody>\n",
       "</table>\n",
       "</div>"
      ],
      "text/plain": [
       "              model        r2        mae         mse       rmse      mape  \\\n",
       "0           XGBoost  0.893905   2.354359   17.090115   4.134019  0.031136   \n",
       "3               MLP  0.816597   3.810920   29.543132   5.435359  0.048526   \n",
       "1     Random Forest  0.695541   4.199603   49.043270   7.003090  0.058171   \n",
       "2     Decision Tree  0.664966   4.288244   53.968385   7.346318  0.059399   \n",
       "1  Random Forest FX  0.639814   4.847341   63.341273   7.958723  0.069111   \n",
       "2  Decision Tree FX  0.617237   4.902953   67.311657   8.204368  0.070276   \n",
       "0        XGBoost FX  0.611833   5.528493   68.261957   8.262079  0.077102   \n",
       "3            MLP FX -0.396645  13.107622  245.610037  15.671951  0.162455   \n",
       "\n",
       "   time_to_fit  \n",
       "0    18.813882  \n",
       "3   300.569171  \n",
       "1    12.523935  \n",
       "2     0.196795  \n",
       "1    12.523935  \n",
       "2     0.196795  \n",
       "0    18.813882  \n",
       "3   300.569171  "
      ]
     },
     "execution_count": 27,
     "metadata": {},
     "output_type": "execute_result"
    }
   ],
   "source": [
    "metrics = pd.concat([metrics_old, metrics_new])\n",
    "metrics.sort_values(by=\"r2\", ascending=False, inplace=True)\n",
    "metrics"
   ]
  },
  {
   "cell_type": "code",
   "execution_count": 31,
   "id": "2b18a3bb-4f25-4a8f-9419-04fd331e80ae",
   "metadata": {},
   "outputs": [],
   "source": [
    "import matplotlib.pyplot as plt\n",
    "import seaborn as sns\n",
    "sns.set_theme()"
   ]
  },
  {
   "cell_type": "code",
   "execution_count": 33,
   "id": "591ad052-176e-4188-86bd-e6c529c08a95",
   "metadata": {},
   "outputs": [
    {
     "name": "stderr",
     "output_type": "stream",
     "text": [
      "The PostScript backend does not support transparency; partially transparent artists will be rendered opaque.\n"
     ]
    },
    {
     "data": {
      "image/png": "[encoded data removed]",
      "text/plain": [
       "<Figure size 1000x1000 with 4 Axes>"
      ]
     },
     "metadata": {},
     "output_type": "display_data"
    }
   ],
   "source": [
    "fig, axes = plt.subplots(2, 2, figsize=(10, 10))\n",
    "ttf_order = list(metrics.sort_values(by=\"time_to_fit\")[\"model\"])\n",
    "\n",
    "sns.barplot(ax=axes[0, 0], data=metrics, x='model', y='r2',hue=\"model\",dodge=False)\n",
    "sns.barplot(ax=axes[0, 1], data=metrics, x='model', y='mae',hue=\"model\",dodge=False)\n",
    "sns.barplot(ax=axes[1, 0], data=metrics, x='model', y='rmse',hue=\"model\",dodge=False)\n",
    "sns.barplot(ax=axes[1, 1], data=metrics, x='model', y='time_to_fit',hue=\"model\",dodge=False, order=ttf_order)\n",
    "\n",
    "axes[0, 0].set(xlabel=\"Model\",xticklabels=[])\n",
    "axes[0, 0].set(ylabel=\"R2\")\n",
    "axes[0, 0].get_legend().remove()\n",
    "\n",
    "axes[0, 1].set(xlabel=\"Model\",xticklabels=[])\n",
    "axes[0, 1].set(ylabel=\"MAE\")\n",
    "axes[0, 1].legend(loc='center left', bbox_to_anchor=(1, 0.5))\n",
    "\n",
    "axes[1, 0].set(xlabel=\"Model\",xticklabels=[])\n",
    "axes[1, 0].set(ylabel=\"RMSE\")\n",
    "axes[1, 0].get_legend().remove()\n",
    "\n",
    "axes[1, 1].set(xlabel=\"Model\",xticklabels=[])\n",
    "axes[1, 1].set(ylabel=\"Time to fit (log)\", yscale=\"log\")\n",
    "axes[1, 1].get_legend().remove()\n",
    "\n",
    "plt.savefig(\"./plots/993_gardiner_flow_weather_metrics.eps\",format=\"eps\",bbox_inches=\"tight\")\n",
    "plt.savefig(\"./plots/993_gardiner_flow_weather_metrics.png\",bbox_inches=\"tight\")\n",
    "plt.savefig(\"./plots/993_gardiner_flow_weather_metrics.pdf\",bbox_inches=\"tight\")"
   ]
  },
  {
   "cell_type": "code",
   "execution_count": null,
   "id": "6aa0c721-e5f5-4cb9-b013-899ae07b7299",
   "metadata": {},
   "outputs": [],
   "source": []
  }
 ],
 "metadata": {
  "kernelspec": {
   "display_name": "Python 3 (ipykernel)",
   "language": "python",
   "name": "python3"
  },
  "language_info": {
   "codemirror_mode": {
    "name": "ipython",
    "version": 3
   },
   "file_extension": ".py",
   "mimetype": "text/x-python",
   "name": "python",
   "nbconvert_exporter": "python",
   "pygments_lexer": "ipython3",
   "version": "3.10.10"
  }
 },
 "nbformat": 4,
 "nbformat_minor": 5
}

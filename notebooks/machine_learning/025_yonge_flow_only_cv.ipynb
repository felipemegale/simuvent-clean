{
 "cells": [
  {
   "cell_type": "code",
   "execution_count": 1,
   "id": "15a175bf-a6f0-4750-9bda-a9e6c206dcf3",
   "metadata": {
    "tags": []
   },
   "outputs": [],
   "source": [
    "import os\n",
    "import pandas as pd\n",
    "import seaborn as sns\n",
    "import matplotlib.pyplot as plt\n",
    "import ml_help\n",
    "import joblib\n",
    "from sklearn.model_selection import train_test_split\n",
    "from sklearn.preprocessing import StandardScaler\n",
    "from sklearn.pipeline import make_pipeline\n",
    "from time import time\n",
    "sns.set_theme()"
   ]
  },
  {
   "cell_type": "code",
   "execution_count": 2,
   "id": "019090ee-bf15-422d-882f-d8065c38f677",
   "metadata": {
    "tags": []
   },
   "outputs": [],
   "source": [
    "metrics_available = os.listdir(\"./metrics\")\n",
    "METRICS_DONE = \"025_yonge_flow_only_cv_metrics.csv.zip\" in metrics_available and \"025_yonge_flow_only_metrics.csv.zip\" in metrics_available"
   ]
  },
  {
   "cell_type": "markdown",
   "id": "3c968065-4ddd-46d8-91d9-5b940e32cccd",
   "metadata": {},
   "source": [
    "# Load data"
   ]
  },
  {
   "cell_type": "code",
   "execution_count": 3,
   "id": "6fa78adb-49e0-4174-b604-b6078345f293",
   "metadata": {
    "tags": []
   },
   "outputs": [
    {
     "data": {
      "text/html": [
       "<div>\n",
       "<style scoped>\n",
       "    .dataframe tbody tr th:only-of-type {\n",
       "        vertical-align: middle;\n",
       "    }\n",
       "\n",
       "    .dataframe tbody tr th {\n",
       "        vertical-align: top;\n",
       "    }\n",
       "\n",
       "    .dataframe thead th {\n",
       "        text-align: right;\n",
       "    }\n",
       "</style>\n",
       "<table border=\"1\" class=\"dataframe\">\n",
       "  <thead>\n",
       "    <tr style=\"text-align: right;\">\n",
       "      <th></th>\n",
       "      <th>collectedAt</th>\n",
       "      <th>month</th>\n",
       "      <th>day</th>\n",
       "      <th>day_of_week</th>\n",
       "      <th>hour</th>\n",
       "      <th>minute</th>\n",
       "      <th>currentSpeed</th>\n",
       "    </tr>\n",
       "  </thead>\n",
       "  <tbody>\n",
       "    <tr>\n",
       "      <th>0</th>\n",
       "      <td>2022-07-14 12:45:00+00:00</td>\n",
       "      <td>July</td>\n",
       "      <td>14</td>\n",
       "      <td>Thursday</td>\n",
       "      <td>12</td>\n",
       "      <td>45</td>\n",
       "      <td>10</td>\n",
       "    </tr>\n",
       "    <tr>\n",
       "      <th>1</th>\n",
       "      <td>2022-07-14 12:51:44+00:00</td>\n",
       "      <td>July</td>\n",
       "      <td>14</td>\n",
       "      <td>Thursday</td>\n",
       "      <td>12</td>\n",
       "      <td>51</td>\n",
       "      <td>13</td>\n",
       "    </tr>\n",
       "    <tr>\n",
       "      <th>2</th>\n",
       "      <td>2022-07-14 12:55:27+00:00</td>\n",
       "      <td>July</td>\n",
       "      <td>14</td>\n",
       "      <td>Thursday</td>\n",
       "      <td>12</td>\n",
       "      <td>55</td>\n",
       "      <td>18</td>\n",
       "    </tr>\n",
       "  </tbody>\n",
       "</table>\n",
       "</div>"
      ],
      "text/plain": [
       "                 collectedAt month  day day_of_week  hour  minute  \\\n",
       "0  2022-07-14 12:45:00+00:00  July   14    Thursday    12      45   \n",
       "1  2022-07-14 12:51:44+00:00  July   14    Thursday    12      51   \n",
       "2  2022-07-14 12:55:27+00:00  July   14    Thursday    12      55   \n",
       "\n",
       "   currentSpeed  \n",
       "0            10  \n",
       "1            13  \n",
       "2            18  "
      ]
     },
     "execution_count": 3,
     "metadata": {},
     "output_type": "execute_result"
    }
   ],
   "source": [
    "df = pd.read_csv(\"./data/yonge_flow.csv.zip\")\n",
    "df.head(3)"
   ]
  },
  {
   "cell_type": "code",
   "execution_count": 4,
   "id": "3c5bc3db-53cb-4537-b6ac-9b2a4416da31",
   "metadata": {
    "tags": []
   },
   "outputs": [
    {
     "data": {
      "text/html": [
       "<div>\n",
       "<style scoped>\n",
       "    .dataframe tbody tr th:only-of-type {\n",
       "        vertical-align: middle;\n",
       "    }\n",
       "\n",
       "    .dataframe tbody tr th {\n",
       "        vertical-align: top;\n",
       "    }\n",
       "\n",
       "    .dataframe thead th {\n",
       "        text-align: right;\n",
       "    }\n",
       "</style>\n",
       "<table border=\"1\" class=\"dataframe\">\n",
       "  <thead>\n",
       "    <tr style=\"text-align: right;\">\n",
       "      <th></th>\n",
       "      <th>month</th>\n",
       "      <th>day_of_week</th>\n",
       "      <th>hour</th>\n",
       "      <th>minute</th>\n",
       "      <th>currentSpeed</th>\n",
       "    </tr>\n",
       "  </thead>\n",
       "  <tbody>\n",
       "    <tr>\n",
       "      <th>0</th>\n",
       "      <td>July</td>\n",
       "      <td>Thursday</td>\n",
       "      <td>12</td>\n",
       "      <td>45</td>\n",
       "      <td>10</td>\n",
       "    </tr>\n",
       "    <tr>\n",
       "      <th>1</th>\n",
       "      <td>July</td>\n",
       "      <td>Thursday</td>\n",
       "      <td>12</td>\n",
       "      <td>51</td>\n",
       "      <td>13</td>\n",
       "    </tr>\n",
       "    <tr>\n",
       "      <th>2</th>\n",
       "      <td>July</td>\n",
       "      <td>Thursday</td>\n",
       "      <td>12</td>\n",
       "      <td>55</td>\n",
       "      <td>18</td>\n",
       "    </tr>\n",
       "  </tbody>\n",
       "</table>\n",
       "</div>"
      ],
      "text/plain": [
       "  month day_of_week  hour  minute  currentSpeed\n",
       "0  July    Thursday    12      45            10\n",
       "1  July    Thursday    12      51            13\n",
       "2  July    Thursday    12      55            18"
      ]
     },
     "execution_count": 4,
     "metadata": {},
     "output_type": "execute_result"
    }
   ],
   "source": [
    "df.drop([\"collectedAt\", \"day\"],axis=1,inplace=True)\n",
    "df.head(3)"
   ]
  },
  {
   "cell_type": "code",
   "execution_count": 5,
   "id": "09523935-9f3e-4bb0-9d23-e15fd30bea24",
   "metadata": {
    "tags": []
   },
   "outputs": [
    {
     "data": {
      "text/html": [
       "<div>\n",
       "<style scoped>\n",
       "    .dataframe tbody tr th:only-of-type {\n",
       "        vertical-align: middle;\n",
       "    }\n",
       "\n",
       "    .dataframe tbody tr th {\n",
       "        vertical-align: top;\n",
       "    }\n",
       "\n",
       "    .dataframe thead th {\n",
       "        text-align: right;\n",
       "    }\n",
       "</style>\n",
       "<table border=\"1\" class=\"dataframe\">\n",
       "  <thead>\n",
       "    <tr style=\"text-align: right;\">\n",
       "      <th></th>\n",
       "      <th>hour</th>\n",
       "      <th>minute</th>\n",
       "      <th>currentSpeed</th>\n",
       "      <th>month_August</th>\n",
       "      <th>month_December</th>\n",
       "      <th>month_February</th>\n",
       "      <th>month_January</th>\n",
       "      <th>month_July</th>\n",
       "      <th>month_March</th>\n",
       "      <th>month_November</th>\n",
       "      <th>month_October</th>\n",
       "      <th>month_September</th>\n",
       "      <th>day_of_week_Friday</th>\n",
       "      <th>day_of_week_Monday</th>\n",
       "      <th>day_of_week_Saturday</th>\n",
       "      <th>day_of_week_Sunday</th>\n",
       "      <th>day_of_week_Thursday</th>\n",
       "      <th>day_of_week_Tuesday</th>\n",
       "      <th>day_of_week_Wednesday</th>\n",
       "    </tr>\n",
       "  </thead>\n",
       "  <tbody>\n",
       "    <tr>\n",
       "      <th>0</th>\n",
       "      <td>12.0</td>\n",
       "      <td>45.0</td>\n",
       "      <td>10.0</td>\n",
       "      <td>0.0</td>\n",
       "      <td>0.0</td>\n",
       "      <td>0.0</td>\n",
       "      <td>0.0</td>\n",
       "      <td>1.0</td>\n",
       "      <td>0.0</td>\n",
       "      <td>0.0</td>\n",
       "      <td>0.0</td>\n",
       "      <td>0.0</td>\n",
       "      <td>0.0</td>\n",
       "      <td>0.0</td>\n",
       "      <td>0.0</td>\n",
       "      <td>0.0</td>\n",
       "      <td>1.0</td>\n",
       "      <td>0.0</td>\n",
       "      <td>0.0</td>\n",
       "    </tr>\n",
       "    <tr>\n",
       "      <th>1</th>\n",
       "      <td>12.0</td>\n",
       "      <td>51.0</td>\n",
       "      <td>13.0</td>\n",
       "      <td>0.0</td>\n",
       "      <td>0.0</td>\n",
       "      <td>0.0</td>\n",
       "      <td>0.0</td>\n",
       "      <td>1.0</td>\n",
       "      <td>0.0</td>\n",
       "      <td>0.0</td>\n",
       "      <td>0.0</td>\n",
       "      <td>0.0</td>\n",
       "      <td>0.0</td>\n",
       "      <td>0.0</td>\n",
       "      <td>0.0</td>\n",
       "      <td>0.0</td>\n",
       "      <td>1.0</td>\n",
       "      <td>0.0</td>\n",
       "      <td>0.0</td>\n",
       "    </tr>\n",
       "    <tr>\n",
       "      <th>2</th>\n",
       "      <td>12.0</td>\n",
       "      <td>55.0</td>\n",
       "      <td>18.0</td>\n",
       "      <td>0.0</td>\n",
       "      <td>0.0</td>\n",
       "      <td>0.0</td>\n",
       "      <td>0.0</td>\n",
       "      <td>1.0</td>\n",
       "      <td>0.0</td>\n",
       "      <td>0.0</td>\n",
       "      <td>0.0</td>\n",
       "      <td>0.0</td>\n",
       "      <td>0.0</td>\n",
       "      <td>0.0</td>\n",
       "      <td>0.0</td>\n",
       "      <td>0.0</td>\n",
       "      <td>1.0</td>\n",
       "      <td>0.0</td>\n",
       "      <td>0.0</td>\n",
       "    </tr>\n",
       "  </tbody>\n",
       "</table>\n",
       "</div>"
      ],
      "text/plain": [
       "   hour  minute  currentSpeed  month_August  month_December  month_February  \\\n",
       "0  12.0    45.0          10.0           0.0             0.0             0.0   \n",
       "1  12.0    51.0          13.0           0.0             0.0             0.0   \n",
       "2  12.0    55.0          18.0           0.0             0.0             0.0   \n",
       "\n",
       "   month_January  month_July  month_March  month_November  month_October  \\\n",
       "0            0.0         1.0          0.0             0.0            0.0   \n",
       "1            0.0         1.0          0.0             0.0            0.0   \n",
       "2            0.0         1.0          0.0             0.0            0.0   \n",
       "\n",
       "   month_September  day_of_week_Friday  day_of_week_Monday  \\\n",
       "0              0.0                 0.0                 0.0   \n",
       "1              0.0                 0.0                 0.0   \n",
       "2              0.0                 0.0                 0.0   \n",
       "\n",
       "   day_of_week_Saturday  day_of_week_Sunday  day_of_week_Thursday  \\\n",
       "0                   0.0                 0.0                   1.0   \n",
       "1                   0.0                 0.0                   1.0   \n",
       "2                   0.0                 0.0                   1.0   \n",
       "\n",
       "   day_of_week_Tuesday  day_of_week_Wednesday  \n",
       "0                  0.0                    0.0  \n",
       "1                  0.0                    0.0  \n",
       "2                  0.0                    0.0  "
      ]
     },
     "execution_count": 5,
     "metadata": {},
     "output_type": "execute_result"
    }
   ],
   "source": [
    "categorical_feats = [\"month\",\"day_of_week\"]\n",
    "\n",
    "transformed_df = pd.get_dummies(df, columns=categorical_feats)\n",
    "transformed_df = transformed_df.astype(\"float32\")\n",
    "transformed_df.head(3)"
   ]
  },
  {
   "cell_type": "code",
   "execution_count": 6,
   "id": "587d00ac-ef1d-4cf2-9195-5af160105987",
   "metadata": {
    "tags": []
   },
   "outputs": [],
   "source": [
    "X = transformed_df.drop(\"currentSpeed\",axis=1)\n",
    "y = transformed_df[\"currentSpeed\"]\n",
    "\n",
    "X_train, X_test, y_train, y_test = train_test_split(X, y, test_size=0.20, random_state=42)"
   ]
  },
  {
   "cell_type": "markdown",
   "id": "df0d65bc-db5f-4113-9af3-709101198f0c",
   "metadata": {},
   "source": [
    "# Load models"
   ]
  },
  {
   "cell_type": "code",
   "execution_count": 4,
   "id": "9fb8921f-b463-4823-ba5d-8064dad97b21",
   "metadata": {
    "tags": []
   },
   "outputs": [
    {
     "data": {
      "text/html": [
       "<div>\n",
       "<style scoped>\n",
       "    .dataframe tbody tr th:only-of-type {\n",
       "        vertical-align: middle;\n",
       "    }\n",
       "\n",
       "    .dataframe tbody tr th {\n",
       "        vertical-align: top;\n",
       "    }\n",
       "\n",
       "    .dataframe thead th {\n",
       "        text-align: right;\n",
       "    }\n",
       "</style>\n",
       "<table border=\"1\" class=\"dataframe\">\n",
       "  <thead>\n",
       "    <tr style=\"text-align: right;\">\n",
       "      <th></th>\n",
       "      <th>model</th>\n",
       "      <th>r2</th>\n",
       "      <th>mae</th>\n",
       "      <th>mse</th>\n",
       "      <th>rmse</th>\n",
       "      <th>mape</th>\n",
       "      <th>time_to_fit</th>\n",
       "      <th>time_to_predict</th>\n",
       "    </tr>\n",
       "  </thead>\n",
       "  <tbody>\n",
       "    <tr>\n",
       "      <th>0</th>\n",
       "      <td>XGBoost</td>\n",
       "      <td>0.532478</td>\n",
       "      <td>1.716599</td>\n",
       "      <td>5.408086</td>\n",
       "      <td>2.325529</td>\n",
       "      <td>1.472201e+13</td>\n",
       "      <td>1.626367</td>\n",
       "      <td>0.024481</td>\n",
       "    </tr>\n",
       "    <tr>\n",
       "      <th>1</th>\n",
       "      <td>MLP</td>\n",
       "      <td>0.512558</td>\n",
       "      <td>1.750100</td>\n",
       "      <td>5.638513</td>\n",
       "      <td>2.374555</td>\n",
       "      <td>1.674114e+13</td>\n",
       "      <td>104.964658</td>\n",
       "      <td>0.024708</td>\n",
       "    </tr>\n",
       "    <tr>\n",
       "      <th>2</th>\n",
       "      <td>Random Forest</td>\n",
       "      <td>0.456735</td>\n",
       "      <td>1.876815</td>\n",
       "      <td>6.284252</td>\n",
       "      <td>2.506841</td>\n",
       "      <td>1.626129e+13</td>\n",
       "      <td>3.727117</td>\n",
       "      <td>0.072796</td>\n",
       "    </tr>\n",
       "    <tr>\n",
       "      <th>3</th>\n",
       "      <td>Decision Tree</td>\n",
       "      <td>0.436346</td>\n",
       "      <td>1.891829</td>\n",
       "      <td>6.520105</td>\n",
       "      <td>2.553450</td>\n",
       "      <td>1.407808e+13</td>\n",
       "      <td>0.094831</td>\n",
       "      <td>0.007385</td>\n",
       "    </tr>\n",
       "  </tbody>\n",
       "</table>\n",
       "</div>"
      ],
      "text/plain": [
       "           model        r2       mae       mse      rmse          mape  \\\n",
       "0        XGBoost  0.532478  1.716599  5.408086  2.325529  1.472201e+13   \n",
       "1            MLP  0.512558  1.750100  5.638513  2.374555  1.674114e+13   \n",
       "2  Random Forest  0.456735  1.876815  6.284252  2.506841  1.626129e+13   \n",
       "3  Decision Tree  0.436346  1.891829  6.520105  2.553450  1.407808e+13   \n",
       "\n",
       "   time_to_fit  time_to_predict  \n",
       "0     1.626367         0.024481  \n",
       "1   104.964658         0.024708  \n",
       "2     3.727117         0.072796  \n",
       "3     0.094831         0.007385  "
      ]
     },
     "execution_count": 4,
     "metadata": {},
     "output_type": "execute_result"
    }
   ],
   "source": [
    "metrics = pd.read_csv(\"./metrics/024_best_metrics.csv.zip\")\n",
    "metrics"
   ]
  },
  {
   "cell_type": "markdown",
   "id": "a893221d-8d50-4f13-a5ca-381b1fc68738",
   "metadata": {},
   "source": [
    "## XGBoost"
   ]
  },
  {
   "cell_type": "markdown",
   "id": "24b8f9ae-21f4-4395-9a2a-bf4d824dc527",
   "metadata": {},
   "source": [
    "### Run CV"
   ]
  },
  {
   "cell_type": "code",
   "execution_count": 8,
   "id": "c3b9d6a9-86d4-4a6b-9ffe-437e0c0f2a3e",
   "metadata": {
    "tags": []
   },
   "outputs": [],
   "source": [
    "import xgboost as xgb\n",
    "\n",
    "params = ml_help.params_to_dict(\"023_xgboost\")"
   ]
  },
  {
   "cell_type": "code",
   "execution_count": 9,
   "id": "a593ebdf-aa5d-4dea-9e4f-528fc667dee4",
   "metadata": {},
   "outputs": [],
   "source": [
    "params['predictor'] = 'cpu_predictor'\n",
    "params['tree_method'] = 'hist'\n",
    "\n",
    "xgboost_pipeline = make_pipeline(StandardScaler(),xgb.XGBRegressor(**params))\n",
    "\n",
    "if not METRICS_DONE:\n",
    "    xgb_cv_metrics = ml_help.run_stratified_kfold(\"XGBoost\",xgboost_pipeline,X_train,y_train)\n",
    "    xgb_cv_metrics"
   ]
  },
  {
   "cell_type": "markdown",
   "id": "33508b37-3fe0-4c97-bcb5-8c80df032d96",
   "metadata": {},
   "source": [
    "### Test using previously unseen data"
   ]
  },
  {
   "cell_type": "code",
   "execution_count": 10,
   "id": "195911aa-0c59-4021-8e8d-9cc650b42ca2",
   "metadata": {
    "tags": []
   },
   "outputs": [
    {
     "data": {
      "text/plain": [
       "{'model': 'XGBoost',\n",
       " 'r2': 0.39921493441467926,\n",
       " 'mae': 1.9009105,\n",
       " 'mse': 6.9188514,\n",
       " 'rmse': 2.6303709,\n",
       " 'mape': 75058040000000.0,\n",
       " 'time_to_fit': 4.2950379848480225}"
      ]
     },
     "execution_count": 10,
     "metadata": {},
     "output_type": "execute_result"
    }
   ],
   "source": [
    "xgboost_pipeline = make_pipeline(StandardScaler(),xgb.XGBRegressor(**params))\n",
    "\n",
    "start = time()\n",
    "pipe = xgboost_pipeline.fit(X_train,y_train)\n",
    "end = time()\n",
    "\n",
    "y_pred = pipe.predict(X_test)\n",
    "\n",
    "xgb_metrics = ml_help.get_metrics_reg(\"XGBoost\",y_test,y_pred)\n",
    "xgb_metrics[\"time_to_fit\"] = end-start\n",
    "xgb_metrics"
   ]
  },
  {
   "cell_type": "code",
   "execution_count": 12,
   "id": "debb12de",
   "metadata": {},
   "outputs": [
    {
     "data": {
      "text/html": [
       "<div>\n",
       "<style scoped>\n",
       "    .dataframe tbody tr th:only-of-type {\n",
       "        vertical-align: middle;\n",
       "    }\n",
       "\n",
       "    .dataframe tbody tr th {\n",
       "        vertical-align: top;\n",
       "    }\n",
       "\n",
       "    .dataframe thead th {\n",
       "        text-align: right;\n",
       "    }\n",
       "</style>\n",
       "<table border=\"1\" class=\"dataframe\">\n",
       "  <thead>\n",
       "    <tr style=\"text-align: right;\">\n",
       "      <th></th>\n",
       "      <th>hour</th>\n",
       "      <th>minute</th>\n",
       "      <th>month_August</th>\n",
       "      <th>month_December</th>\n",
       "      <th>month_February</th>\n",
       "      <th>month_January</th>\n",
       "      <th>month_July</th>\n",
       "      <th>month_March</th>\n",
       "      <th>month_November</th>\n",
       "      <th>month_October</th>\n",
       "      <th>month_September</th>\n",
       "      <th>day_of_week_Friday</th>\n",
       "      <th>day_of_week_Monday</th>\n",
       "      <th>day_of_week_Saturday</th>\n",
       "      <th>day_of_week_Sunday</th>\n",
       "      <th>day_of_week_Thursday</th>\n",
       "      <th>day_of_week_Tuesday</th>\n",
       "      <th>day_of_week_Wednesday</th>\n",
       "      <th>Actual</th>\n",
       "      <th>Pred.</th>\n",
       "    </tr>\n",
       "  </thead>\n",
       "  <tbody>\n",
       "    <tr>\n",
       "      <th>40165</th>\n",
       "      <td>0.0</td>\n",
       "      <td>15.0</td>\n",
       "      <td>0.0</td>\n",
       "      <td>1.0</td>\n",
       "      <td>0.0</td>\n",
       "      <td>0.0</td>\n",
       "      <td>0.0</td>\n",
       "      <td>0.0</td>\n",
       "      <td>0.0</td>\n",
       "      <td>0.0</td>\n",
       "      <td>0.0</td>\n",
       "      <td>0.0</td>\n",
       "      <td>0.0</td>\n",
       "      <td>0.0</td>\n",
       "      <td>0.0</td>\n",
       "      <td>1.0</td>\n",
       "      <td>0.0</td>\n",
       "      <td>0.0</td>\n",
       "      <td>12.0</td>\n",
       "      <td>12.590708</td>\n",
       "    </tr>\n",
       "    <tr>\n",
       "      <th>40169</th>\n",
       "      <td>0.0</td>\n",
       "      <td>35.0</td>\n",
       "      <td>0.0</td>\n",
       "      <td>1.0</td>\n",
       "      <td>0.0</td>\n",
       "      <td>0.0</td>\n",
       "      <td>0.0</td>\n",
       "      <td>0.0</td>\n",
       "      <td>0.0</td>\n",
       "      <td>0.0</td>\n",
       "      <td>0.0</td>\n",
       "      <td>0.0</td>\n",
       "      <td>0.0</td>\n",
       "      <td>0.0</td>\n",
       "      <td>0.0</td>\n",
       "      <td>1.0</td>\n",
       "      <td>0.0</td>\n",
       "      <td>0.0</td>\n",
       "      <td>12.0</td>\n",
       "      <td>14.876779</td>\n",
       "    </tr>\n",
       "    <tr>\n",
       "      <th>40170</th>\n",
       "      <td>0.0</td>\n",
       "      <td>40.0</td>\n",
       "      <td>0.0</td>\n",
       "      <td>1.0</td>\n",
       "      <td>0.0</td>\n",
       "      <td>0.0</td>\n",
       "      <td>0.0</td>\n",
       "      <td>0.0</td>\n",
       "      <td>0.0</td>\n",
       "      <td>0.0</td>\n",
       "      <td>0.0</td>\n",
       "      <td>0.0</td>\n",
       "      <td>0.0</td>\n",
       "      <td>0.0</td>\n",
       "      <td>0.0</td>\n",
       "      <td>1.0</td>\n",
       "      <td>0.0</td>\n",
       "      <td>0.0</td>\n",
       "      <td>13.0</td>\n",
       "      <td>14.110959</td>\n",
       "    </tr>\n",
       "    <tr>\n",
       "      <th>40171</th>\n",
       "      <td>0.0</td>\n",
       "      <td>45.0</td>\n",
       "      <td>0.0</td>\n",
       "      <td>1.0</td>\n",
       "      <td>0.0</td>\n",
       "      <td>0.0</td>\n",
       "      <td>0.0</td>\n",
       "      <td>0.0</td>\n",
       "      <td>0.0</td>\n",
       "      <td>0.0</td>\n",
       "      <td>0.0</td>\n",
       "      <td>0.0</td>\n",
       "      <td>0.0</td>\n",
       "      <td>0.0</td>\n",
       "      <td>0.0</td>\n",
       "      <td>1.0</td>\n",
       "      <td>0.0</td>\n",
       "      <td>0.0</td>\n",
       "      <td>18.0</td>\n",
       "      <td>14.101098</td>\n",
       "    </tr>\n",
       "    <tr>\n",
       "      <th>40173</th>\n",
       "      <td>0.0</td>\n",
       "      <td>55.0</td>\n",
       "      <td>0.0</td>\n",
       "      <td>1.0</td>\n",
       "      <td>0.0</td>\n",
       "      <td>0.0</td>\n",
       "      <td>0.0</td>\n",
       "      <td>0.0</td>\n",
       "      <td>0.0</td>\n",
       "      <td>0.0</td>\n",
       "      <td>0.0</td>\n",
       "      <td>0.0</td>\n",
       "      <td>0.0</td>\n",
       "      <td>0.0</td>\n",
       "      <td>0.0</td>\n",
       "      <td>1.0</td>\n",
       "      <td>0.0</td>\n",
       "      <td>0.0</td>\n",
       "      <td>18.0</td>\n",
       "      <td>16.067009</td>\n",
       "    </tr>\n",
       "  </tbody>\n",
       "</table>\n",
       "</div>"
      ],
      "text/plain": [
       "       hour  minute  month_August  month_December  month_February  \\\n",
       "40165   0.0    15.0           0.0             1.0             0.0   \n",
       "40169   0.0    35.0           0.0             1.0             0.0   \n",
       "40170   0.0    40.0           0.0             1.0             0.0   \n",
       "40171   0.0    45.0           0.0             1.0             0.0   \n",
       "40173   0.0    55.0           0.0             1.0             0.0   \n",
       "\n",
       "       month_January  month_July  month_March  month_November  month_October  \\\n",
       "40165            0.0         0.0          0.0             0.0            0.0   \n",
       "40169            0.0         0.0          0.0             0.0            0.0   \n",
       "40170            0.0         0.0          0.0             0.0            0.0   \n",
       "40171            0.0         0.0          0.0             0.0            0.0   \n",
       "40173            0.0         0.0          0.0             0.0            0.0   \n",
       "\n",
       "       month_September  day_of_week_Friday  day_of_week_Monday  \\\n",
       "40165              0.0                 0.0                 0.0   \n",
       "40169              0.0                 0.0                 0.0   \n",
       "40170              0.0                 0.0                 0.0   \n",
       "40171              0.0                 0.0                 0.0   \n",
       "40173              0.0                 0.0                 0.0   \n",
       "\n",
       "       day_of_week_Saturday  day_of_week_Sunday  day_of_week_Thursday  \\\n",
       "40165                   0.0                 0.0                   1.0   \n",
       "40169                   0.0                 0.0                   1.0   \n",
       "40170                   0.0                 0.0                   1.0   \n",
       "40171                   0.0                 0.0                   1.0   \n",
       "40173                   0.0                 0.0                   1.0   \n",
       "\n",
       "       day_of_week_Tuesday  day_of_week_Wednesday  Actual      Pred.  \n",
       "40165                  0.0                    0.0    12.0  12.590708  \n",
       "40169                  0.0                    0.0    12.0  14.876779  \n",
       "40170                  0.0                    0.0    13.0  14.110959  \n",
       "40171                  0.0                    0.0    18.0  14.101098  \n",
       "40173                  0.0                    0.0    18.0  16.067009  "
      ]
     },
     "execution_count": 12,
     "metadata": {},
     "output_type": "execute_result"
    }
   ],
   "source": [
    "data = X_test.copy(deep=True)\n",
    "data[\"Actual\"] = y_test\n",
    "data[\"Pred.\"] = y_pred\n",
    "data.sort_index(inplace=True)\n",
    "data_dec = data[(data[\"month_December\"] == 1)]\n",
    "data_dec.head()"
   ]
  },
  {
   "cell_type": "code",
   "execution_count": 14,
   "id": "c7f8d5a2",
   "metadata": {},
   "outputs": [
    {
     "name": "stderr",
     "output_type": "stream",
     "text": [
      "The PostScript backend does not support transparency; partially transparent artists will be rendered opaque.\n"
     ]
    },
    {
     "data": {
      "image/png": "[encoded data removed]",
      "text/plain": [
       "<Figure size 640x480 with 1 Axes>"
      ]
     },
     "metadata": {},
     "output_type": "display_data"
    }
   ],
   "source": [
    "ax = sns.lineplot(data = pd.melt(data_dec[[\"hour\",\"Actual\",\"Pred.\"]], [\"hour\"]), x=\"hour\", y=\"value\", hue=\"variable\")\n",
    "ax.set(ylabel=\"Vehicle Speed (km/h)\", xlabel=\"Time of Day (hour)\")\n",
    "ax.get_legend().set_title(\"Speed\")\n",
    "\n",
    "plt.savefig(\"./plots/025_xgboost_predictions_per_date.eps\", format=\"eps\", bbox_inches=\"tight\")\n",
    "plt.savefig(\"./plots/025_xgboost_predictions_per_date.png\", bbox_inches=\"tight\")\n",
    "plt.savefig(\"./plots/025_xgboost_predictions_per_date.pdf\", bbox_inches=\"tight\")"
   ]
  },
  {
   "cell_type": "code",
   "execution_count": 14,
   "id": "ff8e97ef-8be5-4f3f-a8ed-3c504466d97b",
   "metadata": {
    "tags": []
   },
   "outputs": [],
   "source": [
    "if not METRICS_DONE:\n",
    "    ml_help.plot_prediction(y_test, y_pred, \"XGBoost\", \"Speed (km/h)\", \"025_xgboost_predictions\")"
   ]
  },
  {
   "cell_type": "markdown",
   "id": "fd1d0307-0b10-4527-8111-67b9550862aa",
   "metadata": {},
   "source": [
    "## Random Forest"
   ]
  },
  {
   "cell_type": "markdown",
   "id": "a3cd1ed0-c8de-4316-811d-67bc42d7c326",
   "metadata": {},
   "source": [
    "### Run CV"
   ]
  },
  {
   "cell_type": "code",
   "execution_count": 15,
   "id": "67f6f8c0-4d71-401a-a518-58ec744e0a50",
   "metadata": {
    "tags": []
   },
   "outputs": [],
   "source": [
    "if not METRICS_DONE:\n",
    "    from sklearn.ensemble import RandomForestRegressor\n",
    "    \n",
    "    params = ml_help.params_to_dict(\"023_random_forest\")"
   ]
  },
  {
   "cell_type": "code",
   "execution_count": 16,
   "id": "d8d47507-dec2-44d1-80d6-17162065f7bf",
   "metadata": {},
   "outputs": [],
   "source": [
    "if not METRICS_DONE:\n",
    "    random_forest_pipeline = make_pipeline(StandardScaler(),RandomForestRegressor(**params))\n",
    "    \n",
    "    random_forest_cv_metrics = ml_help.run_stratified_kfold(\"Random Forest\",random_forest_pipeline,X_train,y_train)\n",
    "    random_forest_cv_metrics"
   ]
  },
  {
   "cell_type": "markdown",
   "id": "5ef6d2ae-8b9c-4269-8e52-48caaff40f59",
   "metadata": {},
   "source": [
    "### Test using previously unseen data"
   ]
  },
  {
   "cell_type": "code",
   "execution_count": 17,
   "id": "ca4e39c8-893a-4406-9081-59a014a4b462",
   "metadata": {
    "tags": []
   },
   "outputs": [],
   "source": [
    "if not METRICS_DONE:\n",
    "    random_forest_pipeline = make_pipeline(StandardScaler(),RandomForestRegressor(**params))\n",
    "    \n",
    "    start = time()\n",
    "    pipe = random_forest_pipeline.fit(X_train,y_train)\n",
    "    end = time()\n",
    "    \n",
    "    y_pred = pipe.predict(X_test)\n",
    "    \n",
    "    random_forest_metrics = ml_help.get_metrics_reg(\"Random Forest\",y_test,y_pred)\n",
    "    random_forest_metrics[\"time_to_fit\"] = end-start\n",
    "    random_forest_metrics"
   ]
  },
  {
   "cell_type": "code",
   "execution_count": 18,
   "id": "d737f103-5e4c-486f-8e3a-b9a17c2fafd1",
   "metadata": {
    "tags": []
   },
   "outputs": [],
   "source": [
    "if not METRICS_DONE:\n",
    "    ml_help.plot_prediction(y_test, y_pred, \"Random Forest\", \"Speed (km/h)\", \"025_random_forest_predictions\")"
   ]
  },
  {
   "cell_type": "markdown",
   "id": "feda9a8d-d1f5-4ce1-9524-737b3e36e0cf",
   "metadata": {},
   "source": [
    "## Decision Tree"
   ]
  },
  {
   "cell_type": "markdown",
   "id": "f0296bb5-9126-4005-b509-493cdfdff2b7",
   "metadata": {},
   "source": [
    "### Run CV"
   ]
  },
  {
   "cell_type": "code",
   "execution_count": 19,
   "id": "7475bf8a-7fee-4811-911a-ec6aef7f580d",
   "metadata": {
    "tags": []
   },
   "outputs": [],
   "source": [
    "if not METRICS_DONE:\n",
    "    from sklearn.tree import DecisionTreeRegressor\n",
    "    \n",
    "    params = ml_help.params_to_dict(\"023_decision_tree\")"
   ]
  },
  {
   "cell_type": "code",
   "execution_count": 20,
   "id": "3af6edfb-0bca-47a1-9f82-45192db0b5e0",
   "metadata": {},
   "outputs": [],
   "source": [
    "if not METRICS_DONE:\n",
    "    decision_tree_pipeline = make_pipeline(StandardScaler(),DecisionTreeRegressor(**params))\n",
    "    \n",
    "    dtr_cv_metrics = ml_help.run_stratified_kfold(\"Decision Tree\",decision_tree_pipeline,X_train,y_train)\n",
    "    dtr_cv_metrics"
   ]
  },
  {
   "cell_type": "markdown",
   "id": "5c7de4c5-b1c2-4bf8-aa5c-c421ac733bfc",
   "metadata": {},
   "source": [
    "### Test using previously unseen data"
   ]
  },
  {
   "cell_type": "code",
   "execution_count": 21,
   "id": "093e7e3f-dcf4-413b-ba14-a52efac15409",
   "metadata": {
    "tags": []
   },
   "outputs": [],
   "source": [
    "if not METRICS_DONE:\n",
    "    decision_tree_pipeline = make_pipeline(StandardScaler(),DecisionTreeRegressor(**params))\n",
    "    \n",
    "    start = time()\n",
    "    pipe = decision_tree_pipeline.fit(X_train,y_train)\n",
    "    end = time()\n",
    "    \n",
    "    y_pred = pipe.predict(X_test)\n",
    "    \n",
    "    dtr_metrics = ml_help.get_metrics_reg(\"Decision Tree\",y_test,y_pred)\n",
    "    dtr_metrics[\"time_to_fit\"] = end-start\n",
    "    dtr_metrics"
   ]
  },
  {
   "cell_type": "code",
   "execution_count": 22,
   "id": "befc49ed-fe91-4f3b-9ed1-f74e1d6b7663",
   "metadata": {
    "tags": []
   },
   "outputs": [],
   "source": [
    "if not METRICS_DONE:\n",
    "    ml_help.plot_prediction(y_test, y_pred, \"Decision Tree\", \"Speed (km/h)\", \"025_decision_tree_predictions\")"
   ]
  },
  {
   "cell_type": "markdown",
   "id": "f5585e5f-35d6-40af-b83e-f4f0322dbe80",
   "metadata": {},
   "source": [
    "## MLP"
   ]
  },
  {
   "cell_type": "markdown",
   "id": "ca78bbb5-d915-4b57-9069-d20452bb88e1",
   "metadata": {},
   "source": [
    "### Run CV"
   ]
  },
  {
   "cell_type": "code",
   "execution_count": 23,
   "id": "6df6a1f6-8104-4f69-a3b4-94b6cfd03e52",
   "metadata": {
    "tags": []
   },
   "outputs": [],
   "source": [
    "if not METRICS_DONE:\n",
    "    from sklearn.neural_network import MLPRegressor\n",
    "    \n",
    "    params = ml_help.params_to_dict(\"023_mlpr\")"
   ]
  },
  {
   "cell_type": "code",
   "execution_count": 24,
   "id": "c0d77f88-41d5-4e81-9819-bf000c938fe8",
   "metadata": {},
   "outputs": [],
   "source": [
    "if not METRICS_DONE:\n",
    "    mlp_pipeline = make_pipeline(StandardScaler(),MLPRegressor(**params))\n",
    "    \n",
    "    mlp_cv_metrics = ml_help.run_stratified_kfold(\"MLP\",mlp_pipeline,X_train,y_train)\n",
    "    mlp_cv_metrics"
   ]
  },
  {
   "cell_type": "markdown",
   "id": "143b9d4a-6e4b-4d14-8cf3-778e39d04200",
   "metadata": {},
   "source": [
    "### Test using previously unseen data"
   ]
  },
  {
   "cell_type": "code",
   "execution_count": 25,
   "id": "c9d3c23a-7fed-4352-9a38-c1b6b5c8453d",
   "metadata": {
    "tags": []
   },
   "outputs": [],
   "source": [
    "if not METRICS_DONE:\n",
    "    mlp_pipeline = make_pipeline(StandardScaler(),MLPRegressor(**params))\n",
    "    \n",
    "    start = time()\n",
    "    pipe = mlp_pipeline.fit(X_train,y_train)\n",
    "    end = time()\n",
    "    \n",
    "    y_pred = pipe.predict(X_test)\n",
    "    \n",
    "    mlp_metrics = ml_help.get_metrics_reg(\"MLP\",y_test,y_pred)\n",
    "    mlp_metrics[\"time_to_fit\"] = end-start\n",
    "    mlp_metrics"
   ]
  },
  {
   "cell_type": "code",
   "execution_count": 26,
   "id": "915d63d0-5c58-4b41-87f4-db7bc1168939",
   "metadata": {
    "tags": []
   },
   "outputs": [],
   "source": [
    "if not METRICS_DONE:\n",
    "    ml_help.plot_prediction(y_test, y_pred, \"MLP\", \"Speed (km/h)\", \"025_mlp_predictions\")"
   ]
  },
  {
   "cell_type": "markdown",
   "id": "1903ec6f-9009-4a41-b4fc-52efd627db93",
   "metadata": {},
   "source": [
    "# Store metrics"
   ]
  },
  {
   "cell_type": "code",
   "execution_count": 27,
   "id": "9552791e-b4a0-498d-8e6a-2e9525061cea",
   "metadata": {
    "tags": []
   },
   "outputs": [],
   "source": [
    "if not METRICS_DONE:\n",
    "    metrics_cv = pd.concat([pd.DataFrame(xgb_cv_metrics,index=[0]),pd.DataFrame(random_forest_cv_metrics,index=[0]),pd.DataFrame(dtr_cv_metrics,index=[0]),pd.DataFrame(mlp_cv_metrics,index=[0])])\n",
    "    metrics_cv.to_csv(\"./metrics/025_yonge_flow_only_cv_metrics.csv.zip\",index=False,compression=\"zip\")\n",
    "    metrics = pd.concat([pd.DataFrame(xgb_metrics,index=[0]),pd.DataFrame(random_forest_metrics,index=[0]),pd.DataFrame(dtr_metrics,index=[0]),pd.DataFrame(mlp_metrics,index=[0])])\n",
    "    metrics.to_csv(\"./metrics/025_yonge_flow_only_metrics.csv.zip\",index=False,compression=\"zip\")\n",
    "else:\n",
    "    metrics_cv = pd.read_csv(\"./metrics/025_yonge_flow_only_cv_metrics.csv.zip\")\n",
    "    metrics = pd.read_csv(\"./metrics/025_yonge_flow_only_metrics.csv.zip\")"
   ]
  },
  {
   "cell_type": "markdown",
   "id": "f07b08c9-e8fd-4fef-b327-4d67df2acb47",
   "metadata": {},
   "source": [
    "# Print CV metrics"
   ]
  },
  {
   "cell_type": "code",
   "execution_count": 28,
   "id": "85cd3a16-7eda-4c02-b202-5e5ca4844ba0",
   "metadata": {
    "tags": []
   },
   "outputs": [],
   "source": [
    "sns.set_theme()"
   ]
  },
  {
   "cell_type": "code",
   "execution_count": 32,
   "id": "378f4d0d-f035-4c20-9d23-f4e5870ce46b",
   "metadata": {
    "tags": []
   },
   "outputs": [
    {
     "name": "stderr",
     "output_type": "stream",
     "text": [
      "The PostScript backend does not support transparency; partially transparent artists will be rendered opaque.\n"
     ]
    },
    {
     "data": {
      "image/png": "[encoded data removed]",
      "text/plain": [
       "<Figure size 1100x1000 with 4 Axes>"
      ]
     },
     "metadata": {},
     "output_type": "display_data"
    }
   ],
   "source": [
    "fig, axes = plt.subplots(2, 2, figsize=(11, 10))\n",
    "\n",
    "sns.barplot(ax=axes[0, 0], data=metrics_cv, x='model', y='r2',hue=\"model\",dodge=False)\n",
    "sns.barplot(ax=axes[0, 1], data=metrics_cv, x='model', y='mae',hue=\"model\",dodge=False)\n",
    "# sns.barplot(ax=axes[0, 2], data=metrics_cv, x='model', y='mse',hue=\"model\",dodge=False)\n",
    "sns.barplot(ax=axes[1, 0], data=metrics_cv, x='model', y='rmse',hue=\"model\",dodge=False)\n",
    "# sns.barplot(ax=axes[1, 1], data=metrics_cv, x='model', y='mape',hue=\"model\",dodge=False)\n",
    "sns.barplot(ax=axes[1, 1], data=metrics_cv, x='model', y='time_to_fit',hue=\"model\",dodge=False)\n",
    "\n",
    "axes[0, 0].set(xlabel=\"Model\",xticklabels=[])\n",
    "axes[0, 0].set(ylabel=\"R2\")\n",
    "axes[0, 0].get_legend().remove()\n",
    "\n",
    "axes[0, 1].set(xlabel=\"Model\",xticklabels=[])\n",
    "axes[0, 1].set(ylabel=\"MAE\")\n",
    "axes[0, 1].legend(loc='center left', bbox_to_anchor=(1, 0.5))\n",
    "\n",
    "# axes[0, 2].set(xlabel=\"Model\",xticklabels=[])\n",
    "# axes[0, 2].set(ylabel=\"MSE\")\n",
    "# axes[0, 2].legend(loc='center left', bbox_to_anchor=(1, 0.5))\n",
    "\n",
    "axes[1, 0].set(xlabel=\"Model\",xticklabels=[])\n",
    "axes[1, 0].set(ylabel=\"RMSE\")\n",
    "axes[1, 0].get_legend().remove()\n",
    "\n",
    "# axes[1, 1].set(xlabel=\"Model\",xticklabels=[])\n",
    "# axes[1, 1].set(ylabel=\"MAPE\")\n",
    "# axes[1, 1].get_legend().remove()\n",
    "\n",
    "axes[1, 1].set(xlabel=\"Model\",xticklabels=[])\n",
    "axes[1, 1].set(ylabel=\"Time to fit (log)\",yscale=\"log\")\n",
    "axes[1, 1].get_legend().remove()\n",
    "\n",
    "plt.savefig(\"./plots/025_yonge_flow_only_cv_metrics.eps\",format=\"eps\",bbox_inches=\"tight\")\n",
    "plt.savefig(\"./plots/025_yonge_flow_only_cv_metrics.png\",bbox_inches=\"tight\")"
   ]
  },
  {
   "cell_type": "markdown",
   "id": "ee9cb6cb-b0ea-438e-b0a4-cb7ea799a01d",
   "metadata": {},
   "source": [
    "# Print metrics"
   ]
  },
  {
   "cell_type": "code",
   "execution_count": 5,
   "id": "a70c06b5-b35d-4297-9d91-447c81d0f22c",
   "metadata": {
    "tags": []
   },
   "outputs": [
    {
     "name": "stderr",
     "output_type": "stream",
     "text": [
      "The PostScript backend does not support transparency; partially transparent artists will be rendered opaque.\n"
     ]
    },
    {
     "data": {
      "image/png": "[encoded data removed]",
      "text/plain": [
       "<Figure size 1100x1000 with 4 Axes>"
      ]
     },
     "metadata": {},
     "output_type": "display_data"
    }
   ],
   "source": [
    "metrics.sort_values(by=\"r2\", ascending=False, inplace=True)\n",
    "ttf_order = list(metrics.sort_values(by=\"time_to_fit\")[\"model\"])\n",
    "\n",
    "fig, axes = plt.subplots(2, 2, figsize=(11, 10))\n",
    "\n",
    "sns.barplot(ax=axes[0, 0], data=metrics, x='model', y='r2',hue=\"model\",dodge=False)\n",
    "sns.barplot(ax=axes[0, 1], data=metrics, x='model', y='mae',hue=\"model\",dodge=False)\n",
    "# sns.barplot(ax=axes[0, 2], data=metrics, x='model', y='mse',hue=\"model\",dodge=False)\n",
    "sns.barplot(ax=axes[1, 0], data=metrics, x='model', y='rmse',hue=\"model\",dodge=False)\n",
    "# sns.barplot(ax=axes[1, 1], data=metrics, x='model', y='mape',hue=\"model\",dodge=False)\n",
    "sns.barplot(ax=axes[1, 1], data=metrics, x='model', y='time_to_fit',hue=\"model\",dodge=False)\n",
    "\n",
    "axes[0, 0].set(xlabel=\"Model\",xticklabels=[])\n",
    "axes[0, 0].set(ylabel=\"R2\")\n",
    "axes[0, 0].get_legend().remove()\n",
    "\n",
    "axes[0, 1].set(xlabel=\"Model\",xticklabels=[])\n",
    "axes[0, 1].set(ylabel=\"MAE\")\n",
    "axes[0, 1].legend(loc='center left', bbox_to_anchor=(1, 0.5))\n",
    "\n",
    "# axes[0, 2].set(xlabel=\"Model\",xticklabels=[])\n",
    "# axes[0, 2].set(ylabel=\"MSE\")\n",
    "# axes[0, 2].legend(loc='center left', bbox_to_anchor=(1, 0.5))\n",
    "\n",
    "axes[1, 0].set(xlabel=\"Model\",xticklabels=[])\n",
    "axes[1, 0].set(ylabel=\"RMSE\")\n",
    "axes[1, 0].get_legend().remove()\n",
    "\n",
    "# axes[1, 1].set(xlabel=\"Model\",xticklabels=[])\n",
    "# axes[1, 1].set(ylabel=\"MAPE\")\n",
    "# axes[1, 1].get_legend().remove()\n",
    "\n",
    "axes[1, 1].set(xlabel=\"Model\",xticklabels=[])\n",
    "axes[1, 1].set(ylabel=\"Time to fit (log)\", yscale=\"log\")\n",
    "axes[1, 1].get_legend().remove()\n",
    "\n",
    "plt.savefig(\"./plots/025_yonge_flow_only_metrics.eps\",format=\"eps\",bbox_inches=\"tight\")\n",
    "plt.savefig(\"./plots/025_yonge_flow_only_metrics.png\",bbox_inches=\"tight\")\n",
    "plt.savefig(\"./plots/025_yonge_flow_only_metrics.pdf\",bbox_inches=\"tight\")"
   ]
  },
  {
   "cell_type": "code",
   "execution_count": null,
   "id": "fc147f46-ebc8-48ab-a66c-5eb6021e55d3",
   "metadata": {},
   "outputs": [],
   "source": []
  }
 ],
 "metadata": {
  "kernelspec": {
   "display_name": "Python 3 (ipykernel)",
   "language": "python",
   "name": "python3"
  },
  "language_info": {
   "codemirror_mode": {
    "name": "ipython",
    "version": 3
   },
   "file_extension": ".py",
   "mimetype": "text/x-python",
   "name": "python",
   "nbconvert_exporter": "python",
   "pygments_lexer": "ipython3",
   "version": "3.10.10"
  }
 },
 "nbformat": 4,
 "nbformat_minor": 5
}

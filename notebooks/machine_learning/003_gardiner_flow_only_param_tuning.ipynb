{
 "cells": [
  {
   "attachments": {},
   "cell_type": "markdown",
   "id": "e9321485-8d5c-4653-ac4c-29001c700314",
   "metadata": {},
   "source": [
    "# Tune parameters for Gardiner Expy flow only models"
   ]
  },
  {
   "cell_type": "code",
   "execution_count": 9,
   "id": "7d51c8ed-2b7c-4cae-a0db-dcde58ca1e79",
   "metadata": {
    "tags": []
   },
   "outputs": [],
   "source": [
    "import pandas as pd\n",
    "from sklearn.model_selection import train_test_split\n",
    "plot_label=\"Speed (km/h)\""
   ]
  },
  {
   "attachments": {},
   "cell_type": "markdown",
   "id": "34b377a6-47b2-42a0-8678-af4b039b1105",
   "metadata": {},
   "source": [
    "# Load and prepare data"
   ]
  },
  {
   "cell_type": "code",
   "execution_count": 10,
   "id": "9fe1c46c-8a72-460a-9003-fbf854b8cb56",
   "metadata": {
    "tags": []
   },
   "outputs": [
    {
     "data": {
      "text/html": [
       "<div>\n",
       "<style scoped>\n",
       "    .dataframe tbody tr th:only-of-type {\n",
       "        vertical-align: middle;\n",
       "    }\n",
       "\n",
       "    .dataframe tbody tr th {\n",
       "        vertical-align: top;\n",
       "    }\n",
       "\n",
       "    .dataframe thead th {\n",
       "        text-align: right;\n",
       "    }\n",
       "</style>\n",
       "<table border=\"1\" class=\"dataframe\">\n",
       "  <thead>\n",
       "    <tr style=\"text-align: right;\">\n",
       "      <th></th>\n",
       "      <th>collectedAt</th>\n",
       "      <th>month</th>\n",
       "      <th>day</th>\n",
       "      <th>day_of_week</th>\n",
       "      <th>hour</th>\n",
       "      <th>minute</th>\n",
       "      <th>currentSpeed</th>\n",
       "    </tr>\n",
       "  </thead>\n",
       "  <tbody>\n",
       "    <tr>\n",
       "      <th>0</th>\n",
       "      <td>2022-07-14 12:45:00+00:00</td>\n",
       "      <td>July</td>\n",
       "      <td>14</td>\n",
       "      <td>Thursday</td>\n",
       "      <td>12</td>\n",
       "      <td>45</td>\n",
       "      <td>94</td>\n",
       "    </tr>\n",
       "    <tr>\n",
       "      <th>1</th>\n",
       "      <td>2022-07-14 12:51:44+00:00</td>\n",
       "      <td>July</td>\n",
       "      <td>14</td>\n",
       "      <td>Thursday</td>\n",
       "      <td>12</td>\n",
       "      <td>51</td>\n",
       "      <td>94</td>\n",
       "    </tr>\n",
       "    <tr>\n",
       "      <th>2</th>\n",
       "      <td>2022-07-14 12:55:27+00:00</td>\n",
       "      <td>July</td>\n",
       "      <td>14</td>\n",
       "      <td>Thursday</td>\n",
       "      <td>12</td>\n",
       "      <td>55</td>\n",
       "      <td>75</td>\n",
       "    </tr>\n",
       "  </tbody>\n",
       "</table>\n",
       "</div>"
      ],
      "text/plain": [
       "                 collectedAt month  day day_of_week  hour  minute  \\\n",
       "0  2022-07-14 12:45:00+00:00  July   14    Thursday    12      45   \n",
       "1  2022-07-14 12:51:44+00:00  July   14    Thursday    12      51   \n",
       "2  2022-07-14 12:55:27+00:00  July   14    Thursday    12      55   \n",
       "\n",
       "   currentSpeed  \n",
       "0            94  \n",
       "1            94  \n",
       "2            75  "
      ]
     },
     "execution_count": 10,
     "metadata": {},
     "output_type": "execute_result"
    }
   ],
   "source": [
    "df = pd.read_csv(\"./data/gardiner_flow.csv.zip\")\n",
    "df.head(3)"
   ]
  },
  {
   "cell_type": "code",
   "execution_count": 11,
   "id": "8a1f59ec-fdd8-4a29-a743-fc7639f277d4",
   "metadata": {
    "tags": []
   },
   "outputs": [
    {
     "data": {
      "text/html": [
       "<div>\n",
       "<style scoped>\n",
       "    .dataframe tbody tr th:only-of-type {\n",
       "        vertical-align: middle;\n",
       "    }\n",
       "\n",
       "    .dataframe tbody tr th {\n",
       "        vertical-align: top;\n",
       "    }\n",
       "\n",
       "    .dataframe thead th {\n",
       "        text-align: right;\n",
       "    }\n",
       "</style>\n",
       "<table border=\"1\" class=\"dataframe\">\n",
       "  <thead>\n",
       "    <tr style=\"text-align: right;\">\n",
       "      <th></th>\n",
       "      <th>month</th>\n",
       "      <th>day</th>\n",
       "      <th>day_of_week</th>\n",
       "      <th>hour</th>\n",
       "      <th>minute</th>\n",
       "      <th>currentSpeed</th>\n",
       "    </tr>\n",
       "  </thead>\n",
       "  <tbody>\n",
       "    <tr>\n",
       "      <th>0</th>\n",
       "      <td>July</td>\n",
       "      <td>14</td>\n",
       "      <td>Thursday</td>\n",
       "      <td>12</td>\n",
       "      <td>45</td>\n",
       "      <td>94</td>\n",
       "    </tr>\n",
       "    <tr>\n",
       "      <th>1</th>\n",
       "      <td>July</td>\n",
       "      <td>14</td>\n",
       "      <td>Thursday</td>\n",
       "      <td>12</td>\n",
       "      <td>51</td>\n",
       "      <td>94</td>\n",
       "    </tr>\n",
       "    <tr>\n",
       "      <th>2</th>\n",
       "      <td>July</td>\n",
       "      <td>14</td>\n",
       "      <td>Thursday</td>\n",
       "      <td>12</td>\n",
       "      <td>55</td>\n",
       "      <td>75</td>\n",
       "    </tr>\n",
       "  </tbody>\n",
       "</table>\n",
       "</div>"
      ],
      "text/plain": [
       "  month  day day_of_week  hour  minute  currentSpeed\n",
       "0  July   14    Thursday    12      45            94\n",
       "1  July   14    Thursday    12      51            94\n",
       "2  July   14    Thursday    12      55            75"
      ]
     },
     "execution_count": 11,
     "metadata": {},
     "output_type": "execute_result"
    }
   ],
   "source": [
    "df.drop([\"collectedAt\"],axis=1,inplace=True)\n",
    "df.head(3)"
   ]
  },
  {
   "cell_type": "code",
   "execution_count": 12,
   "id": "8fa7659d-5a5c-4d80-95a6-023d59db2d09",
   "metadata": {
    "tags": []
   },
   "outputs": [
    {
     "data": {
      "text/html": [
       "<div>\n",
       "<style scoped>\n",
       "    .dataframe tbody tr th:only-of-type {\n",
       "        vertical-align: middle;\n",
       "    }\n",
       "\n",
       "    .dataframe tbody tr th {\n",
       "        vertical-align: top;\n",
       "    }\n",
       "\n",
       "    .dataframe thead th {\n",
       "        text-align: right;\n",
       "    }\n",
       "</style>\n",
       "<table border=\"1\" class=\"dataframe\">\n",
       "  <thead>\n",
       "    <tr style=\"text-align: right;\">\n",
       "      <th></th>\n",
       "      <th>day</th>\n",
       "      <th>hour</th>\n",
       "      <th>minute</th>\n",
       "      <th>currentSpeed</th>\n",
       "      <th>month_August</th>\n",
       "      <th>month_December</th>\n",
       "      <th>month_February</th>\n",
       "      <th>month_January</th>\n",
       "      <th>month_July</th>\n",
       "      <th>month_March</th>\n",
       "      <th>month_November</th>\n",
       "      <th>month_October</th>\n",
       "      <th>month_September</th>\n",
       "      <th>day_of_week_Friday</th>\n",
       "      <th>day_of_week_Monday</th>\n",
       "      <th>day_of_week_Saturday</th>\n",
       "      <th>day_of_week_Sunday</th>\n",
       "      <th>day_of_week_Thursday</th>\n",
       "      <th>day_of_week_Tuesday</th>\n",
       "      <th>day_of_week_Wednesday</th>\n",
       "    </tr>\n",
       "  </thead>\n",
       "  <tbody>\n",
       "    <tr>\n",
       "      <th>0</th>\n",
       "      <td>14.0</td>\n",
       "      <td>12.0</td>\n",
       "      <td>45.0</td>\n",
       "      <td>94.0</td>\n",
       "      <td>0.0</td>\n",
       "      <td>0.0</td>\n",
       "      <td>0.0</td>\n",
       "      <td>0.0</td>\n",
       "      <td>1.0</td>\n",
       "      <td>0.0</td>\n",
       "      <td>0.0</td>\n",
       "      <td>0.0</td>\n",
       "      <td>0.0</td>\n",
       "      <td>0.0</td>\n",
       "      <td>0.0</td>\n",
       "      <td>0.0</td>\n",
       "      <td>0.0</td>\n",
       "      <td>1.0</td>\n",
       "      <td>0.0</td>\n",
       "      <td>0.0</td>\n",
       "    </tr>\n",
       "    <tr>\n",
       "      <th>1</th>\n",
       "      <td>14.0</td>\n",
       "      <td>12.0</td>\n",
       "      <td>51.0</td>\n",
       "      <td>94.0</td>\n",
       "      <td>0.0</td>\n",
       "      <td>0.0</td>\n",
       "      <td>0.0</td>\n",
       "      <td>0.0</td>\n",
       "      <td>1.0</td>\n",
       "      <td>0.0</td>\n",
       "      <td>0.0</td>\n",
       "      <td>0.0</td>\n",
       "      <td>0.0</td>\n",
       "      <td>0.0</td>\n",
       "      <td>0.0</td>\n",
       "      <td>0.0</td>\n",
       "      <td>0.0</td>\n",
       "      <td>1.0</td>\n",
       "      <td>0.0</td>\n",
       "      <td>0.0</td>\n",
       "    </tr>\n",
       "    <tr>\n",
       "      <th>2</th>\n",
       "      <td>14.0</td>\n",
       "      <td>12.0</td>\n",
       "      <td>55.0</td>\n",
       "      <td>75.0</td>\n",
       "      <td>0.0</td>\n",
       "      <td>0.0</td>\n",
       "      <td>0.0</td>\n",
       "      <td>0.0</td>\n",
       "      <td>1.0</td>\n",
       "      <td>0.0</td>\n",
       "      <td>0.0</td>\n",
       "      <td>0.0</td>\n",
       "      <td>0.0</td>\n",
       "      <td>0.0</td>\n",
       "      <td>0.0</td>\n",
       "      <td>0.0</td>\n",
       "      <td>0.0</td>\n",
       "      <td>1.0</td>\n",
       "      <td>0.0</td>\n",
       "      <td>0.0</td>\n",
       "    </tr>\n",
       "  </tbody>\n",
       "</table>\n",
       "</div>"
      ],
      "text/plain": [
       "    day  hour  minute  currentSpeed  month_August  month_December  \\\n",
       "0  14.0  12.0    45.0          94.0           0.0             0.0   \n",
       "1  14.0  12.0    51.0          94.0           0.0             0.0   \n",
       "2  14.0  12.0    55.0          75.0           0.0             0.0   \n",
       "\n",
       "   month_February  month_January  month_July  month_March  month_November  \\\n",
       "0             0.0            0.0         1.0          0.0             0.0   \n",
       "1             0.0            0.0         1.0          0.0             0.0   \n",
       "2             0.0            0.0         1.0          0.0             0.0   \n",
       "\n",
       "   month_October  month_September  day_of_week_Friday  day_of_week_Monday  \\\n",
       "0            0.0              0.0                 0.0                 0.0   \n",
       "1            0.0              0.0                 0.0                 0.0   \n",
       "2            0.0              0.0                 0.0                 0.0   \n",
       "\n",
       "   day_of_week_Saturday  day_of_week_Sunday  day_of_week_Thursday  \\\n",
       "0                   0.0                 0.0                   1.0   \n",
       "1                   0.0                 0.0                   1.0   \n",
       "2                   0.0                 0.0                   1.0   \n",
       "\n",
       "   day_of_week_Tuesday  day_of_week_Wednesday  \n",
       "0                  0.0                    0.0  \n",
       "1                  0.0                    0.0  \n",
       "2                  0.0                    0.0  "
      ]
     },
     "execution_count": 12,
     "metadata": {},
     "output_type": "execute_result"
    }
   ],
   "source": [
    "categorical_feats = [\"month\",\"day_of_week\"]\n",
    "\n",
    "transformed_df = pd.get_dummies(df, columns=categorical_feats)\n",
    "transformed_df = transformed_df.astype(\"float32\")\n",
    "transformed_df.head(3)"
   ]
  },
  {
   "cell_type": "code",
   "execution_count": 13,
   "id": "45b4322e-f512-4842-8f4b-0da889fb62ea",
   "metadata": {
    "tags": []
   },
   "outputs": [],
   "source": [
    "X = transformed_df.drop(\"currentSpeed\",axis=1)\n",
    "y = transformed_df[\"currentSpeed\"]\n",
    "\n",
    "X_train, X_test, y_train, y_test = train_test_split(X, y, test_size=0.2, random_state=42)\n",
    "X_train, X_val, y_train, y_val = train_test_split(X_train, y_train, test_size=0.25, random_state=42) # 0.25 x 0.8 = 0.2"
   ]
  },
  {
   "attachments": {},
   "cell_type": "markdown",
   "id": "b9a9969b-8d28-47c9-9f82-4cfbec700924",
   "metadata": {},
   "source": [
    "## Sample 50% of remaining training data to run CV.\n",
    "- The idea is have enough data that is representative of the dataset, while speeding up the CV performed by GridSearchCV."
   ]
  },
  {
   "cell_type": "code",
   "execution_count": 14,
   "id": "479c6425-a1e6-42f2-89b5-98c00fc058b0",
   "metadata": {
    "tags": []
   },
   "outputs": [],
   "source": [
    "X_train_sample, X_test_sample, y_train_sample, y_test_sample = train_test_split(X_train, y_train, test_size=0.5, random_state=42)"
   ]
  },
  {
   "cell_type": "code",
   "execution_count": 15,
   "id": "782abd52-eacf-4922-912a-35e55e351304",
   "metadata": {
    "tags": []
   },
   "outputs": [
    {
     "data": {
      "text/html": [
       "<div>\n",
       "<style scoped>\n",
       "    .dataframe tbody tr th:only-of-type {\n",
       "        vertical-align: middle;\n",
       "    }\n",
       "\n",
       "    .dataframe tbody tr th {\n",
       "        vertical-align: top;\n",
       "    }\n",
       "\n",
       "    .dataframe thead th {\n",
       "        text-align: right;\n",
       "    }\n",
       "</style>\n",
       "<table border=\"1\" class=\"dataframe\">\n",
       "  <thead>\n",
       "    <tr style=\"text-align: right;\">\n",
       "      <th></th>\n",
       "      <th>model</th>\n",
       "      <th>r2</th>\n",
       "      <th>mae</th>\n",
       "      <th>mse</th>\n",
       "      <th>rmse</th>\n",
       "      <th>mape</th>\n",
       "      <th>time_to_fit</th>\n",
       "      <th>time_to_predict</th>\n",
       "    </tr>\n",
       "  </thead>\n",
       "  <tbody>\n",
       "    <tr>\n",
       "      <th>0</th>\n",
       "      <td>Random Forest</td>\n",
       "      <td>0.913182</td>\n",
       "      <td>1.727339</td>\n",
       "      <td>14.203959</td>\n",
       "      <td>3.768814</td>\n",
       "      <td>0.023677</td>\n",
       "      <td>6.775036</td>\n",
       "      <td>0.203156</td>\n",
       "    </tr>\n",
       "    <tr>\n",
       "      <th>1</th>\n",
       "      <td>Decision Tree</td>\n",
       "      <td>0.855916</td>\n",
       "      <td>1.732576</td>\n",
       "      <td>23.573060</td>\n",
       "      <td>4.855210</td>\n",
       "      <td>0.024202</td>\n",
       "      <td>0.107992</td>\n",
       "      <td>0.003676</td>\n",
       "    </tr>\n",
       "    <tr>\n",
       "      <th>2</th>\n",
       "      <td>XGBoost</td>\n",
       "      <td>0.846061</td>\n",
       "      <td>2.907144</td>\n",
       "      <td>25.484495</td>\n",
       "      <td>5.048217</td>\n",
       "      <td>0.039467</td>\n",
       "      <td>0.352739</td>\n",
       "      <td>0.018919</td>\n",
       "    </tr>\n",
       "    <tr>\n",
       "      <th>3</th>\n",
       "      <td>MLP</td>\n",
       "      <td>0.673072</td>\n",
       "      <td>4.827399</td>\n",
       "      <td>54.122640</td>\n",
       "      <td>7.356809</td>\n",
       "      <td>0.065896</td>\n",
       "      <td>40.545323</td>\n",
       "      <td>0.015713</td>\n",
       "    </tr>\n",
       "    <tr>\n",
       "      <th>4</th>\n",
       "      <td>Linear Regression</td>\n",
       "      <td>0.326866</td>\n",
       "      <td>7.946688</td>\n",
       "      <td>110.129074</td>\n",
       "      <td>10.494240</td>\n",
       "      <td>0.107932</td>\n",
       "      <td>0.021839</td>\n",
       "      <td>0.003812</td>\n",
       "    </tr>\n",
       "    <tr>\n",
       "      <th>5</th>\n",
       "      <td>Lasso</td>\n",
       "      <td>0.292887</td>\n",
       "      <td>8.025448</td>\n",
       "      <td>115.688310</td>\n",
       "      <td>10.755850</td>\n",
       "      <td>0.110912</td>\n",
       "      <td>0.014949</td>\n",
       "      <td>0.002579</td>\n",
       "    </tr>\n",
       "    <tr>\n",
       "      <th>6</th>\n",
       "      <td>Elastic Net</td>\n",
       "      <td>0.266358</td>\n",
       "      <td>8.351267</td>\n",
       "      <td>120.028610</td>\n",
       "      <td>10.955757</td>\n",
       "      <td>0.116191</td>\n",
       "      <td>0.014368</td>\n",
       "      <td>0.002530</td>\n",
       "    </tr>\n",
       "    <tr>\n",
       "      <th>7</th>\n",
       "      <td>Logistic Regression</td>\n",
       "      <td>-0.276799</td>\n",
       "      <td>6.965119</td>\n",
       "      <td>208.892500</td>\n",
       "      <td>14.453114</td>\n",
       "      <td>0.115319</td>\n",
       "      <td>8.341026</td>\n",
       "      <td>0.008929</td>\n",
       "    </tr>\n",
       "  </tbody>\n",
       "</table>\n",
       "</div>"
      ],
      "text/plain": [
       "                 model        r2       mae         mse       rmse      mape  \\\n",
       "0        Random Forest  0.913182  1.727339   14.203959   3.768814  0.023677   \n",
       "1        Decision Tree  0.855916  1.732576   23.573060   4.855210  0.024202   \n",
       "2              XGBoost  0.846061  2.907144   25.484495   5.048217  0.039467   \n",
       "3                  MLP  0.673072  4.827399   54.122640   7.356809  0.065896   \n",
       "4    Linear Regression  0.326866  7.946688  110.129074  10.494240  0.107932   \n",
       "5                Lasso  0.292887  8.025448  115.688310  10.755850  0.110912   \n",
       "6          Elastic Net  0.266358  8.351267  120.028610  10.955757  0.116191   \n",
       "7  Logistic Regression -0.276799  6.965119  208.892500  14.453114  0.115319   \n",
       "\n",
       "   time_to_fit  time_to_predict  \n",
       "0     6.775036         0.203156  \n",
       "1     0.107992         0.003676  \n",
       "2     0.352739         0.018919  \n",
       "3    40.545323         0.015713  \n",
       "4     0.021839         0.003812  \n",
       "5     0.014949         0.002579  \n",
       "6     0.014368         0.002530  \n",
       "7     8.341026         0.008929  "
      ]
     },
     "execution_count": 15,
     "metadata": {},
     "output_type": "execute_result"
    }
   ],
   "source": [
    "metrics_df = pd.read_csv(\"./metrics/002_initial_metrics.csv.zip\")\n",
    "metrics_df.sort_values(\"r2\",ascending=False)"
   ]
  },
  {
   "attachments": {},
   "cell_type": "markdown",
   "id": "699498df-dfab-4626-a631-bf3c6fb2560f",
   "metadata": {},
   "source": [
    "- Based on R2 score (the closer to 1, the closer to reality it is)\n",
    "    - Choosing XGBoost, Decision Tree, Random Forest, MLP"
   ]
  },
  {
   "attachments": {},
   "cell_type": "markdown",
   "id": "fe3552a6-cb63-4dce-a63c-94bee799ad60",
   "metadata": {},
   "source": [
    "# Begin ML tasks"
   ]
  },
  {
   "attachments": {},
   "cell_type": "markdown",
   "id": "06757fec-eed8-4263-b907-b9ba4b3e8ba4",
   "metadata": {},
   "source": [
    "## XGBoost"
   ]
  },
  {
   "cell_type": "code",
   "execution_count": null,
   "id": "e13b5696-0db6-43dc-9969-24914c194872",
   "metadata": {},
   "outputs": [
    {
     "name": "stdout",
     "output_type": "stream",
     "text": [
      "Testing 243 param combinations for XGBoost. CV=5. Total fits: 1215\n",
      "\n",
      "Searching space...\n",
      "Fitting 5 folds for each of 243 candidates, totalling 1215 fits\n"
     ]
    }
   ],
   "source": [
    "import xgboost as xgb\n",
    "\n",
    "file_name = \"003_xgboost\"\n",
    "model_name = \"XGBoost\"\n",
    "\n",
    "param_grid = {\n",
    "    \"random_state\": [42],\n",
    "    \"objective\": [\"reg:squarederror\"],\n",
    "    \"tree_method\": [\"hist\"],\n",
    "    \"predictor\": [\"cpu_predictor\"],\n",
    "    \"num_parallel_tree\": [10],\n",
    "    \"max_depth\": [6, 8, 16],\n",
    "    \"n_estimators\": [100, 250, 350],\n",
    "    \"max_leaves\": [20, 40, 80],\n",
    "    \"alpha\": [0.01, 0.1, 1],\n",
    "    \"learning_rate\": [0.3, 0.5, 0.9],\n",
    "    \"n_jobs\": [12]\n",
    "}\n",
    "\n",
    "estimator = xgb.XGBRegressor()\n",
    "\n",
    "best_params = ml_help.run_param_search(estimator, param_grid, file_name, model_name, X_train_sample, y_train_sample, verbose=1)\n",
    "best_params.drop([\"score\", \"model\"],axis=1,inplace=True)\n",
    "\n",
    "params = ml_help.params_to_dict(file_name)\n",
    "    \n",
    "model_train, model_metrics_train = ml_help.train_and_test(file_name, model_name, xgb.XGBRegressor(**params), X_train, X_val, y_train, y_val, plot_label, dump_model=True, show_plot=True)\n",
    "del model_train"
   ]
  },
  {
   "attachments": {},
   "cell_type": "markdown",
   "id": "2fc5e557-ded0-4b39-9ef7-07c4163d4f76",
   "metadata": {},
   "source": [
    "## Decision Tree"
   ]
  },
  {
   "cell_type": "code",
   "execution_count": null,
   "id": "741f8591-54e7-4030-b102-3540c24d9e48",
   "metadata": {
    "tags": []
   },
   "outputs": [],
   "source": [
    "from sklearn.tree import DecisionTreeRegressor\n",
    "\n",
    "file_name = \"003_decision_tree\"\n",
    "model_name = \"Decision Tree\"\n",
    "\n",
    "param_grid = {\n",
    "    \"random_state\": [42],\n",
    "    \"criterion\": [\"squared_error\"],\n",
    "    \"splitter\": [\"best\"],\n",
    "    \"max_depth\": [6,8,16,32,64,128],\n",
    "    \"min_samples_split\": [2,4,8,16,32],\n",
    "    \"min_samples_leaf\": [1,5,10,15,30],\n",
    "    \"max_leaf_nodes\": [10,30,50,75,100],\n",
    "    \"n_jobs\": [12]\n",
    "}\n",
    "\n",
    "estimator = DecisionTreeRegressor()\n",
    "\n",
    "best_params = ml_help.run_param_search(estimator, param_grid, file_name, model_name, X_train_sample, y_train_sample, verbose=1)\n",
    "best_params.drop([\"score\", \"model\"],axis=1,inplace=True)\n",
    "\n",
    "params = ml_help.params_to_dict(file_name)\n",
    "\n",
    "model_train, model_metrics_train = ml_help.train_and_test(file_name, model_name, DecisionTreeRegressor(**params), X_train, X_val, y_train, y_val, plot_label, dump_model=True, show_plot=True)\n",
    "del model_train"
   ]
  },
  {
   "attachments": {},
   "cell_type": "markdown",
   "id": "946abb8e-63c4-46cf-a885-b0858b1b8a98",
   "metadata": {
    "tags": []
   },
   "source": [
    "## Random Forest"
   ]
  },
  {
   "cell_type": "code",
   "execution_count": 17,
   "id": "2ed34262-1d94-4fd1-9afb-ce559bcdb1cf",
   "metadata": {
    "tags": []
   },
   "outputs": [
    {
     "name": "stdout",
     "output_type": "stream",
     "text": [
      "Testing 243 param combinations for Random Forest. CV=5. Total fits: 1215\n",
      "\n",
      "Searching space...\n",
      "Fitting 5 folds for each of 243 candidates, totalling 1215 fits\n",
      "Searching space... OK! Took 371.94692397117615 seconds\n",
      "Storing best params...\n",
      "Storing best params... OK\n",
      "Fitting model...\n",
      "Fitting model... OK! Took 1.0012431144714355 seconds\n",
      "\n",
      "model Random Forest\n",
      "r2 0.674519159421214\n",
      "mae 4.313455993721178\n",
      "mse 53.25076377542845\n",
      "rmse 7.297312092505599\n",
      "mape 0.060338008969185376\n",
      "time_to_fit 1.0012431144714355\n",
      "time_to_predict 0.03812146186828613\n",
      "\n",
      "Dumping model...\n",
      "Dumping model... OK! Took 0.5290219783782959 seconds\n"
     ]
    },
    {
     "name": "stderr",
     "output_type": "stream",
     "text": [
      "The PostScript backend does not support transparency; partially transparent artists will be rendered opaque.\n"
     ]
    },
    {
     "data": {
      "image/png": "[encoded data removed]",
      "text/plain": [
       "<Figure size 640x480 with 1 Axes>"
      ]
     },
     "metadata": {},
     "output_type": "display_data"
    }
   ],
   "source": [
    "from sklearn.ensemble import RandomForestRegressor\n",
    "\n",
    "file_name = \"003_random_forest\"\n",
    "model_name = \"Random Forest\"\n",
    "\n",
    "param_grid = {\n",
    "    \"n_estimators\": [100,200,300],\n",
    "    \"max_depth\": [16,32,48],\n",
    "    \"max_leaf_nodes\": [10,50,100],\n",
    "    \"min_samples_leaf\": [1,5,10],\n",
    "    \"min_samples_split\": [2,8,16],\n",
    "    \"n_jobs\": [12]\n",
    "}\n",
    "\n",
    "estimator = RandomForestRegressor()\n",
    "\n",
    "best_params = ml_help.run_param_search(estimator, param_grid, file_name, model_name, X_train_sample, y_train_sample, verbose=1)\n",
    "best_params.drop([\"score\", \"model\"],axis=1,inplace=True)\n",
    "\n",
    "params = ml_help.params_to_dict(file_name)\n",
    "    \n",
    "model_train, model_metrics_train = ml_help.train_and_test(file_name, model_name, RandomForestRegressor(**params), X_train, X_val, y_train, y_val, plot_label, dump_model=True, show_plot=True)\n",
    "del model_train"
   ]
  },
  {
   "attachments": {},
   "cell_type": "markdown",
   "id": "35c81306-6f2a-4aaf-b9d6-48a86d5cae7b",
   "metadata": {},
   "source": [
    "## Multi-layer Perceptron"
   ]
  },
  {
   "cell_type": "code",
   "execution_count": null,
   "id": "e4822bc5-49a7-457f-8c02-b6b7820c3e81",
   "metadata": {
    "tags": []
   },
   "outputs": [],
   "source": [
    "from sklearn.neural_network import MLPRegressor\n",
    "\n",
    "file_name = \"003_mlpr\"\n",
    "model_name = \"MLP\"\n",
    "\n",
    "param_grid = {\n",
    "    \"random_state\": [42],\n",
    "    \"hidden_layer_sizes\": [(100), (100,50), (100,50,25)],\n",
    "    \"alpha\": [0.0001, 0.001, 0.1],\n",
    "    \"learning_rate_init\": [0.001, 0.1],\n",
    "    \"max_iter\": [200, 300, 500],\n",
    "    \"tol\": [1e-4],\n",
    "    \"epsilon\": [1e-8, 1e-4],\n",
    "    \"n_iter_no_change\": [3, 10],\n",
    "    \"n_jobs\": [12]\n",
    "}\n",
    "\n",
    "estimator = MLPRegressor()\n",
    "\n",
    "best_params = ml_help.run_param_search(estimator, param_grid, file_name, model_name, X_train_sample, y_train_sample, verbose=1)\n",
    "best_params.drop([\"score\", \"model\"],axis=1,inplace=True)\n",
    "\n",
    "params = ml_help.params_to_dict(file_name)\n",
    "\n",
    "model_train, model_metrics_train = ml_help.train_and_test(file_name, model_name, MLPRegressor(**params), X_train, X_val, y_train, y_val, plot_label, dump_model=True, show_plot=True)\n",
    "del model_train"
   ]
  },
  {
   "cell_type": "code",
   "execution_count": null,
   "id": "bf3a35bb-7ca6-4295-bacb-da9b6600c4de",
   "metadata": {},
   "outputs": [],
   "source": []
  }
 ],
 "metadata": {
  "kernelspec": {
   "display_name": "Python 3 (ipykernel)",
   "language": "python",
   "name": "python3"
  }
 },
 "nbformat": 4,
 "nbformat_minor": 5
}

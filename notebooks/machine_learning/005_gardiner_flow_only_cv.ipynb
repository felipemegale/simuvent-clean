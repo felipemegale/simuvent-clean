{
 "cells": [
  {
   "cell_type": "code",
   "execution_count": 34,
   "id": "15a175bf-a6f0-4750-9bda-a9e6c206dcf3",
   "metadata": {
    "tags": []
   },
   "outputs": [],
   "source": [
    "import os\n",
    "import pandas as pd\n",
    "import seaborn as sns\n",
    "import matplotlib.pyplot as plt\n",
    "import ml_help\n",
    "import joblib\n",
    "from sklearn.model_selection import train_test_split\n",
    "from sklearn.preprocessing import StandardScaler\n",
    "from sklearn.pipeline import make_pipeline\n",
    "from time import time\n",
    "sns.set_theme()"
   ]
  },
  {
   "cell_type": "code",
   "execution_count": 35,
   "id": "397e338f-a62e-407c-9de5-a288cc59e21a",
   "metadata": {},
   "outputs": [],
   "source": [
    "metrics_available = os.listdir(\"./metrics\")\n",
    "METRICS_DONE = \"005_gardiner_flow_only_cv_metrics.csv.zip\" in metrics_available and \"005_gardiner_flow_only_metrics.csv.zip\" in metrics_available"
   ]
  },
  {
   "attachments": {},
   "cell_type": "markdown",
   "id": "3c968065-4ddd-46d8-91d9-5b940e32cccd",
   "metadata": {},
   "source": [
    "# Load data"
   ]
  },
  {
   "cell_type": "code",
   "execution_count": 36,
   "id": "6fa78adb-49e0-4174-b604-b6078345f293",
   "metadata": {
    "tags": []
   },
   "outputs": [
    {
     "data": {
      "text/html": [
       "<div>\n",
       "<style scoped>\n",
       "    .dataframe tbody tr th:only-of-type {\n",
       "        vertical-align: middle;\n",
       "    }\n",
       "\n",
       "    .dataframe tbody tr th {\n",
       "        vertical-align: top;\n",
       "    }\n",
       "\n",
       "    .dataframe thead th {\n",
       "        text-align: right;\n",
       "    }\n",
       "</style>\n",
       "<table border=\"1\" class=\"dataframe\">\n",
       "  <thead>\n",
       "    <tr style=\"text-align: right;\">\n",
       "      <th></th>\n",
       "      <th>collectedAt</th>\n",
       "      <th>month</th>\n",
       "      <th>day</th>\n",
       "      <th>day_of_week</th>\n",
       "      <th>hour</th>\n",
       "      <th>minute</th>\n",
       "      <th>currentSpeed</th>\n",
       "    </tr>\n",
       "  </thead>\n",
       "  <tbody>\n",
       "    <tr>\n",
       "      <th>0</th>\n",
       "      <td>2022-07-14 12:45:00+00:00</td>\n",
       "      <td>July</td>\n",
       "      <td>14</td>\n",
       "      <td>Thursday</td>\n",
       "      <td>12</td>\n",
       "      <td>45</td>\n",
       "      <td>94</td>\n",
       "    </tr>\n",
       "    <tr>\n",
       "      <th>1</th>\n",
       "      <td>2022-07-14 12:51:44+00:00</td>\n",
       "      <td>July</td>\n",
       "      <td>14</td>\n",
       "      <td>Thursday</td>\n",
       "      <td>12</td>\n",
       "      <td>51</td>\n",
       "      <td>94</td>\n",
       "    </tr>\n",
       "    <tr>\n",
       "      <th>2</th>\n",
       "      <td>2022-07-14 12:55:27+00:00</td>\n",
       "      <td>July</td>\n",
       "      <td>14</td>\n",
       "      <td>Thursday</td>\n",
       "      <td>12</td>\n",
       "      <td>55</td>\n",
       "      <td>75</td>\n",
       "    </tr>\n",
       "  </tbody>\n",
       "</table>\n",
       "</div>"
      ],
      "text/plain": [
       "                 collectedAt month  day day_of_week  hour  minute  \\\n",
       "0  2022-07-14 12:45:00+00:00  July   14    Thursday    12      45   \n",
       "1  2022-07-14 12:51:44+00:00  July   14    Thursday    12      51   \n",
       "2  2022-07-14 12:55:27+00:00  July   14    Thursday    12      55   \n",
       "\n",
       "   currentSpeed  \n",
       "0            94  \n",
       "1            94  \n",
       "2            75  "
      ]
     },
     "execution_count": 36,
     "metadata": {},
     "output_type": "execute_result"
    }
   ],
   "source": [
    "df = pd.read_csv(\"./data/gardiner_flow.csv.zip\")\n",
    "df.head(3)"
   ]
  },
  {
   "cell_type": "code",
   "execution_count": 37,
   "id": "3c5bc3db-53cb-4537-b6ac-9b2a4416da31",
   "metadata": {
    "tags": []
   },
   "outputs": [
    {
     "data": {
      "text/html": [
       "<div>\n",
       "<style scoped>\n",
       "    .dataframe tbody tr th:only-of-type {\n",
       "        vertical-align: middle;\n",
       "    }\n",
       "\n",
       "    .dataframe tbody tr th {\n",
       "        vertical-align: top;\n",
       "    }\n",
       "\n",
       "    .dataframe thead th {\n",
       "        text-align: right;\n",
       "    }\n",
       "</style>\n",
       "<table border=\"1\" class=\"dataframe\">\n",
       "  <thead>\n",
       "    <tr style=\"text-align: right;\">\n",
       "      <th></th>\n",
       "      <th>month</th>\n",
       "      <th>day</th>\n",
       "      <th>day_of_week</th>\n",
       "      <th>hour</th>\n",
       "      <th>minute</th>\n",
       "      <th>currentSpeed</th>\n",
       "    </tr>\n",
       "  </thead>\n",
       "  <tbody>\n",
       "    <tr>\n",
       "      <th>0</th>\n",
       "      <td>July</td>\n",
       "      <td>14</td>\n",
       "      <td>Thursday</td>\n",
       "      <td>12</td>\n",
       "      <td>45</td>\n",
       "      <td>94</td>\n",
       "    </tr>\n",
       "    <tr>\n",
       "      <th>1</th>\n",
       "      <td>July</td>\n",
       "      <td>14</td>\n",
       "      <td>Thursday</td>\n",
       "      <td>12</td>\n",
       "      <td>51</td>\n",
       "      <td>94</td>\n",
       "    </tr>\n",
       "    <tr>\n",
       "      <th>2</th>\n",
       "      <td>July</td>\n",
       "      <td>14</td>\n",
       "      <td>Thursday</td>\n",
       "      <td>12</td>\n",
       "      <td>55</td>\n",
       "      <td>75</td>\n",
       "    </tr>\n",
       "  </tbody>\n",
       "</table>\n",
       "</div>"
      ],
      "text/plain": [
       "  month  day day_of_week  hour  minute  currentSpeed\n",
       "0  July   14    Thursday    12      45            94\n",
       "1  July   14    Thursday    12      51            94\n",
       "2  July   14    Thursday    12      55            75"
      ]
     },
     "execution_count": 37,
     "metadata": {},
     "output_type": "execute_result"
    }
   ],
   "source": [
    "df.drop([\"collectedAt\"],axis=1,inplace=True)\n",
    "df.head(3)"
   ]
  },
  {
   "cell_type": "code",
   "execution_count": 38,
   "id": "09523935-9f3e-4bb0-9d23-e15fd30bea24",
   "metadata": {
    "tags": []
   },
   "outputs": [
    {
     "data": {
      "text/html": [
       "<div>\n",
       "<style scoped>\n",
       "    .dataframe tbody tr th:only-of-type {\n",
       "        vertical-align: middle;\n",
       "    }\n",
       "\n",
       "    .dataframe tbody tr th {\n",
       "        vertical-align: top;\n",
       "    }\n",
       "\n",
       "    .dataframe thead th {\n",
       "        text-align: right;\n",
       "    }\n",
       "</style>\n",
       "<table border=\"1\" class=\"dataframe\">\n",
       "  <thead>\n",
       "    <tr style=\"text-align: right;\">\n",
       "      <th></th>\n",
       "      <th>day</th>\n",
       "      <th>hour</th>\n",
       "      <th>minute</th>\n",
       "      <th>currentSpeed</th>\n",
       "      <th>month_August</th>\n",
       "      <th>month_December</th>\n",
       "      <th>month_February</th>\n",
       "      <th>month_January</th>\n",
       "      <th>month_July</th>\n",
       "      <th>month_March</th>\n",
       "      <th>month_November</th>\n",
       "      <th>month_October</th>\n",
       "      <th>month_September</th>\n",
       "      <th>day_of_week_Friday</th>\n",
       "      <th>day_of_week_Monday</th>\n",
       "      <th>day_of_week_Saturday</th>\n",
       "      <th>day_of_week_Sunday</th>\n",
       "      <th>day_of_week_Thursday</th>\n",
       "      <th>day_of_week_Tuesday</th>\n",
       "      <th>day_of_week_Wednesday</th>\n",
       "    </tr>\n",
       "  </thead>\n",
       "  <tbody>\n",
       "    <tr>\n",
       "      <th>0</th>\n",
       "      <td>14.0</td>\n",
       "      <td>12.0</td>\n",
       "      <td>45.0</td>\n",
       "      <td>94.0</td>\n",
       "      <td>0.0</td>\n",
       "      <td>0.0</td>\n",
       "      <td>0.0</td>\n",
       "      <td>0.0</td>\n",
       "      <td>1.0</td>\n",
       "      <td>0.0</td>\n",
       "      <td>0.0</td>\n",
       "      <td>0.0</td>\n",
       "      <td>0.0</td>\n",
       "      <td>0.0</td>\n",
       "      <td>0.0</td>\n",
       "      <td>0.0</td>\n",
       "      <td>0.0</td>\n",
       "      <td>1.0</td>\n",
       "      <td>0.0</td>\n",
       "      <td>0.0</td>\n",
       "    </tr>\n",
       "    <tr>\n",
       "      <th>1</th>\n",
       "      <td>14.0</td>\n",
       "      <td>12.0</td>\n",
       "      <td>51.0</td>\n",
       "      <td>94.0</td>\n",
       "      <td>0.0</td>\n",
       "      <td>0.0</td>\n",
       "      <td>0.0</td>\n",
       "      <td>0.0</td>\n",
       "      <td>1.0</td>\n",
       "      <td>0.0</td>\n",
       "      <td>0.0</td>\n",
       "      <td>0.0</td>\n",
       "      <td>0.0</td>\n",
       "      <td>0.0</td>\n",
       "      <td>0.0</td>\n",
       "      <td>0.0</td>\n",
       "      <td>0.0</td>\n",
       "      <td>1.0</td>\n",
       "      <td>0.0</td>\n",
       "      <td>0.0</td>\n",
       "    </tr>\n",
       "    <tr>\n",
       "      <th>2</th>\n",
       "      <td>14.0</td>\n",
       "      <td>12.0</td>\n",
       "      <td>55.0</td>\n",
       "      <td>75.0</td>\n",
       "      <td>0.0</td>\n",
       "      <td>0.0</td>\n",
       "      <td>0.0</td>\n",
       "      <td>0.0</td>\n",
       "      <td>1.0</td>\n",
       "      <td>0.0</td>\n",
       "      <td>0.0</td>\n",
       "      <td>0.0</td>\n",
       "      <td>0.0</td>\n",
       "      <td>0.0</td>\n",
       "      <td>0.0</td>\n",
       "      <td>0.0</td>\n",
       "      <td>0.0</td>\n",
       "      <td>1.0</td>\n",
       "      <td>0.0</td>\n",
       "      <td>0.0</td>\n",
       "    </tr>\n",
       "  </tbody>\n",
       "</table>\n",
       "</div>"
      ],
      "text/plain": [
       "    day  hour  minute  currentSpeed  month_August  month_December  \\\n",
       "0  14.0  12.0    45.0          94.0           0.0             0.0   \n",
       "1  14.0  12.0    51.0          94.0           0.0             0.0   \n",
       "2  14.0  12.0    55.0          75.0           0.0             0.0   \n",
       "\n",
       "   month_February  month_January  month_July  month_March  month_November  \\\n",
       "0             0.0            0.0         1.0          0.0             0.0   \n",
       "1             0.0            0.0         1.0          0.0             0.0   \n",
       "2             0.0            0.0         1.0          0.0             0.0   \n",
       "\n",
       "   month_October  month_September  day_of_week_Friday  day_of_week_Monday  \\\n",
       "0            0.0              0.0                 0.0                 0.0   \n",
       "1            0.0              0.0                 0.0                 0.0   \n",
       "2            0.0              0.0                 0.0                 0.0   \n",
       "\n",
       "   day_of_week_Saturday  day_of_week_Sunday  day_of_week_Thursday  \\\n",
       "0                   0.0                 0.0                   1.0   \n",
       "1                   0.0                 0.0                   1.0   \n",
       "2                   0.0                 0.0                   1.0   \n",
       "\n",
       "   day_of_week_Tuesday  day_of_week_Wednesday  \n",
       "0                  0.0                    0.0  \n",
       "1                  0.0                    0.0  \n",
       "2                  0.0                    0.0  "
      ]
     },
     "execution_count": 38,
     "metadata": {},
     "output_type": "execute_result"
    }
   ],
   "source": [
    "categorical_feats = [\"month\",\"day_of_week\"]\n",
    "\n",
    "transformed_df = pd.get_dummies(df, columns=categorical_feats)\n",
    "transformed_df = transformed_df.astype(\"float32\")\n",
    "transformed_df.head(3)"
   ]
  },
  {
   "cell_type": "code",
   "execution_count": 39,
   "id": "587d00ac-ef1d-4cf2-9195-5af160105987",
   "metadata": {
    "tags": []
   },
   "outputs": [],
   "source": [
    "X = transformed_df.drop(\"currentSpeed\",axis=1)\n",
    "y = transformed_df[\"currentSpeed\"]\n",
    "\n",
    "X_train, X_test, y_train, y_test = train_test_split(X, y, test_size=0.20, random_state=42)"
   ]
  },
  {
   "attachments": {},
   "cell_type": "markdown",
   "id": "df0d65bc-db5f-4113-9af3-709101198f0c",
   "metadata": {},
   "source": [
    "# Load models"
   ]
  },
  {
   "cell_type": "code",
   "execution_count": 40,
   "id": "9fb8921f-b463-4823-ba5d-8064dad97b21",
   "metadata": {
    "tags": []
   },
   "outputs": [
    {
     "data": {
      "text/html": [
       "<div>\n",
       "<style scoped>\n",
       "    .dataframe tbody tr th:only-of-type {\n",
       "        vertical-align: middle;\n",
       "    }\n",
       "\n",
       "    .dataframe tbody tr th {\n",
       "        vertical-align: top;\n",
       "    }\n",
       "\n",
       "    .dataframe thead th {\n",
       "        text-align: right;\n",
       "    }\n",
       "</style>\n",
       "<table border=\"1\" class=\"dataframe\">\n",
       "  <thead>\n",
       "    <tr style=\"text-align: right;\">\n",
       "      <th></th>\n",
       "      <th>model</th>\n",
       "      <th>r2</th>\n",
       "      <th>mae</th>\n",
       "      <th>mse</th>\n",
       "      <th>rmse</th>\n",
       "      <th>mape</th>\n",
       "      <th>time_to_fit</th>\n",
       "      <th>time_to_predict</th>\n",
       "    </tr>\n",
       "  </thead>\n",
       "  <tbody>\n",
       "    <tr>\n",
       "      <th>0</th>\n",
       "      <td>XGBoost</td>\n",
       "      <td>0.891815</td>\n",
       "      <td>2.395064</td>\n",
       "      <td>17.909994</td>\n",
       "      <td>4.232020</td>\n",
       "      <td>0.031895</td>\n",
       "      <td>7.480451</td>\n",
       "      <td>0.066916</td>\n",
       "    </tr>\n",
       "    <tr>\n",
       "      <th>1</th>\n",
       "      <td>MLP</td>\n",
       "      <td>0.823579</td>\n",
       "      <td>3.336499</td>\n",
       "      <td>29.206305</td>\n",
       "      <td>5.404286</td>\n",
       "      <td>0.044484</td>\n",
       "      <td>94.463218</td>\n",
       "      <td>0.034669</td>\n",
       "    </tr>\n",
       "    <tr>\n",
       "      <th>2</th>\n",
       "      <td>Random Forest</td>\n",
       "      <td>0.674519</td>\n",
       "      <td>4.313456</td>\n",
       "      <td>53.250764</td>\n",
       "      <td>7.297312</td>\n",
       "      <td>0.060338</td>\n",
       "      <td>1.001243</td>\n",
       "      <td>0.038121</td>\n",
       "    </tr>\n",
       "    <tr>\n",
       "      <th>3</th>\n",
       "      <td>Decision Tree</td>\n",
       "      <td>0.650605</td>\n",
       "      <td>4.353976</td>\n",
       "      <td>57.841973</td>\n",
       "      <td>7.605391</td>\n",
       "      <td>0.061511</td>\n",
       "      <td>0.062577</td>\n",
       "      <td>0.005138</td>\n",
       "    </tr>\n",
       "  </tbody>\n",
       "</table>\n",
       "</div>"
      ],
      "text/plain": [
       "           model        r2       mae        mse      rmse      mape  \\\n",
       "0        XGBoost  0.891815  2.395064  17.909994  4.232020  0.031895   \n",
       "1            MLP  0.823579  3.336499  29.206305  5.404286  0.044484   \n",
       "2  Random Forest  0.674519  4.313456  53.250764  7.297312  0.060338   \n",
       "3  Decision Tree  0.650605  4.353976  57.841973  7.605391  0.061511   \n",
       "\n",
       "   time_to_fit  time_to_predict  \n",
       "0     7.480451         0.066916  \n",
       "1    94.463218         0.034669  \n",
       "2     1.001243         0.038121  \n",
       "3     0.062577         0.005138  "
      ]
     },
     "execution_count": 40,
     "metadata": {},
     "output_type": "execute_result"
    }
   ],
   "source": [
    "metrics = pd.read_csv(\"./metrics/004_best_metrics.csv.zip\")\n",
    "metrics"
   ]
  },
  {
   "attachments": {},
   "cell_type": "markdown",
   "id": "a893221d-8d50-4f13-a5ca-381b1fc68738",
   "metadata": {},
   "source": [
    "## XGBoost"
   ]
  },
  {
   "attachments": {},
   "cell_type": "markdown",
   "id": "0bd8e44c-ead0-447e-81fa-9976fbbf90fe",
   "metadata": {},
   "source": [
    "### Run CV"
   ]
  },
  {
   "cell_type": "code",
   "execution_count": 41,
   "id": "c3b9d6a9-86d4-4a6b-9ffe-437e0c0f2a3e",
   "metadata": {
    "tags": []
   },
   "outputs": [],
   "source": [
    "import xgboost as xgb\n",
    "        \n",
    "params = ml_help.params_to_dict(\"003_xgboost\")"
   ]
  },
  {
   "cell_type": "code",
   "execution_count": 42,
   "id": "8c31ec30-65ff-4332-a0a4-d1f3cc57173d",
   "metadata": {},
   "outputs": [],
   "source": [
    "params['predictor'] = 'cpu_predictor'\n",
    "params['tree_method'] = 'hist'\n",
    "\n",
    "xgboost_pipeline = make_pipeline(StandardScaler(),xgb.XGBRegressor(**params))\n",
    "\n",
    "if not METRICS_DONE:\n",
    "    xgb_cv_metrics = ml_help.run_stratified_kfold(\"XGBoost\",xgboost_pipeline,X_train,y_train)\n",
    "    xgb_cv_metrics"
   ]
  },
  {
   "attachments": {},
   "cell_type": "markdown",
   "id": "29483dfc-b98a-424d-b6c9-e88395f14979",
   "metadata": {},
   "source": [
    "### Test using previously unseen data and get metrics"
   ]
  },
  {
   "cell_type": "code",
   "execution_count": 46,
   "id": "82ae2a27-2e3a-4b23-a982-8941c3e3b075",
   "metadata": {
    "tags": []
   },
   "outputs": [
    {
     "data": {
      "text/plain": [
       "{'model': 'XGBoost',\n",
       " 'r2': 0.9004587911348009,\n",
       " 'mae': 2.2896905,\n",
       " 'mse': 16.034441,\n",
       " 'rmse': 4.004303,\n",
       " 'mape': 0.030257514,\n",
       " 'time_to_fit': 13.74837350845337}"
      ]
     },
     "execution_count": 46,
     "metadata": {},
     "output_type": "execute_result"
    }
   ],
   "source": [
    "xgboost_pipeline = make_pipeline(StandardScaler(),xgb.XGBRegressor(**params))\n",
    "\n",
    "start = time()\n",
    "pipe = xgboost_pipeline.fit(X_train,y_train)\n",
    "end = time()\n",
    "\n",
    "y_pred = pipe.predict(X_test)\n",
    "\n",
    "xgb_metrics = ml_help.get_metrics_reg(\"XGBoost\",y_test,y_pred)\n",
    "xgb_metrics[\"time_to_fit\"] = end-start\n",
    "xgb_metrics"
   ]
  },
  {
   "cell_type": "code",
   "execution_count": 47,
   "id": "41b188ce-7db8-445c-a16a-a5b7fcf708c8",
   "metadata": {},
   "outputs": [
    {
     "data": {
      "text/html": [
       "<div>\n",
       "<style scoped>\n",
       "    .dataframe tbody tr th:only-of-type {\n",
       "        vertical-align: middle;\n",
       "    }\n",
       "\n",
       "    .dataframe tbody tr th {\n",
       "        vertical-align: top;\n",
       "    }\n",
       "\n",
       "    .dataframe thead th {\n",
       "        text-align: right;\n",
       "    }\n",
       "</style>\n",
       "<table border=\"1\" class=\"dataframe\">\n",
       "  <thead>\n",
       "    <tr style=\"text-align: right;\">\n",
       "      <th></th>\n",
       "      <th>day</th>\n",
       "      <th>hour</th>\n",
       "      <th>minute</th>\n",
       "      <th>month_August</th>\n",
       "      <th>month_December</th>\n",
       "      <th>month_February</th>\n",
       "      <th>month_January</th>\n",
       "      <th>month_July</th>\n",
       "      <th>month_March</th>\n",
       "      <th>month_November</th>\n",
       "      <th>...</th>\n",
       "      <th>month_September</th>\n",
       "      <th>day_of_week_Friday</th>\n",
       "      <th>day_of_week_Monday</th>\n",
       "      <th>day_of_week_Saturday</th>\n",
       "      <th>day_of_week_Sunday</th>\n",
       "      <th>day_of_week_Thursday</th>\n",
       "      <th>day_of_week_Tuesday</th>\n",
       "      <th>day_of_week_Wednesday</th>\n",
       "      <th>Actual</th>\n",
       "      <th>Pred.</th>\n",
       "    </tr>\n",
       "  </thead>\n",
       "  <tbody>\n",
       "    <tr>\n",
       "      <th>48230</th>\n",
       "      <td>29.0</td>\n",
       "      <td>0.0</td>\n",
       "      <td>25.0</td>\n",
       "      <td>0.0</td>\n",
       "      <td>1.0</td>\n",
       "      <td>0.0</td>\n",
       "      <td>0.0</td>\n",
       "      <td>0.0</td>\n",
       "      <td>0.0</td>\n",
       "      <td>0.0</td>\n",
       "      <td>...</td>\n",
       "      <td>0.0</td>\n",
       "      <td>0.0</td>\n",
       "      <td>0.0</td>\n",
       "      <td>0.0</td>\n",
       "      <td>0.0</td>\n",
       "      <td>1.0</td>\n",
       "      <td>0.0</td>\n",
       "      <td>0.0</td>\n",
       "      <td>93.0</td>\n",
       "      <td>91.473862</td>\n",
       "    </tr>\n",
       "    <tr>\n",
       "      <th>48234</th>\n",
       "      <td>29.0</td>\n",
       "      <td>0.0</td>\n",
       "      <td>45.0</td>\n",
       "      <td>0.0</td>\n",
       "      <td>1.0</td>\n",
       "      <td>0.0</td>\n",
       "      <td>0.0</td>\n",
       "      <td>0.0</td>\n",
       "      <td>0.0</td>\n",
       "      <td>0.0</td>\n",
       "      <td>...</td>\n",
       "      <td>0.0</td>\n",
       "      <td>0.0</td>\n",
       "      <td>0.0</td>\n",
       "      <td>0.0</td>\n",
       "      <td>0.0</td>\n",
       "      <td>1.0</td>\n",
       "      <td>0.0</td>\n",
       "      <td>0.0</td>\n",
       "      <td>93.0</td>\n",
       "      <td>93.163925</td>\n",
       "    </tr>\n",
       "    <tr>\n",
       "      <th>48235</th>\n",
       "      <td>29.0</td>\n",
       "      <td>0.0</td>\n",
       "      <td>50.0</td>\n",
       "      <td>0.0</td>\n",
       "      <td>1.0</td>\n",
       "      <td>0.0</td>\n",
       "      <td>0.0</td>\n",
       "      <td>0.0</td>\n",
       "      <td>0.0</td>\n",
       "      <td>0.0</td>\n",
       "      <td>...</td>\n",
       "      <td>0.0</td>\n",
       "      <td>0.0</td>\n",
       "      <td>0.0</td>\n",
       "      <td>0.0</td>\n",
       "      <td>0.0</td>\n",
       "      <td>1.0</td>\n",
       "      <td>0.0</td>\n",
       "      <td>0.0</td>\n",
       "      <td>93.0</td>\n",
       "      <td>93.159882</td>\n",
       "    </tr>\n",
       "    <tr>\n",
       "      <th>48236</th>\n",
       "      <td>29.0</td>\n",
       "      <td>0.0</td>\n",
       "      <td>55.0</td>\n",
       "      <td>0.0</td>\n",
       "      <td>1.0</td>\n",
       "      <td>0.0</td>\n",
       "      <td>0.0</td>\n",
       "      <td>0.0</td>\n",
       "      <td>0.0</td>\n",
       "      <td>0.0</td>\n",
       "      <td>...</td>\n",
       "      <td>0.0</td>\n",
       "      <td>0.0</td>\n",
       "      <td>0.0</td>\n",
       "      <td>0.0</td>\n",
       "      <td>0.0</td>\n",
       "      <td>1.0</td>\n",
       "      <td>0.0</td>\n",
       "      <td>0.0</td>\n",
       "      <td>93.0</td>\n",
       "      <td>93.796326</td>\n",
       "    </tr>\n",
       "    <tr>\n",
       "      <th>48243</th>\n",
       "      <td>29.0</td>\n",
       "      <td>1.0</td>\n",
       "      <td>30.0</td>\n",
       "      <td>0.0</td>\n",
       "      <td>1.0</td>\n",
       "      <td>0.0</td>\n",
       "      <td>0.0</td>\n",
       "      <td>0.0</td>\n",
       "      <td>0.0</td>\n",
       "      <td>0.0</td>\n",
       "      <td>...</td>\n",
       "      <td>0.0</td>\n",
       "      <td>0.0</td>\n",
       "      <td>0.0</td>\n",
       "      <td>0.0</td>\n",
       "      <td>0.0</td>\n",
       "      <td>1.0</td>\n",
       "      <td>0.0</td>\n",
       "      <td>0.0</td>\n",
       "      <td>93.0</td>\n",
       "      <td>93.677811</td>\n",
       "    </tr>\n",
       "  </tbody>\n",
       "</table>\n",
       "<p>5 rows × 21 columns</p>\n",
       "</div>"
      ],
      "text/plain": [
       "        day  hour  minute  month_August  month_December  month_February  \\\n",
       "48230  29.0   0.0    25.0           0.0             1.0             0.0   \n",
       "48234  29.0   0.0    45.0           0.0             1.0             0.0   \n",
       "48235  29.0   0.0    50.0           0.0             1.0             0.0   \n",
       "48236  29.0   0.0    55.0           0.0             1.0             0.0   \n",
       "48243  29.0   1.0    30.0           0.0             1.0             0.0   \n",
       "\n",
       "       month_January  month_July  month_March  month_November  ...  \\\n",
       "48230            0.0         0.0          0.0             0.0  ...   \n",
       "48234            0.0         0.0          0.0             0.0  ...   \n",
       "48235            0.0         0.0          0.0             0.0  ...   \n",
       "48236            0.0         0.0          0.0             0.0  ...   \n",
       "48243            0.0         0.0          0.0             0.0  ...   \n",
       "\n",
       "       month_September  day_of_week_Friday  day_of_week_Monday  \\\n",
       "48230              0.0                 0.0                 0.0   \n",
       "48234              0.0                 0.0                 0.0   \n",
       "48235              0.0                 0.0                 0.0   \n",
       "48236              0.0                 0.0                 0.0   \n",
       "48243              0.0                 0.0                 0.0   \n",
       "\n",
       "       day_of_week_Saturday  day_of_week_Sunday  day_of_week_Thursday  \\\n",
       "48230                   0.0                 0.0                   1.0   \n",
       "48234                   0.0                 0.0                   1.0   \n",
       "48235                   0.0                 0.0                   1.0   \n",
       "48236                   0.0                 0.0                   1.0   \n",
       "48243                   0.0                 0.0                   1.0   \n",
       "\n",
       "       day_of_week_Tuesday  day_of_week_Wednesday  Actual      Pred.  \n",
       "48230                  0.0                    0.0    93.0  91.473862  \n",
       "48234                  0.0                    0.0    93.0  93.163925  \n",
       "48235                  0.0                    0.0    93.0  93.159882  \n",
       "48236                  0.0                    0.0    93.0  93.796326  \n",
       "48243                  0.0                    0.0    93.0  93.677811  \n",
       "\n",
       "[5 rows x 21 columns]"
      ]
     },
     "execution_count": 47,
     "metadata": {},
     "output_type": "execute_result"
    }
   ],
   "source": [
    "data = X_test.copy(deep=True)\n",
    "data[\"Actual\"] = y_test\n",
    "data[\"Pred.\"] = y_pred\n",
    "data.sort_index(inplace=True)\n",
    "data_dec = data[(data[\"month_December\"] == 1) & (data[\"day\"] == 29)]\n",
    "data_dec.head()"
   ]
  },
  {
   "cell_type": "code",
   "execution_count": 48,
   "id": "619fc60e-d4bb-4d27-849c-dacd54a948f0",
   "metadata": {},
   "outputs": [
    {
     "name": "stderr",
     "output_type": "stream",
     "text": [
      "The PostScript backend does not support transparency; partially transparent artists will be rendered opaque.\n"
     ]
    },
    {
     "data": {
      "image/png": "[encoded data removed]",
      "text/plain": [
       "<Figure size 640x480 with 1 Axes>"
      ]
     },
     "metadata": {},
     "output_type": "display_data"
    }
   ],
   "source": [
    "ax = sns.lineplot(data = pd.melt(data_dec[[\"hour\",\"Actual\",\"Pred.\"]], [\"hour\"]), x=\"hour\", y=\"value\", hue=\"variable\")\n",
    "ax.set(ylabel=\"Vehicle Speed (km/h)\", xlabel=\"Time of Day (hour)\")\n",
    "ax.get_legend().set_title(\"Speed\")\n",
    "\n",
    "plt.savefig(\"./plots/005_xgboost_predictions_per_date.eps\", format=\"eps\", bbox_inches=\"tight\")\n",
    "plt.savefig(\"./plots/005_xgboost_predictions_per_date.png\", bbox_inches=\"tight\")\n",
    "plt.savefig(\"./plots/005_xgboost_predictions_per_date.pdf\", bbox_inches=\"tight\")"
   ]
  },
  {
   "cell_type": "code",
   "execution_count": 11,
   "id": "9d2344ca-67f2-4fc7-910f-dcaaf22591c7",
   "metadata": {
    "tags": []
   },
   "outputs": [],
   "source": [
    "ml_help.plot_prediction(X_test.sort_index(), y_test.sort_index(), y_pred, \"XGBoost\", \"Speed (km/h)\", \"005_xgboost_predictions\")"
   ]
  },
  {
   "attachments": {},
   "cell_type": "markdown",
   "id": "fd1d0307-0b10-4527-8111-67b9550862aa",
   "metadata": {},
   "source": [
    "## Random Forest"
   ]
  },
  {
   "attachments": {},
   "cell_type": "markdown",
   "id": "01bf839e-40fe-487c-a5d2-997e44507a66",
   "metadata": {},
   "source": [
    "### Run CV"
   ]
  },
  {
   "cell_type": "code",
   "execution_count": 12,
   "id": "67f6f8c0-4d71-401a-a518-58ec744e0a50",
   "metadata": {
    "tags": []
   },
   "outputs": [],
   "source": [
    "if not METRICS_DONE:\n",
    "    from sklearn.ensemble import RandomForestRegressor\n",
    "    \n",
    "    params = ml_help.params_to_dict(\"003_random_forest\")"
   ]
  },
  {
   "cell_type": "code",
   "execution_count": 13,
   "id": "07b392ec-37cd-43d8-bd4f-c8256a47793c",
   "metadata": {},
   "outputs": [],
   "source": [
    "if not METRICS_DONE:\n",
    "    random_forest_pipeline = make_pipeline(StandardScaler(),RandomForestRegressor(**params))\n",
    "    \n",
    "    random_forest_cv_metrics = ml_help.run_stratified_kfold(\"Random Forest\",random_forest_pipeline,X_train,y_train)\n",
    "    random_forest_cv_metrics"
   ]
  },
  {
   "attachments": {},
   "cell_type": "markdown",
   "id": "fa6d3164-eaa0-4a08-a188-54cc7d6a9777",
   "metadata": {},
   "source": [
    "### Test using previously unseen data and get metrics"
   ]
  },
  {
   "cell_type": "code",
   "execution_count": 14,
   "id": "4afc47a8-28a4-460c-b222-ccd9dc9062ba",
   "metadata": {
    "tags": []
   },
   "outputs": [],
   "source": [
    "if not METRICS_DONE:\n",
    "    random_forest_pipeline = make_pipeline(StandardScaler(),RandomForestRegressor(**params))\n",
    "    \n",
    "    start = time()\n",
    "    pipe = random_forest_pipeline.fit(X_train,y_train)\n",
    "    end = time()\n",
    "    \n",
    "    y_pred = pipe.predict(X_test)\n",
    "    \n",
    "    random_forest_metrics = ml_help.get_metrics_reg(\"Random Forest\",y_test,y_pred)\n",
    "    random_forest_metrics[\"time_to_fit\"] = end-start\n",
    "    random_forest_metrics"
   ]
  },
  {
   "cell_type": "code",
   "execution_count": 15,
   "id": "bd50194c-1a68-4b11-a3c3-807dd41f4a9e",
   "metadata": {
    "tags": []
   },
   "outputs": [],
   "source": [
    "if not METRICS_DONE:\n",
    "    ml_help.plot_prediction(y_test, y_pred, \"Random Forest\", \"Speed (km/h)\", \"005_random_forest_predictions\")"
   ]
  },
  {
   "attachments": {},
   "cell_type": "markdown",
   "id": "feda9a8d-d1f5-4ce1-9524-737b3e36e0cf",
   "metadata": {},
   "source": [
    "## Decision Tree"
   ]
  },
  {
   "attachments": {},
   "cell_type": "markdown",
   "id": "04a576f3-1163-45ce-bab8-541ac26fe99c",
   "metadata": {},
   "source": [
    "### Run CV"
   ]
  },
  {
   "cell_type": "code",
   "execution_count": 16,
   "id": "7475bf8a-7fee-4811-911a-ec6aef7f580d",
   "metadata": {
    "tags": []
   },
   "outputs": [],
   "source": [
    "if not METRICS_DONE:\n",
    "    from sklearn.tree import DecisionTreeRegressor\n",
    "    \n",
    "    params = ml_help.params_to_dict(\"003_decision_tree\")"
   ]
  },
  {
   "cell_type": "code",
   "execution_count": 17,
   "id": "9a57fccb-1052-4fb4-86e2-866e8f70d911",
   "metadata": {},
   "outputs": [],
   "source": [
    "if not METRICS_DONE:\n",
    "    decision_tree_pipeline = make_pipeline(StandardScaler(),DecisionTreeRegressor(**params))\n",
    "    \n",
    "    dtr_cv_metrics = ml_help.run_stratified_kfold(\"Decision Tree\",decision_tree_pipeline,X_train,y_train)\n",
    "    dtr_cv_metrics"
   ]
  },
  {
   "attachments": {},
   "cell_type": "markdown",
   "id": "231a86c3-8a34-463e-a8e6-59b70618b413",
   "metadata": {},
   "source": [
    "### Test using previously unseen data and get metrics"
   ]
  },
  {
   "cell_type": "code",
   "execution_count": 18,
   "id": "ba15dc2c-f5b7-4120-a563-bebf20feb292",
   "metadata": {
    "tags": []
   },
   "outputs": [],
   "source": [
    "if not METRICS_DONE:\n",
    "    decision_tree_pipeline = make_pipeline(StandardScaler(),DecisionTreeRegressor(**params))\n",
    "    \n",
    "    start = time()\n",
    "    pipe = decision_tree_pipeline.fit(X_train,y_train)\n",
    "    end = time()\n",
    "    \n",
    "    y_pred = pipe.predict(X_test)\n",
    "    \n",
    "    dtr_metrics = ml_help.get_metrics_reg(\"Decision Tree\",y_test,y_pred)\n",
    "    dtr_metrics[\"time_to_fit\"] = end-start\n",
    "    dtr_metrics"
   ]
  },
  {
   "cell_type": "code",
   "execution_count": 19,
   "id": "0c4cfce5-12ff-49e0-b91d-5f24b948707b",
   "metadata": {
    "tags": []
   },
   "outputs": [],
   "source": [
    "if not METRICS_DONE:\n",
    "    ml_help.plot_prediction(y_test, y_pred, \"Decision Tree\", \"Speed (km/h)\", \"005_decision_tree_predictions\")"
   ]
  },
  {
   "attachments": {},
   "cell_type": "markdown",
   "id": "f5585e5f-35d6-40af-b83e-f4f0322dbe80",
   "metadata": {},
   "source": [
    "## MLP"
   ]
  },
  {
   "attachments": {},
   "cell_type": "markdown",
   "id": "f6f208d3-98ab-473e-93f0-54dea1e5ed92",
   "metadata": {},
   "source": [
    "### Run CV"
   ]
  },
  {
   "cell_type": "code",
   "execution_count": 20,
   "id": "6df6a1f6-8104-4f69-a3b4-94b6cfd03e52",
   "metadata": {
    "tags": []
   },
   "outputs": [],
   "source": [
    "if not METRICS_DONE:\n",
    "    from sklearn.neural_network import MLPRegressor\n",
    "    \n",
    "    params = ml_help.params_to_dict(\"003_mlpr\")"
   ]
  },
  {
   "cell_type": "code",
   "execution_count": 21,
   "id": "fba0dc9b-7dd8-41c3-b9c6-936761c1c4ea",
   "metadata": {},
   "outputs": [],
   "source": [
    "if not METRICS_DONE:\n",
    "    mlp_pipeline = make_pipeline(StandardScaler(),MLPRegressor(**params))\n",
    "    \n",
    "    mlp_cv_metrics = ml_help.run_stratified_kfold(\"MLP\",mlp_pipeline,X_train,y_train)\n",
    "    mlp_cv_metrics"
   ]
  },
  {
   "attachments": {},
   "cell_type": "markdown",
   "id": "558456c8-52ff-4f3d-8064-464eba877cc1",
   "metadata": {},
   "source": [
    "### Test using previously unseen data and get metrics"
   ]
  },
  {
   "cell_type": "code",
   "execution_count": 22,
   "id": "43b63819-c12d-46f1-859a-02541ddfc847",
   "metadata": {
    "tags": []
   },
   "outputs": [],
   "source": [
    "if not METRICS_DONE:\n",
    "    mlp_pipeline = make_pipeline(StandardScaler(),MLPRegressor(**params))\n",
    "    \n",
    "    start = time()\n",
    "    pipe = mlp_pipeline.fit(X_train,y_train)\n",
    "    end = time()\n",
    "    \n",
    "    y_pred = pipe.predict(X_test)\n",
    "    \n",
    "    mlp_metrics = ml_help.get_metrics_reg(\"MLP\",y_test,y_pred)\n",
    "    mlp_metrics[\"time_to_fit\"] = end-start\n",
    "    mlp_metrics"
   ]
  },
  {
   "cell_type": "code",
   "execution_count": 23,
   "id": "2db7ed41-ed7c-4dd2-b5d5-4ae4c2ff2ab5",
   "metadata": {
    "tags": []
   },
   "outputs": [],
   "source": [
    "if not METRICS_DONE:\n",
    "    ml_help.plot_prediction(y_test, y_pred, \"MLP\", \"Speed (km/h)\", \"005_mlp_predictions\")"
   ]
  },
  {
   "attachments": {},
   "cell_type": "markdown",
   "id": "1903ec6f-9009-4a41-b4fc-52efd627db93",
   "metadata": {},
   "source": [
    "# Store metrics"
   ]
  },
  {
   "cell_type": "code",
   "execution_count": 24,
   "id": "9552791e-b4a0-498d-8e6a-2e9525061cea",
   "metadata": {
    "tags": []
   },
   "outputs": [],
   "source": [
    "if not METRICS_DONE:\n",
    "    metrics_cv = pd.concat([pd.DataFrame(xgb_cv_metrics,index=[0]),pd.DataFrame(random_forest_cv_metrics,index=[0]),pd.DataFrame(dtr_cv_metrics,index=[0]),pd.DataFrame(mlp_cv_metrics,index=[0])])\n",
    "    metrics_cv.to_csv(\"./metrics/005_gardiner_flow_only_cv_metrics.csv.zip\",index=False,compression=\"zip\")\n",
    "    \n",
    "    metrics = pd.concat([pd.DataFrame(xgb_metrics,index=[0]),pd.DataFrame(random_forest_metrics,index=[0]),pd.DataFrame(dtr_metrics,index=[0]),pd.DataFrame(mlp_metrics,index=[0])])\n",
    "    metrics.to_csv(\"./metrics/005_gardiner_flow_only_metrics.csv.zip\",index=False,compression=\"zip\")\n",
    "else:\n",
    "    metrics_cv = pd.read_csv(\"./metrics/005_gardiner_flow_only_cv_metrics.csv.zip\")\n",
    "    metrics = pd.read_csv(\"./metrics/005_gardiner_flow_only_metrics.csv.zip\")"
   ]
  },
  {
   "attachments": {},
   "cell_type": "markdown",
   "id": "f07b08c9-e8fd-4fef-b327-4d67df2acb47",
   "metadata": {},
   "source": [
    "# Print CV metrics"
   ]
  },
  {
   "cell_type": "code",
   "execution_count": 43,
   "id": "378f4d0d-f035-4c20-9d23-f4e5870ce46b",
   "metadata": {
    "tags": []
   },
   "outputs": [
    {
     "name": "stderr",
     "output_type": "stream",
     "text": [
      "The PostScript backend does not support transparency; partially transparent artists will be rendered opaque.\n"
     ]
    },
    {
     "data": {
      "image/png": "[encoded data removed]",
      "text/plain": [
       "<Figure size 1000x1000 with 4 Axes>"
      ]
     },
     "metadata": {},
     "output_type": "display_data"
    }
   ],
   "source": [
    "metrics_cv.sort_values(by=\"r2\", inplace=True, ascending=False)\n",
    "metrics.sort_values(by=\"r2\", inplace=True, ascending=False)\n",
    "ttf_order_cv = list(metrics_cv.sort_values(by=\"time_to_fit\")[\"model\"])\n",
    "ttf_order = list(metrics.sort_values(by=\"time_to_fit\")[\"model\"])\n",
    "\n",
    "fig, axes = plt.subplots(2, 2, figsize=(10, 10))\n",
    "\n",
    "sns.barplot(ax=axes[0, 0], data=metrics_cv, x='model', y='r2',hue=\"model\",dodge=False)\n",
    "sns.barplot(ax=axes[0, 1], data=metrics_cv, x='model', y='mae',hue=\"model\",dodge=False)\n",
    "# sns.barplot(ax=axes[0, 2], data=metrics_cv, x='model', y='mse',hue=\"model\",dodge=False)\n",
    "sns.barplot(ax=axes[1, 0], data=metrics_cv, x='model', y='rmse',hue=\"model\",dodge=False)\n",
    "# sns.barplot(ax=axes[1, 1], data=metrics_cv, x='model', y='mape',hue=\"model\",dodge=False)\n",
    "sns.barplot(ax=axes[1, 1], data=metrics_cv, x='model', y='time_to_fit',hue=\"model\",dodge=False, order=ttf_order_cv)\n",
    "\n",
    "axes[0, 0].set(xlabel=\"Model\",xticklabels=[])\n",
    "axes[0, 0].set(ylabel=\"R2\")\n",
    "axes[0, 0].get_legend().remove()\n",
    "\n",
    "axes[0, 1].set(xlabel=\"Model\",xticklabels=[])\n",
    "axes[0, 1].set(ylabel=\"MAE\")\n",
    "axes[0, 1].legend(loc='center left', bbox_to_anchor=(1, 0.5))\n",
    "\n",
    "# axes[0, 2].set(xlabel=\"Model\",xticklabels=[])\n",
    "# axes[0, 2].set(ylabel=\"MSE\")\n",
    "# axes[0, 2].legend(loc='center left', bbox_to_anchor=(1, 0.5))\n",
    "\n",
    "axes[1, 0].set(xlabel=\"Model\",xticklabels=[])\n",
    "axes[1, 0].set(ylabel=\"RMSE\")\n",
    "axes[1, 0].get_legend().remove()\n",
    "\n",
    "# axes[1, 1].set(xlabel=\"Model\",xticklabels=[])\n",
    "# axes[1, 1].set(ylabel=\"MAPE\")\n",
    "# axes[1, 1].get_legend().remove()\n",
    "\n",
    "axes[1, 1].set(xlabel=\"Model\",xticklabels=[])\n",
    "axes[1, 1].set(ylabel=\"Time to fit (log)\",yscale=\"log\")\n",
    "axes[1, 1].get_legend().remove()\n",
    "\n",
    "plt.savefig(\"./plots/005_gardiner_flow_only_cv_metrics.eps\",format=\"eps\",bbox_inches=\"tight\")\n",
    "plt.savefig(\"./plots/005_gardiner_flow_only_cv_metrics.png\",bbox_inches=\"tight\")\n",
    "plt.savefig(\"./plots/005_gardiner_flow_only_cv_metrics.pdf\",bbox_inches=\"tight\")"
   ]
  },
  {
   "attachments": {},
   "cell_type": "markdown",
   "id": "0ba1433d-6f62-436a-9b8a-3ba7e078d219",
   "metadata": {},
   "source": [
    "# Print metrics"
   ]
  },
  {
   "cell_type": "code",
   "execution_count": 44,
   "id": "5975501c-3bcc-47e4-8dd0-c46d8352bc2f",
   "metadata": {},
   "outputs": [
    {
     "name": "stderr",
     "output_type": "stream",
     "text": [
      "The PostScript backend does not support transparency; partially transparent artists will be rendered opaque.\n"
     ]
    },
    {
     "data": {
      "image/png": "[encoded data removed]",
      "text/plain": [
       "<Figure size 1000x1000 with 4 Axes>"
      ]
     },
     "metadata": {},
     "output_type": "display_data"
    }
   ],
   "source": [
    "fig, axes = plt.subplots(2, 2, figsize=(10, 10))\n",
    "\n",
    "sns.barplot(ax=axes[0, 0], data=metrics, x='model', y='r2',hue=\"model\",dodge=False)\n",
    "sns.barplot(ax=axes[0, 1], data=metrics, x='model', y='mae',hue=\"model\",dodge=False)\n",
    "# sns.barplot(ax=axes[0, 2], data=metrics, x='model', y='mse',hue=\"model\",dodge=False)\n",
    "sns.barplot(ax=axes[1, 0], data=metrics, x='model', y='rmse',hue=\"model\",dodge=False)\n",
    "# sns.barplot(ax=axes[1, 1], data=metrics, x='model', y='mape',hue=\"model\",dodge=False)\n",
    "sns.barplot(ax=axes[1, 1], data=metrics, x='model', y='time_to_fit',hue=\"model\",dodge=False, order=ttf_order)\n",
    "\n",
    "axes[0, 0].set(xlabel=\"Model\",xticklabels=[])\n",
    "axes[0, 0].set(ylabel=\"R2\")\n",
    "axes[0, 0].get_legend().remove()\n",
    "\n",
    "axes[0, 1].set(xlabel=\"Model\",xticklabels=[])\n",
    "axes[0, 1].set(ylabel=\"MAE\")\n",
    "axes[0, 1].legend(loc='center left', bbox_to_anchor=(1, 0.5))\n",
    "\n",
    "# axes[0, 2].set(xlabel=\"Model\",xticklabels=[])\n",
    "# axes[0, 2].set(ylabel=\"MSE\")\n",
    "# axes[0, 2].legend(loc='center left', bbox_to_anchor=(1, 0.5))\n",
    "\n",
    "axes[1, 0].set(xlabel=\"Model\",xticklabels=[])\n",
    "axes[1, 0].set(ylabel=\"RMSE\")\n",
    "axes[1, 0].get_legend().remove()\n",
    "\n",
    "# axes[1, 1].set(xlabel=\"Model\",xticklabels=[])\n",
    "# axes[1, 1].set(ylabel=\"MAPE\")\n",
    "# axes[1, 1].get_legend().remove()\n",
    "\n",
    "axes[1, 1].set(xlabel=\"Model\",xticklabels=[])\n",
    "axes[1, 1].set(ylabel=\"Time to fit (log)\",yscale=\"log\")\n",
    "axes[1, 1].get_legend().remove()\n",
    "\n",
    "plt.savefig(\"./plots/005_gardiner_flow_only_metrics.eps\",format=\"eps\",bbox_inches=\"tight\")\n",
    "plt.savefig(\"./plots/005_gardiner_flow_only_metrics.png\",bbox_inches=\"tight\")\n",
    "plt.savefig(\"./plots/005_gardiner_flow_only_metrics.pdf\",bbox_inches=\"tight\")"
   ]
  },
  {
   "cell_type": "code",
   "execution_count": 34,
   "id": "b372bd7a-d8ef-40dd-8f49-767bac1b61c8",
   "metadata": {},
   "outputs": [
    {
     "data": {
      "text/html": [
       "<div>\n",
       "<style scoped>\n",
       "    .dataframe tbody tr th:only-of-type {\n",
       "        vertical-align: middle;\n",
       "    }\n",
       "\n",
       "    .dataframe tbody tr th {\n",
       "        vertical-align: top;\n",
       "    }\n",
       "\n",
       "    .dataframe thead th {\n",
       "        text-align: right;\n",
       "    }\n",
       "</style>\n",
       "<table border=\"1\" class=\"dataframe\">\n",
       "  <thead>\n",
       "    <tr style=\"text-align: right;\">\n",
       "      <th></th>\n",
       "      <th>model</th>\n",
       "      <th>r2</th>\n",
       "      <th>mae</th>\n",
       "      <th>rmse</th>\n",
       "      <th>time_to_fit</th>\n",
       "    </tr>\n",
       "  </thead>\n",
       "  <tbody>\n",
       "    <tr>\n",
       "      <th>0</th>\n",
       "      <td>XGBoost</td>\n",
       "      <td>0.900459</td>\n",
       "      <td>2.289690</td>\n",
       "      <td>4.004303</td>\n",
       "      <td>8.325927</td>\n",
       "    </tr>\n",
       "    <tr>\n",
       "      <th>3</th>\n",
       "      <td>MLP</td>\n",
       "      <td>0.809207</td>\n",
       "      <td>3.597680</td>\n",
       "      <td>5.543783</td>\n",
       "      <td>140.306772</td>\n",
       "    </tr>\n",
       "    <tr>\n",
       "      <th>1</th>\n",
       "      <td>Random Forest</td>\n",
       "      <td>0.674429</td>\n",
       "      <td>4.265196</td>\n",
       "      <td>7.241830</td>\n",
       "      <td>1.943558</td>\n",
       "    </tr>\n",
       "    <tr>\n",
       "      <th>2</th>\n",
       "      <td>Decision Tree</td>\n",
       "      <td>0.648236</td>\n",
       "      <td>4.305998</td>\n",
       "      <td>7.527505</td>\n",
       "      <td>0.085728</td>\n",
       "    </tr>\n",
       "  </tbody>\n",
       "</table>\n",
       "</div>"
      ],
      "text/plain": [
       "           model        r2       mae      rmse  time_to_fit\n",
       "0        XGBoost  0.900459  2.289690  4.004303     8.325927\n",
       "3            MLP  0.809207  3.597680  5.543783   140.306772\n",
       "1  Random Forest  0.674429  4.265196  7.241830     1.943558\n",
       "2  Decision Tree  0.648236  4.305998  7.527505     0.085728"
      ]
     },
     "execution_count": 34,
     "metadata": {},
     "output_type": "execute_result"
    }
   ],
   "source": [
    "metrics[[\"model\",\"r2\",\"mae\",\"rmse\",\"time_to_fit\"]]"
   ]
  },
  {
   "cell_type": "code",
   "execution_count": null,
   "id": "ea7c215a-5b38-4963-8ca5-eb16a01d4048",
   "metadata": {},
   "outputs": [],
   "source": []
  }
 ],
 "metadata": {
  "kernelspec": {
   "display_name": "Python 3 (ipykernel)",
   "language": "python",
   "name": "python3"
  },
  "language_info": {
   "codemirror_mode": {
    "name": "ipython",
    "version": 3
   },
   "file_extension": ".py",
   "mimetype": "text/x-python",
   "name": "python",
   "nbconvert_exporter": "python",
   "pygments_lexer": "ipython3",
   "version": "3.10.10"
  }
 },
 "nbformat": 4,
 "nbformat_minor": 5
}

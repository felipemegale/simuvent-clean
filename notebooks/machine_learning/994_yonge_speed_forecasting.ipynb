{
 "cells": [
  {
   "cell_type": "code",
   "execution_count": 1,
   "id": "fb94346a-0225-4f70-b550-73e5e889337b",
   "metadata": {},
   "outputs": [],
   "source": [
    "import joblib\n",
    "import ml_help\n",
    "import pandas as pd\n",
    "from time import time\n",
    "from sklearn.model_selection import train_test_split"
   ]
  },
  {
   "cell_type": "markdown",
   "id": "2b822bf6-5976-434a-b8d3-a67a6400a996",
   "metadata": {},
   "source": [
    "# Load historical data"
   ]
  },
  {
   "cell_type": "code",
   "execution_count": 2,
   "id": "87689904-d0a9-4cd6-aca1-76551acee605",
   "metadata": {},
   "outputs": [],
   "source": [
    "flow_df = pd.read_csv(\"./data/yonge_flow.csv.zip\")\n",
    "weather_df = pd.read_csv(\"./data/weather_data.csv.zip\")\n",
    "\n",
    "flow_df[\"collectedAt\"] = pd.to_datetime(flow_df[\"collectedAt\"],utc=True)\n",
    "flow_df[\"collectedAt\"] = flow_df[\"collectedAt\"].dt.floor(freq=\"t\")\n",
    "weather_df[\"collectedAt\"] = pd.to_datetime(weather_df[\"collectedAt\"],utc=True)\n",
    "weather_df[\"collectedAt\"] = weather_df[\"collectedAt\"].dt.floor(freq=\"t\")\n",
    "\n",
    "flow_df.drop(['month', 'day', 'day_of_week', 'hour', 'minute'],inplace=True,axis=1)\n",
    "weather_df.drop(['month', 'day', 'day_of_week', 'day_of_week_name', 'hour', 'minute', 'windDegree'],inplace=True,axis=1)\n",
    "\n",
    "df = flow_df.merge(weather_df,on=\"collectedAt\",how=\"inner\")\n",
    "df[\"Month\"] = df.collectedAt.dt.month_name()\n",
    "df[\"Day\"] = df.collectedAt.dt.day\n",
    "df[\"Weekday\"] = df.collectedAt.dt.day_name()\n",
    "df[\"Hour\"] = df.collectedAt.dt.hour\n",
    "df[\"Minute\"] = df.collectedAt.dt.minute\n",
    "df.drop(\"collectedAt\",inplace=True,axis=1)\n",
    "\n",
    "df.rename({\n",
    "    'visibility': \"Visibility\",\n",
    "    'temperature': \"Temperature\",\n",
    "    'FeelsLike': \"Feels Like\",\n",
    "    'humidity':\"Humidity\",\n",
    "    'windSpeed': \"Wind Speed\",\n",
    "    'cloudsAll': \"Clouds All\",\n",
    "    'rain1h': \"Rain (1h)\",\n",
    "    'snow1h': \"Snow (1h)\",\n",
    "    'cloudy':\"Cloudy\",\n",
    "    'clear':\"Clear\",\n",
    "    'atmosphere':\"Atmosphere\",\n",
    "    'snowy': \"Snowy\",\n",
    "    'rainy':\"Rainy\",\n",
    "}, axis=1, inplace=True)\n",
    "\n",
    "categorical_attrs = [\"Month\", \"Weekday\"]\n",
    "transformed_df_old = pd.get_dummies(df, columns=categorical_attrs, prefix=\"\", prefix_sep=\"\")\n",
    "transformed_df_old = transformed_df_old.astype(\"float32\")\n",
    "transformed_df_old['May'] = 0\n",
    "transformed_df_old = transformed_df_old.reindex(sorted(transformed_df_old.columns), axis=1)\n",
    "\n",
    "X_old = transformed_df_old.drop(\"currentSpeed\",axis=1)\n",
    "y_old = transformed_df_old[\"currentSpeed\"]\n",
    "\n",
    "X_train_old, X_test_old, y_train_old, y_test_old = train_test_split(X_old, y_old, test_size=0.20, random_state=42)"
   ]
  },
  {
   "cell_type": "markdown",
   "id": "3d29654c-ce00-4902-b615-e4687f3a5b27",
   "metadata": {},
   "source": [
    "# Load future data"
   ]
  },
  {
   "cell_type": "code",
   "execution_count": 3,
   "id": "626e862b-4fbf-4507-aec6-2659487b4876",
   "metadata": {},
   "outputs": [],
   "source": [
    "df_new = pd.read_csv(\"./data/202305_yonge_flow_weather.csv.zip\")\n",
    "df_new['August'] = 0\n",
    "df_new['December'] = 0\n",
    "df_new['February'] = 0\n",
    "df_new['January'] = 0\n",
    "df_new['July'] = 0\n",
    "df_new['March'] = 0\n",
    "df_new['November'] = 0\n",
    "df_new['October'] = 0\n",
    "df_new['September'] = 0\n",
    "df_new = df_new.reindex(sorted(df_new.columns), axis=1)\n",
    "\n",
    "X_new = df_new.drop([\"currentSpeed\"],axis=1)\n",
    "y_new = df_new[\"currentSpeed\"]\n",
    "\n",
    "X_train_new, X_test_new, y_train_new, y_test_new = train_test_split(X_new, y_new, test_size=0.20, random_state=42)"
   ]
  },
  {
   "cell_type": "markdown",
   "id": "a8d000d0-93d7-413e-9782-299308893e32",
   "metadata": {},
   "source": [
    "# XGBoost"
   ]
  },
  {
   "cell_type": "markdown",
   "id": "77710b6e-a4d8-4df2-b691-401317e2be77",
   "metadata": {},
   "source": [
    "## Train on historical data"
   ]
  },
  {
   "cell_type": "code",
   "execution_count": 4,
   "id": "35f128f3-f359-4d47-bafd-c29506a523ac",
   "metadata": {},
   "outputs": [
    {
     "name": "stdout",
     "output_type": "stream",
     "text": [
      "Training XGBoost on historical data...\n",
      "Training XGBoost on historical data... OK!\n"
     ]
    }
   ],
   "source": [
    "import xgboost as xgb\n",
    "from sklearn.preprocessing import StandardScaler\n",
    "from sklearn.pipeline import make_pipeline\n",
    "\n",
    "params = ml_help.params_to_dict(\"063_xgboost\")\n",
    "params[\"predictor\"] = \"cpu_predictor\"\n",
    "params[\"tree_method\"] = \"hist\"\n",
    "\n",
    "xgboost_pipeline = make_pipeline(StandardScaler(),xgb.XGBRegressor(**params))\n",
    "\n",
    "print(\"Training XGBoost on historical data...\")\n",
    "start = time()\n",
    "pipe = xgboost_pipeline.fit(X_train_old,y_train_old)\n",
    "end = time()\n",
    "print(\"Training XGBoost on historical data... OK!\")"
   ]
  },
  {
   "cell_type": "markdown",
   "id": "5190837f-d952-4e40-aa9d-a508293c8944",
   "metadata": {},
   "source": [
    "## Test model using future data"
   ]
  },
  {
   "cell_type": "code",
   "execution_count": 5,
   "id": "abfcd066-3950-4668-a64a-31db7926143c",
   "metadata": {},
   "outputs": [
    {
     "data": {
      "text/plain": [
       "{'model': 'XGBoost',\n",
       " 'r2': 0.08739185077393541,\n",
       " 'mae': 3.1783928566790642,\n",
       " 'mse': 17.17021313988219,\n",
       " 'rmse': 4.14369558967381,\n",
       " 'mape': 0.39797158628801743,\n",
       " 'time_to_fit': 19.756882905960083}"
      ]
     },
     "execution_count": 5,
     "metadata": {},
     "output_type": "execute_result"
    }
   ],
   "source": [
    "y_pred_new = pipe.predict(X_test_new)\n",
    "xgb_metrics_new = ml_help.get_metrics_reg(\"XGBoost\",y_test_new,y_pred_new)\n",
    "xgb_metrics_new[\"time_to_fit\"] = end-start\n",
    "xgb_metrics_new"
   ]
  },
  {
   "cell_type": "markdown",
   "id": "bbca688d-db6b-4d22-8b54-1da51baf7d56",
   "metadata": {},
   "source": [
    "## Test model using historical data"
   ]
  },
  {
   "cell_type": "code",
   "execution_count": 6,
   "id": "461f170e-2a5e-44cd-b42d-8475e950d701",
   "metadata": {},
   "outputs": [
    {
     "data": {
      "text/plain": [
       "{'model': 'XGBoost',\n",
       " 'r2': 0.5046705767160051,\n",
       " 'mae': 1.7695643,\n",
       " 'mse': 5.704387,\n",
       " 'rmse': 2.388386,\n",
       " 'mape': 15727413000000.0,\n",
       " 'time_to_fit': 19.756882905960083}"
      ]
     },
     "execution_count": 6,
     "metadata": {},
     "output_type": "execute_result"
    }
   ],
   "source": [
    "y_pred_old = pipe.predict(X_test_old)\n",
    "xgb_metrics_old = ml_help.get_metrics_reg(\"XGBoost\",y_test_old,y_pred_old)\n",
    "xgb_metrics_old[\"time_to_fit\"] = end-start\n",
    "xgb_metrics_old"
   ]
  },
  {
   "cell_type": "markdown",
   "id": "26e8b2be-39a9-4b91-9a4e-326446bce3a1",
   "metadata": {},
   "source": [
    "# Random Forest"
   ]
  },
  {
   "cell_type": "markdown",
   "id": "9cf7bc8b-f4f5-469b-a1e2-fcb1f9398454",
   "metadata": {},
   "source": [
    "## Train on historical data"
   ]
  },
  {
   "cell_type": "code",
   "execution_count": 7,
   "id": "1a401e21-3f84-46cc-aedc-c0dff4f0d731",
   "metadata": {},
   "outputs": [
    {
     "name": "stdout",
     "output_type": "stream",
     "text": [
      "Training Random Forest on historical data...\n",
      "Training Random Forest on historical data... OK!\n"
     ]
    }
   ],
   "source": [
    "from sklearn.ensemble import RandomForestRegressor\n",
    "\n",
    "params = ml_help.params_to_dict(\"063_random_forest\")\n",
    "\n",
    "random_forest_pipeline = make_pipeline(StandardScaler(),RandomForestRegressor(**params))\n",
    "\n",
    "print(\"Training Random Forest on historical data...\")\n",
    "start = time()\n",
    "pipe = random_forest_pipeline.fit(X_train_old,y_train_old)\n",
    "end = time()\n",
    "print(\"Training Random Forest on historical data... OK!\")"
   ]
  },
  {
   "cell_type": "markdown",
   "id": "5f3b7581-524e-437c-a74a-f6bd73858089",
   "metadata": {},
   "source": [
    "## Test model using future data"
   ]
  },
  {
   "cell_type": "code",
   "execution_count": 8,
   "id": "839eb71c-53ad-45cf-8fc1-c4556fc12619",
   "metadata": {},
   "outputs": [
    {
     "data": {
      "text/plain": [
       "{'model': 'Random Forest',\n",
       " 'r2': 0.08078472890229438,\n",
       " 'mae': 3.149980203250623,\n",
       " 'mse': 17.294522451467298,\n",
       " 'rmse': 4.158668350742494,\n",
       " 'mape': 0.3999797148602566,\n",
       " 'time_to_fit': 28.08131742477417}"
      ]
     },
     "execution_count": 8,
     "metadata": {},
     "output_type": "execute_result"
    }
   ],
   "source": [
    "y_pred_new = pipe.predict(X_test_new)\n",
    "rf_metrics_new = ml_help.get_metrics_reg(\"Random Forest\",y_test_new,y_pred_new)\n",
    "rf_metrics_new[\"time_to_fit\"] = end-start\n",
    "rf_metrics_new"
   ]
  },
  {
   "cell_type": "markdown",
   "id": "85c9b84d-63ab-4720-88a2-5924ab5bdcea",
   "metadata": {},
   "source": [
    "## Test model using historical data"
   ]
  },
  {
   "cell_type": "code",
   "execution_count": 9,
   "id": "ca86b5ae-a3d5-4b02-908f-26fe0d482b91",
   "metadata": {},
   "outputs": [
    {
     "data": {
      "text/plain": [
       "{'model': 'Random Forest',\n",
       " 'r2': 0.43802852707397144,\n",
       " 'mae': 1.9108618548271397,\n",
       " 'mse': 6.4718607433796524,\n",
       " 'rmse': 2.543985208954575,\n",
       " 'mape': 15272147686531.004,\n",
       " 'time_to_fit': 28.08131742477417}"
      ]
     },
     "execution_count": 9,
     "metadata": {},
     "output_type": "execute_result"
    }
   ],
   "source": [
    "y_pred_old = pipe.predict(X_test_old)\n",
    "rf_metrics_old = ml_help.get_metrics_reg(\"Random Forest\",y_test_old,y_pred_old)\n",
    "rf_metrics_old[\"time_to_fit\"] = end-start\n",
    "rf_metrics_old"
   ]
  },
  {
   "cell_type": "markdown",
   "id": "845f97c2-2db7-464e-a7f8-28e4e025e39d",
   "metadata": {},
   "source": [
    "# Decision Tree"
   ]
  },
  {
   "cell_type": "markdown",
   "id": "7d23c898-31b3-4631-827c-ddb7daccd927",
   "metadata": {},
   "source": [
    "## Train on historical data"
   ]
  },
  {
   "cell_type": "code",
   "execution_count": 10,
   "id": "fbebec62-2efb-4a7d-9d14-8521c454f0c7",
   "metadata": {},
   "outputs": [
    {
     "name": "stdout",
     "output_type": "stream",
     "text": [
      "Training Decision Tree on historical data...\n",
      "Training Decision Tree on historical data... OK!\n"
     ]
    }
   ],
   "source": [
    "from sklearn.tree import DecisionTreeRegressor\n",
    "\n",
    "params = ml_help.params_to_dict(\"063_decision_tree\")\n",
    "\n",
    "decision_tree_pipeline = make_pipeline(StandardScaler(),DecisionTreeRegressor(**params))\n",
    "\n",
    "print(\"Training Decision Tree on historical data...\")\n",
    "start = time()\n",
    "pipe = decision_tree_pipeline.fit(X_train_old,y_train_old)\n",
    "end = time()\n",
    "print(\"Training Decision Tree on historical data... OK!\")"
   ]
  },
  {
   "cell_type": "markdown",
   "id": "137550e4-3e20-44b4-b6f4-625758dcefcf",
   "metadata": {},
   "source": [
    "## Test model using future data"
   ]
  },
  {
   "cell_type": "code",
   "execution_count": 11,
   "id": "8813888b-d11e-4ec3-9df3-1c21ad4d3627",
   "metadata": {},
   "outputs": [
    {
     "data": {
      "text/plain": [
       "{'model': 'Decision Tree',\n",
       " 'r2': 0.03965022682239394,\n",
       " 'mae': 3.1932263845226267,\n",
       " 'mse': 18.06844515719131,\n",
       " 'rmse': 4.250699372714013,\n",
       " 'mape': 0.40375596683814197,\n",
       " 'time_to_fit': 0.22962093353271484}"
      ]
     },
     "execution_count": 11,
     "metadata": {},
     "output_type": "execute_result"
    }
   ],
   "source": [
    "y_pred_new = pipe.predict(X_test_new)\n",
    "dt_metrics_new = ml_help.get_metrics_reg(\"Decision Tree\",y_test_new,y_pred_new)\n",
    "dt_metrics_new[\"time_to_fit\"] = end-start\n",
    "dt_metrics_new"
   ]
  },
  {
   "cell_type": "markdown",
   "id": "3928f033-30ab-4864-a9e1-9794176fc24b",
   "metadata": {},
   "source": [
    "## Test model using historical data"
   ]
  },
  {
   "cell_type": "code",
   "execution_count": 12,
   "id": "c1a4fc07-e686-4fe4-b285-18f76502485c",
   "metadata": {},
   "outputs": [
    {
     "data": {
      "text/plain": [
       "{'model': 'Decision Tree',\n",
       " 'r2': 0.41576096072811874,\n",
       " 'mae': 1.9337906130189524,\n",
       " 'mse': 6.72830185369789,\n",
       " 'rmse': 2.5938970399184873,\n",
       " 'mape': 14225250620428.168,\n",
       " 'time_to_fit': 0.22962093353271484}"
      ]
     },
     "execution_count": 12,
     "metadata": {},
     "output_type": "execute_result"
    }
   ],
   "source": [
    "y_pred_old = pipe.predict(X_test_old)\n",
    "dt_metrics_old = ml_help.get_metrics_reg(\"Decision Tree\",y_test_old,y_pred_old)\n",
    "dt_metrics_old[\"time_to_fit\"] = end-start\n",
    "dt_metrics_old"
   ]
  },
  {
   "cell_type": "markdown",
   "id": "ab17fda2-f994-4271-94cd-5da643937a24",
   "metadata": {},
   "source": [
    "# MLP"
   ]
  },
  {
   "cell_type": "markdown",
   "id": "498df8b2-4d56-4ba1-a64e-79330455b4c4",
   "metadata": {},
   "source": [
    "## Train model using historical data"
   ]
  },
  {
   "cell_type": "code",
   "execution_count": 13,
   "id": "1e0a0e0b-cefb-44bc-a146-aeb5490ced8f",
   "metadata": {},
   "outputs": [
    {
     "name": "stdout",
     "output_type": "stream",
     "text": [
      "Training MLP on historical data...\n",
      "Training MLP on historical data... OK!\n"
     ]
    },
    {
     "name": "stderr",
     "output_type": "stream",
     "text": [
      "/home/uncle_opal/miniconda3/envs/rapids/lib/python3.10/site-packages/sklearn/neural_network/_multilayer_perceptron.py:686: ConvergenceWarning: Stochastic Optimizer: Maximum iterations (200) reached and the optimization hasn't converged yet.\n",
      "  warnings.warn(\n"
     ]
    }
   ],
   "source": [
    "from sklearn.neural_network import MLPRegressor\n",
    "\n",
    "params = ml_help.params_to_dict(\"063_mlpr\")\n",
    "\n",
    "mlp_pipeline = make_pipeline(StandardScaler(),MLPRegressor(**params))\n",
    "\n",
    "print(\"Training MLP on historical data...\")\n",
    "start = time()\n",
    "pipe = mlp_pipeline.fit(X_train_old,y_train_old)\n",
    "end = time()\n",
    "print(\"Training MLP on historical data... OK!\")"
   ]
  },
  {
   "cell_type": "markdown",
   "id": "a91265c4-8607-4e16-bc5f-5c7a27e60fea",
   "metadata": {},
   "source": [
    "## Test model using future data"
   ]
  },
  {
   "cell_type": "code",
   "execution_count": 14,
   "id": "401b4997-0a7e-4dd2-bc89-b7ca84d157c4",
   "metadata": {},
   "outputs": [
    {
     "data": {
      "text/plain": [
       "{'model': 'MLP',\n",
       " 'r2': 0.2780158309257914,\n",
       " 'mae': 2.907972720702809,\n",
       " 'mse': 13.583729311575652,\n",
       " 'rmse': 3.685611117789783,\n",
       " 'mape': 0.33586210809267664,\n",
       " 'time_to_fit': 105.51374745368958}"
      ]
     },
     "execution_count": 14,
     "metadata": {},
     "output_type": "execute_result"
    }
   ],
   "source": [
    "y_pred_new = pipe.predict(X_test_new)\n",
    "mlp_metrics_new = ml_help.get_metrics_reg(\"MLP\",y_test_new,y_pred_new)\n",
    "mlp_metrics_new[\"time_to_fit\"] = end-start\n",
    "mlp_metrics_new"
   ]
  },
  {
   "cell_type": "markdown",
   "id": "9b28e2d3-ca2f-43b6-9200-f351cd2ba501",
   "metadata": {},
   "source": [
    "## Test model using historical data"
   ]
  },
  {
   "cell_type": "code",
   "execution_count": 15,
   "id": "8e411f17-05a7-4ce4-b062-1155455b92b0",
   "metadata": {},
   "outputs": [
    {
     "data": {
      "text/plain": [
       "{'model': 'MLP',\n",
       " 'r2': 0.4781439043121658,\n",
       " 'mae': 1.8688592978541796,\n",
       " 'mse': 6.009877977952146,\n",
       " 'rmse': 2.4515052473841754,\n",
       " 'mape': 7849853942771.763,\n",
       " 'time_to_fit': 105.51374745368958}"
      ]
     },
     "execution_count": 15,
     "metadata": {},
     "output_type": "execute_result"
    }
   ],
   "source": [
    "y_pred_old = pipe.predict(X_test_old)\n",
    "mlp_metrics_old = ml_help.get_metrics_reg(\"MLP\",y_test_old,y_pred_old)\n",
    "mlp_metrics_old[\"time_to_fit\"] = end-start\n",
    "mlp_metrics_old"
   ]
  },
  {
   "cell_type": "markdown",
   "id": "f3b65d5c-df2c-4771-8d1d-3b76fa7098cc",
   "metadata": {},
   "source": [
    "# Store metrics"
   ]
  },
  {
   "cell_type": "code",
   "execution_count": 18,
   "id": "dbbd3dce-965c-4892-8d2f-910810a7317e",
   "metadata": {},
   "outputs": [],
   "source": [
    "metrics_new = pd.concat([pd.DataFrame(xgb_metrics_new,index=[0]),pd.DataFrame(rf_metrics_new,index=[0]),pd.DataFrame(dt_metrics_new,index=[0]),pd.DataFrame(mlp_metrics_new,index=[0])])\n",
    "metrics_new.to_csv(\"./metrics/994_yonge_flow_weather_metrics_new.csv.zip\",index=False,compression=\"zip\")\n",
    "\n",
    "metrics_old = pd.concat([pd.DataFrame(xgb_metrics_old,index=[0]),pd.DataFrame(rf_metrics_old,index=[0]),pd.DataFrame(dt_metrics_old,index=[0]),pd.DataFrame(mlp_metrics_old,index=[0])])\n",
    "metrics_old.to_csv(\"./metrics/994_yonge_flow_weather_metrics_old.csv.zip\",index=False,compression=\"zip\")"
   ]
  },
  {
   "cell_type": "markdown",
   "id": "2b848e11-e712-404a-bf0c-b6cd79121cc8",
   "metadata": {},
   "source": [
    "# Plot metrics"
   ]
  },
  {
   "cell_type": "code",
   "execution_count": 19,
   "id": "61a7301e-e904-4fb5-8224-8f470f3e24d7",
   "metadata": {},
   "outputs": [
    {
     "data": {
      "text/html": [
       "<div>\n",
       "<style scoped>\n",
       "    .dataframe tbody tr th:only-of-type {\n",
       "        vertical-align: middle;\n",
       "    }\n",
       "\n",
       "    .dataframe tbody tr th {\n",
       "        vertical-align: top;\n",
       "    }\n",
       "\n",
       "    .dataframe thead th {\n",
       "        text-align: right;\n",
       "    }\n",
       "</style>\n",
       "<table border=\"1\" class=\"dataframe\">\n",
       "  <thead>\n",
       "    <tr style=\"text-align: right;\">\n",
       "      <th></th>\n",
       "      <th>model</th>\n",
       "      <th>r2</th>\n",
       "      <th>mae</th>\n",
       "      <th>mse</th>\n",
       "      <th>rmse</th>\n",
       "      <th>mape</th>\n",
       "      <th>time_to_fit</th>\n",
       "    </tr>\n",
       "  </thead>\n",
       "  <tbody>\n",
       "    <tr>\n",
       "      <th>0</th>\n",
       "      <td>XGBoost FX</td>\n",
       "      <td>0.087392</td>\n",
       "      <td>3.178393</td>\n",
       "      <td>17.170213</td>\n",
       "      <td>4.143696</td>\n",
       "      <td>0.397972</td>\n",
       "      <td>19.756883</td>\n",
       "    </tr>\n",
       "    <tr>\n",
       "      <th>1</th>\n",
       "      <td>Random Forest FX</td>\n",
       "      <td>0.080785</td>\n",
       "      <td>3.149980</td>\n",
       "      <td>17.294522</td>\n",
       "      <td>4.158668</td>\n",
       "      <td>0.399980</td>\n",
       "      <td>28.081317</td>\n",
       "    </tr>\n",
       "    <tr>\n",
       "      <th>2</th>\n",
       "      <td>Decision Tree FX</td>\n",
       "      <td>0.039650</td>\n",
       "      <td>3.193226</td>\n",
       "      <td>18.068445</td>\n",
       "      <td>4.250699</td>\n",
       "      <td>0.403756</td>\n",
       "      <td>0.229621</td>\n",
       "    </tr>\n",
       "    <tr>\n",
       "      <th>3</th>\n",
       "      <td>MLP FX</td>\n",
       "      <td>0.278016</td>\n",
       "      <td>2.907973</td>\n",
       "      <td>13.583729</td>\n",
       "      <td>3.685611</td>\n",
       "      <td>0.335862</td>\n",
       "      <td>105.513747</td>\n",
       "    </tr>\n",
       "  </tbody>\n",
       "</table>\n",
       "</div>"
      ],
      "text/plain": [
       "              model        r2       mae        mse      rmse      mape  \\\n",
       "0        XGBoost FX  0.087392  3.178393  17.170213  4.143696  0.397972   \n",
       "1  Random Forest FX  0.080785  3.149980  17.294522  4.158668  0.399980   \n",
       "2  Decision Tree FX  0.039650  3.193226  18.068445  4.250699  0.403756   \n",
       "3            MLP FX  0.278016  2.907973  13.583729  3.685611  0.335862   \n",
       "\n",
       "   time_to_fit  \n",
       "0    19.756883  \n",
       "1    28.081317  \n",
       "2     0.229621  \n",
       "3   105.513747  "
      ]
     },
     "execution_count": 19,
     "metadata": {},
     "output_type": "execute_result"
    }
   ],
   "source": [
    "metrics_new = pd.read_csv(\"./metrics/994_yonge_flow_weather_metrics_new.csv.zip\")\n",
    "metrics_new.at[0,\"model\"] = \"XGBoost FX\"\n",
    "metrics_new.at[1,\"model\"] = \"Random Forest FX\"\n",
    "metrics_new.at[2,\"model\"] = \"Decision Tree FX\"\n",
    "metrics_new.at[3,\"model\"] = \"MLP FX\"\n",
    "metrics_new"
   ]
  },
  {
   "cell_type": "code",
   "execution_count": 20,
   "id": "55f0592c-d71f-47fa-bb8f-f69a50885b97",
   "metadata": {},
   "outputs": [
    {
     "data": {
      "text/html": [
       "<div>\n",
       "<style scoped>\n",
       "    .dataframe tbody tr th:only-of-type {\n",
       "        vertical-align: middle;\n",
       "    }\n",
       "\n",
       "    .dataframe tbody tr th {\n",
       "        vertical-align: top;\n",
       "    }\n",
       "\n",
       "    .dataframe thead th {\n",
       "        text-align: right;\n",
       "    }\n",
       "</style>\n",
       "<table border=\"1\" class=\"dataframe\">\n",
       "  <thead>\n",
       "    <tr style=\"text-align: right;\">\n",
       "      <th></th>\n",
       "      <th>model</th>\n",
       "      <th>r2</th>\n",
       "      <th>mae</th>\n",
       "      <th>mse</th>\n",
       "      <th>rmse</th>\n",
       "      <th>mape</th>\n",
       "      <th>time_to_fit</th>\n",
       "    </tr>\n",
       "  </thead>\n",
       "  <tbody>\n",
       "    <tr>\n",
       "      <th>0</th>\n",
       "      <td>XGBoost</td>\n",
       "      <td>0.504671</td>\n",
       "      <td>1.769564</td>\n",
       "      <td>5.704387</td>\n",
       "      <td>2.388386</td>\n",
       "      <td>1.572741e+13</td>\n",
       "      <td>19.756883</td>\n",
       "    </tr>\n",
       "    <tr>\n",
       "      <th>1</th>\n",
       "      <td>Random Forest</td>\n",
       "      <td>0.438029</td>\n",
       "      <td>1.910862</td>\n",
       "      <td>6.471861</td>\n",
       "      <td>2.543985</td>\n",
       "      <td>1.527215e+13</td>\n",
       "      <td>28.081317</td>\n",
       "    </tr>\n",
       "    <tr>\n",
       "      <th>2</th>\n",
       "      <td>Decision Tree</td>\n",
       "      <td>0.415761</td>\n",
       "      <td>1.933791</td>\n",
       "      <td>6.728302</td>\n",
       "      <td>2.593897</td>\n",
       "      <td>1.422525e+13</td>\n",
       "      <td>0.229621</td>\n",
       "    </tr>\n",
       "    <tr>\n",
       "      <th>3</th>\n",
       "      <td>MLP</td>\n",
       "      <td>0.478144</td>\n",
       "      <td>1.868859</td>\n",
       "      <td>6.009878</td>\n",
       "      <td>2.451505</td>\n",
       "      <td>7.849854e+12</td>\n",
       "      <td>105.513747</td>\n",
       "    </tr>\n",
       "  </tbody>\n",
       "</table>\n",
       "</div>"
      ],
      "text/plain": [
       "           model        r2       mae       mse      rmse          mape  \\\n",
       "0        XGBoost  0.504671  1.769564  5.704387  2.388386  1.572741e+13   \n",
       "1  Random Forest  0.438029  1.910862  6.471861  2.543985  1.527215e+13   \n",
       "2  Decision Tree  0.415761  1.933791  6.728302  2.593897  1.422525e+13   \n",
       "3            MLP  0.478144  1.868859  6.009878  2.451505  7.849854e+12   \n",
       "\n",
       "   time_to_fit  \n",
       "0    19.756883  \n",
       "1    28.081317  \n",
       "2     0.229621  \n",
       "3   105.513747  "
      ]
     },
     "execution_count": 20,
     "metadata": {},
     "output_type": "execute_result"
    }
   ],
   "source": [
    "metrics_old = pd.read_csv(\"./metrics/994_yonge_flow_weather_metrics_old.csv.zip\")\n",
    "metrics_old"
   ]
  },
  {
   "cell_type": "code",
   "execution_count": 21,
   "id": "2e6398b5-6926-4301-aec3-1e3361751ff6",
   "metadata": {},
   "outputs": [
    {
     "data": {
      "text/html": [
       "<div>\n",
       "<style scoped>\n",
       "    .dataframe tbody tr th:only-of-type {\n",
       "        vertical-align: middle;\n",
       "    }\n",
       "\n",
       "    .dataframe tbody tr th {\n",
       "        vertical-align: top;\n",
       "    }\n",
       "\n",
       "    .dataframe thead th {\n",
       "        text-align: right;\n",
       "    }\n",
       "</style>\n",
       "<table border=\"1\" class=\"dataframe\">\n",
       "  <thead>\n",
       "    <tr style=\"text-align: right;\">\n",
       "      <th></th>\n",
       "      <th>model</th>\n",
       "      <th>r2</th>\n",
       "      <th>mae</th>\n",
       "      <th>mse</th>\n",
       "      <th>rmse</th>\n",
       "      <th>mape</th>\n",
       "      <th>time_to_fit</th>\n",
       "    </tr>\n",
       "  </thead>\n",
       "  <tbody>\n",
       "    <tr>\n",
       "      <th>0</th>\n",
       "      <td>XGBoost</td>\n",
       "      <td>0.504671</td>\n",
       "      <td>1.769564</td>\n",
       "      <td>5.704387</td>\n",
       "      <td>2.388386</td>\n",
       "      <td>1.572741e+13</td>\n",
       "      <td>19.756883</td>\n",
       "    </tr>\n",
       "    <tr>\n",
       "      <th>3</th>\n",
       "      <td>MLP</td>\n",
       "      <td>0.478144</td>\n",
       "      <td>1.868859</td>\n",
       "      <td>6.009878</td>\n",
       "      <td>2.451505</td>\n",
       "      <td>7.849854e+12</td>\n",
       "      <td>105.513747</td>\n",
       "    </tr>\n",
       "    <tr>\n",
       "      <th>1</th>\n",
       "      <td>Random Forest</td>\n",
       "      <td>0.438029</td>\n",
       "      <td>1.910862</td>\n",
       "      <td>6.471861</td>\n",
       "      <td>2.543985</td>\n",
       "      <td>1.527215e+13</td>\n",
       "      <td>28.081317</td>\n",
       "    </tr>\n",
       "    <tr>\n",
       "      <th>2</th>\n",
       "      <td>Decision Tree</td>\n",
       "      <td>0.415761</td>\n",
       "      <td>1.933791</td>\n",
       "      <td>6.728302</td>\n",
       "      <td>2.593897</td>\n",
       "      <td>1.422525e+13</td>\n",
       "      <td>0.229621</td>\n",
       "    </tr>\n",
       "    <tr>\n",
       "      <th>3</th>\n",
       "      <td>MLP FX</td>\n",
       "      <td>0.278016</td>\n",
       "      <td>2.907973</td>\n",
       "      <td>13.583729</td>\n",
       "      <td>3.685611</td>\n",
       "      <td>3.358621e-01</td>\n",
       "      <td>105.513747</td>\n",
       "    </tr>\n",
       "    <tr>\n",
       "      <th>0</th>\n",
       "      <td>XGBoost FX</td>\n",
       "      <td>0.087392</td>\n",
       "      <td>3.178393</td>\n",
       "      <td>17.170213</td>\n",
       "      <td>4.143696</td>\n",
       "      <td>3.979716e-01</td>\n",
       "      <td>19.756883</td>\n",
       "    </tr>\n",
       "    <tr>\n",
       "      <th>1</th>\n",
       "      <td>Random Forest FX</td>\n",
       "      <td>0.080785</td>\n",
       "      <td>3.149980</td>\n",
       "      <td>17.294522</td>\n",
       "      <td>4.158668</td>\n",
       "      <td>3.999797e-01</td>\n",
       "      <td>28.081317</td>\n",
       "    </tr>\n",
       "    <tr>\n",
       "      <th>2</th>\n",
       "      <td>Decision Tree FX</td>\n",
       "      <td>0.039650</td>\n",
       "      <td>3.193226</td>\n",
       "      <td>18.068445</td>\n",
       "      <td>4.250699</td>\n",
       "      <td>4.037560e-01</td>\n",
       "      <td>0.229621</td>\n",
       "    </tr>\n",
       "  </tbody>\n",
       "</table>\n",
       "</div>"
      ],
      "text/plain": [
       "              model        r2       mae        mse      rmse          mape  \\\n",
       "0           XGBoost  0.504671  1.769564   5.704387  2.388386  1.572741e+13   \n",
       "3               MLP  0.478144  1.868859   6.009878  2.451505  7.849854e+12   \n",
       "1     Random Forest  0.438029  1.910862   6.471861  2.543985  1.527215e+13   \n",
       "2     Decision Tree  0.415761  1.933791   6.728302  2.593897  1.422525e+13   \n",
       "3            MLP FX  0.278016  2.907973  13.583729  3.685611  3.358621e-01   \n",
       "0        XGBoost FX  0.087392  3.178393  17.170213  4.143696  3.979716e-01   \n",
       "1  Random Forest FX  0.080785  3.149980  17.294522  4.158668  3.999797e-01   \n",
       "2  Decision Tree FX  0.039650  3.193226  18.068445  4.250699  4.037560e-01   \n",
       "\n",
       "   time_to_fit  \n",
       "0    19.756883  \n",
       "3   105.513747  \n",
       "1    28.081317  \n",
       "2     0.229621  \n",
       "3   105.513747  \n",
       "0    19.756883  \n",
       "1    28.081317  \n",
       "2     0.229621  "
      ]
     },
     "execution_count": 21,
     "metadata": {},
     "output_type": "execute_result"
    }
   ],
   "source": [
    "metrics = pd.concat([metrics_old, metrics_new])\n",
    "metrics.sort_values(by=\"r2\", ascending=False, inplace=True)\n",
    "metrics"
   ]
  },
  {
   "cell_type": "code",
   "execution_count": 22,
   "id": "8ebdb8c6-7cb0-413a-8767-1361c164e33c",
   "metadata": {},
   "outputs": [],
   "source": [
    "import matplotlib.pyplot as plt\n",
    "import seaborn as sns\n",
    "sns.set_theme()"
   ]
  },
  {
   "cell_type": "code",
   "execution_count": 23,
   "id": "175c8a50-4d24-48ee-ad9b-03194a1849f1",
   "metadata": {},
   "outputs": [
    {
     "name": "stderr",
     "output_type": "stream",
     "text": [
      "The PostScript backend does not support transparency; partially transparent artists will be rendered opaque.\n"
     ]
    },
    {
     "data": {
      "image/png": "[encoded data removed]",
      "text/plain": [
       "<Figure size 1000x1000 with 4 Axes>"
      ]
     },
     "metadata": {},
     "output_type": "display_data"
    }
   ],
   "source": [
    "fig, axes = plt.subplots(2, 2, figsize=(10, 10))\n",
    "ttf_order = list(metrics.sort_values(by=\"time_to_fit\")[\"model\"])\n",
    "\n",
    "sns.barplot(ax=axes[0, 0], data=metrics, x='model', y='r2',hue=\"model\",dodge=False)\n",
    "sns.barplot(ax=axes[0, 1], data=metrics, x='model', y='mae',hue=\"model\",dodge=False)\n",
    "sns.barplot(ax=axes[1, 0], data=metrics, x='model', y='rmse',hue=\"model\",dodge=False)\n",
    "sns.barplot(ax=axes[1, 1], data=metrics, x='model', y='time_to_fit',hue=\"model\",dodge=False, order=ttf_order)\n",
    "\n",
    "axes[0, 0].set(xlabel=\"Model\",xticklabels=[])\n",
    "axes[0, 0].set(ylabel=\"R2\")\n",
    "axes[0, 0].get_legend().remove()\n",
    "\n",
    "axes[0, 1].set(xlabel=\"Model\",xticklabels=[])\n",
    "axes[0, 1].set(ylabel=\"MAE\")\n",
    "axes[0, 1].legend(loc='center left', bbox_to_anchor=(1, 0.5))\n",
    "\n",
    "axes[1, 0].set(xlabel=\"Model\",xticklabels=[])\n",
    "axes[1, 0].set(ylabel=\"RMSE\")\n",
    "axes[1, 0].get_legend().remove()\n",
    "\n",
    "axes[1, 1].set(xlabel=\"Model\",xticklabels=[])\n",
    "axes[1, 1].set(ylabel=\"Time to fit (log)\", yscale=\"log\")\n",
    "axes[1, 1].get_legend().remove()\n",
    "\n",
    "plt.savefig(\"./plots/994_yonge_flow_weather_metrics.eps\",format=\"eps\",bbox_inches=\"tight\")\n",
    "plt.savefig(\"./plots/994_yonge_flow_weather_metrics.png\",bbox_inches=\"tight\")\n",
    "plt.savefig(\"./plots/994_yonge_flow_weather_metrics.pdf\",bbox_inches=\"tight\")"
   ]
  },
  {
   "cell_type": "code",
   "execution_count": null,
   "id": "98d97c25-1915-42dc-a659-529a6417f5ca",
   "metadata": {},
   "outputs": [],
   "source": []
  }
 ],
 "metadata": {
  "kernelspec": {
   "display_name": "Python 3 (ipykernel)",
   "language": "python",
   "name": "python3"
  },
  "language_info": {
   "codemirror_mode": {
    "name": "ipython",
    "version": 3
   },
   "file_extension": ".py",
   "mimetype": "text/x-python",
   "name": "python",
   "nbconvert_exporter": "python",
   "pygments_lexer": "ipython3",
   "version": "3.10.10"
  }
 },
 "nbformat": 4,
 "nbformat_minor": 5
}

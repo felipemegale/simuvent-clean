{
 "cells": [
  {
   "cell_type": "code",
   "execution_count": 6,
   "metadata": {},
   "outputs": [],
   "source": [
    "import pandas as pd\n",
    "import ast"
   ]
  },
  {
   "cell_type": "code",
   "execution_count": 7,
   "outputs": [],
   "source": [
    "# https://openweathermap.org/weather-conditions - reference for the weather column\n",
    "weather_df = pd.read_csv(\"../../csv/weather_data_v2.csv.zip\")\n",
    "\n",
    "weather_df[\"weather\"] = weather_df[\"weather\"].apply(lambda x: ast.literal_eval(x)[0])\n",
    "\n",
    "weather_df[\"collectedAt\"] = pd.to_datetime(weather_df[\"collectedAt\"], utc=True)\n",
    "weather_df[\"collectedAt\"] = weather_df[\"collectedAt\"].apply(lambda x: x.to_datetime64())\n",
    "\n",
    "weather_df[\"systemSunrise\"] = weather_df[\"systemSunrise\"] + weather_df[\"timezone\"]\n",
    "weather_df[\"systemSunrise\"] = pd.to_datetime(weather_df[\"systemSunrise\"], unit=\"s\")\n",
    "weather_df[\"systemSunrise\"] = weather_df[\"systemSunrise\"].apply(lambda x: x.to_datetime64())\n",
    "\n",
    "weather_df[\"systemSunset\"] = weather_df[\"systemSunset\"] + weather_df[\"timezone\"]\n",
    "weather_df[\"systemSunset\"] = pd.to_datetime(weather_df[\"systemSunset\"], unit=\"s\")\n",
    "weather_df[\"systemSunset\"] = weather_df[\"systemSunset\"].apply(lambda x: x.to_datetime64())\n",
    "\n",
    "weather_df = weather_df.drop(\n",
    "    columns=[\"base\",\n",
    "             \"datetime\",\n",
    "             \"timezone\",\n",
    "             \"id\",\n",
    "             \"name\",\n",
    "             \"Code\",\n",
    "             \"longitude\",\n",
    "             \"latitude\",\n",
    "             \"tempMin\",\n",
    "             \"tempMax\",\n",
    "             \"pressure\",\n",
    "             \"windGust\",\n",
    "             \"systemType\",\n",
    "             \"systemId\",\n",
    "             \"systemCountry\",\n",
    "             \"systemSunrise\",\n",
    "             \"systemSunset\",\n",
    "             \"seaLevel\",\n",
    "             \"groundLevel\"])"
   ],
   "metadata": {
    "collapsed": false
   }
  },
  {
   "cell_type": "code",
   "execution_count": 8,
   "metadata": {},
   "outputs": [],
   "source": [
    "weather_df_refs = weather_df[[\"weather\", \"collectedAt\", \"cloudsAll\"]].copy()\n",
    "weather_df_refs[\"collectedAt\"] = weather_df_refs.collectedAt.dt.floor(freq=\"s\")\n",
    "\n",
    "weather_df_grouped = weather_df.groupby(pd.Grouper(key=\"collectedAt\", freq=\"15min\")).mean()\n",
    "weather_df_grouped = weather_df_grouped.reset_index()\n",
    "weather_df_grouped = weather_df_grouped.drop(columns=[\"weather\", \"cloudsAll\"])"
   ]
  },
  {
   "cell_type": "code",
   "execution_count": 9,
   "metadata": {},
   "outputs": [],
   "source": [
    "weather_df_final = pd.merge(weather_df_grouped, weather_df_refs, on=\"collectedAt\", how=\"inner\")\n",
    "weather_df_final = weather_df_final.fillna(value=0, axis=1)"
   ]
  },
  {
   "cell_type": "code",
   "execution_count": 10,
   "metadata": {},
   "outputs": [],
   "source": [
    "weather_df_final.to_csv(\"../../csv/weather_data_processed_v2.csv.zip\", index=False, compression=\"zip\")"
   ]
  }
 ],
 "metadata": {
  "kernelspec": {
   "display_name": "Python 3 (ipykernel)",
   "language": "python",
   "name": "python3"
  },
  "language_info": {
   "codemirror_mode": {
    "name": "ipython",
    "version": 3
   },
   "file_extension": ".py",
   "mimetype": "text/x-python",
   "name": "python",
   "nbconvert_exporter": "python",
   "pygments_lexer": "ipython3",
   "version": "3.9.12 (main, Apr  5 2022, 06:56:58) \n[GCC 7.5.0]"
  },
  "vscode": {
   "interpreter": {
    "hash": "441dc1402921fbb61858fb02f3d232c916b48a98c37dfe20550e811f9428eba6"
   }
  }
 },
 "nbformat": 4,
 "nbformat_minor": 4
}

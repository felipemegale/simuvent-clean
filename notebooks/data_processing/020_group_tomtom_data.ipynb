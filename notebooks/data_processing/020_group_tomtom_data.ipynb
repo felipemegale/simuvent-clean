{
 "cells": [
  {
   "cell_type": "code",
   "execution_count": 20,
   "metadata": {},
   "outputs": [],
   "source": [
    "import pandas as pd"
   ]
  },
  {
   "cell_type": "code",
   "execution_count": 21,
   "metadata": {},
   "outputs": [],
   "source": [
    "gardiner_tomtom_df = pd.read_csv(\"../../csv/gardiner_flow_data_v2.csv.zip\")\n",
    "front_yonge_tomtom_df = pd.read_csv(\"../../csv/front_yonge_flow_data_v2.csv.zip\")"
   ]
  },
  {
   "cell_type": "code",
   "execution_count": 22,
   "outputs": [
    {
     "data": {
      "text/plain": "        frc  currentSpeed  freeFlowSpeed  currentTravelTime  \\\n0      FRC0            94             94                297   \n1      FRC0            94             94                297   \n2      FRC0            94             94                297   \n3      FRC0            94             94                297   \n4      FRC0            94             94                297   \n...     ...           ...            ...                ...   \n41751  FRC0            93             93                300   \n41752  FRC0            93             93                300   \n41753  FRC0            93             93                300   \n41754  FRC0            93             93                300   \n41755  FRC0            93             93                300   \n\n       freeFlowTravelTime  confidence  roadClosure  \\\n0                     297         1.0        False   \n1                     297         1.0        False   \n2                     297         1.0        False   \n3                     297         1.0        False   \n4                     297         1.0        False   \n...                   ...         ...          ...   \n41751                 300         1.0        False   \n41752                 300         1.0        False   \n41753                 300         1.0        False   \n41754                 300         1.0        False   \n41755                 300         1.0        False   \n\n                           @version  \\\n0      traffic-service-flow 1.0.056   \n1      traffic-service-flow 1.0.056   \n2      traffic-service-flow 1.0.056   \n3      traffic-service-flow 1.0.056   \n4      traffic-service-flow 1.0.056   \n...                             ...   \n41751  traffic-service-flow 1.0.076   \n41752  traffic-service-flow 1.0.076   \n41753  traffic-service-flow 1.0.076   \n41754  traffic-service-flow 1.0.076   \n41755  traffic-service-flow 1.0.076   \n\n                                             coordinates  \\\n0      [{'latitude': 43.681009250673604, 'longitude':...   \n1      [{'latitude': 43.681009250673604, 'longitude':...   \n2      [{'latitude': 43.681009250673604, 'longitude':...   \n3      [{'latitude': 43.681009250673604, 'longitude':...   \n4      [{'latitude': 43.681009250673604, 'longitude':...   \n...                                                  ...   \n41751  [{'latitude': 43.681009250673604, 'longitude':...   \n41752  [{'latitude': 43.681009250673604, 'longitude':...   \n41753  [{'latitude': 43.681009250673604, 'longitude':...   \n41754  [{'latitude': 43.681009250673604, 'longitude':...   \n41755  [{'latitude': 43.681009250673604, 'longitude':...   \n\n                            collectedAt  \n0      2022-08-09 20:00:00.009189-04:00  \n1      2022-08-09 20:05:00.011581-04:00  \n2      2022-08-09 20:10:00.004404-04:00  \n3      2022-08-09 20:15:00.005340-04:00  \n4      2022-08-09 20:20:00.004530-04:00  \n...                                 ...  \n41751  2023-01-01 18:35:00.005310-05:00  \n41752  2023-01-01 18:40:00.003821-05:00  \n41753  2023-01-01 18:45:00.009038-05:00  \n41754  2023-01-01 18:50:00.003952-05:00  \n41755  2023-01-01 18:55:00.005100-05:00  \n\n[41756 rows x 10 columns]",
      "text/html": "<div>\n<style scoped>\n    .dataframe tbody tr th:only-of-type {\n        vertical-align: middle;\n    }\n\n    .dataframe tbody tr th {\n        vertical-align: top;\n    }\n\n    .dataframe thead th {\n        text-align: right;\n    }\n</style>\n<table border=\"1\" class=\"dataframe\">\n  <thead>\n    <tr style=\"text-align: right;\">\n      <th></th>\n      <th>frc</th>\n      <th>currentSpeed</th>\n      <th>freeFlowSpeed</th>\n      <th>currentTravelTime</th>\n      <th>freeFlowTravelTime</th>\n      <th>confidence</th>\n      <th>roadClosure</th>\n      <th>@version</th>\n      <th>coordinates</th>\n      <th>collectedAt</th>\n    </tr>\n  </thead>\n  <tbody>\n    <tr>\n      <th>0</th>\n      <td>FRC0</td>\n      <td>94</td>\n      <td>94</td>\n      <td>297</td>\n      <td>297</td>\n      <td>1.0</td>\n      <td>False</td>\n      <td>traffic-service-flow 1.0.056</td>\n      <td>[{'latitude': 43.681009250673604, 'longitude':...</td>\n      <td>2022-08-09 20:00:00.009189-04:00</td>\n    </tr>\n    <tr>\n      <th>1</th>\n      <td>FRC0</td>\n      <td>94</td>\n      <td>94</td>\n      <td>297</td>\n      <td>297</td>\n      <td>1.0</td>\n      <td>False</td>\n      <td>traffic-service-flow 1.0.056</td>\n      <td>[{'latitude': 43.681009250673604, 'longitude':...</td>\n      <td>2022-08-09 20:05:00.011581-04:00</td>\n    </tr>\n    <tr>\n      <th>2</th>\n      <td>FRC0</td>\n      <td>94</td>\n      <td>94</td>\n      <td>297</td>\n      <td>297</td>\n      <td>1.0</td>\n      <td>False</td>\n      <td>traffic-service-flow 1.0.056</td>\n      <td>[{'latitude': 43.681009250673604, 'longitude':...</td>\n      <td>2022-08-09 20:10:00.004404-04:00</td>\n    </tr>\n    <tr>\n      <th>3</th>\n      <td>FRC0</td>\n      <td>94</td>\n      <td>94</td>\n      <td>297</td>\n      <td>297</td>\n      <td>1.0</td>\n      <td>False</td>\n      <td>traffic-service-flow 1.0.056</td>\n      <td>[{'latitude': 43.681009250673604, 'longitude':...</td>\n      <td>2022-08-09 20:15:00.005340-04:00</td>\n    </tr>\n    <tr>\n      <th>4</th>\n      <td>FRC0</td>\n      <td>94</td>\n      <td>94</td>\n      <td>297</td>\n      <td>297</td>\n      <td>1.0</td>\n      <td>False</td>\n      <td>traffic-service-flow 1.0.056</td>\n      <td>[{'latitude': 43.681009250673604, 'longitude':...</td>\n      <td>2022-08-09 20:20:00.004530-04:00</td>\n    </tr>\n    <tr>\n      <th>...</th>\n      <td>...</td>\n      <td>...</td>\n      <td>...</td>\n      <td>...</td>\n      <td>...</td>\n      <td>...</td>\n      <td>...</td>\n      <td>...</td>\n      <td>...</td>\n      <td>...</td>\n    </tr>\n    <tr>\n      <th>41751</th>\n      <td>FRC0</td>\n      <td>93</td>\n      <td>93</td>\n      <td>300</td>\n      <td>300</td>\n      <td>1.0</td>\n      <td>False</td>\n      <td>traffic-service-flow 1.0.076</td>\n      <td>[{'latitude': 43.681009250673604, 'longitude':...</td>\n      <td>2023-01-01 18:35:00.005310-05:00</td>\n    </tr>\n    <tr>\n      <th>41752</th>\n      <td>FRC0</td>\n      <td>93</td>\n      <td>93</td>\n      <td>300</td>\n      <td>300</td>\n      <td>1.0</td>\n      <td>False</td>\n      <td>traffic-service-flow 1.0.076</td>\n      <td>[{'latitude': 43.681009250673604, 'longitude':...</td>\n      <td>2023-01-01 18:40:00.003821-05:00</td>\n    </tr>\n    <tr>\n      <th>41753</th>\n      <td>FRC0</td>\n      <td>93</td>\n      <td>93</td>\n      <td>300</td>\n      <td>300</td>\n      <td>1.0</td>\n      <td>False</td>\n      <td>traffic-service-flow 1.0.076</td>\n      <td>[{'latitude': 43.681009250673604, 'longitude':...</td>\n      <td>2023-01-01 18:45:00.009038-05:00</td>\n    </tr>\n    <tr>\n      <th>41754</th>\n      <td>FRC0</td>\n      <td>93</td>\n      <td>93</td>\n      <td>300</td>\n      <td>300</td>\n      <td>1.0</td>\n      <td>False</td>\n      <td>traffic-service-flow 1.0.076</td>\n      <td>[{'latitude': 43.681009250673604, 'longitude':...</td>\n      <td>2023-01-01 18:50:00.003952-05:00</td>\n    </tr>\n    <tr>\n      <th>41755</th>\n      <td>FRC0</td>\n      <td>93</td>\n      <td>93</td>\n      <td>300</td>\n      <td>300</td>\n      <td>1.0</td>\n      <td>False</td>\n      <td>traffic-service-flow 1.0.076</td>\n      <td>[{'latitude': 43.681009250673604, 'longitude':...</td>\n      <td>2023-01-01 18:55:00.005100-05:00</td>\n    </tr>\n  </tbody>\n</table>\n<p>41756 rows × 10 columns</p>\n</div>"
     },
     "execution_count": 22,
     "metadata": {},
     "output_type": "execute_result"
    }
   ],
   "source": [
    "gardiner_tomtom_df"
   ],
   "metadata": {
    "collapsed": false
   }
  },
  {
   "cell_type": "code",
   "execution_count": 23,
   "metadata": {},
   "outputs": [],
   "source": [
    "gardiner_tomtom_df = gardiner_tomtom_df.drop(columns=[\"frc\", \"@version\"])\n",
    "gardiner_tomtom_df[\"collectedAt\"] = pd.to_datetime(gardiner_tomtom_df[\"collectedAt\"], utc=True)\n",
    "\n",
    "front_yonge_tomtom_df = front_yonge_tomtom_df.drop(columns=[\"frc\", \"@version\"])\n",
    "front_yonge_tomtom_df[\"collectedAt\"] = pd.to_datetime(front_yonge_tomtom_df[\"collectedAt\"], utc=True)"
   ]
  },
  {
   "cell_type": "code",
   "execution_count": 24,
   "outputs": [],
   "source": [
    "gardiner_tomtom_df[\"collectedAt\"] = gardiner_tomtom_df[\"collectedAt\"].dt.floor(\"s\")\n",
    "front_yonge_tomtom_df[\"collectedAt\"] = front_yonge_tomtom_df[\"collectedAt\"].dt.floor(\"s\")"
   ],
   "metadata": {
    "collapsed": false
   }
  },
  {
   "cell_type": "code",
   "execution_count": 25,
   "metadata": {},
   "outputs": [],
   "source": [
    "gardiner_tomtom_df_grouped = gardiner_tomtom_df.groupby(\n",
    "    pd.Grouper(key=\"collectedAt\", freq=\"15min\")).mean().reset_index()\n",
    "gardiner_tomtom_df_grouped = pd.merge(gardiner_tomtom_df_grouped, gardiner_tomtom_df[[\"coordinates\", \"collectedAt\"]],\n",
    "                                      right_on=\"collectedAt\", left_on=\"collectedAt\", how=\"inner\")\n",
    "gardiner_tomtom_df_grouped.to_csv(\"../../csv/gardiner_flow_data_grouped_v2.csv.zip\", index=False, compression=\"zip\")"
   ]
  },
  {
   "cell_type": "code",
   "execution_count": 26,
   "metadata": {},
   "outputs": [],
   "source": [
    "front_yonge_tomtom_df_grouped = front_yonge_tomtom_df.groupby(\n",
    "    pd.Grouper(key=\"collectedAt\", freq=\"15min\")).mean().reset_index()\n",
    "front_yonge_tomtom_df_grouped = pd.merge(front_yonge_tomtom_df_grouped,\n",
    "                                         front_yonge_tomtom_df[[\"coordinates\", \"collectedAt\"]], right_on=\"collectedAt\",\n",
    "                                         left_on=\"collectedAt\", how=\"inner\")\n",
    "front_yonge_tomtom_df_grouped.to_csv(\"../../csv/front_yonge_flow_data_grouped_v2.csv.zip\", index=False,\n",
    "                                     compression=\"zip\")"
   ]
  }
 ],
 "metadata": {
  "kernelspec": {
   "display_name": "Python 3 (ipykernel)",
   "language": "python",
   "name": "python3"
  },
  "language_info": {
   "codemirror_mode": {
    "name": "ipython",
    "version": 3
   },
   "file_extension": ".py",
   "mimetype": "text/x-python",
   "name": "python",
   "nbconvert_exporter": "python",
   "pygments_lexer": "ipython3",
   "version": "3.9.12 (main, Apr  5 2022, 06:56:58) \n[GCC 7.5.0]"
  },
  "vscode": {
   "interpreter": {
    "hash": "441dc1402921fbb61858fb02f3d232c916b48a98c37dfe20550e811f9428eba6"
   }
  }
 },
 "nbformat": 4,
 "nbformat_minor": 4
}

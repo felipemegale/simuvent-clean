{
 "cells": [
  {
   "cell_type": "code",
   "execution_count": 4,
   "metadata": {},
   "outputs": [],
   "source": [
    "# code text attributes into numerical\n",
    "import pandas as pd"
   ]
  },
  {
   "cell_type": "code",
   "execution_count": 5,
   "metadata": {},
   "outputs": [],
   "source": [
    "gardiner_data = pd.read_csv(\"../../csv/gardiner_count_flow_weather.csv.zip\")\n",
    "\n",
    "gardiner_data = gardiner_data.drop(columns=[\n",
    "    \"detector_id\",\n",
    "    \"collectedAt\",\n",
    "    \"number_of_lanes\",\n",
    "    \"primary_road\",\n",
    "    \"detector_loc\",\n",
    "    \"distance_to_union_km\",\n",
    "    \"confidence\",\n",
    "    \"FeelsLike\"])"
   ]
  },
  {
   "cell_type": "code",
   "execution_count": 6,
   "metadata": {},
   "outputs": [],
   "source": [
    "gardiner_direction = pd.get_dummies(gardiner_data[\"direction\"])\n",
    "gardiner_data = pd.concat([gardiner_data, gardiner_direction], axis=1).reindex(gardiner_data.index)\n",
    "gardiner_data.drop(\"direction\", axis=1, inplace=True)\n",
    "gardiner_data.to_csv(\"../../csv/gardiner_count_flow_weather_encoded_v2.csv.zip\", compression=\"zip\")"
   ]
  },
  {
   "cell_type": "code",
   "execution_count": 6,
   "outputs": [],
   "source": [],
   "metadata": {
    "collapsed": false
   }
  }
 ],
 "metadata": {
  "kernelspec": {
   "display_name": "base",
   "language": "python",
   "name": "python3"
  },
  "language_info": {
   "codemirror_mode": {
    "name": "ipython",
    "version": 3
   },
   "file_extension": ".py",
   "mimetype": "text/x-python",
   "name": "python",
   "nbconvert_exporter": "python",
   "pygments_lexer": "ipython3",
   "version": "3.9.12"
  },
  "orig_nbformat": 4,
  "vscode": {
   "interpreter": {
    "hash": "441dc1402921fbb61858fb02f3d232c916b48a98c37dfe20550e811f9428eba6"
   }
  }
 },
 "nbformat": 4,
 "nbformat_minor": 2
}

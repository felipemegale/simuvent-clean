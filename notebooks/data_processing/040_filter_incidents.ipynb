{
 "cells": [
  {
   "cell_type": "code",
   "execution_count": 1,
   "metadata": {},
   "outputs": [],
   "source": [
    "import pandas as pd\n",
    "\n",
    "# iconCategory\n",
    "# integer\n",
    "#   The main icon category associated with this incident. This is an icon category associated with the first event in the events list describing the incident. The values meaning:\n",
    "#       0: Unknown\n",
    "#       1: Accident\n",
    "#       2: Fog\n",
    "#       3: Dangerous Conditions\n",
    "#       4: Rain\n",
    "#       5: Ice\n",
    "#       6: Jam\n",
    "#       7: Lane Closed\n",
    "#       8: Road Closed\n",
    "#       9: Road Works\n",
    "#       10: Wind\n",
    "#       11: Flooding\n",
    "#       14: Broken Down Vehicle\n",
    "\n",
    "# magnitudeOfDelay\n",
    "# integer\n",
    "#   The magnitude of delay associated with an incident. The values meaning:\n",
    "#       0: Unknown\n",
    "#       1: Minor\n",
    "#       2: Moderate\n",
    "#       3: Major\n",
    "#       4: Undefined (used for road closures and other indefinite delays)\n",
    "\n",
    "# startTime\n",
    "# string\n",
    "#   Start time of the incident, if available. The date is described in the ISO8601 format.\n",
    "\n",
    "# endTime\n",
    "# string\n",
    "#   End time of the incident, if available. The date is described in the ISO8601 format.\n",
    "\n",
    "# from\n",
    "# string\n",
    "#   The name of the location where the traffic due to the incident starts.\n",
    "\n",
    "# to\n",
    "# string\n",
    "#   The name of the location where the traffic due to the incident ends.\n",
    "\n",
    "# length\n",
    "# float\n",
    "#   The length of the incident in meters.\n",
    "\n",
    "# delay\n",
    "# integer\n",
    "#   The delay in seconds caused by the incident (except road closures).\n",
    "#   It is calculated against free-flow travel time (the travel time when the traffic is minimal, e.g., night traffic).\n",
    "\n",
    "# roadNumbers\n",
    "# array of strings\n",
    "#   The road number(s) affected by the incident.\n",
    "\n",
    "# timeValidity\n",
    "# string\n",
    "#   Enumeration string describing if the incident occurrence is now or in the future.\n",
    "\n",
    "# timeValidity\n",
    "# string\n",
    "#   Enumeration string describing if the incident occurrence is now or in the future.\n",
    "\n",
    "# tmc\n",
    "# object\n",
    "#   TMC (Traffic Message Channel) data of the traffic incident, needed to determine its location.\n",
    "\n",
    "# probabilityOfOccurrence\n",
    "# string\n",
    "\n",
    "# Enumeration string specifying the likelihood of the occurring incident.\n",
    "# Allowed values:\n",
    "#   certain\n",
    "#   probable\n",
    "#   risk_of\n",
    "#   improbable\n",
    "\n",
    "# numberOfReports\n",
    "# integer\n",
    "#   The number of reports given by actual end-users.\n",
    "\n",
    "# lastReportTime\n",
    "# string\n",
    "#   The date in ISO8601 format, when the last time the incident was reported.\n",
    "#   Gives the user confidence that the incident is fresh.\n",
    "\n",
    "# aci\n",
    "# object\n",
    "#   The Community Attributes (ACI)."
   ]
  },
  {
   "cell_type": "code",
   "execution_count": 2,
   "metadata": {},
   "outputs": [
    {
     "data": {
      "text/plain": "20574"
     },
     "execution_count": 2,
     "metadata": {},
     "output_type": "execute_result"
    }
   ],
   "source": [
    "incidents_df = pd.read_csv(\"../../csv/incidents_data_v2.csv.zip\", index_col=False)\n",
    "incidents_df[\"collectedAt\"] = pd.to_datetime(incidents_df[\"collectedAt\"], utc=True)\n",
    "len(incidents_df)"
   ]
  },
  {
   "cell_type": "code",
   "execution_count": 3,
   "metadata": {},
   "outputs": [],
   "source": [
    "# Remaining incident types:\n",
    "# 1 (Accident)\n",
    "# 3 (Dangerous Conditions)\n",
    "# 6 (Traffic Jam) - removed because it is redundant to say a jam caused a jam\n",
    "# 7 (Lane Closed)\n",
    "# 8 (Road Closed)\n",
    "# 9 (Road Works)\n",
    "\n",
    "# remove unnecessary cols\n",
    "incidents_df = incidents_df.drop(columns=[\"type\",\n",
    "                                          \"magnitudeOfDelay\",\n",
    "                                          \"delay\",  # all are 0\n",
    "                                          \"timeValidity\",  # all are present\n",
    "                                          \"numberOfReports\",\n",
    "                                          \"lastReportTime\",\n",
    "                                          \"events\",\n",
    "                                          \"geometryType\",  # all are line string\n",
    "                                          \"tmcCountryCode\",\n",
    "                                          \"tmcTableNumber\",\n",
    "                                          \"tmcTableVersion\",\n",
    "                                          \"tmcDirection\",\n",
    "                                          \"tmcPoints\",\n",
    "                                          \"tmc\"])  # tmc data (irrelevant)"
   ]
  },
  {
   "cell_type": "code",
   "execution_count": 4,
   "metadata": {},
   "outputs": [],
   "source": [
    "incidents_df.to_csv(\"../../csv/incidents_data_cleaned_v2.csv.zip\", index=False, compression=\"zip\")"
   ]
  }
 ],
 "metadata": {
  "kernelspec": {
   "display_name": "base",
   "language": "python",
   "name": "python3"
  },
  "language_info": {
   "codemirror_mode": {
    "name": "ipython",
    "version": 3
   },
   "file_extension": ".py",
   "mimetype": "text/x-python",
   "name": "python",
   "nbconvert_exporter": "python",
   "pygments_lexer": "ipython3",
   "version": "3.9.12 (main, Apr  5 2022, 06:56:58) \n[GCC 7.5.0]"
  },
  "orig_nbformat": 4,
  "vscode": {
   "interpreter": {
    "hash": "441dc1402921fbb61858fb02f3d232c916b48a98c37dfe20550e811f9428eba6"
   }
  }
 },
 "nbformat": 4,
 "nbformat_minor": 2
}

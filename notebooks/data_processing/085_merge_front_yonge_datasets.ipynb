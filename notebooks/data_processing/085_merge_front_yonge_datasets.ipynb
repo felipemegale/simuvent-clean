{
 "cells": [
  {
   "cell_type": "code",
   "execution_count": 1,
   "metadata": {},
   "outputs": [],
   "source": [
    "import pandas as pd"
   ]
  },
  {
   "cell_type": "code",
   "execution_count": 2,
   "metadata": {},
   "outputs": [],
   "source": [
    "front_raw_data = pd.read_csv(\"../../raw_data/traffic_volume/traffic_volume_raw-data-2020-2029.zip\")\n",
    "front_count_closest_df = pd.read_csv(\"../../csv/front_count_closest.csv.zip\")\n",
    "front_count_grouped_dow = pd.read_csv(\"../../csv/front_count_grouped_dow.csv.zip\")\n",
    "front_flow_df = pd.read_csv(\"../../csv/front_yonge_flow_data_grouped_v2.csv.zip\")\n",
    "weather_df = pd.read_csv(\"../../csv/weather_data_processed_v2.csv.zip\")"
   ]
  },
  {
   "cell_type": "code",
   "execution_count": 3,
   "metadata": {},
   "outputs": [],
   "source": [
    "front_count_closest_df[\"time_end\"] = pd.to_datetime(\n",
    "    front_count_closest_df[\"time_end\"], utc=True)\n",
    "front_count_closest_df[\"time_end\"] = front_count_closest_df[\"time_end\"].apply(\n",
    "    lambda x: x.to_datetime64())\n",
    "\n",
    "front_flow_df[\"collectedAt\"] = pd.to_datetime(\n",
    "    front_flow_df[\"collectedAt\"], utc=True)\n",
    "front_flow_df[\"collectedAt\"] = front_flow_df[\"collectedAt\"].apply(\n",
    "    lambda x: x.to_datetime64())\n",
    "\n",
    "weather_df[\"collectedAt\"] = pd.to_datetime(\n",
    "    weather_df[\"collectedAt\"], utc=True)\n",
    "weather_df[\"collectedAt\"] = weather_df[\"collectedAt\"].apply(\n",
    "    lambda x: x.to_datetime64())"
   ]
  },
  {
   "cell_type": "code",
   "execution_count": 4,
   "metadata": {},
   "outputs": [],
   "source": [
    "front_count_flow = pd.merge(front_count_closest_df, front_flow_df,\n",
    "                            left_on=\"time_end\", right_on=\"collectedAt\", how=\"inner\")"
   ]
  },
  {
   "cell_type": "code",
   "execution_count": 5,
   "metadata": {},
   "outputs": [],
   "source": [
    "front_count_flow_weather = pd.merge(\n",
    "    front_count_flow, weather_df, left_on=\"collectedAt\", right_on=\"collectedAt\", how=\"inner\")"
   ]
  },
  {
   "cell_type": "code",
   "execution_count": 6,
   "metadata": {},
   "outputs": [],
   "source": [
    "front_count_flow_weather = front_count_flow_weather.drop(\n",
    "    columns=[\"time_end\", \"freeFlowSpeed\", \"freeFlowTravelTime\", \"confidence\"])"
   ]
  },
  {
   "cell_type": "code",
   "execution_count": 7,
   "metadata": {},
   "outputs": [
    {
     "data": {
      "text/plain": "           lng        lat  total_count  distance_from_point  hour  minute  \\\n0   -79.368404  43.649997   284.076923             0.773430     7      45   \n1   -79.368404  43.649997   340.769231             0.773430     8       0   \n2   -79.368404  43.649997   358.307692             0.773430     8      15   \n3   -79.368404  43.649997   316.384615             0.773430     8      30   \n4   -79.368404  43.649997   327.769231             0.773430     8      45   \n..         ...        ...          ...                  ...   ...     ...   \n411 -79.371465  43.649450   559.000000             0.526677    17       0   \n412 -79.371465  43.649450   594.000000             0.526677    17      15   \n413 -79.371465  43.649450   549.000000             0.526677    17      30   \n414 -79.371465  43.649450   552.000000             0.526677    17      45   \n415 -79.371465  43.649450   560.000000             0.526677    18       0   \n\n     day_of_week  \n0              3  \n1              3  \n2              3  \n3              3  \n4              3  \n..           ...  \n411            5  \n412            5  \n413            5  \n414            5  \n415            5  \n\n[416 rows x 7 columns]",
      "text/html": "<div>\n<style scoped>\n    .dataframe tbody tr th:only-of-type {\n        vertical-align: middle;\n    }\n\n    .dataframe tbody tr th {\n        vertical-align: top;\n    }\n\n    .dataframe thead th {\n        text-align: right;\n    }\n</style>\n<table border=\"1\" class=\"dataframe\">\n  <thead>\n    <tr style=\"text-align: right;\">\n      <th></th>\n      <th>lng</th>\n      <th>lat</th>\n      <th>total_count</th>\n      <th>distance_from_point</th>\n      <th>hour</th>\n      <th>minute</th>\n      <th>day_of_week</th>\n    </tr>\n  </thead>\n  <tbody>\n    <tr>\n      <th>0</th>\n      <td>-79.368404</td>\n      <td>43.649997</td>\n      <td>284.076923</td>\n      <td>0.773430</td>\n      <td>7</td>\n      <td>45</td>\n      <td>3</td>\n    </tr>\n    <tr>\n      <th>1</th>\n      <td>-79.368404</td>\n      <td>43.649997</td>\n      <td>340.769231</td>\n      <td>0.773430</td>\n      <td>8</td>\n      <td>0</td>\n      <td>3</td>\n    </tr>\n    <tr>\n      <th>2</th>\n      <td>-79.368404</td>\n      <td>43.649997</td>\n      <td>358.307692</td>\n      <td>0.773430</td>\n      <td>8</td>\n      <td>15</td>\n      <td>3</td>\n    </tr>\n    <tr>\n      <th>3</th>\n      <td>-79.368404</td>\n      <td>43.649997</td>\n      <td>316.384615</td>\n      <td>0.773430</td>\n      <td>8</td>\n      <td>30</td>\n      <td>3</td>\n    </tr>\n    <tr>\n      <th>4</th>\n      <td>-79.368404</td>\n      <td>43.649997</td>\n      <td>327.769231</td>\n      <td>0.773430</td>\n      <td>8</td>\n      <td>45</td>\n      <td>3</td>\n    </tr>\n    <tr>\n      <th>...</th>\n      <td>...</td>\n      <td>...</td>\n      <td>...</td>\n      <td>...</td>\n      <td>...</td>\n      <td>...</td>\n      <td>...</td>\n    </tr>\n    <tr>\n      <th>411</th>\n      <td>-79.371465</td>\n      <td>43.649450</td>\n      <td>559.000000</td>\n      <td>0.526677</td>\n      <td>17</td>\n      <td>0</td>\n      <td>5</td>\n    </tr>\n    <tr>\n      <th>412</th>\n      <td>-79.371465</td>\n      <td>43.649450</td>\n      <td>594.000000</td>\n      <td>0.526677</td>\n      <td>17</td>\n      <td>15</td>\n      <td>5</td>\n    </tr>\n    <tr>\n      <th>413</th>\n      <td>-79.371465</td>\n      <td>43.649450</td>\n      <td>549.000000</td>\n      <td>0.526677</td>\n      <td>17</td>\n      <td>30</td>\n      <td>5</td>\n    </tr>\n    <tr>\n      <th>414</th>\n      <td>-79.371465</td>\n      <td>43.649450</td>\n      <td>552.000000</td>\n      <td>0.526677</td>\n      <td>17</td>\n      <td>45</td>\n      <td>5</td>\n    </tr>\n    <tr>\n      <th>415</th>\n      <td>-79.371465</td>\n      <td>43.649450</td>\n      <td>560.000000</td>\n      <td>0.526677</td>\n      <td>18</td>\n      <td>0</td>\n      <td>5</td>\n    </tr>\n  </tbody>\n</table>\n<p>416 rows × 7 columns</p>\n</div>"
     },
     "execution_count": 7,
     "metadata": {},
     "output_type": "execute_result"
    }
   ],
   "source": [
    "front_count_grouped_dow"
   ]
  },
  {
   "cell_type": "code",
   "execution_count": 8,
   "metadata": {},
   "outputs": [],
   "source": [
    "front_flow_df_dow = front_flow_df.copy(deep=True)"
   ]
  },
  {
   "cell_type": "code",
   "execution_count": 9,
   "outputs": [],
   "source": [
    "front_count_flow_weather.to_csv(\n",
    "    \"../../csv/front_count_flow_weather.csv.zip\", index=False, compression=\"zip\")"
   ],
   "metadata": {
    "collapsed": false
   }
  },
  {
   "cell_type": "code",
   "execution_count": 10,
   "outputs": [
    {
     "data": {
      "text/plain": "              collectedAt  currentSpeed  freeFlowSpeed  currentTravelTime  \\\n0     2022-08-10 00:00:00     14.000000      18.000000          74.666667   \n1     2022-08-10 00:15:00     14.333333      17.666667          72.333333   \n2     2022-08-10 00:30:00     18.000000      18.000000          56.000000   \n3     2022-08-10 00:45:00     11.000000      17.333333          94.666667   \n4     2022-08-10 01:00:00     18.000000      18.000000          56.000000   \n...                   ...           ...            ...                ...   \n13912 2023-01-01 22:45:00     13.666667      17.666667          77.000000   \n13913 2023-01-01 23:00:00     14.666667      17.333333          70.666667   \n13914 2023-01-01 23:15:00     14.666667      18.000000          70.000000   \n13915 2023-01-01 23:30:00     16.666667      17.666667          61.333333   \n13916 2023-01-01 23:45:00     18.000000      18.000000          56.000000   \n\n       freeFlowTravelTime  confidence  roadClosure  \\\n0                    56.0         1.0          0.0   \n1                    57.0         1.0          0.0   \n2                    56.0         1.0          0.0   \n3                    58.0         1.0          0.0   \n4                    56.0         1.0          0.0   \n...                   ...         ...          ...   \n13912                57.0         1.0          0.0   \n13913                58.0         1.0          0.0   \n13914                56.0         1.0          0.0   \n13915                57.0         1.0          0.0   \n13916                56.0         1.0          0.0   \n\n                                             coordinates  \n0      [{'latitude': 43.646886954993356, 'longitude':...  \n1      [{'latitude': 43.646886954993356, 'longitude':...  \n2      [{'latitude': 43.646886954993356, 'longitude':...  \n3      [{'latitude': 43.646886954993356, 'longitude':...  \n4      [{'latitude': 43.646886954993356, 'longitude':...  \n...                                                  ...  \n13912  [{'latitude': 43.646886954993356, 'longitude':...  \n13913  [{'latitude': 43.646886954993356, 'longitude':...  \n13914  [{'latitude': 43.646886954993356, 'longitude':...  \n13915  [{'latitude': 43.646886954993356, 'longitude':...  \n13916  [{'latitude': 43.646886954993356, 'longitude':...  \n\n[13917 rows x 8 columns]",
      "text/html": "<div>\n<style scoped>\n    .dataframe tbody tr th:only-of-type {\n        vertical-align: middle;\n    }\n\n    .dataframe tbody tr th {\n        vertical-align: top;\n    }\n\n    .dataframe thead th {\n        text-align: right;\n    }\n</style>\n<table border=\"1\" class=\"dataframe\">\n  <thead>\n    <tr style=\"text-align: right;\">\n      <th></th>\n      <th>collectedAt</th>\n      <th>currentSpeed</th>\n      <th>freeFlowSpeed</th>\n      <th>currentTravelTime</th>\n      <th>freeFlowTravelTime</th>\n      <th>confidence</th>\n      <th>roadClosure</th>\n      <th>coordinates</th>\n    </tr>\n  </thead>\n  <tbody>\n    <tr>\n      <th>0</th>\n      <td>2022-08-10 00:00:00</td>\n      <td>14.000000</td>\n      <td>18.000000</td>\n      <td>74.666667</td>\n      <td>56.0</td>\n      <td>1.0</td>\n      <td>0.0</td>\n      <td>[{'latitude': 43.646886954993356, 'longitude':...</td>\n    </tr>\n    <tr>\n      <th>1</th>\n      <td>2022-08-10 00:15:00</td>\n      <td>14.333333</td>\n      <td>17.666667</td>\n      <td>72.333333</td>\n      <td>57.0</td>\n      <td>1.0</td>\n      <td>0.0</td>\n      <td>[{'latitude': 43.646886954993356, 'longitude':...</td>\n    </tr>\n    <tr>\n      <th>2</th>\n      <td>2022-08-10 00:30:00</td>\n      <td>18.000000</td>\n      <td>18.000000</td>\n      <td>56.000000</td>\n      <td>56.0</td>\n      <td>1.0</td>\n      <td>0.0</td>\n      <td>[{'latitude': 43.646886954993356, 'longitude':...</td>\n    </tr>\n    <tr>\n      <th>3</th>\n      <td>2022-08-10 00:45:00</td>\n      <td>11.000000</td>\n      <td>17.333333</td>\n      <td>94.666667</td>\n      <td>58.0</td>\n      <td>1.0</td>\n      <td>0.0</td>\n      <td>[{'latitude': 43.646886954993356, 'longitude':...</td>\n    </tr>\n    <tr>\n      <th>4</th>\n      <td>2022-08-10 01:00:00</td>\n      <td>18.000000</td>\n      <td>18.000000</td>\n      <td>56.000000</td>\n      <td>56.0</td>\n      <td>1.0</td>\n      <td>0.0</td>\n      <td>[{'latitude': 43.646886954993356, 'longitude':...</td>\n    </tr>\n    <tr>\n      <th>...</th>\n      <td>...</td>\n      <td>...</td>\n      <td>...</td>\n      <td>...</td>\n      <td>...</td>\n      <td>...</td>\n      <td>...</td>\n      <td>...</td>\n    </tr>\n    <tr>\n      <th>13912</th>\n      <td>2023-01-01 22:45:00</td>\n      <td>13.666667</td>\n      <td>17.666667</td>\n      <td>77.000000</td>\n      <td>57.0</td>\n      <td>1.0</td>\n      <td>0.0</td>\n      <td>[{'latitude': 43.646886954993356, 'longitude':...</td>\n    </tr>\n    <tr>\n      <th>13913</th>\n      <td>2023-01-01 23:00:00</td>\n      <td>14.666667</td>\n      <td>17.333333</td>\n      <td>70.666667</td>\n      <td>58.0</td>\n      <td>1.0</td>\n      <td>0.0</td>\n      <td>[{'latitude': 43.646886954993356, 'longitude':...</td>\n    </tr>\n    <tr>\n      <th>13914</th>\n      <td>2023-01-01 23:15:00</td>\n      <td>14.666667</td>\n      <td>18.000000</td>\n      <td>70.000000</td>\n      <td>56.0</td>\n      <td>1.0</td>\n      <td>0.0</td>\n      <td>[{'latitude': 43.646886954993356, 'longitude':...</td>\n    </tr>\n    <tr>\n      <th>13915</th>\n      <td>2023-01-01 23:30:00</td>\n      <td>16.666667</td>\n      <td>17.666667</td>\n      <td>61.333333</td>\n      <td>57.0</td>\n      <td>1.0</td>\n      <td>0.0</td>\n      <td>[{'latitude': 43.646886954993356, 'longitude':...</td>\n    </tr>\n    <tr>\n      <th>13916</th>\n      <td>2023-01-01 23:45:00</td>\n      <td>18.000000</td>\n      <td>18.000000</td>\n      <td>56.000000</td>\n      <td>56.0</td>\n      <td>1.0</td>\n      <td>0.0</td>\n      <td>[{'latitude': 43.646886954993356, 'longitude':...</td>\n    </tr>\n  </tbody>\n</table>\n<p>13917 rows × 8 columns</p>\n</div>"
     },
     "execution_count": 10,
     "metadata": {},
     "output_type": "execute_result"
    }
   ],
   "source": [
    "front_flow_df_dow"
   ],
   "metadata": {
    "collapsed": false
   }
  },
  {
   "cell_type": "code",
   "execution_count": 11,
   "metadata": {},
   "outputs": [],
   "source": [
    "front_flow_df_dow[\"hour\"] = front_flow_df_dow[\"collectedAt\"].dt.hour\n",
    "front_flow_df_dow[\"minute\"] = front_flow_df_dow[\"collectedAt\"].dt.minute\n",
    "front_flow_df_dow[\"day_of_week\"] = front_flow_df_dow[\"collectedAt\"].dt.dayofweek"
   ]
  },
  {
   "cell_type": "code",
   "execution_count": 12,
   "metadata": {},
   "outputs": [
    {
     "data": {
      "text/plain": "              collectedAt  currentSpeed  freeFlowSpeed  currentTravelTime  \\\n0     2022-08-10 00:00:00     14.000000      18.000000          74.666667   \n1     2022-08-10 00:15:00     14.333333      17.666667          72.333333   \n2     2022-08-10 00:30:00     18.000000      18.000000          56.000000   \n3     2022-08-10 00:45:00     11.000000      17.333333          94.666667   \n4     2022-08-10 01:00:00     18.000000      18.000000          56.000000   \n...                   ...           ...            ...                ...   \n13912 2023-01-01 22:45:00     13.666667      17.666667          77.000000   \n13913 2023-01-01 23:00:00     14.666667      17.333333          70.666667   \n13914 2023-01-01 23:15:00     14.666667      18.000000          70.000000   \n13915 2023-01-01 23:30:00     16.666667      17.666667          61.333333   \n13916 2023-01-01 23:45:00     18.000000      18.000000          56.000000   \n\n       freeFlowTravelTime  confidence  roadClosure  \\\n0                    56.0         1.0          0.0   \n1                    57.0         1.0          0.0   \n2                    56.0         1.0          0.0   \n3                    58.0         1.0          0.0   \n4                    56.0         1.0          0.0   \n...                   ...         ...          ...   \n13912                57.0         1.0          0.0   \n13913                58.0         1.0          0.0   \n13914                56.0         1.0          0.0   \n13915                57.0         1.0          0.0   \n13916                56.0         1.0          0.0   \n\n                                             coordinates  hour  minute  \\\n0      [{'latitude': 43.646886954993356, 'longitude':...     0       0   \n1      [{'latitude': 43.646886954993356, 'longitude':...     0      15   \n2      [{'latitude': 43.646886954993356, 'longitude':...     0      30   \n3      [{'latitude': 43.646886954993356, 'longitude':...     0      45   \n4      [{'latitude': 43.646886954993356, 'longitude':...     1       0   \n...                                                  ...   ...     ...   \n13912  [{'latitude': 43.646886954993356, 'longitude':...    22      45   \n13913  [{'latitude': 43.646886954993356, 'longitude':...    23       0   \n13914  [{'latitude': 43.646886954993356, 'longitude':...    23      15   \n13915  [{'latitude': 43.646886954993356, 'longitude':...    23      30   \n13916  [{'latitude': 43.646886954993356, 'longitude':...    23      45   \n\n       day_of_week  \n0                2  \n1                2  \n2                2  \n3                2  \n4                2  \n...            ...  \n13912            6  \n13913            6  \n13914            6  \n13915            6  \n13916            6  \n\n[13917 rows x 11 columns]",
      "text/html": "<div>\n<style scoped>\n    .dataframe tbody tr th:only-of-type {\n        vertical-align: middle;\n    }\n\n    .dataframe tbody tr th {\n        vertical-align: top;\n    }\n\n    .dataframe thead th {\n        text-align: right;\n    }\n</style>\n<table border=\"1\" class=\"dataframe\">\n  <thead>\n    <tr style=\"text-align: right;\">\n      <th></th>\n      <th>collectedAt</th>\n      <th>currentSpeed</th>\n      <th>freeFlowSpeed</th>\n      <th>currentTravelTime</th>\n      <th>freeFlowTravelTime</th>\n      <th>confidence</th>\n      <th>roadClosure</th>\n      <th>coordinates</th>\n      <th>hour</th>\n      <th>minute</th>\n      <th>day_of_week</th>\n    </tr>\n  </thead>\n  <tbody>\n    <tr>\n      <th>0</th>\n      <td>2022-08-10 00:00:00</td>\n      <td>14.000000</td>\n      <td>18.000000</td>\n      <td>74.666667</td>\n      <td>56.0</td>\n      <td>1.0</td>\n      <td>0.0</td>\n      <td>[{'latitude': 43.646886954993356, 'longitude':...</td>\n      <td>0</td>\n      <td>0</td>\n      <td>2</td>\n    </tr>\n    <tr>\n      <th>1</th>\n      <td>2022-08-10 00:15:00</td>\n      <td>14.333333</td>\n      <td>17.666667</td>\n      <td>72.333333</td>\n      <td>57.0</td>\n      <td>1.0</td>\n      <td>0.0</td>\n      <td>[{'latitude': 43.646886954993356, 'longitude':...</td>\n      <td>0</td>\n      <td>15</td>\n      <td>2</td>\n    </tr>\n    <tr>\n      <th>2</th>\n      <td>2022-08-10 00:30:00</td>\n      <td>18.000000</td>\n      <td>18.000000</td>\n      <td>56.000000</td>\n      <td>56.0</td>\n      <td>1.0</td>\n      <td>0.0</td>\n      <td>[{'latitude': 43.646886954993356, 'longitude':...</td>\n      <td>0</td>\n      <td>30</td>\n      <td>2</td>\n    </tr>\n    <tr>\n      <th>3</th>\n      <td>2022-08-10 00:45:00</td>\n      <td>11.000000</td>\n      <td>17.333333</td>\n      <td>94.666667</td>\n      <td>58.0</td>\n      <td>1.0</td>\n      <td>0.0</td>\n      <td>[{'latitude': 43.646886954993356, 'longitude':...</td>\n      <td>0</td>\n      <td>45</td>\n      <td>2</td>\n    </tr>\n    <tr>\n      <th>4</th>\n      <td>2022-08-10 01:00:00</td>\n      <td>18.000000</td>\n      <td>18.000000</td>\n      <td>56.000000</td>\n      <td>56.0</td>\n      <td>1.0</td>\n      <td>0.0</td>\n      <td>[{'latitude': 43.646886954993356, 'longitude':...</td>\n      <td>1</td>\n      <td>0</td>\n      <td>2</td>\n    </tr>\n    <tr>\n      <th>...</th>\n      <td>...</td>\n      <td>...</td>\n      <td>...</td>\n      <td>...</td>\n      <td>...</td>\n      <td>...</td>\n      <td>...</td>\n      <td>...</td>\n      <td>...</td>\n      <td>...</td>\n      <td>...</td>\n    </tr>\n    <tr>\n      <th>13912</th>\n      <td>2023-01-01 22:45:00</td>\n      <td>13.666667</td>\n      <td>17.666667</td>\n      <td>77.000000</td>\n      <td>57.0</td>\n      <td>1.0</td>\n      <td>0.0</td>\n      <td>[{'latitude': 43.646886954993356, 'longitude':...</td>\n      <td>22</td>\n      <td>45</td>\n      <td>6</td>\n    </tr>\n    <tr>\n      <th>13913</th>\n      <td>2023-01-01 23:00:00</td>\n      <td>14.666667</td>\n      <td>17.333333</td>\n      <td>70.666667</td>\n      <td>58.0</td>\n      <td>1.0</td>\n      <td>0.0</td>\n      <td>[{'latitude': 43.646886954993356, 'longitude':...</td>\n      <td>23</td>\n      <td>0</td>\n      <td>6</td>\n    </tr>\n    <tr>\n      <th>13914</th>\n      <td>2023-01-01 23:15:00</td>\n      <td>14.666667</td>\n      <td>18.000000</td>\n      <td>70.000000</td>\n      <td>56.0</td>\n      <td>1.0</td>\n      <td>0.0</td>\n      <td>[{'latitude': 43.646886954993356, 'longitude':...</td>\n      <td>23</td>\n      <td>15</td>\n      <td>6</td>\n    </tr>\n    <tr>\n      <th>13915</th>\n      <td>2023-01-01 23:30:00</td>\n      <td>16.666667</td>\n      <td>17.666667</td>\n      <td>61.333333</td>\n      <td>57.0</td>\n      <td>1.0</td>\n      <td>0.0</td>\n      <td>[{'latitude': 43.646886954993356, 'longitude':...</td>\n      <td>23</td>\n      <td>30</td>\n      <td>6</td>\n    </tr>\n    <tr>\n      <th>13916</th>\n      <td>2023-01-01 23:45:00</td>\n      <td>18.000000</td>\n      <td>18.000000</td>\n      <td>56.000000</td>\n      <td>56.0</td>\n      <td>1.0</td>\n      <td>0.0</td>\n      <td>[{'latitude': 43.646886954993356, 'longitude':...</td>\n      <td>23</td>\n      <td>45</td>\n      <td>6</td>\n    </tr>\n  </tbody>\n</table>\n<p>13917 rows × 11 columns</p>\n</div>"
     },
     "execution_count": 12,
     "metadata": {},
     "output_type": "execute_result"
    }
   ],
   "source": [
    "front_flow_df_dow"
   ]
  },
  {
   "cell_type": "code",
   "execution_count": 13,
   "metadata": {},
   "outputs": [],
   "source": [
    "front_flow_count_dow = pd.merge(front_flow_df_dow, front_count_grouped_dow, on=[\n",
    "    \"hour\", \"minute\", \"day_of_week\"])\n",
    "front_flow_count_weather_dow = pd.merge(\n",
    "    front_flow_count_dow, weather_df, left_on=\"collectedAt\", right_on=\"collectedAt\", how=\"inner\")"
   ]
  },
  {
   "cell_type": "code",
   "execution_count": 14,
   "metadata": {},
   "outputs": [],
   "source": [
    "front_flow_count_weather_dow.to_csv(\n",
    "    \"../../csv/front_count_flow_weather_dow.csv.zip\", index=False, compression=\"zip\")"
   ]
  }
 ],
 "metadata": {
  "kernelspec": {
   "display_name": "base",
   "language": "python",
   "name": "python3"
  },
  "language_info": {
   "codemirror_mode": {
    "name": "ipython",
    "version": 3
   },
   "file_extension": ".py",
   "mimetype": "text/x-python",
   "name": "python",
   "nbconvert_exporter": "python",
   "pygments_lexer": "ipython3",
   "version": "3.9.12"
  },
  "orig_nbformat": 4,
  "vscode": {
   "interpreter": {
    "hash": "441dc1402921fbb61858fb02f3d232c916b48a98c37dfe20550e811f9428eba6"
   }
  }
 },
 "nbformat": 4,
 "nbformat_minor": 2
}

{
 "cells": [
  {
   "cell_type": "code",
   "execution_count": 21,
   "metadata": {},
   "outputs": [],
   "source": [
    "import pandas as pd\n",
    "from geopy.distance import distance\n",
    "from tqdm.auto import tqdm"
   ]
  },
  {
   "cell_type": "code",
   "execution_count": 22,
   "metadata": {},
   "outputs": [],
   "source": [
    "FRONT_YONGE_FLOW_COLLECTION_POINT = (43.646882, -79.376952)\n",
    "front_count_df = pd.read_csv(\"../../raw_data/traffic_volume/traffic_volume_raw-data-2020-2029.zip\")"
   ]
  },
  {
   "cell_type": "code",
   "execution_count": 23,
   "metadata": {},
   "outputs": [],
   "source": [
    "front_count_df[\"time_start\"] = pd.to_datetime(front_count_df[\"time_start\"], utc=True)\n",
    "front_count_df[\"time_start\"] = front_count_df[\"time_start\"].apply(lambda x: x.to_datetime64())\n",
    "front_count_df[\"time_end\"] = pd.to_datetime(front_count_df[\"time_end\"], utc=True)\n",
    "front_count_df[\"time_end\"] = front_count_df[\"time_end\"].apply(lambda x: x.to_datetime64())"
   ]
  },
  {
   "cell_type": "code",
   "execution_count": 24,
   "metadata": {},
   "outputs": [],
   "source": [
    "front_count_df = front_count_df.drop(\n",
    "    columns=[\"count_id\", \"count_date\", \"location_id\", \"centreline_type\", \"centreline_id\", \"px\"])\n",
    "front_count_df = front_count_df.drop(columns=list(\n",
    "    filter(lambda x: \"peds\" in x, front_count_df.columns)))\n",
    "front_count_df = front_count_df.drop(columns=list(\n",
    "    filter(lambda x: \"bike\" in x, front_count_df.columns)))\n",
    "front_count_df = front_count_df.drop(columns=list(\n",
    "    filter(lambda x: \"other\" in x, front_count_df.columns)))"
   ]
  },
  {
   "cell_type": "code",
   "execution_count": 25,
   "metadata": {},
   "outputs": [],
   "source": [
    "front_count_car_columns = list(filter(lambda x: \"car\" in x, front_count_df.columns))\n",
    "front_count_truck_columns = list(filter(lambda x: \"truck\" in x, front_count_df.columns))\n",
    "front_count_bus_columns = list(filter(lambda x: \"bus\" in x, front_count_df.columns))"
   ]
  },
  {
   "cell_type": "code",
   "execution_count": 26,
   "metadata": {},
   "outputs": [],
   "source": [
    "front_count_df[\"car_count\"] = front_count_df[front_count_car_columns].sum(axis=1)\n",
    "front_count_df[\"truck_count\"] = front_count_df[front_count_truck_columns].sum(axis=1)\n",
    "front_count_df[\"bus_count\"] = front_count_df[front_count_bus_columns].sum(axis=1)"
   ]
  },
  {
   "cell_type": "code",
   "execution_count": 27,
   "metadata": {},
   "outputs": [],
   "source": [
    "front_count_df = front_count_df.drop(columns=front_count_car_columns)\n",
    "front_count_df = front_count_df.drop(columns=front_count_truck_columns)\n",
    "front_count_df = front_count_df.drop(columns=front_count_bus_columns)"
   ]
  },
  {
   "cell_type": "code",
   "execution_count": 28,
   "metadata": {},
   "outputs": [],
   "source": [
    "count_cols = list(filter(lambda x: \"count\" in x, front_count_df.columns))\n",
    "front_count_df[\"total_count\"] = front_count_df[count_cols].sum(axis=1)\n",
    "front_count_df = front_count_df.drop(columns=[\"car_count\", \"truck_count\", \"bus_count\"])"
   ]
  },
  {
   "cell_type": "code",
   "execution_count": 29,
   "metadata": {},
   "outputs": [
    {
     "data": {
      "text/plain": "  0%|          | 0/123075 [00:00<?, ?it/s]",
      "application/vnd.jupyter.widget-view+json": {
       "version_major": 2,
       "version_minor": 0,
       "model_id": "60c8b32cc94340dca4719f00641eee0e"
      }
     },
     "metadata": {},
     "output_type": "display_data"
    }
   ],
   "source": [
    "tqdm.pandas()\n",
    "front_count_df[\"distance_from_point\"] = front_count_df.progress_apply(\n",
    "    lambda x: distance((x[\"lat\"], x[\"lng\"]), FRONT_YONGE_FLOW_COLLECTION_POINT).km, axis=1)"
   ]
  },
  {
   "cell_type": "code",
   "execution_count": 30,
   "metadata": {},
   "outputs": [],
   "source": [
    "front_count_df = front_count_df.sort_values(by=\"distance_from_point\")"
   ]
  },
  {
   "cell_type": "code",
   "execution_count": 31,
   "outputs": [
    {
     "data": {
      "text/plain": "         _id                                        location        lng  \\\n26376  26377                    FRONT ST AT YONGE ST (PX 29) -79.376974   \n79746  79747                    FRONT ST AT YONGE ST (PX 29) -79.376974   \n79747  79748                    FRONT ST AT YONGE ST (PX 29) -79.376974   \n79748  79749                    FRONT ST AT YONGE ST (PX 29) -79.376974   \n79749  79750                    FRONT ST AT YONGE ST (PX 29) -79.376974   \n...      ...                                             ...        ...   \n70017  70018  REESOR RD AT STEELES AVE E (EAST INTERSECTION) -79.199333   \n70018  70019  REESOR RD AT STEELES AVE E (EAST INTERSECTION) -79.199333   \n69987  69988  REESOR RD AT STEELES AVE E (EAST INTERSECTION) -79.199333   \n70000  70001  REESOR RD AT STEELES AVE E (EAST INTERSECTION) -79.199333   \n69988  69989  REESOR RD AT STEELES AVE E (EAST INTERSECTION) -79.199333   \n\n             lat          time_start            time_end  total_count  \\\n26376  43.646884 2020-01-25 08:45:00 2020-01-25 09:00:00          198   \n79746  43.646884 2022-02-26 17:45:00 2022-02-26 18:00:00          301   \n79747  43.646884 2022-02-23 07:30:00 2022-02-23 07:45:00          294   \n79748  43.646884 2022-02-23 07:45:00 2022-02-23 08:00:00          328   \n79749  43.646884 2022-02-23 08:00:00 2022-02-23 08:15:00          322   \n...          ...                 ...                 ...          ...   \n70017  43.848510 2022-01-27 17:30:00 2022-01-27 17:45:00          342   \n70018  43.848510 2022-01-27 17:45:00 2022-01-27 18:00:00          330   \n69987  43.848510 2022-01-27 07:30:00 2022-01-27 07:45:00          301   \n70000  43.848510 2022-01-27 11:15:00 2022-01-27 11:30:00          185   \n69988  43.848510 2022-01-27 07:45:00 2022-01-27 08:00:00          318   \n\n       distance_from_point  \n26376             0.001789  \n79746             0.001789  \n79747             0.001789  \n79748             0.001789  \n79749             0.001789  \n...                    ...  \n70017            26.580770  \n70018            26.580770  \n69987            26.580770  \n70000            26.580770  \n69988            26.580770  \n\n[123075 rows x 8 columns]",
      "text/html": "<div>\n<style scoped>\n    .dataframe tbody tr th:only-of-type {\n        vertical-align: middle;\n    }\n\n    .dataframe tbody tr th {\n        vertical-align: top;\n    }\n\n    .dataframe thead th {\n        text-align: right;\n    }\n</style>\n<table border=\"1\" class=\"dataframe\">\n  <thead>\n    <tr style=\"text-align: right;\">\n      <th></th>\n      <th>_id</th>\n      <th>location</th>\n      <th>lng</th>\n      <th>lat</th>\n      <th>time_start</th>\n      <th>time_end</th>\n      <th>total_count</th>\n      <th>distance_from_point</th>\n    </tr>\n  </thead>\n  <tbody>\n    <tr>\n      <th>26376</th>\n      <td>26377</td>\n      <td>FRONT ST AT YONGE ST (PX 29)</td>\n      <td>-79.376974</td>\n      <td>43.646884</td>\n      <td>2020-01-25 08:45:00</td>\n      <td>2020-01-25 09:00:00</td>\n      <td>198</td>\n      <td>0.001789</td>\n    </tr>\n    <tr>\n      <th>79746</th>\n      <td>79747</td>\n      <td>FRONT ST AT YONGE ST (PX 29)</td>\n      <td>-79.376974</td>\n      <td>43.646884</td>\n      <td>2022-02-26 17:45:00</td>\n      <td>2022-02-26 18:00:00</td>\n      <td>301</td>\n      <td>0.001789</td>\n    </tr>\n    <tr>\n      <th>79747</th>\n      <td>79748</td>\n      <td>FRONT ST AT YONGE ST (PX 29)</td>\n      <td>-79.376974</td>\n      <td>43.646884</td>\n      <td>2022-02-23 07:30:00</td>\n      <td>2022-02-23 07:45:00</td>\n      <td>294</td>\n      <td>0.001789</td>\n    </tr>\n    <tr>\n      <th>79748</th>\n      <td>79749</td>\n      <td>FRONT ST AT YONGE ST (PX 29)</td>\n      <td>-79.376974</td>\n      <td>43.646884</td>\n      <td>2022-02-23 07:45:00</td>\n      <td>2022-02-23 08:00:00</td>\n      <td>328</td>\n      <td>0.001789</td>\n    </tr>\n    <tr>\n      <th>79749</th>\n      <td>79750</td>\n      <td>FRONT ST AT YONGE ST (PX 29)</td>\n      <td>-79.376974</td>\n      <td>43.646884</td>\n      <td>2022-02-23 08:00:00</td>\n      <td>2022-02-23 08:15:00</td>\n      <td>322</td>\n      <td>0.001789</td>\n    </tr>\n    <tr>\n      <th>...</th>\n      <td>...</td>\n      <td>...</td>\n      <td>...</td>\n      <td>...</td>\n      <td>...</td>\n      <td>...</td>\n      <td>...</td>\n      <td>...</td>\n    </tr>\n    <tr>\n      <th>70017</th>\n      <td>70018</td>\n      <td>REESOR RD AT STEELES AVE E (EAST INTERSECTION)</td>\n      <td>-79.199333</td>\n      <td>43.848510</td>\n      <td>2022-01-27 17:30:00</td>\n      <td>2022-01-27 17:45:00</td>\n      <td>342</td>\n      <td>26.580770</td>\n    </tr>\n    <tr>\n      <th>70018</th>\n      <td>70019</td>\n      <td>REESOR RD AT STEELES AVE E (EAST INTERSECTION)</td>\n      <td>-79.199333</td>\n      <td>43.848510</td>\n      <td>2022-01-27 17:45:00</td>\n      <td>2022-01-27 18:00:00</td>\n      <td>330</td>\n      <td>26.580770</td>\n    </tr>\n    <tr>\n      <th>69987</th>\n      <td>69988</td>\n      <td>REESOR RD AT STEELES AVE E (EAST INTERSECTION)</td>\n      <td>-79.199333</td>\n      <td>43.848510</td>\n      <td>2022-01-27 07:30:00</td>\n      <td>2022-01-27 07:45:00</td>\n      <td>301</td>\n      <td>26.580770</td>\n    </tr>\n    <tr>\n      <th>70000</th>\n      <td>70001</td>\n      <td>REESOR RD AT STEELES AVE E (EAST INTERSECTION)</td>\n      <td>-79.199333</td>\n      <td>43.848510</td>\n      <td>2022-01-27 11:15:00</td>\n      <td>2022-01-27 11:30:00</td>\n      <td>185</td>\n      <td>26.580770</td>\n    </tr>\n    <tr>\n      <th>69988</th>\n      <td>69989</td>\n      <td>REESOR RD AT STEELES AVE E (EAST INTERSECTION)</td>\n      <td>-79.199333</td>\n      <td>43.848510</td>\n      <td>2022-01-27 07:45:00</td>\n      <td>2022-01-27 08:00:00</td>\n      <td>318</td>\n      <td>26.580770</td>\n    </tr>\n  </tbody>\n</table>\n<p>123075 rows × 8 columns</p>\n</div>"
     },
     "execution_count": 31,
     "metadata": {},
     "output_type": "execute_result"
    }
   ],
   "source": [
    "front_count_df"
   ],
   "metadata": {
    "collapsed": false
   }
  },
  {
   "cell_type": "code",
   "execution_count": 32,
   "metadata": {},
   "outputs": [],
   "source": [
    "front_count_df_closest = front_count_df[front_count_df[\"distance_from_point\"] <= 2]"
   ]
  },
  {
   "cell_type": "code",
   "execution_count": 33,
   "metadata": {},
   "outputs": [],
   "source": [
    "front_count_df_closest_front = front_count_df_closest[front_count_df_closest[\"location\"].str.contains(\"FRONT\")]"
   ]
  },
  {
   "cell_type": "code",
   "execution_count": 34,
   "metadata": {},
   "outputs": [],
   "source": [
    "front_count_df_closest_front = front_count_df_closest_front.drop(columns=[\"_id\", \"time_start\"])"
   ]
  },
  {
   "cell_type": "code",
   "execution_count": 35,
   "metadata": {},
   "outputs": [],
   "source": [
    "front_count_df_closest_front_grouped = front_count_df_closest_front.groupby(\"time_end\").mean().reset_index()"
   ]
  },
  {
   "cell_type": "code",
   "execution_count": 36,
   "metadata": {},
   "outputs": [],
   "source": [
    "front_count_df_closest_front_grouped[\"hour\"] = front_count_df_closest_front_grouped[\"time_end\"].dt.hour\n",
    "front_count_df_closest_front_grouped[\"minute\"] = front_count_df_closest_front_grouped[\"time_end\"].dt.minute\n",
    "front_count_df_closest_front_grouped[\"day_of_week\"] = front_count_df_closest_front_grouped[\"time_end\"].dt.dayofweek"
   ]
  },
  {
   "cell_type": "code",
   "execution_count": 37,
   "metadata": {},
   "outputs": [],
   "source": [
    "front_count_df_closest_front_grouped = front_count_df_closest_front_grouped.drop(\"time_end\", axis=1)"
   ]
  },
  {
   "cell_type": "code",
   "execution_count": 38,
   "metadata": {},
   "outputs": [
    {
     "data": {
      "text/plain": "           lng        lat  total_count  distance_from_point  hour  minute  \\\n0   -79.368404  43.649997   284.076923             0.773430     7      45   \n1   -79.368404  43.649997   340.769231             0.773430     8       0   \n2   -79.368404  43.649997   358.307692             0.773430     8      15   \n3   -79.368404  43.649997   316.384615             0.773430     8      30   \n4   -79.368404  43.649997   327.769231             0.773430     8      45   \n..         ...        ...          ...                  ...   ...     ...   \n411 -79.371465  43.649450   559.000000             0.526677    17       0   \n412 -79.371465  43.649450   594.000000             0.526677    17      15   \n413 -79.371465  43.649450   549.000000             0.526677    17      30   \n414 -79.371465  43.649450   552.000000             0.526677    17      45   \n415 -79.371465  43.649450   560.000000             0.526677    18       0   \n\n     day_of_week  \n0              3  \n1              3  \n2              3  \n3              3  \n4              3  \n..           ...  \n411            5  \n412            5  \n413            5  \n414            5  \n415            5  \n\n[416 rows x 7 columns]",
      "text/html": "<div>\n<style scoped>\n    .dataframe tbody tr th:only-of-type {\n        vertical-align: middle;\n    }\n\n    .dataframe tbody tr th {\n        vertical-align: top;\n    }\n\n    .dataframe thead th {\n        text-align: right;\n    }\n</style>\n<table border=\"1\" class=\"dataframe\">\n  <thead>\n    <tr style=\"text-align: right;\">\n      <th></th>\n      <th>lng</th>\n      <th>lat</th>\n      <th>total_count</th>\n      <th>distance_from_point</th>\n      <th>hour</th>\n      <th>minute</th>\n      <th>day_of_week</th>\n    </tr>\n  </thead>\n  <tbody>\n    <tr>\n      <th>0</th>\n      <td>-79.368404</td>\n      <td>43.649997</td>\n      <td>284.076923</td>\n      <td>0.773430</td>\n      <td>7</td>\n      <td>45</td>\n      <td>3</td>\n    </tr>\n    <tr>\n      <th>1</th>\n      <td>-79.368404</td>\n      <td>43.649997</td>\n      <td>340.769231</td>\n      <td>0.773430</td>\n      <td>8</td>\n      <td>0</td>\n      <td>3</td>\n    </tr>\n    <tr>\n      <th>2</th>\n      <td>-79.368404</td>\n      <td>43.649997</td>\n      <td>358.307692</td>\n      <td>0.773430</td>\n      <td>8</td>\n      <td>15</td>\n      <td>3</td>\n    </tr>\n    <tr>\n      <th>3</th>\n      <td>-79.368404</td>\n      <td>43.649997</td>\n      <td>316.384615</td>\n      <td>0.773430</td>\n      <td>8</td>\n      <td>30</td>\n      <td>3</td>\n    </tr>\n    <tr>\n      <th>4</th>\n      <td>-79.368404</td>\n      <td>43.649997</td>\n      <td>327.769231</td>\n      <td>0.773430</td>\n      <td>8</td>\n      <td>45</td>\n      <td>3</td>\n    </tr>\n    <tr>\n      <th>...</th>\n      <td>...</td>\n      <td>...</td>\n      <td>...</td>\n      <td>...</td>\n      <td>...</td>\n      <td>...</td>\n      <td>...</td>\n    </tr>\n    <tr>\n      <th>411</th>\n      <td>-79.371465</td>\n      <td>43.649450</td>\n      <td>559.000000</td>\n      <td>0.526677</td>\n      <td>17</td>\n      <td>0</td>\n      <td>5</td>\n    </tr>\n    <tr>\n      <th>412</th>\n      <td>-79.371465</td>\n      <td>43.649450</td>\n      <td>594.000000</td>\n      <td>0.526677</td>\n      <td>17</td>\n      <td>15</td>\n      <td>5</td>\n    </tr>\n    <tr>\n      <th>413</th>\n      <td>-79.371465</td>\n      <td>43.649450</td>\n      <td>549.000000</td>\n      <td>0.526677</td>\n      <td>17</td>\n      <td>30</td>\n      <td>5</td>\n    </tr>\n    <tr>\n      <th>414</th>\n      <td>-79.371465</td>\n      <td>43.649450</td>\n      <td>552.000000</td>\n      <td>0.526677</td>\n      <td>17</td>\n      <td>45</td>\n      <td>5</td>\n    </tr>\n    <tr>\n      <th>415</th>\n      <td>-79.371465</td>\n      <td>43.649450</td>\n      <td>560.000000</td>\n      <td>0.526677</td>\n      <td>18</td>\n      <td>0</td>\n      <td>5</td>\n    </tr>\n  </tbody>\n</table>\n<p>416 rows × 7 columns</p>\n</div>"
     },
     "execution_count": 38,
     "metadata": {},
     "output_type": "execute_result"
    }
   ],
   "source": [
    "front_count_df_closest_front_grouped"
   ]
  },
  {
   "cell_type": "code",
   "execution_count": 39,
   "metadata": {},
   "outputs": [],
   "source": [
    "front_count_df_closest_front_grouped.to_csv(\"../../csv/front_count_grouped_dow.csv.zip\", index=False, compression=\"zip\")"
   ]
  },
  {
   "cell_type": "code",
   "execution_count": 40,
   "metadata": {},
   "outputs": [],
   "source": [
    "front_count_df_closest_front.to_csv(\"../../csv/front_count_closest.csv.zip\", index=False, compression=\"zip\")"
   ]
  }
 ],
 "metadata": {
  "kernelspec": {
   "display_name": "base",
   "language": "python",
   "name": "python3"
  },
  "language_info": {
   "codemirror_mode": {
    "name": "ipython",
    "version": 3
   },
   "file_extension": ".py",
   "mimetype": "text/x-python",
   "name": "python",
   "nbconvert_exporter": "python",
   "pygments_lexer": "ipython3",
   "version": "3.9.12"
  },
  "orig_nbformat": 4,
  "vscode": {
   "interpreter": {
    "hash": "441dc1402921fbb61858fb02f3d232c916b48a98c37dfe20550e811f9428eba6"
   }
  }
 },
 "nbformat": 4,
 "nbformat_minor": 2
}

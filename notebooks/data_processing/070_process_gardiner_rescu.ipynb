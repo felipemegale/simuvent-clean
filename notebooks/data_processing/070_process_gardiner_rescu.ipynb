{
 "cells": [
  {
   "cell_type": "code",
   "execution_count": 1,
   "metadata": {},
   "outputs": [],
   "source": [
    "import pandas as pd\n",
    "from geopy import distance\n",
    "from tqdm.auto import tqdm"
   ]
  },
  {
   "cell_type": "code",
   "execution_count": 2,
   "metadata": {},
   "outputs": [
    {
     "data": {
      "text/plain": "  0%|          | 0/2 [00:00<?, ?it/s]",
      "application/vnd.jupyter.widget-view+json": {
       "version_major": 2,
       "version_minor": 0,
       "model_id": "07c46ab03075425f93855c4055d5cf67"
      }
     },
     "metadata": {},
     "output_type": "display_data"
    }
   ],
   "source": [
    "tqdm.pandas()\n",
    "gardiner_count = pd.read_csv(\"../../raw_data/gardiner_count_data_v2.zip\")\n",
    "gardiner_count_sorted_by_date = gardiner_count.sort_values(by=[\"datetime_bin\"])\n",
    "gardiner_count_sorted_by_date[[\"latitude\", \"longitude\"]] = gardiner_count[[\"latitude\", \"longitude\"]].progress_apply(\n",
    "    pd.to_numeric)"
   ]
  },
  {
   "cell_type": "code",
   "execution_count": 3,
   "metadata": {},
   "outputs": [
    {
     "name": "stdout",
     "output_type": "stream",
     "text": [
      "7058\n"
     ]
    }
   ],
   "source": [
    "available_dates = gardiner_count_sorted_by_date[\"datetime_bin\"].drop_duplicates().to_frame()\n",
    "print(len(available_dates))\n",
    "# 7058 unique dates and times"
   ]
  },
  {
   "cell_type": "code",
   "execution_count": 4,
   "metadata": {},
   "outputs": [],
   "source": [
    "gardiner_count_grouped = gardiner_count_sorted_by_date.groupby([\"detector_loc\", \"datetime_bin\"]).size()\n",
    "gardiner_count_grouped.to_csv(\"../../csv/gardiner_count_grouped_v2.csv.zip\", index=False, compression=\"zip\")\n",
    "gardiner_count_grouped = pd.read_csv(\"../../csv/gardiner_count_grouped_v2.csv.zip\")"
   ]
  },
  {
   "cell_type": "code",
   "execution_count": 5,
   "metadata": {},
   "outputs": [
    {
     "data": {
      "text/plain": "  0%|          | 0/145099 [00:00<?, ?it/s]",
      "application/vnd.jupyter.widget-view+json": {
       "version_major": 2,
       "version_minor": 0,
       "model_id": "a9e3be3a166c42648c63efa06fd8bcc9"
      }
     },
     "metadata": {},
     "output_type": "display_data"
    }
   ],
   "source": [
    "TOMTOM_GARDINER_POINT = (43.642355, -79.379665)\n",
    "tqdm.pandas()\n",
    "gardiner_count_sorted_by_date[\"distance_to_union_km\"] = gardiner_count_sorted_by_date \\\n",
    "    .progress_apply(lambda row: distance.distance((row[\"latitude\"], row[\"longitude\"]),\n",
    "                                                  TOMTOM_GARDINER_POINT).km, axis=1)\n",
    "gardiner_count_sorted_by_date.to_csv(\n",
    "    \"../../csv/gardiner_count_with_distance_v2.csv.zip\", index=False, compression=\"zip\")"
   ]
  },
  {
   "cell_type": "code",
   "execution_count": 6,
   "metadata": {},
   "outputs": [],
   "source": [
    "# get detector locations up to 5km away from union\n",
    "entries_of_interest = gardiner_count_sorted_by_date[gardiner_count_sorted_by_date[\"distance_to_union_km\"] <= 5]\n",
    "entries_of_interest = entries_of_interest.sort_values(by=[\"datetime_bin\", \"distance_to_union_km\"])\n",
    "entries_of_interest.to_csv(\"../../csv/gardiner_count_entries_of_interest_v2.csv.zip\", index=False, compression=\"zip\")"
   ]
  },
  {
   "cell_type": "code",
   "execution_count": 7,
   "metadata": {},
   "outputs": [],
   "source": [
    "# spadina has data from August 11 to December 31\n",
    "spadina_detectors = entries_of_interest[entries_of_interest[\"detector_loc\"].str.contains(\"SPADINA\")]\n",
    "spadina_detectors.to_csv(\"../../csv/gardiner_spadina_count_v2.csv.zip\", index=False, compression=\"zip\")"
   ]
  }
 ],
 "metadata": {
  "kernelspec": {
   "display_name": "Python 3.9.12 ('base')",
   "language": "python",
   "name": "python3"
  },
  "language_info": {
   "codemirror_mode": {
    "name": "ipython",
    "version": 3
   },
   "file_extension": ".py",
   "mimetype": "text/x-python",
   "name": "python",
   "nbconvert_exporter": "python",
   "pygments_lexer": "ipython3",
   "version": "3.9.12 (main, Apr  5 2022, 06:56:58) \n[GCC 7.5.0]"
  },
  "orig_nbformat": 4,
  "vscode": {
   "interpreter": {
    "hash": "441dc1402921fbb61858fb02f3d232c916b48a98c37dfe20550e811f9428eba6"
   }
  }
 },
 "nbformat": 4,
 "nbformat_minor": 2
}

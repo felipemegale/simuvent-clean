{
 "cells": [
  {
   "cell_type": "code",
   "execution_count": 7,
   "metadata": {},
   "outputs": [],
   "source": [
    "import pandas as pd"
   ]
  },
  {
   "cell_type": "code",
   "execution_count": 8,
   "metadata": {},
   "outputs": [],
   "source": [
    "gardiner_spadina_count_df = pd.read_csv(\"../../csv/gardiner_spadina_count_v2.csv.zip\")\n",
    "gardiner_spadina_count_df[\"datetime_bin\"] = pd.to_datetime(gardiner_spadina_count_df[\"datetime_bin\"])\n",
    "gardiner_spadina_count_df[\"datetime_bin\"] = gardiner_spadina_count_df[\"datetime_bin\"].apply(lambda x: x.to_datetime64())"
   ]
  },
  {
   "cell_type": "code",
   "execution_count": 9,
   "metadata": {},
   "outputs": [],
   "source": [
    "gardiner_flow_df = pd.read_csv(\"../../csv/gardiner_flow_data_grouped_v2.csv.zip\")\n",
    "gardiner_flow_df[\"collectedAt\"] = pd.to_datetime(gardiner_flow_df[\"collectedAt\"])\n",
    "gardiner_flow_df[\"collectedAt\"] = gardiner_flow_df[\"collectedAt\"].apply(lambda x: x.to_datetime64())"
   ]
  },
  {
   "cell_type": "code",
   "execution_count": 10,
   "metadata": {},
   "outputs": [],
   "source": [
    "weather_df = pd.read_csv(\"../../csv/weather_data_processed_v2.csv.zip\")\n",
    "weather_df[\"collectedAt\"] = pd.to_datetime(weather_df[\"collectedAt\"])\n",
    "weather_df[\"collectedAt\"] = weather_df[\"collectedAt\"].apply(lambda x: x.to_datetime64())"
   ]
  },
  {
   "cell_type": "code",
   "execution_count": 11,
   "outputs": [
    {
     "data": {
      "text/plain": "              collectedAt  currentSpeed  freeFlowSpeed  currentTravelTime  \\\n0     2022-08-10 00:00:00     94.000000      94.000000         297.000000   \n1     2022-08-10 00:15:00     94.000000      94.000000         297.000000   \n2     2022-08-10 00:30:00     91.666667      94.000000         305.000000   \n3     2022-08-10 00:45:00     81.666667      94.000000         342.666667   \n4     2022-08-10 01:00:00     90.000000      93.666667         311.666667   \n...                   ...           ...            ...                ...   \n13912 2023-01-01 22:45:00     93.000000      93.000000         300.000000   \n13913 2023-01-01 23:00:00     93.000000      93.000000         300.000000   \n13914 2023-01-01 23:15:00     93.000000      93.000000         300.000000   \n13915 2023-01-01 23:30:00     93.000000      93.000000         300.000000   \n13916 2023-01-01 23:45:00     93.000000      93.000000         300.000000   \n\n       freeFlowTravelTime  confidence  roadClosure  \\\n0                   297.0         1.0          0.0   \n1                   297.0         1.0          0.0   \n2                   297.0         1.0          0.0   \n3                   297.0         1.0          0.0   \n4                   298.0         1.0          0.0   \n...                   ...         ...          ...   \n13912               300.0         1.0          0.0   \n13913               300.0         1.0          0.0   \n13914               300.0         1.0          0.0   \n13915               300.0         1.0          0.0   \n13916               300.0         1.0          0.0   \n\n                                             coordinates  \n0      [{'latitude': 43.681009250673604, 'longitude':...  \n1      [{'latitude': 43.681009250673604, 'longitude':...  \n2      [{'latitude': 43.681009250673604, 'longitude':...  \n3      [{'latitude': 43.681009250673604, 'longitude':...  \n4      [{'latitude': 43.681009250673604, 'longitude':...  \n...                                                  ...  \n13912  [{'latitude': 43.681009250673604, 'longitude':...  \n13913  [{'latitude': 43.681009250673604, 'longitude':...  \n13914  [{'latitude': 43.681009250673604, 'longitude':...  \n13915  [{'latitude': 43.681009250673604, 'longitude':...  \n13916  [{'latitude': 43.681009250673604, 'longitude':...  \n\n[13917 rows x 8 columns]",
      "text/html": "<div>\n<style scoped>\n    .dataframe tbody tr th:only-of-type {\n        vertical-align: middle;\n    }\n\n    .dataframe tbody tr th {\n        vertical-align: top;\n    }\n\n    .dataframe thead th {\n        text-align: right;\n    }\n</style>\n<table border=\"1\" class=\"dataframe\">\n  <thead>\n    <tr style=\"text-align: right;\">\n      <th></th>\n      <th>collectedAt</th>\n      <th>currentSpeed</th>\n      <th>freeFlowSpeed</th>\n      <th>currentTravelTime</th>\n      <th>freeFlowTravelTime</th>\n      <th>confidence</th>\n      <th>roadClosure</th>\n      <th>coordinates</th>\n    </tr>\n  </thead>\n  <tbody>\n    <tr>\n      <th>0</th>\n      <td>2022-08-10 00:00:00</td>\n      <td>94.000000</td>\n      <td>94.000000</td>\n      <td>297.000000</td>\n      <td>297.0</td>\n      <td>1.0</td>\n      <td>0.0</td>\n      <td>[{'latitude': 43.681009250673604, 'longitude':...</td>\n    </tr>\n    <tr>\n      <th>1</th>\n      <td>2022-08-10 00:15:00</td>\n      <td>94.000000</td>\n      <td>94.000000</td>\n      <td>297.000000</td>\n      <td>297.0</td>\n      <td>1.0</td>\n      <td>0.0</td>\n      <td>[{'latitude': 43.681009250673604, 'longitude':...</td>\n    </tr>\n    <tr>\n      <th>2</th>\n      <td>2022-08-10 00:30:00</td>\n      <td>91.666667</td>\n      <td>94.000000</td>\n      <td>305.000000</td>\n      <td>297.0</td>\n      <td>1.0</td>\n      <td>0.0</td>\n      <td>[{'latitude': 43.681009250673604, 'longitude':...</td>\n    </tr>\n    <tr>\n      <th>3</th>\n      <td>2022-08-10 00:45:00</td>\n      <td>81.666667</td>\n      <td>94.000000</td>\n      <td>342.666667</td>\n      <td>297.0</td>\n      <td>1.0</td>\n      <td>0.0</td>\n      <td>[{'latitude': 43.681009250673604, 'longitude':...</td>\n    </tr>\n    <tr>\n      <th>4</th>\n      <td>2022-08-10 01:00:00</td>\n      <td>90.000000</td>\n      <td>93.666667</td>\n      <td>311.666667</td>\n      <td>298.0</td>\n      <td>1.0</td>\n      <td>0.0</td>\n      <td>[{'latitude': 43.681009250673604, 'longitude':...</td>\n    </tr>\n    <tr>\n      <th>...</th>\n      <td>...</td>\n      <td>...</td>\n      <td>...</td>\n      <td>...</td>\n      <td>...</td>\n      <td>...</td>\n      <td>...</td>\n      <td>...</td>\n    </tr>\n    <tr>\n      <th>13912</th>\n      <td>2023-01-01 22:45:00</td>\n      <td>93.000000</td>\n      <td>93.000000</td>\n      <td>300.000000</td>\n      <td>300.0</td>\n      <td>1.0</td>\n      <td>0.0</td>\n      <td>[{'latitude': 43.681009250673604, 'longitude':...</td>\n    </tr>\n    <tr>\n      <th>13913</th>\n      <td>2023-01-01 23:00:00</td>\n      <td>93.000000</td>\n      <td>93.000000</td>\n      <td>300.000000</td>\n      <td>300.0</td>\n      <td>1.0</td>\n      <td>0.0</td>\n      <td>[{'latitude': 43.681009250673604, 'longitude':...</td>\n    </tr>\n    <tr>\n      <th>13914</th>\n      <td>2023-01-01 23:15:00</td>\n      <td>93.000000</td>\n      <td>93.000000</td>\n      <td>300.000000</td>\n      <td>300.0</td>\n      <td>1.0</td>\n      <td>0.0</td>\n      <td>[{'latitude': 43.681009250673604, 'longitude':...</td>\n    </tr>\n    <tr>\n      <th>13915</th>\n      <td>2023-01-01 23:30:00</td>\n      <td>93.000000</td>\n      <td>93.000000</td>\n      <td>300.000000</td>\n      <td>300.0</td>\n      <td>1.0</td>\n      <td>0.0</td>\n      <td>[{'latitude': 43.681009250673604, 'longitude':...</td>\n    </tr>\n    <tr>\n      <th>13916</th>\n      <td>2023-01-01 23:45:00</td>\n      <td>93.000000</td>\n      <td>93.000000</td>\n      <td>300.000000</td>\n      <td>300.0</td>\n      <td>1.0</td>\n      <td>0.0</td>\n      <td>[{'latitude': 43.681009250673604, 'longitude':...</td>\n    </tr>\n  </tbody>\n</table>\n<p>13917 rows × 8 columns</p>\n</div>"
     },
     "execution_count": 11,
     "metadata": {},
     "output_type": "execute_result"
    }
   ],
   "source": [
    "gardiner_flow_df"
   ],
   "metadata": {
    "collapsed": false
   }
  },
  {
   "cell_type": "code",
   "execution_count": 12,
   "metadata": {},
   "outputs": [],
   "source": [
    "gardiner_count_and_flow_df = pd.merge(gardiner_spadina_count_df, gardiner_flow_df, left_on=\"datetime_bin\",\n",
    "                                      right_on=\"collectedAt\", how=\"inner\")\n",
    "\n",
    "gardiner_count_flow_weather_df = pd.merge(gardiner_count_and_flow_df, weather_df, on=\"collectedAt\", how=\"inner\")"
   ]
  },
  {
   "cell_type": "code",
   "execution_count": 13,
   "metadata": {},
   "outputs": [],
   "source": [
    "gardiner_count_flow_weather_df.to_csv(\"../../csv/gardiner_count_flow_weather.csv.zip\", index=False, compression=\"zip\")"
   ]
  }
 ],
 "metadata": {
  "kernelspec": {
   "display_name": "base",
   "language": "python",
   "name": "python3"
  },
  "language_info": {
   "codemirror_mode": {
    "name": "ipython",
    "version": 3
   },
   "file_extension": ".py",
   "mimetype": "text/x-python",
   "name": "python",
   "nbconvert_exporter": "python",
   "pygments_lexer": "ipython3",
   "version": "3.9.12"
  },
  "orig_nbformat": 4,
  "vscode": {
   "interpreter": {
    "hash": "441dc1402921fbb61858fb02f3d232c916b48a98c37dfe20550e811f9428eba6"
   }
  }
 },
 "nbformat": 4,
 "nbformat_minor": 2
}

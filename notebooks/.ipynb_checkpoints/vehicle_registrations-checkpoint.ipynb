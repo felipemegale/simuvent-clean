{
 "cells": [
  {
   "cell_type": "code",
   "execution_count": 49,
   "id": "ee238c1d-763f-496a-b57e-06d50d9f10f2",
   "metadata": {},
   "outputs": [
    {
     "ename": "ModuleNotFoundError",
     "evalue": "No module named 'matplotlib'",
     "output_type": "error",
     "traceback": [
      "\u001b[0;31m---------------------------------------------------------------------------\u001b[0m",
      "\u001b[0;31mModuleNotFoundError\u001b[0m                       Traceback (most recent call last)",
      "Cell \u001b[0;32mIn [49], line 4\u001b[0m\n\u001b[1;32m      2\u001b[0m \u001b[38;5;28;01mimport\u001b[39;00m \u001b[38;5;21;01mpandas\u001b[39;00m \u001b[38;5;28;01mas\u001b[39;00m \u001b[38;5;21;01mpd\u001b[39;00m\n\u001b[1;32m      3\u001b[0m \u001b[38;5;28;01mfrom\u001b[39;00m \u001b[38;5;21;01msklearn\u001b[39;00m\u001b[38;5;21;01m.\u001b[39;00m\u001b[38;5;21;01mlinear_model\u001b[39;00m \u001b[38;5;28;01mimport\u001b[39;00m LinearRegression\n\u001b[0;32m----> 4\u001b[0m \u001b[38;5;28;01mfrom\u001b[39;00m \u001b[38;5;21;01mmatplotlib\u001b[39;00m \u001b[38;5;28;01mimport\u001b[39;00m pyplot \u001b[38;5;28;01mas\u001b[39;00m plt\n\u001b[1;32m      5\u001b[0m \u001b[38;5;28;01mimport\u001b[39;00m \u001b[38;5;21;01mseaborn\u001b[39;00m \u001b[38;5;28;01mas\u001b[39;00m \u001b[38;5;21;01msns\u001b[39;00m\n",
      "\u001b[0;31mModuleNotFoundError\u001b[0m: No module named 'matplotlib'"
     ]
    }
   ],
   "source": [
    "import numpy as np\n",
    "import pandas as pd\n",
    "from sklearn.linear_model import LinearRegression\n",
    "from matplotlib import pyplot as plt\n",
    "import seaborn as sns"
   ]
  },
  {
   "cell_type": "code",
   "execution_count": 22,
   "id": "87afacd6-ff75-4c55-8531-225574ce8f53",
   "metadata": {},
   "outputs": [],
   "source": [
    "can_data = pd.read_csv(\"../raw_data/canada_vehicle_registrations.csv\")"
   ]
  },
  {
   "cell_type": "code",
   "execution_count": 24,
   "id": "7ea5c109-6bc6-467d-8883-35dce0ca0d90",
   "metadata": {},
   "outputs": [],
   "source": [
    "can_data = can_data.drop(columns=[\"GEO\", \"DGUID\", \"UOM\", \"UOM_ID\", \"SCALAR_FACTOR\", \"SCALAR_ID\", \"VECTOR\", \"COORDINATE\", \"STATUS\", \"SYMBOL\", \"TERMINATED\", \"DECIMALS\"])"
   ]
  },
  {
   "cell_type": "code",
   "execution_count": 26,
   "id": "25ffaaf6-b58a-4b86-ad85-51d456c61442",
   "metadata": {},
   "outputs": [],
   "source": [
    "can_data = can_data[can_data[\"Type of vehicle\"] == \"Total, road motor vehicle registrations\"]"
   ]
  },
  {
   "cell_type": "code",
   "execution_count": 28,
   "id": "30f42a01-ab65-4fca-9892-06b4528c74e7",
   "metadata": {},
   "outputs": [],
   "source": [
    "can_data = can_data.drop(columns=[\"Type of vehicle\"])"
   ]
  },
  {
   "cell_type": "code",
   "execution_count": 36,
   "id": "dae9d002-6627-43d5-a8b0-0af90f8ca746",
   "metadata": {},
   "outputs": [],
   "source": [
    "reg_x = can_data[\"REF_DATE\"]\n",
    "reg_x = np.array(reg_x).reshape(-1,1)\n",
    "reg_y = can_data[\"VALUE\"]"
   ]
  },
  {
   "cell_type": "code",
   "execution_count": 37,
   "id": "49a62341-2c8f-4248-98bf-2abda6072cd2",
   "metadata": {},
   "outputs": [
    {
     "data": {
      "text/plain": [
       "LinearRegression()"
      ]
     },
     "execution_count": 37,
     "metadata": {},
     "output_type": "execute_result"
    }
   ],
   "source": [
    "reg_model = LinearRegression()\n",
    "reg_model.fit(reg_x, reg_y)"
   ]
  },
  {
   "cell_type": "code",
   "execution_count": 41,
   "id": "a6097584-a06e-4904-8759-b9c0573da95f",
   "metadata": {},
   "outputs": [],
   "source": [
    "r_sq = reg_model.score(reg_x,reg_y)\n",
    "intercept = reg_model.intercept_\n",
    "slope = reg_model.coef_"
   ]
  },
  {
   "cell_type": "code",
   "execution_count": 42,
   "id": "91f8dab0-7269-4e4e-b8c4-45dfcbc2d863",
   "metadata": {},
   "outputs": [
    {
     "name": "stdout",
     "output_type": "stream",
     "text": [
      "R^2: 0.9977886109817232\n",
      "Intercept: -798656493.9240605\n",
      "Slope: [408177.85338346]\n"
     ]
    }
   ],
   "source": [
    "print(f\"R^2: {r_sq}\")\n",
    "print(f\"Intercept: {intercept}\")\n",
    "print(f\"Slope: {slope}\")"
   ]
  },
  {
   "cell_type": "code",
   "execution_count": 46,
   "id": "75284f6b-9ec3-4150-807d-c4017ccf2376",
   "metadata": {},
   "outputs": [],
   "source": [
    "pred_2025 = reg_model.predict(np.array([2025]).reshape(-1,1))\n",
    "pred_2050 = reg_model.predict(np.array([2050]).reshape(-1,1))"
   ]
  },
  {
   "cell_type": "code",
   "execution_count": 47,
   "id": "ca364a3e-eb4b-4b3d-aed0-fbd9fca12f0b",
   "metadata": {},
   "outputs": [
    {
     "data": {
      "text/plain": [
       "array([27903659.17744362])"
      ]
     },
     "execution_count": 47,
     "metadata": {},
     "output_type": "execute_result"
    }
   ],
   "source": [
    "pred_2025"
   ]
  },
  {
   "cell_type": "code",
   "execution_count": 48,
   "id": "f5b2d8ca-1103-46ad-94ec-bcb14765251d",
   "metadata": {},
   "outputs": [
    {
     "data": {
      "text/plain": [
       "array([38108105.51203012])"
      ]
     },
     "execution_count": 48,
     "metadata": {},
     "output_type": "execute_result"
    }
   ],
   "source": [
    "pred_2050"
   ]
  },
  {
   "cell_type": "code",
   "execution_count": null,
   "id": "148aa681-93d0-4fe0-9c3b-50a3adc278f6",
   "metadata": {},
   "outputs": [],
   "source": []
  }
 ],
 "metadata": {
  "kernelspec": {
   "display_name": "Python 3 (ipykernel)",
   "language": "python",
   "name": "python3"
  },
  "language_info": {
   "codemirror_mode": {
    "name": "ipython",
    "version": 3
   },
   "file_extension": ".py",
   "mimetype": "text/x-python",
   "name": "python",
   "nbconvert_exporter": "python",
   "pygments_lexer": "ipython3",
   "version": "3.9.12"
  }
 },
 "nbformat": 4,
 "nbformat_minor": 5
}

{
 "cells": [
  {
   "cell_type": "code",
   "execution_count": 1,
   "metadata": {},
   "outputs": [],
   "source": [
    "import pandas as pd\n",
    "import ast\n"
   ]
  },
  {
   "cell_type": "code",
   "execution_count": 2,
   "metadata": {},
   "outputs": [],
   "source": [
    "# https://openweathermap.org/weather-conditions - reference for the weather column\n",
    "weather_df = pd.read_csv(\"../csv/weather_data_v2.zip\")\n",
    "\n",
    "weather_df[\"weather\"] = weather_df[\"weather\"].apply(\n",
    "    lambda x: ast.literal_eval(x)[0])\n",
    "\n",
    "weather_df[\"collectedAt\"] = pd.to_datetime(weather_df[\"collectedAt\"], utc=True)\n",
    "weather_df[\"collectedAt\"] = weather_df[\"collectedAt\"].apply(\n",
    "    lambda x: x.to_datetime64())\n",
    "\n",
    "weather_df[\"systemSunrise\"] = weather_df[\"systemSunrise\"] + \\\n",
    "    weather_df[\"timezone\"]\n",
    "weather_df[\"systemSunrise\"] = pd.to_datetime(\n",
    "    weather_df[\"systemSunrise\"], unit=\"s\")\n",
    "weather_df[\"systemSunrise\"] = weather_df[\"systemSunrise\"].apply(\n",
    "    lambda x: x.to_datetime64())\n",
    "\n",
    "weather_df[\"systemSunset\"] = weather_df[\"systemSunset\"] + \\\n",
    "    weather_df[\"timezone\"]\n",
    "weather_df[\"systemSunset\"] = pd.to_datetime(\n",
    "    weather_df[\"systemSunset\"], unit=\"s\")\n",
    "weather_df[\"systemSunset\"] = weather_df[\"systemSunset\"].apply(\n",
    "    lambda x: x.to_datetime64())\n",
    "\n",
    "weather_df = weather_df.drop(\n",
    "    columns=[\"base\",\n",
    "             \"datetime\",\n",
    "             \"timezone\",\n",
    "             \"id\",\n",
    "             \"name\",\n",
    "             \"Code\",\n",
    "             \"longitude\",\n",
    "             \"latitude\",\n",
    "             \"tempMin\",\n",
    "             \"tempMax\",\n",
    "             \"pressure\",\n",
    "             \"windGust\",\n",
    "             \"systemType\",\n",
    "             \"systemId\",\n",
    "             \"systemCountry\",\n",
    "             \"systemSunrise\",\n",
    "             \"systemSunset\",\n",
    "             \"seaLevel\",\n",
    "             \"groundLevel\"])\n"
   ]
  },
  {
   "cell_type": "code",
   "execution_count": 3,
   "metadata": {},
   "outputs": [],
   "source": [
    "weather_df_refs = weather_df[[\"weather\", \"collectedAt\", \"cloudsAll\"]].copy()\n",
    "weather_df_refs[\"collectedAt\"] = weather_df_refs.collectedAt.dt.floor(freq=\"s\")\n",
    "\n",
    "weather_df_grouped = weather_df.groupby(\n",
    "    pd.Grouper(key=\"collectedAt\", freq=\"15min\")).mean()\n",
    "weather_df_grouped = weather_df_grouped.reset_index()\n",
    "weather_df_grouped = weather_df_grouped.drop(columns=[\"weather\", \"cloudsAll\"])\n"
   ]
  },
  {
   "cell_type": "code",
   "execution_count": 4,
   "metadata": {},
   "outputs": [],
   "source": [
    "weather_df_final = pd.merge(\n",
    "    weather_df_grouped, weather_df_refs, on=\"collectedAt\", how=\"inner\")\n"
   ]
  },
  {
   "cell_type": "code",
   "execution_count": 5,
   "metadata": {},
   "outputs": [],
   "source": [
    "weather_df_final.to_csv(\"../csv/weather_data_processed_v2.csv\", index=False)\n"
   ]
  },
  {
   "cell_type": "code",
   "execution_count": null,
   "metadata": {},
   "outputs": [],
   "source": []
  }
 ],
 "metadata": {
  "kernelspec": {
   "display_name": "Python 3 (ipykernel)",
   "language": "python",
   "name": "python3"
  },
  "language_info": {
   "codemirror_mode": {
    "name": "ipython",
    "version": 3
   },
   "file_extension": ".py",
   "mimetype": "text/x-python",
   "name": "python",
   "nbconvert_exporter": "python",
   "pygments_lexer": "ipython3",
   "version": "3.9.12"
  },
  "vscode": {
   "interpreter": {
    "hash": "441dc1402921fbb61858fb02f3d232c916b48a98c37dfe20550e811f9428eba6"
   }
  }
 },
 "nbformat": 4,
 "nbformat_minor": 4
}

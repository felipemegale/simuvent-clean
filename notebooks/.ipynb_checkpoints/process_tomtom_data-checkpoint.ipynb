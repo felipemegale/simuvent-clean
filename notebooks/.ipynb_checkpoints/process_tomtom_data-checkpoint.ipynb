{
 "cells": [
  {
   "cell_type": "code",
   "execution_count": 1,
   "id": "28893be5-e85e-4d1b-b7fc-91ba79cc2960",
   "metadata": {},
   "outputs": [],
   "source": [
    "from zipfile import ZipFile, Path\n",
    "import copy\n",
    "import json\n",
    "import os\n",
    "import pandas as pd\n",
    "import gc\n",
    "from tqdm import tqdm\n"
   ]
  },
  {
   "cell_type": "code",
   "execution_count": 2,
   "id": "b925bf94",
   "metadata": {},
   "outputs": [
    {
     "name": "stderr",
     "output_type": "stream",
     "text": [
      "100%|########################################################| 41909/41909 [03:08<00:00, 222.18it/s]\n"
     ]
    }
   ],
   "source": [
    "gardiner_dfs = []\n",
    "front_yonge_dfs = []\n",
    "incidents_dfs = []\n",
    "weather_dfs = []\n",
    "\n",
    "with ZipFile(\"../raw_data/traffic_flow/traffic_flow.zip\") as traffic_flow:\n",
    "    total_files = len(traffic_flow.filelist)\n",
    "    for file_idx in tqdm(range(total_files), ascii=True, ncols=100):\n",
    "        flow_file = traffic_flow.filelist[file_idx]\n",
    "        if not flow_file.is_dir():\n",
    "            json_data_str = traffic_flow.open(\n",
    "                flow_file.filename).read().decode(\"UTF-8\")\n",
    "            json_data_obj = json.loads(json_data_str)\n",
    "\n",
    "            collected_at = json_data_obj[\"collected_at\"]\n",
    "\n",
    "            gardiner_data = json_data_obj[\"gardiner_expy_traffic\"][\"flowSegmentData\"]\n",
    "            gardiner_df_tmp = pd.json_normalize(gardiner_data)\n",
    "            gardiner_df_tmp[\"collectedAt\"] = collected_at\n",
    "            gardiner_dfs.append(gardiner_df_tmp)\n",
    "            del gardiner_data\n",
    "            del gardiner_df_tmp\n",
    "\n",
    "            front_yonge_data = json_data_obj[\"front_yonge_traffic\"][\"flowSegmentData\"]\n",
    "            front_yonge_df_tmp = pd.json_normalize(front_yonge_data)\n",
    "            front_yonge_df_tmp[\"collectedAt\"] = collected_at\n",
    "            front_yonge_dfs.append(front_yonge_df_tmp)\n",
    "            del front_yonge_data\n",
    "            del front_yonge_df_tmp\n",
    "\n",
    "            incidents_data = json_data_obj[\"incidents\"][\"incidents\"]\n",
    "            incidents_df_tmp = pd.json_normalize(incidents_data)\n",
    "            incidents_df_tmp[\"collectedAt\"] = collected_at\n",
    "            incidents_dfs.append(incidents_df_tmp)\n",
    "            del incidents_data\n",
    "            del incidents_df_tmp\n",
    "\n",
    "            weather_data = json_data_obj[\"weather_info\"]\n",
    "            weather_condition_array = copy.deepcopy(weather_data[\"weather\"])\n",
    "            weather_condition_array = sorted(\n",
    "                weather_condition_array, key=lambda x: x[\"id\"])\n",
    "            weather_condition_array = list(\n",
    "                map(lambda x: x[\"id\"], weather_condition_array))\n",
    "            weather_data[\"weather\"] = weather_condition_array\n",
    "            weather_data[\"collectedAt\"] = collected_at\n",
    "            weather_df_tmp = pd.json_normalize(weather_data)\n",
    "            weather_dfs.append(weather_df_tmp)\n",
    "            del weather_data\n",
    "            del weather_condition_array\n",
    "            del weather_df_tmp\n"
   ]
  },
  {
   "cell_type": "code",
   "execution_count": 3,
   "id": "5402a6d0-6897-404b-a6b4-88f70fa397f9",
   "metadata": {},
   "outputs": [
    {
     "data": {
      "text/plain": [
       "0"
      ]
     },
     "execution_count": 3,
     "metadata": {},
     "output_type": "execute_result"
    }
   ],
   "source": [
    "gardiner_merged_df = pd.concat(gardiner_dfs)\n",
    "gardiner_merged_df = gardiner_merged_df.sort_values(by=[\"collectedAt\"])\n",
    "gardiner_merged_df[\"collectedAt\"] = pd.to_datetime(\n",
    "    gardiner_merged_df[\"collectedAt\"])\n",
    "del gardiner_dfs\n",
    "gc.collect()\n"
   ]
  },
  {
   "cell_type": "code",
   "execution_count": 4,
   "id": "cd7cb4ab",
   "metadata": {},
   "outputs": [
    {
     "data": {
      "text/plain": [
       "0"
      ]
     },
     "execution_count": 4,
     "metadata": {},
     "output_type": "execute_result"
    }
   ],
   "source": [
    "front_yonge_merged_df = pd.concat(front_yonge_dfs)\n",
    "front_yonge_merged_df = front_yonge_merged_df.sort_values(by=[\"collectedAt\"])\n",
    "front_yonge_merged_df[\"collectedAt\"] = pd.to_datetime(\n",
    "    front_yonge_merged_df[\"collectedAt\"])\n",
    "del front_yonge_dfs\n",
    "gc.collect()\n"
   ]
  },
  {
   "cell_type": "code",
   "execution_count": 5,
   "id": "96980c93",
   "metadata": {},
   "outputs": [
    {
     "data": {
      "text/plain": [
       "0"
      ]
     },
     "execution_count": 5,
     "metadata": {},
     "output_type": "execute_result"
    }
   ],
   "source": [
    "incidents_merged_df = pd.concat(incidents_dfs)\n",
    "incidents_merged_df = incidents_merged_df.drop_duplicates(subset=\"properties.id\")\n",
    "incidents_merged_df = incidents_merged_df.sort_values(by=[\"collectedAt\"])\n",
    "incidents_merged_df[\"collectedAt\"] = pd.to_datetime(\n",
    "    incidents_merged_df[\"collectedAt\"])\n",
    "del incidents_dfs\n",
    "gc.collect()\n"
   ]
  },
  {
   "cell_type": "code",
   "execution_count": 6,
   "id": "8f572925",
   "metadata": {},
   "outputs": [
    {
     "data": {
      "text/plain": [
       "0"
      ]
     },
     "execution_count": 6,
     "metadata": {},
     "output_type": "execute_result"
    }
   ],
   "source": [
    "weather_merged_df = pd.concat(weather_dfs)\n",
    "weather_merged_df = weather_merged_df.sort_values(by=[\"collectedAt\"])\n",
    "weather_merged_df[\"collectedAt\"] = pd.to_datetime(\n",
    "    weather_merged_df[\"collectedAt\"])\n",
    "del weather_dfs\n",
    "gc.collect()\n"
   ]
  },
  {
   "cell_type": "code",
   "execution_count": 7,
   "id": "ac31cde9",
   "metadata": {},
   "outputs": [],
   "source": [
    "gardiner_merged_df = gardiner_merged_df.rename(\n",
    "    columns={\"coordinates.coordinate\": \"coordinates\"})\n",
    "\n",
    "front_yonge_merged_df = front_yonge_merged_df.rename(\n",
    "    columns={\"coordinates.coordinate\": \"coordinates\"})\n",
    "\n",
    "incidents_merged_df = incidents_merged_df.rename(columns={\"properties.id\": \"id\",\n",
    "                                                          \"properties.iconCategory\": \"iconCategory\",\n",
    "                                                          \"properties.magnitudeOfDelay\": \"magnitudeOfDelay\",\n",
    "                                                          \"properties.startTime\": \"startTime\",\n",
    "                                                          \"properties.endTime\": \"endTime\",\n",
    "                                                          \"properties.from\": \"from\",\n",
    "                                                          \"properties.to\": \"to\",\n",
    "                                                          \"properties.length\": \"length\",\n",
    "                                                          \"properties.delay\": \"delay\",\n",
    "                                                          \"properties.roadNumbers\": \"roadNumbers\",\n",
    "                                                          \"properties.timeValidity\": \"timeValidity\",\n",
    "                                                          \"properties.probabilityOfOccurrence\": \"probabilityOfOccurrence\",\n",
    "                                                          \"properties.numberOfReports\": \"numberOfReports\",\n",
    "                                                          \"properties.lastReportTime\": \"lastReportTime\",\n",
    "                                                          \"properties.events\": \"events\",\n",
    "                                                          \"properties.tmc.countryCode\": \"tmcCountryCode\",\n",
    "                                                          \"properties.tmc.tableNumber\": \"tmcTableNumber\",\n",
    "                                                          \"properties.tmc.tableVersion\": \"tmcTableVersion\",\n",
    "                                                          \"properties.tmc.direction\": \"tmcDirection\",\n",
    "                                                          \"properties.tmc.points\": \"tmcPoints\",\n",
    "                                                          \"geometry.type\": \"geometryType\",\n",
    "                                                          \"geometry.coordinates\": \"geometryCoordinates\",\n",
    "                                                          \"properties.tmc\": \"tmc\"})\n",
    "\n",
    "weather_merged_df = weather_merged_df.rename(columns={\"dt\": \"datetime\",\n",
    "                                                      \"cod\": \"Code\",\n",
    "                                                      \"coord.lon\": \"longitude\",\n",
    "                                                      \"coord.lat\": \"latitude\",\n",
    "                                                      \"main.temp\": \"temperature\",\n",
    "                                                      \"main.feels_like\": \"FeelsLike\",\n",
    "                                                      \"main.temp_min\": \"tempMin\",\n",
    "                                                      \"main.temp_max\": \"tempMax\",\n",
    "                                                      \"main.pressure\": \"pressure\",\n",
    "                                                      \"main.humidity\": \"humidity\",\n",
    "                                                      \"wind.speed\": \"windSpeed\",\n",
    "                                                      \"wind.deg\": \"windDegree\",\n",
    "                                                      \"rain.1h\": \"rain1h\",\n",
    "                                                      \"clouds.all\": \"cloudsAll\",\n",
    "                                                      \"sys.type\": \"systemType\",\n",
    "                                                      \"sys.id\": \"systemId\",\n",
    "                                                      \"sys.country\": \"systemCountry\",\n",
    "                                                      \"sys.sunrise\": \"systemSunrise\",\n",
    "                                                      \"sys.sunset\": \"systemSunset\",\n",
    "                                                      \"wind.gust\": \"windGust\",\n",
    "                                                      \"main.sea_level\": \"seaLevel\",\n",
    "                                                      \"main.grnd_level\": \"groundLevel\"})\n"
   ]
  },
  {
   "cell_type": "code",
   "execution_count": 8,
   "id": "b920b393-48dc-4f71-a627-c563588bca8d",
   "metadata": {},
   "outputs": [],
   "source": [
    "gardiner_filename = \"gardiner_flow_data_v2\"\n",
    "front_yonge_filename = \"front_yonge_flow_data_v2\"\n",
    "incidents_filename = \"incidents_data_v2\"\n",
    "weather_filename = \"weather_data_v2\"\n",
    "\n",
    "gardiner_merged_df.to_csv(f\"../csv/{gardiner_filename}.zip\", index=False,\n",
    "                          compression=dict(method=\"zip\", archive_name=f\"{gardiner_filename}.csv\"))\n",
    "front_yonge_merged_df.to_csv(\n",
    "    f\"../csv/{front_yonge_filename}.zip\", index=False,\n",
    "    compression=dict(method=\"zip\", archive_name=f\"{front_yonge_filename}.csv\"))\n",
    "incidents_merged_df.to_csv(f\"../csv/{incidents_filename}.zip\", index=False,\n",
    "                           compression=dict(method=\"zip\", archive_name=f\"{incidents_filename}.csv\"))\n",
    "weather_merged_df.to_csv(f\"../csv/{weather_filename}.zip\", index=False,\n",
    "                         compression=dict(method=\"zip\", archive_name=f\"{weather_filename}.csv\"))\n"
   ]
  },
  {
   "cell_type": "code",
   "execution_count": null,
   "id": "eb12faa8",
   "metadata": {},
   "outputs": [],
   "source": []
  }
 ],
 "metadata": {
  "kernelspec": {
   "display_name": "Python 3 (ipykernel)",
   "language": "python",
   "name": "python3"
  },
  "language_info": {
   "codemirror_mode": {
    "name": "ipython",
    "version": 3
   },
   "file_extension": ".py",
   "mimetype": "text/x-python",
   "name": "python",
   "nbconvert_exporter": "python",
   "pygments_lexer": "ipython3",
   "version": "3.9.12"
  },
  "vscode": {
   "interpreter": {
    "hash": "441dc1402921fbb61858fb02f3d232c916b48a98c37dfe20550e811f9428eba6"
   }
  }
 },
 "nbformat": 4,
 "nbformat_minor": 5
}

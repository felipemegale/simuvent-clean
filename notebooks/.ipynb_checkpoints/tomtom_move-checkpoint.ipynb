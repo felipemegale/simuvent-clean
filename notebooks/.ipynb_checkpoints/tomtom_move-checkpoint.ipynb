{
 "cells": [
  {
   "cell_type": "code",
   "execution_count": 62,
   "id": "df30b598-21b7-49fd-9c75-ce145734eb6c",
   "metadata": {},
   "outputs": [],
   "source": [
    "import pandas as pd\n",
    "import os\n",
    "\n",
    "csv_path=\"../national_collision_database\""
   ]
  },
  {
   "cell_type": "code",
   "execution_count": 63,
   "id": "7d757bdf-bc14-426e-85df-fc7bdf109afd",
   "metadata": {},
   "outputs": [
    {
     "data": {
      "text/plain": [
       "['data_dictionary.pdf',\n",
       " 'test99_to_2019_dataset_en.csv',\n",
       " 'test_2019_dataset_en.csv',\n",
       " '.~lock.test_2019_dataset_en.csv#']"
      ]
     },
     "execution_count": 67,
     "metadata": {},
     "output_type": "execute_result"
    }
   ],
   "source": [
    "os.listdir(csv_path)"
   ]
  },
  {
   "cell_type": "code",
   "execution_count": 64,
   "id": "bc2fd882-f4b8-45bb-928c-cfafec38d986",
   "metadata": {},
   "outputs": [
    {
     "name": "stdout",
     "output_type": "stream",
     "text": [
      "272301\n"
     ]
    }
   ],
   "source": [
    "df = pd.read_csv(f\"{csv_path}/test_2019_dataset_en.csv\", low_memory=False)\n",
    "print(len(df))"
   ]
  },
  {
   "cell_type": "code",
   "execution_count": 65,
   "id": "a9cff4a3-2412-48ee-8698-9edaa70c3cea",
   "metadata": {},
   "outputs": [],
   "source": [
    "# filter off lines where C_MNTH = UU\n",
    "df = df.query(\"C_MNTH != 'UU'\")\n",
    "\n",
    "# filter off lines where C_WDAY = U\n",
    "df = df.query(\"C_WDAY != 'U'\")\n",
    "\n",
    "# filter off lines where C_HOUR = UU\n",
    "df = df.query(\"C_HOUR != 'UU'\")\n",
    "\n",
    "# filter off lines where C_CONF = QQ and C_CONF = UU\n",
    "df = df.query(\"C_CONF != 'QQ' | C_CONF == 'UU'\")\n",
    "\n",
    "# filter off lines where C_RCFG = QQ and C_RCFG = UU\n",
    "df = df.query(\"C_RCFG != 'QQ' | C_RCFG == 'UU'\")\n",
    "\n",
    "# filter off lines where C_WTHR = QQ and C_WTHR = UU\n",
    "df = df.query(\"C_WTHR != 'Q' | C_WTHR == 'U'\")\n",
    "\n",
    "# filter off lines where C_RSUR = QQ and C_RSUR = UU\n",
    "df = df.query(\"C_RSUR != 'Q' | C_RSUR == 'U'\")\n",
    "\n",
    "# filter off lines where C_RALN = QQ and C_RALN = UU\n",
    "df = df.query(\"C_RALN != 'Q' | C_RALN == 'U'\")\n",
    "\n",
    "# filter off lines where C_TRAF = QQ and C_TRAF = UU\n",
    "df = df.query(\"C_TRAF != 'QQ' | C_TRAF == 'UU'\")\n",
    "\n",
    "# filter off lines where V_ID = UU\n",
    "df = df.query(\"V_ID != 'UU'\")\n",
    "\n",
    "# filter off lines where V_TYPE = QQ and V_TYPE = UU\n",
    "df = df.query(\"V_TYPE != 'QQ' | V_TYPE != 'UU'\")\n",
    "\n",
    "# filter off lines where V_YEAR = UUUU\n",
    "df = df.query(\"V_YEAR != 'UUUU'\")\n",
    "\n",
    "# filter off lines where P_ID = UU\n",
    "df = df.query(\"P_ID != 'UU'\")\n",
    "\n",
    "# filter off lines where P_SEX = U\n",
    "df = df.query(\"P_SEX != 'U'\")\n",
    "\n",
    "# filter off lines where P_AGE = UU\n",
    "df = df.query(\"P_AGE != 'UU'\")\n",
    "\n",
    "# filter off lines where P_PSN = QQ and P_PSN = UU\n",
    "df = df.query(\"P_PSN != 'QQ' | P_PSN != 'UU'\")\n",
    "\n",
    "# filter off lines where P_ISEV = U\n",
    "df = df.query(\"P_ISEV != 'U'\")\n",
    "\n",
    "# filter off lines where P_SAFE = QQ and P_SAFE = UU\n",
    "df = df.query(\"P_SAFE != 'QQ' | P_SAFE != 'UU'\")\n",
    "\n",
    "# filter off lines where P_USER = U\n",
    "df = df.query(\"P_USER != 'U'\")\n",
    "print(len(df))"
   ]
  },
  {
   "cell_type": "code",
   "execution_count": null,
   "id": "70bbb4cf-9c7d-4b13-95f3-4ae12622f7df",
   "metadata": {},
   "outputs": [],
   "source": []
  }
 ],
 "metadata": {
  "kernelspec": {
   "display_name": "Python 3 (ipykernel)",
   "language": "python",
   "name": "python3"
  },
  "language_info": {
   "codemirror_mode": {
    "name": "ipython",
    "version": 3
   },
   "file_extension": ".py",
   "mimetype": "text/x-python",
   "name": "python",
   "nbconvert_exporter": "python",
   "pygments_lexer": "ipython3",
   "version": "3.9.12"
  }
 },
 "nbformat": 4,
 "nbformat_minor": 5
}

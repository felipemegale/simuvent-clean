{
 "cells": [
  {
   "cell_type": "code",
   "execution_count": 1,
   "metadata": {},
   "outputs": [],
   "source": [
    "import pandas as pd"
   ]
  },
  {
   "cell_type": "code",
   "execution_count": 2,
   "metadata": {},
   "outputs": [],
   "source": [
    "gardiner_tomtom_df = pd.read_csv(\"../csv/gardiner_flow_data_v2.zip\")\n",
    "front_yonge_tomtom_df = pd.read_csv(\"../csv/front_yonge_flow_data_v2.zip\")"
   ]
  },
  {
   "cell_type": "code",
   "execution_count": 3,
   "metadata": {},
   "outputs": [],
   "source": [
    "gardiner_tomtom_df = gardiner_tomtom_df.drop(columns=[\"frc\", \"@version\"])\n",
    "\n",
    "gardiner_tomtom_df[\"collectedAt\"] = pd.to_datetime(\n",
    "    gardiner_tomtom_df[\"collectedAt\"], utc=True)\n",
    "\n",
    "front_yonge_tomtom_df = front_yonge_tomtom_df.drop(columns=[\"frc\", \"@version\"])\n",
    "\n",
    "front_yonge_tomtom_df[\"collectedAt\"] = pd.to_datetime(\n",
    "    front_yonge_tomtom_df[\"collectedAt\"], utc=True)"
   ]
  },
  {
   "cell_type": "code",
   "execution_count": 4,
   "metadata": {},
   "outputs": [
    {
     "name": "stderr",
     "output_type": "stream",
     "text": [
      "/tmp/ipykernel_72/1042704537.py:1: FutureWarning: The default value of numeric_only in DataFrameGroupBy.mean is deprecated. In a future version, numeric_only will default to False. Either specify numeric_only or select only columns which should be valid for the function.\n",
      "  gardiner_tomtom_df_grouped = gardiner_tomtom_df.groupby(\n"
     ]
    }
   ],
   "source": [
    "gardiner_tomtom_df_grouped = gardiner_tomtom_df.groupby(\n",
    "    pd.Grouper(key=\"collectedAt\", freq=\"15min\")).mean()\n",
    "gardiner_tomtom_df_grouped.to_csv(\"../csv/gardiner_flow_data_grouped_v2.csv\", index=False, compression=\"zip\")"
   ]
  },
  {
   "cell_type": "code",
   "execution_count": 5,
   "metadata": {},
   "outputs": [
    {
     "name": "stderr",
     "output_type": "stream",
     "text": [
      "/tmp/ipykernel_72/2236433226.py:1: FutureWarning: The default value of numeric_only in DataFrameGroupBy.mean is deprecated. In a future version, numeric_only will default to False. Either specify numeric_only or select only columns which should be valid for the function.\n",
      "  front_yonge_tomtom_df_grouped = front_yonge_tomtom_df.groupby(\n"
     ]
    }
   ],
   "source": [
    "front_yonge_tomtom_df_grouped = front_yonge_tomtom_df.groupby(\n",
    "    pd.Grouper(key=\"collectedAt\", freq=\"15min\")).mean()\n",
    "front_yonge_tomtom_df_grouped.to_csv(\n",
    "    \"../csv/front_yonge_flow_data_grouped_v2.csv\", index=False, compression=\"zip\")"
   ]
  }
 ],
 "metadata": {
  "kernelspec": {
   "display_name": "Python 3 (ipykernel)",
   "language": "python",
   "name": "python3"
  },
  "language_info": {
   "codemirror_mode": {
    "name": "ipython",
    "version": 3
   },
   "file_extension": ".py",
   "mimetype": "text/x-python",
   "name": "python",
   "nbconvert_exporter": "python",
   "pygments_lexer": "ipython3",
   "version": "3.9.12"
  },
  "vscode": {
   "interpreter": {
    "hash": "441dc1402921fbb61858fb02f3d232c916b48a98c37dfe20550e811f9428eba6"
   }
  }
 },
 "nbformat": 4,
 "nbformat_minor": 4
}

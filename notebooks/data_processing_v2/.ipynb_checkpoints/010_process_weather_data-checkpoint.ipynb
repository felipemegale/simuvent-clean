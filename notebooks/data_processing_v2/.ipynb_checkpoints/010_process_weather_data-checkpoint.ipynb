{
 "cells": [
  {
   "cell_type": "code",
   "execution_count": 1,
   "metadata": {},
   "outputs": [],
   "source": [
    "import pandas as pd\n",
    "import ast"
   ]
  },
  {
   "cell_type": "code",
   "execution_count": 2,
   "metadata": {
    "collapsed": false,
    "jupyter": {
     "outputs_hidden": false
    }
   },
   "outputs": [],
   "source": [
    "# https://openweathermap.org/weather-conditions - reference for the weather column\n",
    "weather_df = pd.read_csv(\"../../csv/v2/000_weather_data.csv.zip\")\n",
    "\n",
    "weather_df[\"weather\"] = weather_df[\"weather\"].apply(lambda x: ast.literal_eval(x)[0])\n",
    "\n",
    "weather_df[\"collectedAt\"] = pd.to_datetime(weather_df[\"collectedAt\"], utc=True)\n",
    "weather_df[\"collectedAt\"] = weather_df[\"collectedAt\"].apply(lambda x: x.to_datetime64())\n",
    "weather_df[\"collectedAt\"] = weather_df.collectedAt.dt.floor(freq=\"s\")\n",
    "\n",
    "weather_df[\"systemSunrise\"] = weather_df[\"systemSunrise\"] + weather_df[\"timezone\"]\n",
    "weather_df[\"systemSunrise\"] = pd.to_datetime(weather_df[\"systemSunrise\"], unit=\"s\")\n",
    "weather_df[\"systemSunrise\"] = weather_df[\"systemSunrise\"].apply(lambda x: x.to_datetime64())\n",
    "\n",
    "weather_df[\"systemSunset\"] = weather_df[\"systemSunset\"] + weather_df[\"timezone\"]\n",
    "weather_df[\"systemSunset\"] = pd.to_datetime(weather_df[\"systemSunset\"], unit=\"s\")\n",
    "weather_df[\"systemSunset\"] = weather_df[\"systemSunset\"].apply(lambda x: x.to_datetime64())\n",
    "\n",
    "weather_df = weather_df.drop(\n",
    "    columns=[\"base\",\n",
    "             \"datetime\",\n",
    "             \"timezone\",\n",
    "             \"id\",\n",
    "             \"name\",\n",
    "             \"Code\",\n",
    "             \"longitude\",\n",
    "             \"latitude\",\n",
    "             \"tempMin\",\n",
    "             \"tempMax\",\n",
    "             \"pressure\",\n",
    "             \"windGust\",\n",
    "             \"systemType\",\n",
    "             \"systemId\",\n",
    "             \"systemCountry\",\n",
    "             \"systemSunrise\",\n",
    "             \"systemSunset\",\n",
    "             \"seaLevel\",\n",
    "             \"groundLevel\"])"
   ]
  },
  {
   "cell_type": "code",
   "execution_count": 3,
   "metadata": {
    "collapsed": false,
    "jupyter": {
     "outputs_hidden": false
    }
   },
   "outputs": [],
   "source": [
    "weather_df = weather_df.fillna(value=0, axis=1)"
   ]
  },
  {
   "cell_type": "code",
   "execution_count": 4,
   "metadata": {
    "collapsed": false,
    "jupyter": {
     "outputs_hidden": false
    }
   },
   "outputs": [],
   "source": [
    "weather_df.to_csv(\"../../csv/v2/010_weather_data_processed.csv.zip\", index=False, compression=\"zip\")"
   ]
  }
 ],
 "metadata": {
  "kernelspec": {
   "display_name": "Python 3 (ipykernel)",
   "language": "python",
   "name": "python3"
  },
  "language_info": {
   "codemirror_mode": {
    "name": "ipython",
    "version": 3
   },
   "file_extension": ".py",
   "mimetype": "text/x-python",
   "name": "python",
   "nbconvert_exporter": "python",
   "pygments_lexer": "ipython3",
   "version": "3.9.16"
  }
 },
 "nbformat": 4,
 "nbformat_minor": 4
}

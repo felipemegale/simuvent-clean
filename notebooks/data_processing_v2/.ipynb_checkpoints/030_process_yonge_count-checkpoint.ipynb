{
 "cells": [
  {
   "cell_type": "code",
   "execution_count": 1,
   "metadata": {},
   "outputs": [],
   "source": [
    "import pandas as pd\n",
    "from geopy.distance import distance\n",
    "from tqdm import tqdm"
   ]
  },
  {
   "cell_type": "code",
   "execution_count": 2,
   "metadata": {
    "collapsed": false,
    "jupyter": {
     "outputs_hidden": false
    }
   },
   "outputs": [],
   "source": [
    "YONGE_FLOW_COLLECTION_POINT = (43.646882, -79.376952)\n",
    "count_df = pd.read_csv(\"../../raw_data/traffic_volume/traffic_volume_raw-data-2020-2029.zip\")"
   ]
  },
  {
   "cell_type": "code",
   "execution_count": 3,
   "metadata": {
    "collapsed": false,
    "jupyter": {
     "outputs_hidden": false
    }
   },
   "outputs": [],
   "source": [
    "count_df[\"time_start\"] = pd.to_datetime(count_df[\"time_start\"], utc=True)\n",
    "count_df[\"time_start\"] = count_df[\"time_start\"].apply(lambda x: x.to_datetime64())\n",
    "count_df[\"time_end\"] = pd.to_datetime(count_df[\"time_end\"], utc=True)\n",
    "count_df[\"time_end\"] = count_df[\"time_end\"].apply(lambda x: x.to_datetime64())"
   ]
  },
  {
   "cell_type": "code",
   "execution_count": 4,
   "metadata": {
    "collapsed": false,
    "jupyter": {
     "outputs_hidden": false
    }
   },
   "outputs": [],
   "source": [
    "count_df = count_df.drop(\n",
    "    columns=[\"count_id\", \"count_date\", \"location_id\", \"centreline_type\", \"centreline_id\", \"px\"])\n",
    "count_df = count_df.drop(columns=list(\n",
    "    filter(lambda x: \"peds\" in x, count_df.columns)))\n",
    "count_df = count_df.drop(columns=list(\n",
    "    filter(lambda x: \"bike\" in x, count_df.columns)))\n",
    "count_df = count_df.drop(columns=list(\n",
    "    filter(lambda x: \"other\" in x, count_df.columns)))"
   ]
  },
  {
   "cell_type": "code",
   "execution_count": 5,
   "metadata": {
    "collapsed": false,
    "jupyter": {
     "outputs_hidden": false
    }
   },
   "outputs": [],
   "source": [
    "count_car_columns = list(filter(lambda x: \"car\" in x, count_df.columns))\n",
    "count_truck_columns = list(filter(lambda x: \"truck\" in x, count_df.columns))\n",
    "count_bus_columns = list(filter(lambda x: \"bus\" in x, count_df.columns))"
   ]
  },
  {
   "cell_type": "code",
   "execution_count": 6,
   "metadata": {
    "collapsed": false,
    "jupyter": {
     "outputs_hidden": false
    }
   },
   "outputs": [],
   "source": [
    "count_df[\"car_count\"] = count_df[count_car_columns].sum(axis=1)\n",
    "count_df[\"truck_count\"] = count_df[count_truck_columns].sum(axis=1)\n",
    "count_df[\"bus_count\"] = count_df[count_bus_columns].sum(axis=1)"
   ]
  },
  {
   "cell_type": "code",
   "execution_count": 7,
   "metadata": {
    "collapsed": false,
    "jupyter": {
     "outputs_hidden": false
    }
   },
   "outputs": [],
   "source": [
    "count_df = count_df.drop(columns=count_car_columns)\n",
    "count_df = count_df.drop(columns=count_truck_columns)\n",
    "count_df = count_df.drop(columns=count_bus_columns)"
   ]
  },
  {
   "cell_type": "code",
   "execution_count": 8,
   "metadata": {
    "collapsed": false,
    "jupyter": {
     "outputs_hidden": false
    }
   },
   "outputs": [],
   "source": [
    "count_cols = list(filter(lambda x: \"count\" in x, count_df.columns))\n",
    "count_df[\"total_count\"] = count_df[count_cols].sum(axis=1)\n",
    "count_df = count_df.drop(columns=[\"car_count\", \"truck_count\", \"bus_count\"])"
   ]
  },
  {
   "cell_type": "code",
   "execution_count": 9,
   "metadata": {
    "collapsed": false,
    "jupyter": {
     "outputs_hidden": false
    }
   },
   "outputs": [
    {
     "name": "stderr",
     "output_type": "stream",
     "text": [
      "100%|██████████| 123075/123075 [00:20<00:00, 6070.62it/s]\n"
     ]
    }
   ],
   "source": [
    "tqdm.pandas()\n",
    "count_df[\"distance_from_point\"] = count_df.progress_apply(\n",
    "    lambda x: distance((x[\"lat\"], x[\"lng\"]), YONGE_FLOW_COLLECTION_POINT).km, axis=1)"
   ]
  },
  {
   "cell_type": "code",
   "execution_count": 10,
   "metadata": {
    "collapsed": false,
    "jupyter": {
     "outputs_hidden": false
    }
   },
   "outputs": [],
   "source": [
    "count_df = count_df.drop(columns=[\"time_start\"])"
   ]
  },
  {
   "cell_type": "code",
   "execution_count": 11,
   "metadata": {
    "collapsed": false,
    "jupyter": {
     "outputs_hidden": false
    }
   },
   "outputs": [],
   "source": [
    "count_df[\"end_hour\"] = count_df[\"time_end\"].dt.hour\n",
    "count_df[\"end_minute\"] = count_df[\"time_end\"].dt.minute\n",
    "count_df[\"end_day_of_week\"] = count_df[\"time_end\"].dt.dayofweek"
   ]
  },
  {
   "cell_type": "code",
   "execution_count": 12,
   "metadata": {
    "collapsed": false,
    "jupyter": {
     "outputs_hidden": false
    }
   },
   "outputs": [],
   "source": [
    "count_df.to_csv(\"../../csv/v2/030_yonge_count_processed.csv.zip\", index=False, compression=\"zip\")"
   ]
  }
 ],
 "metadata": {
  "kernelspec": {
   "display_name": "Python 3 (ipykernel)",
   "language": "python",
   "name": "python3"
  },
  "language_info": {
   "codemirror_mode": {
    "name": "ipython",
    "version": 3
   },
   "file_extension": ".py",
   "mimetype": "text/x-python",
   "name": "python",
   "nbconvert_exporter": "python",
   "pygments_lexer": "ipython3",
   "version": "3.9.16"
  }
 },
 "nbformat": 4,
 "nbformat_minor": 4
}

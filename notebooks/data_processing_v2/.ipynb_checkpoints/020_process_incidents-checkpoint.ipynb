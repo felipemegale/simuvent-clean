{
 "cells": [
  {
   "cell_type": "code",
   "execution_count": 1,
   "metadata": {
    "collapsed": false,
    "jupyter": {
     "outputs_hidden": false
    }
   },
   "outputs": [],
   "source": [
    "import pandas as pd\n",
    "import ast"
   ]
  },
  {
   "cell_type": "code",
   "execution_count": 2,
   "metadata": {
    "collapsed": false,
    "jupyter": {
     "outputs_hidden": false
    }
   },
   "outputs": [],
   "source": [
    "incidents_df = pd.read_csv(\"../../csv/v2/000_incidents_data.csv.zip\")\n",
    "incidents_df[\"collectedAt\"] = pd.to_datetime(incidents_df[\"collectedAt\"], utc=True)\n",
    "incidents_df[\"collectedAt\"] = incidents_df.collectedAt.dt.floor(freq=\"s\")\n",
    "incidents_df[\"startTime\"] = pd.to_datetime(incidents_df[\"startTime\"], utc=True)\n",
    "incidents_df[\"endTime\"] = pd.to_datetime(incidents_df[\"endTime\"], utc=True)\n",
    "incidents_df = incidents_df.fillna(value=0, axis=1)"
   ]
  },
  {
   "cell_type": "code",
   "execution_count": 3,
   "metadata": {
    "collapsed": false,
    "jupyter": {
     "outputs_hidden": false
    }
   },
   "outputs": [],
   "source": [
    "def roadNumbersConvert(x):\n",
    "    converted = ast.literal_eval(x)\n",
    "    if len(converted) > 0:\n",
    "        return converted[0]\n",
    "    else:\n",
    "        return 'N/A'\n",
    "\n",
    "incidents_df = incidents_df.drop_duplicates(subset=[\"id\"])\n",
    "incidents_df[\"roadNumbers\"] = incidents_df[\"roadNumbers\"].apply(roadNumbersConvert)\n",
    "incidents_df[\"geometryCoordinates\"] = incidents_df[\"geometryCoordinates\"].apply(lambda x: ast.literal_eval(x))"
   ]
  },
  {
   "cell_type": "code",
   "execution_count": 4,
   "metadata": {
    "collapsed": false,
    "jupyter": {
     "outputs_hidden": false
    }
   },
   "outputs": [],
   "source": [
    "incidents_df = incidents_df.drop(columns=[\"type\", \"tmc\", \"tmcCountryCode\", \"tmcDirection\", \"tmcPoints\", \"tmcTableNumber\", \"tmcTableVersion\", \"geometryType\"])\n",
    "incidents_df = incidents_df.rename(columns={\"iconCategory\": \"incidentType\", \"startTime\": \"incidentStartAt\", \"endTime\": \"incidentEndAt\"})"
   ]
  },
  {
   "cell_type": "code",
   "execution_count": 5,
   "metadata": {
    "collapsed": false,
    "jupyter": {
     "outputs_hidden": false
    }
   },
   "outputs": [],
   "source": [
    "incidents_df.to_csv(\"../../csv/v2/020_incidents_data_processed.csv.zip\", index=False, compression=\"zip\")"
   ]
  }
 ],
 "metadata": {
  "kernelspec": {
   "display_name": "Python 3 (ipykernel)",
   "language": "python",
   "name": "python3"
  },
  "language_info": {
   "codemirror_mode": {
    "name": "ipython",
    "version": 3
   },
   "file_extension": ".py",
   "mimetype": "text/x-python",
   "name": "python",
   "nbconvert_exporter": "python",
   "pygments_lexer": "ipython3",
   "version": "3.9.16"
  }
 },
 "nbformat": 4,
 "nbformat_minor": 4
}

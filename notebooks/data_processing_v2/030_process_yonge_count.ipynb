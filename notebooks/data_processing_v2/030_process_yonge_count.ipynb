{
 "cells": [
  {
   "cell_type": "code",
   "execution_count": 1,
   "metadata": {},
   "outputs": [],
   "source": [
    "import pandas as pd\n",
    "from geopy.distance import distance\n",
    "from tqdm import tqdm"
   ]
  },
  {
   "cell_type": "code",
   "execution_count": 2,
   "metadata": {
    "collapsed": false,
    "jupyter": {
     "outputs_hidden": false
    }
   },
   "outputs": [],
   "source": [
    "YONGE_FLOW_COLLECTION_POINT = (43.646882, -79.376952)\n",
    "count_df = pd.read_csv(\"../../raw_data/traffic_volume/traffic_volume_raw-data-2020-2029.zip\")"
   ]
  },
  {
   "cell_type": "code",
   "execution_count": 3,
   "metadata": {},
   "outputs": [
    {
     "data": {
      "text/html": [
       "<div>\n",
       "<style scoped>\n",
       "    .dataframe tbody tr th:only-of-type {\n",
       "        vertical-align: middle;\n",
       "    }\n",
       "\n",
       "    .dataframe tbody tr th {\n",
       "        vertical-align: top;\n",
       "    }\n",
       "\n",
       "    .dataframe thead th {\n",
       "        text-align: right;\n",
       "    }\n",
       "</style>\n",
       "<table border=\"1\" class=\"dataframe\">\n",
       "  <thead>\n",
       "    <tr style=\"text-align: right;\">\n",
       "      <th></th>\n",
       "      <th>_id</th>\n",
       "      <th>count_id</th>\n",
       "      <th>count_date</th>\n",
       "      <th>location_id</th>\n",
       "      <th>location</th>\n",
       "      <th>lng</th>\n",
       "      <th>lat</th>\n",
       "      <th>centreline_type</th>\n",
       "      <th>centreline_id</th>\n",
       "      <th>px</th>\n",
       "      <th>...</th>\n",
       "      <th>ex_peds</th>\n",
       "      <th>wx_peds</th>\n",
       "      <th>nx_bike</th>\n",
       "      <th>sx_bike</th>\n",
       "      <th>ex_bike</th>\n",
       "      <th>wx_bike</th>\n",
       "      <th>nx_other</th>\n",
       "      <th>sx_other</th>\n",
       "      <th>ex_other</th>\n",
       "      <th>wx_other</th>\n",
       "    </tr>\n",
       "  </thead>\n",
       "  <tbody>\n",
       "    <tr>\n",
       "      <th>0</th>\n",
       "      <td>1</td>\n",
       "      <td>39337</td>\n",
       "      <td>2020-01-08</td>\n",
       "      <td>13060</td>\n",
       "      <td>BROADVIEW AVE AT ERINDALE AVE</td>\n",
       "      <td>-79.358652</td>\n",
       "      <td>43.677521</td>\n",
       "      <td>2</td>\n",
       "      <td>13462138</td>\n",
       "      <td>NaN</td>\n",
       "      <td>...</td>\n",
       "      <td>60</td>\n",
       "      <td>0</td>\n",
       "      <td>4</td>\n",
       "      <td>0</td>\n",
       "      <td>0</td>\n",
       "      <td>0</td>\n",
       "      <td>0</td>\n",
       "      <td>0</td>\n",
       "      <td>0</td>\n",
       "      <td>0</td>\n",
       "    </tr>\n",
       "    <tr>\n",
       "      <th>1</th>\n",
       "      <td>2</td>\n",
       "      <td>39337</td>\n",
       "      <td>2020-01-08</td>\n",
       "      <td>13060</td>\n",
       "      <td>BROADVIEW AVE AT ERINDALE AVE</td>\n",
       "      <td>-79.358652</td>\n",
       "      <td>43.677521</td>\n",
       "      <td>2</td>\n",
       "      <td>13462138</td>\n",
       "      <td>NaN</td>\n",
       "      <td>...</td>\n",
       "      <td>54</td>\n",
       "      <td>0</td>\n",
       "      <td>3</td>\n",
       "      <td>0</td>\n",
       "      <td>0</td>\n",
       "      <td>0</td>\n",
       "      <td>0</td>\n",
       "      <td>0</td>\n",
       "      <td>0</td>\n",
       "      <td>0</td>\n",
       "    </tr>\n",
       "    <tr>\n",
       "      <th>2</th>\n",
       "      <td>3</td>\n",
       "      <td>39337</td>\n",
       "      <td>2020-01-08</td>\n",
       "      <td>13060</td>\n",
       "      <td>BROADVIEW AVE AT ERINDALE AVE</td>\n",
       "      <td>-79.358652</td>\n",
       "      <td>43.677521</td>\n",
       "      <td>2</td>\n",
       "      <td>13462138</td>\n",
       "      <td>NaN</td>\n",
       "      <td>...</td>\n",
       "      <td>86</td>\n",
       "      <td>0</td>\n",
       "      <td>2</td>\n",
       "      <td>0</td>\n",
       "      <td>0</td>\n",
       "      <td>0</td>\n",
       "      <td>0</td>\n",
       "      <td>0</td>\n",
       "      <td>0</td>\n",
       "      <td>0</td>\n",
       "    </tr>\n",
       "    <tr>\n",
       "      <th>3</th>\n",
       "      <td>4</td>\n",
       "      <td>39337</td>\n",
       "      <td>2020-01-08</td>\n",
       "      <td>13060</td>\n",
       "      <td>BROADVIEW AVE AT ERINDALE AVE</td>\n",
       "      <td>-79.358652</td>\n",
       "      <td>43.677521</td>\n",
       "      <td>2</td>\n",
       "      <td>13462138</td>\n",
       "      <td>NaN</td>\n",
       "      <td>...</td>\n",
       "      <td>105</td>\n",
       "      <td>0</td>\n",
       "      <td>2</td>\n",
       "      <td>1</td>\n",
       "      <td>0</td>\n",
       "      <td>0</td>\n",
       "      <td>0</td>\n",
       "      <td>0</td>\n",
       "      <td>0</td>\n",
       "      <td>0</td>\n",
       "    </tr>\n",
       "    <tr>\n",
       "      <th>4</th>\n",
       "      <td>5</td>\n",
       "      <td>39337</td>\n",
       "      <td>2020-01-08</td>\n",
       "      <td>13060</td>\n",
       "      <td>BROADVIEW AVE AT ERINDALE AVE</td>\n",
       "      <td>-79.358652</td>\n",
       "      <td>43.677521</td>\n",
       "      <td>2</td>\n",
       "      <td>13462138</td>\n",
       "      <td>NaN</td>\n",
       "      <td>...</td>\n",
       "      <td>104</td>\n",
       "      <td>0</td>\n",
       "      <td>1</td>\n",
       "      <td>2</td>\n",
       "      <td>0</td>\n",
       "      <td>0</td>\n",
       "      <td>0</td>\n",
       "      <td>0</td>\n",
       "      <td>0</td>\n",
       "      <td>0</td>\n",
       "    </tr>\n",
       "    <tr>\n",
       "      <th>...</th>\n",
       "      <td>...</td>\n",
       "      <td>...</td>\n",
       "      <td>...</td>\n",
       "      <td>...</td>\n",
       "      <td>...</td>\n",
       "      <td>...</td>\n",
       "      <td>...</td>\n",
       "      <td>...</td>\n",
       "      <td>...</td>\n",
       "      <td>...</td>\n",
       "      <td>...</td>\n",
       "      <td>...</td>\n",
       "      <td>...</td>\n",
       "      <td>...</td>\n",
       "      <td>...</td>\n",
       "      <td>...</td>\n",
       "      <td>...</td>\n",
       "      <td>...</td>\n",
       "      <td>...</td>\n",
       "      <td>...</td>\n",
       "      <td>...</td>\n",
       "    </tr>\n",
       "    <tr>\n",
       "      <th>123070</th>\n",
       "      <td>123071</td>\n",
       "      <td>47365</td>\n",
       "      <td>2022-05-25</td>\n",
       "      <td>5116</td>\n",
       "      <td>DONLANDS AVE AT OCONNOR DR (PX 443)</td>\n",
       "      <td>-79.343116</td>\n",
       "      <td>43.694722</td>\n",
       "      <td>2</td>\n",
       "      <td>13458943</td>\n",
       "      <td>443.0</td>\n",
       "      <td>...</td>\n",
       "      <td>7</td>\n",
       "      <td>9</td>\n",
       "      <td>6</td>\n",
       "      <td>0</td>\n",
       "      <td>0</td>\n",
       "      <td>0</td>\n",
       "      <td>0</td>\n",
       "      <td>0</td>\n",
       "      <td>0</td>\n",
       "      <td>0</td>\n",
       "    </tr>\n",
       "    <tr>\n",
       "      <th>123071</th>\n",
       "      <td>123072</td>\n",
       "      <td>47365</td>\n",
       "      <td>2022-05-25</td>\n",
       "      <td>5116</td>\n",
       "      <td>DONLANDS AVE AT OCONNOR DR (PX 443)</td>\n",
       "      <td>-79.343116</td>\n",
       "      <td>43.694722</td>\n",
       "      <td>2</td>\n",
       "      <td>13458943</td>\n",
       "      <td>443.0</td>\n",
       "      <td>...</td>\n",
       "      <td>10</td>\n",
       "      <td>9</td>\n",
       "      <td>2</td>\n",
       "      <td>0</td>\n",
       "      <td>0</td>\n",
       "      <td>1</td>\n",
       "      <td>0</td>\n",
       "      <td>0</td>\n",
       "      <td>0</td>\n",
       "      <td>0</td>\n",
       "    </tr>\n",
       "    <tr>\n",
       "      <th>123072</th>\n",
       "      <td>123073</td>\n",
       "      <td>47365</td>\n",
       "      <td>2022-05-25</td>\n",
       "      <td>5116</td>\n",
       "      <td>DONLANDS AVE AT OCONNOR DR (PX 443)</td>\n",
       "      <td>-79.343116</td>\n",
       "      <td>43.694722</td>\n",
       "      <td>2</td>\n",
       "      <td>13458943</td>\n",
       "      <td>443.0</td>\n",
       "      <td>...</td>\n",
       "      <td>8</td>\n",
       "      <td>9</td>\n",
       "      <td>4</td>\n",
       "      <td>3</td>\n",
       "      <td>0</td>\n",
       "      <td>1</td>\n",
       "      <td>0</td>\n",
       "      <td>0</td>\n",
       "      <td>0</td>\n",
       "      <td>0</td>\n",
       "    </tr>\n",
       "    <tr>\n",
       "      <th>123073</th>\n",
       "      <td>123074</td>\n",
       "      <td>47365</td>\n",
       "      <td>2022-05-25</td>\n",
       "      <td>5116</td>\n",
       "      <td>DONLANDS AVE AT OCONNOR DR (PX 443)</td>\n",
       "      <td>-79.343116</td>\n",
       "      <td>43.694722</td>\n",
       "      <td>2</td>\n",
       "      <td>13458943</td>\n",
       "      <td>443.0</td>\n",
       "      <td>...</td>\n",
       "      <td>4</td>\n",
       "      <td>7</td>\n",
       "      <td>2</td>\n",
       "      <td>1</td>\n",
       "      <td>0</td>\n",
       "      <td>2</td>\n",
       "      <td>0</td>\n",
       "      <td>0</td>\n",
       "      <td>0</td>\n",
       "      <td>0</td>\n",
       "    </tr>\n",
       "    <tr>\n",
       "      <th>123074</th>\n",
       "      <td>123075</td>\n",
       "      <td>47365</td>\n",
       "      <td>2022-05-25</td>\n",
       "      <td>5116</td>\n",
       "      <td>DONLANDS AVE AT OCONNOR DR (PX 443)</td>\n",
       "      <td>-79.343116</td>\n",
       "      <td>43.694722</td>\n",
       "      <td>2</td>\n",
       "      <td>13458943</td>\n",
       "      <td>443.0</td>\n",
       "      <td>...</td>\n",
       "      <td>5</td>\n",
       "      <td>8</td>\n",
       "      <td>3</td>\n",
       "      <td>3</td>\n",
       "      <td>0</td>\n",
       "      <td>0</td>\n",
       "      <td>0</td>\n",
       "      <td>0</td>\n",
       "      <td>0</td>\n",
       "      <td>0</td>\n",
       "    </tr>\n",
       "  </tbody>\n",
       "</table>\n",
       "<p>123075 rows × 60 columns</p>\n",
       "</div>"
      ],
      "text/plain": [
       "           _id  count_id  count_date  location_id  \\\n",
       "0            1     39337  2020-01-08        13060   \n",
       "1            2     39337  2020-01-08        13060   \n",
       "2            3     39337  2020-01-08        13060   \n",
       "3            4     39337  2020-01-08        13060   \n",
       "4            5     39337  2020-01-08        13060   \n",
       "...        ...       ...         ...          ...   \n",
       "123070  123071     47365  2022-05-25         5116   \n",
       "123071  123072     47365  2022-05-25         5116   \n",
       "123072  123073     47365  2022-05-25         5116   \n",
       "123073  123074     47365  2022-05-25         5116   \n",
       "123074  123075     47365  2022-05-25         5116   \n",
       "\n",
       "                                   location        lng        lat  \\\n",
       "0             BROADVIEW AVE AT ERINDALE AVE -79.358652  43.677521   \n",
       "1             BROADVIEW AVE AT ERINDALE AVE -79.358652  43.677521   \n",
       "2             BROADVIEW AVE AT ERINDALE AVE -79.358652  43.677521   \n",
       "3             BROADVIEW AVE AT ERINDALE AVE -79.358652  43.677521   \n",
       "4             BROADVIEW AVE AT ERINDALE AVE -79.358652  43.677521   \n",
       "...                                     ...        ...        ...   \n",
       "123070  DONLANDS AVE AT OCONNOR DR (PX 443) -79.343116  43.694722   \n",
       "123071  DONLANDS AVE AT OCONNOR DR (PX 443) -79.343116  43.694722   \n",
       "123072  DONLANDS AVE AT OCONNOR DR (PX 443) -79.343116  43.694722   \n",
       "123073  DONLANDS AVE AT OCONNOR DR (PX 443) -79.343116  43.694722   \n",
       "123074  DONLANDS AVE AT OCONNOR DR (PX 443) -79.343116  43.694722   \n",
       "\n",
       "        centreline_type  centreline_id     px  ... ex_peds wx_peds  nx_bike  \\\n",
       "0                     2       13462138    NaN  ...      60       0        4   \n",
       "1                     2       13462138    NaN  ...      54       0        3   \n",
       "2                     2       13462138    NaN  ...      86       0        2   \n",
       "3                     2       13462138    NaN  ...     105       0        2   \n",
       "4                     2       13462138    NaN  ...     104       0        1   \n",
       "...                 ...            ...    ...  ...     ...     ...      ...   \n",
       "123070                2       13458943  443.0  ...       7       9        6   \n",
       "123071                2       13458943  443.0  ...      10       9        2   \n",
       "123072                2       13458943  443.0  ...       8       9        4   \n",
       "123073                2       13458943  443.0  ...       4       7        2   \n",
       "123074                2       13458943  443.0  ...       5       8        3   \n",
       "\n",
       "        sx_bike  ex_bike  wx_bike  nx_other  sx_other  ex_other  wx_other  \n",
       "0             0        0        0         0         0         0         0  \n",
       "1             0        0        0         0         0         0         0  \n",
       "2             0        0        0         0         0         0         0  \n",
       "3             1        0        0         0         0         0         0  \n",
       "4             2        0        0         0         0         0         0  \n",
       "...         ...      ...      ...       ...       ...       ...       ...  \n",
       "123070        0        0        0         0         0         0         0  \n",
       "123071        0        0        1         0         0         0         0  \n",
       "123072        3        0        1         0         0         0         0  \n",
       "123073        1        0        2         0         0         0         0  \n",
       "123074        3        0        0         0         0         0         0  \n",
       "\n",
       "[123075 rows x 60 columns]"
      ]
     },
     "execution_count": 3,
     "metadata": {},
     "output_type": "execute_result"
    }
   ],
   "source": [
    "count_df"
   ]
  },
  {
   "cell_type": "code",
   "execution_count": 4,
   "metadata": {},
   "outputs": [
    {
     "data": {
      "text/plain": [
       "Index(['_id', 'count_id', 'count_date', 'location_id', 'location', 'lng',\n",
       "       'lat', 'centreline_type', 'centreline_id', 'px', 'time_start',\n",
       "       'time_end', 'sb_cars_r', 'sb_cars_t', 'sb_cars_l', 'nb_cars_r',\n",
       "       'nb_cars_t', 'nb_cars_l', 'wb_cars_r', 'wb_cars_t', 'wb_cars_l',\n",
       "       'eb_cars_r', 'eb_cars_t', 'eb_cars_l', 'sb_truck_r', 'sb_truck_t',\n",
       "       'sb_truck_l', 'nb_truck_r', 'nb_truck_t', 'nb_truck_l', 'wb_truck_r',\n",
       "       'wb_truck_t', 'wb_truck_l', 'eb_truck_r', 'eb_truck_t', 'eb_truck_l',\n",
       "       'sb_bus_r', 'sb_bus_t', 'sb_bus_l', 'nb_bus_r', 'nb_bus_t', 'nb_bus_l',\n",
       "       'wb_bus_r', 'wb_bus_t', 'wb_bus_l', 'eb_bus_r', 'eb_bus_t', 'eb_bus_l',\n",
       "       'nx_peds', 'sx_peds', 'ex_peds', 'wx_peds', 'nx_bike', 'sx_bike',\n",
       "       'ex_bike', 'wx_bike', 'nx_other', 'sx_other', 'ex_other', 'wx_other'],\n",
       "      dtype='object')"
      ]
     },
     "execution_count": 4,
     "metadata": {},
     "output_type": "execute_result"
    }
   ],
   "source": [
    "count_df.columns"
   ]
  },
  {
   "cell_type": "code",
   "execution_count": 3,
   "metadata": {
    "collapsed": false,
    "jupyter": {
     "outputs_hidden": false
    }
   },
   "outputs": [],
   "source": [
    "count_df[\"time_start\"] = pd.to_datetime(count_df[\"time_start\"], utc=True)\n",
    "count_df[\"time_start\"] = count_df[\"time_start\"].apply(lambda x: x.to_datetime64())\n",
    "count_df[\"time_end\"] = pd.to_datetime(count_df[\"time_end\"], utc=True)\n",
    "count_df[\"time_end\"] = count_df[\"time_end\"].apply(lambda x: x.to_datetime64())"
   ]
  },
  {
   "cell_type": "code",
   "execution_count": 4,
   "metadata": {
    "collapsed": false,
    "jupyter": {
     "outputs_hidden": false
    }
   },
   "outputs": [],
   "source": [
    "count_df = count_df.drop(\n",
    "    columns=[\"count_id\", \"count_date\", \"location_id\", \"centreline_type\", \"centreline_id\", \"px\"])\n",
    "count_df = count_df.drop(columns=list(\n",
    "    filter(lambda x: \"peds\" in x, count_df.columns)))\n",
    "count_df = count_df.drop(columns=list(\n",
    "    filter(lambda x: \"bike\" in x, count_df.columns)))\n",
    "count_df = count_df.drop(columns=list(\n",
    "    filter(lambda x: \"other\" in x, count_df.columns)))"
   ]
  },
  {
   "cell_type": "code",
   "execution_count": 5,
   "metadata": {
    "collapsed": false,
    "jupyter": {
     "outputs_hidden": false
    }
   },
   "outputs": [],
   "source": [
    "count_car_columns = list(filter(lambda x: \"car\" in x, count_df.columns))\n",
    "count_truck_columns = list(filter(lambda x: \"truck\" in x, count_df.columns))\n",
    "count_bus_columns = list(filter(lambda x: \"bus\" in x, count_df.columns))"
   ]
  },
  {
   "cell_type": "code",
   "execution_count": 6,
   "metadata": {
    "collapsed": false,
    "jupyter": {
     "outputs_hidden": false
    }
   },
   "outputs": [],
   "source": [
    "count_df[\"car_count\"] = count_df[count_car_columns].sum(axis=1)\n",
    "count_df[\"truck_count\"] = count_df[count_truck_columns].sum(axis=1)\n",
    "count_df[\"bus_count\"] = count_df[count_bus_columns].sum(axis=1)"
   ]
  },
  {
   "cell_type": "code",
   "execution_count": 7,
   "metadata": {
    "collapsed": false,
    "jupyter": {
     "outputs_hidden": false
    }
   },
   "outputs": [],
   "source": [
    "count_df = count_df.drop(columns=count_car_columns)\n",
    "count_df = count_df.drop(columns=count_truck_columns)\n",
    "count_df = count_df.drop(columns=count_bus_columns)"
   ]
  },
  {
   "cell_type": "code",
   "execution_count": 8,
   "metadata": {
    "collapsed": false,
    "jupyter": {
     "outputs_hidden": false
    }
   },
   "outputs": [],
   "source": [
    "count_cols = list(filter(lambda x: \"count\" in x, count_df.columns))\n",
    "count_df[\"total_count\"] = count_df[count_cols].sum(axis=1)\n",
    "count_df = count_df.drop(columns=[\"car_count\", \"truck_count\", \"bus_count\"])"
   ]
  },
  {
   "cell_type": "code",
   "execution_count": 9,
   "metadata": {
    "collapsed": false,
    "jupyter": {
     "outputs_hidden": false
    }
   },
   "outputs": [
    {
     "name": "stderr",
     "output_type": "stream",
     "text": [
      "100%|██████████| 123075/123075 [00:20<00:00, 6070.62it/s]\n"
     ]
    }
   ],
   "source": [
    "tqdm.pandas()\n",
    "count_df[\"distance_from_point\"] = count_df.progress_apply(\n",
    "    lambda x: distance((x[\"lat\"], x[\"lng\"]), YONGE_FLOW_COLLECTION_POINT).km, axis=1)"
   ]
  },
  {
   "cell_type": "code",
   "execution_count": 10,
   "metadata": {
    "collapsed": false,
    "jupyter": {
     "outputs_hidden": false
    }
   },
   "outputs": [],
   "source": [
    "count_df = count_df.drop(columns=[\"time_start\"])"
   ]
  },
  {
   "cell_type": "code",
   "execution_count": 11,
   "metadata": {
    "collapsed": false,
    "jupyter": {
     "outputs_hidden": false
    }
   },
   "outputs": [],
   "source": [
    "count_df[\"end_hour\"] = count_df[\"time_end\"].dt.hour\n",
    "count_df[\"end_minute\"] = count_df[\"time_end\"].dt.minute\n",
    "count_df[\"end_day_of_week\"] = count_df[\"time_end\"].dt.dayofweek"
   ]
  },
  {
   "cell_type": "code",
   "execution_count": 12,
   "metadata": {
    "collapsed": false,
    "jupyter": {
     "outputs_hidden": false
    }
   },
   "outputs": [],
   "source": [
    "count_df.to_csv(\"../../csv/v2/030_yonge_count_processed.csv.zip\", index=False, compression=\"zip\")"
   ]
  }
 ],
 "metadata": {
  "kernelspec": {
   "display_name": "Python 3 (ipykernel)",
   "language": "python",
   "name": "python3"
  },
  "language_info": {
   "codemirror_mode": {
    "name": "ipython",
    "version": 3
   },
   "file_extension": ".py",
   "mimetype": "text/x-python",
   "name": "python",
   "nbconvert_exporter": "python",
   "pygments_lexer": "ipython3",
   "version": "3.10.10"
  }
 },
 "nbformat": 4,
 "nbformat_minor": 4
}

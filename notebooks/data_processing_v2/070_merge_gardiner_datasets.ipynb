{
 "cells": [
  {
   "cell_type": "code",
   "execution_count": 53,
   "metadata": {
    "collapsed": true
   },
   "outputs": [],
   "source": [
    "import pandas as pd\n",
    "import ast\n",
    "import folium"
   ]
  },
  {
   "cell_type": "code",
   "execution_count": 30,
   "outputs": [],
   "source": [
    "speed_df = pd.read_csv(\"../../csv/v2/050_gardiner_flow_processed.csv.zip\")\n",
    "count_df = pd.read_csv(\"../../csv/v2/040_gardiner_count_processed.csv.zip\")\n",
    "weather_df = pd.read_csv(\"../../csv/v2/010_weather_data_processed.csv.zip\")\n",
    "incidents_df = pd.read_csv(\"../../csv/v2/020_incidents_data_processed.csv.zip\")"
   ],
   "metadata": {
    "collapsed": false
   }
  },
  {
   "cell_type": "code",
   "execution_count": 31,
   "outputs": [
    {
     "name": "stdout",
     "output_type": "stream",
     "text": [
      "Len speed df 41756\n",
      "Len count df 145099\n",
      "Len weather df 41756\n",
      "Len incidents df 20574\n"
     ]
    }
   ],
   "source": [
    "print(\"Len speed df\", len(speed_df))\n",
    "print(\"Len count df\", len(count_df))\n",
    "print(\"Len weather df\", len(weather_df))\n",
    "print(\"Len incidents df\", len(incidents_df))"
   ],
   "metadata": {
    "collapsed": false
   }
  },
  {
   "cell_type": "code",
   "execution_count": 32,
   "outputs": [],
   "source": [
    "speed_df[\"collectedAt\"] = pd.to_datetime(speed_df[\"collectedAt\"], utc=True)\n",
    "count_df[\"datetime_bin\"] = pd.to_datetime(count_df[\"datetime_bin\"], utc=True)\n",
    "weather_df[\"collectedAt\"] = pd.to_datetime(weather_df[\"collectedAt\"], utc=True)\n",
    "incidents_df[\"collectedAt\"] = pd.to_datetime(incidents_df[\"collectedAt\"], utc=True)"
   ],
   "metadata": {
    "collapsed": false
   }
  },
  {
   "cell_type": "markdown",
   "source": [
    "# Drop columns that are not going to be used"
   ],
   "metadata": {
    "collapsed": false
   }
  },
  {
   "cell_type": "code",
   "execution_count": 33,
   "outputs": [],
   "source": [
    "count_df = count_df.drop(columns=[\"detector_id\", \"primary_road\", \"detector_loc\"])"
   ],
   "metadata": {
    "collapsed": false
   }
  },
  {
   "cell_type": "code",
   "execution_count": 57,
   "outputs": [],
   "source": [
    "inci_test = incidents_df.iloc[0][\"geometryCoordinates\"]"
   ],
   "metadata": {
    "collapsed": false
   }
  },
  {
   "cell_type": "code",
   "execution_count": 58,
   "outputs": [],
   "source": [
    "inci_test = ast.literal_eval(inci_test)"
   ],
   "metadata": {
    "collapsed": false
   }
  },
  {
   "cell_type": "code",
   "execution_count": 59,
   "outputs": [],
   "source": [
    "inci_test = [x[::-1] for x in inci_test]"
   ],
   "metadata": {
    "collapsed": false
   }
  },
  {
   "cell_type": "code",
   "execution_count": 60,
   "outputs": [
    {
     "data": {
      "text/plain": "[[43.6459069487, -79.382694275],\n [43.6460035083, -79.3827385314],\n [43.6461108033, -79.3827881523],\n [43.6466257438, -79.3830215045],\n [43.6468188604, -79.3831006296],\n [43.6472547657, -79.3832789965],\n [43.6473016495, -79.383297772],\n [43.647937336, -79.3835579463]]"
     },
     "execution_count": 60,
     "metadata": {},
     "output_type": "execute_result"
    }
   ],
   "source": [
    "inci_test"
   ],
   "metadata": {
    "collapsed": false
   }
  },
  {
   "cell_type": "code",
   "execution_count": 61,
   "outputs": [],
   "source": [
    "loc=[43.660834, -79.388976]\n",
    "map1 = folium.Map(location=loc, tiles=\"OpenStreetMap\", zoom_start=14)\n",
    "for coord in inci_test:\n",
    "    folium.Marker(location=coord).add_to(map1)"
   ],
   "metadata": {
    "collapsed": false
   }
  },
  {
   "cell_type": "code",
   "execution_count": 62,
   "outputs": [],
   "source": [
    "map1.save(\"070_inci_test.html\")"
   ],
   "metadata": {
    "collapsed": false
   }
  },
  {
   "cell_type": "code",
   "execution_count": 63,
   "outputs": [
    {
     "data": {
      "text/plain": "                                     id  incidentType  magnitudeOfDelay  \\\n0      e3f5c4da1e74f80cbf1370e6f90409b2           1.0               0.0   \n1      85d5310e0d557d8f79e14fd3db1a66a5           1.0               0.0   \n2      1f78a03c01c3e614ba6a3dd125ff60df           6.0               3.0   \n3      d7d435fde04522f142e64966f677093c           1.0               0.0   \n4      d7310bb91c9c881d3ddfb633f49006dc           7.0               0.0   \n...                                 ...           ...               ...   \n20569  cc5138de44c256b1810af25b9a4223c7           1.0               0.0   \n20570  aa8053a8ce93bb21018b30b84e51e839           9.0               0.0   \n20571  3b75e90369e9ad68b1a98fe9edc5b47a           6.0               1.0   \n20572  38b9f818e86b8194c09cdeda62ac63fd           6.0               2.0   \n20573  bf1c7e7596ce11ec21cc12a8d35c4119           6.0               1.0   \n\n                 incidentStartAt              incidentEndAt  \\\n0      2022-08-08 04:04:57+00:00  2022-08-10 01:08:22+00:00   \n1      2022-08-08 04:04:57+00:00  2022-08-10 01:08:22+00:00   \n2      2022-08-09 23:43:00+00:00  2022-08-10 00:25:00+00:00   \n3      2022-08-09 04:03:05+00:00  2022-08-10 01:08:22+00:00   \n4      2022-06-13 11:00:00+00:00  2022-08-16 03:45:00+00:00   \n...                          ...                        ...   \n20569  2023-01-01 09:03:38+00:00  2023-01-01 10:26:56+00:00   \n20570  2023-01-01 05:57:30+00:00                          0   \n20571  2023-01-01 19:28:00+00:00  2023-01-01 19:48:30+00:00   \n20572  2023-01-01 20:01:30+00:00  2023-01-01 20:33:30+00:00   \n20573  2023-01-01 23:42:00+00:00  2023-01-02 00:04:30+00:00   \n\n                                                    from  \\\n0            Hwy-11A/University Ave/Front St W (York St)   \n1                            University Ave / Front St W   \n2                                      Front St (ON-11A)   \n3                                  Yonge St (Front St E)   \n4                              Front St (Yonge St/ON-11)   \n...                                                  ...   \n20569                                Front St W (Bay St)   \n20570              ON-2/Lake Shore Blvd (Yonge St/ON-11)   \n20571  Spadina Ave/Lower Spadina Ave (Lake Shore Blvd...   \n20572                          Front St (Yonge St/ON-11)   \n20573  Spadina Ave/Lower Spadina Ave (Lake Shore Blvd...   \n\n                                                to      length  delay  \\\n0                              King St W (York St)  236.247000    0.0   \n1                                  Wellington St W   71.728491    0.0   \n2           Gardiner Expy/Lake Shore Blvd (ON-11A)  319.956371  236.0   \n3                      University Ave (Front St E)  179.047326    0.0   \n4            ON-2/Lake Shore Blvd (Yonge St/ON-11)   35.547897    0.0   \n...                                            ...         ...    ...   \n20569                           King St W (Bay St)   44.722900    0.0   \n20570                    Front St (Yonge St/ON-11)   39.907100    0.0   \n20571  ON-11/Yonge St (Lake Shore Blvd/Harbour St)  506.169000  140.0   \n20572                   Dundas St (Yonge St/ON-11)  649.897000  319.0   \n20573  ON-11/Yonge St (Lake Shore Blvd/Harbour St)  760.828129  215.0   \n\n      roadNumbers timeValidity probabilityOfOccurrence  numberOfReports  \\\n0             NaN      present                 certain              0.0   \n1             NaN      present                 certain              0.0   \n2          ON-11A      present                 certain              0.0   \n3             NaN      present                 certain              0.0   \n4             NaN      present                probable              0.0   \n...           ...          ...                     ...              ...   \n20569         NaN      present                 certain              0.0   \n20570         NaN      present                probable              0.0   \n20571         NaN      present                 certain              0.0   \n20572       ON-11      present                 certain              0.0   \n20573         NaN      present                 certain              0.0   \n\n      lastReportTime                                             events  \\\n0                  0  [{'code': 214, 'description': 'Incident', 'ico...   \n1                  0  [{'code': 214, 'description': 'Incident', 'ico...   \n2                  0  [{'code': 101, 'description': 'Stopped traffic...   \n3                  0  [{'code': 214, 'description': 'Incident', 'ico...   \n4                  0  [{'code': 500, 'description': 'Lane closed', '...   \n...              ...                                                ...   \n20569              0  [{'code': 214, 'description': 'Incident', 'ico...   \n20570              0  [{'code': 701, 'description': 'Roadworks', 'ic...   \n20571              0  [{'code': 115, 'description': 'Slow traffic', ...   \n20572              0  [{'code': 108, 'description': 'Backed up traff...   \n20573              0  [{'code': 115, 'description': 'Slow traffic', ...   \n\n                                     geometryCoordinates  \\\n0      [[-79.382694275, 43.6459069487], [-79.38273853...   \n1      [[-79.3825601645, 43.6452752439], [-79.3825829...   \n2      [[-79.3821243056, 43.6445269547], [-79.3821135...   \n3      [[-79.3804465838, 43.6457487047], [-79.3810071...   \n4      [[-79.3765801795, 43.6457996534], [-79.3764514...   \n...                                                  ...   \n20569  [[-79.3796767898, 43.6473311868], [-79.3798497...   \n20570  [[-79.3760906764, 43.6449386756], [-79.3761081...   \n20571  [[-79.3833152064, 43.6405290872], [-79.3832736...   \n20572  [[-79.3775806435, 43.6485086657], [-79.3777321...   \n20573  [[-79.383811415, 43.6403829001], [-79.38349759...   \n\n                    collectedAt  \n0     2022-08-10 00:00:00+00:00  \n1     2022-08-10 00:00:00+00:00  \n2     2022-08-10 00:00:00+00:00  \n3     2022-08-10 00:00:00+00:00  \n4     2022-08-10 00:00:00+00:00  \n...                         ...  \n20569 2023-01-01 09:20:00+00:00  \n20570 2023-01-01 12:50:00+00:00  \n20571 2023-01-01 19:30:00+00:00  \n20572 2023-01-01 20:10:00+00:00  \n20573 2023-01-01 23:45:00+00:00  \n\n[20574 rows x 17 columns]",
      "text/html": "<div>\n<style scoped>\n    .dataframe tbody tr th:only-of-type {\n        vertical-align: middle;\n    }\n\n    .dataframe tbody tr th {\n        vertical-align: top;\n    }\n\n    .dataframe thead th {\n        text-align: right;\n    }\n</style>\n<table border=\"1\" class=\"dataframe\">\n  <thead>\n    <tr style=\"text-align: right;\">\n      <th></th>\n      <th>id</th>\n      <th>incidentType</th>\n      <th>magnitudeOfDelay</th>\n      <th>incidentStartAt</th>\n      <th>incidentEndAt</th>\n      <th>from</th>\n      <th>to</th>\n      <th>length</th>\n      <th>delay</th>\n      <th>roadNumbers</th>\n      <th>timeValidity</th>\n      <th>probabilityOfOccurrence</th>\n      <th>numberOfReports</th>\n      <th>lastReportTime</th>\n      <th>events</th>\n      <th>geometryCoordinates</th>\n      <th>collectedAt</th>\n    </tr>\n  </thead>\n  <tbody>\n    <tr>\n      <th>0</th>\n      <td>e3f5c4da1e74f80cbf1370e6f90409b2</td>\n      <td>1.0</td>\n      <td>0.0</td>\n      <td>2022-08-08 04:04:57+00:00</td>\n      <td>2022-08-10 01:08:22+00:00</td>\n      <td>Hwy-11A/University Ave/Front St W (York St)</td>\n      <td>King St W (York St)</td>\n      <td>236.247000</td>\n      <td>0.0</td>\n      <td>NaN</td>\n      <td>present</td>\n      <td>certain</td>\n      <td>0.0</td>\n      <td>0</td>\n      <td>[{'code': 214, 'description': 'Incident', 'ico...</td>\n      <td>[[-79.382694275, 43.6459069487], [-79.38273853...</td>\n      <td>2022-08-10 00:00:00+00:00</td>\n    </tr>\n    <tr>\n      <th>1</th>\n      <td>85d5310e0d557d8f79e14fd3db1a66a5</td>\n      <td>1.0</td>\n      <td>0.0</td>\n      <td>2022-08-08 04:04:57+00:00</td>\n      <td>2022-08-10 01:08:22+00:00</td>\n      <td>University Ave / Front St W</td>\n      <td>Wellington St W</td>\n      <td>71.728491</td>\n      <td>0.0</td>\n      <td>NaN</td>\n      <td>present</td>\n      <td>certain</td>\n      <td>0.0</td>\n      <td>0</td>\n      <td>[{'code': 214, 'description': 'Incident', 'ico...</td>\n      <td>[[-79.3825601645, 43.6452752439], [-79.3825829...</td>\n      <td>2022-08-10 00:00:00+00:00</td>\n    </tr>\n    <tr>\n      <th>2</th>\n      <td>1f78a03c01c3e614ba6a3dd125ff60df</td>\n      <td>6.0</td>\n      <td>3.0</td>\n      <td>2022-08-09 23:43:00+00:00</td>\n      <td>2022-08-10 00:25:00+00:00</td>\n      <td>Front St (ON-11A)</td>\n      <td>Gardiner Expy/Lake Shore Blvd (ON-11A)</td>\n      <td>319.956371</td>\n      <td>236.0</td>\n      <td>ON-11A</td>\n      <td>present</td>\n      <td>certain</td>\n      <td>0.0</td>\n      <td>0</td>\n      <td>[{'code': 101, 'description': 'Stopped traffic...</td>\n      <td>[[-79.3821243056, 43.6445269547], [-79.3821135...</td>\n      <td>2022-08-10 00:00:00+00:00</td>\n    </tr>\n    <tr>\n      <th>3</th>\n      <td>d7d435fde04522f142e64966f677093c</td>\n      <td>1.0</td>\n      <td>0.0</td>\n      <td>2022-08-09 04:03:05+00:00</td>\n      <td>2022-08-10 01:08:22+00:00</td>\n      <td>Yonge St (Front St E)</td>\n      <td>University Ave (Front St E)</td>\n      <td>179.047326</td>\n      <td>0.0</td>\n      <td>NaN</td>\n      <td>present</td>\n      <td>certain</td>\n      <td>0.0</td>\n      <td>0</td>\n      <td>[{'code': 214, 'description': 'Incident', 'ico...</td>\n      <td>[[-79.3804465838, 43.6457487047], [-79.3810071...</td>\n      <td>2022-08-10 00:00:00+00:00</td>\n    </tr>\n    <tr>\n      <th>4</th>\n      <td>d7310bb91c9c881d3ddfb633f49006dc</td>\n      <td>7.0</td>\n      <td>0.0</td>\n      <td>2022-06-13 11:00:00+00:00</td>\n      <td>2022-08-16 03:45:00+00:00</td>\n      <td>Front St (Yonge St/ON-11)</td>\n      <td>ON-2/Lake Shore Blvd (Yonge St/ON-11)</td>\n      <td>35.547897</td>\n      <td>0.0</td>\n      <td>NaN</td>\n      <td>present</td>\n      <td>probable</td>\n      <td>0.0</td>\n      <td>0</td>\n      <td>[{'code': 500, 'description': 'Lane closed', '...</td>\n      <td>[[-79.3765801795, 43.6457996534], [-79.3764514...</td>\n      <td>2022-08-10 00:00:00+00:00</td>\n    </tr>\n    <tr>\n      <th>...</th>\n      <td>...</td>\n      <td>...</td>\n      <td>...</td>\n      <td>...</td>\n      <td>...</td>\n      <td>...</td>\n      <td>...</td>\n      <td>...</td>\n      <td>...</td>\n      <td>...</td>\n      <td>...</td>\n      <td>...</td>\n      <td>...</td>\n      <td>...</td>\n      <td>...</td>\n      <td>...</td>\n      <td>...</td>\n    </tr>\n    <tr>\n      <th>20569</th>\n      <td>cc5138de44c256b1810af25b9a4223c7</td>\n      <td>1.0</td>\n      <td>0.0</td>\n      <td>2023-01-01 09:03:38+00:00</td>\n      <td>2023-01-01 10:26:56+00:00</td>\n      <td>Front St W (Bay St)</td>\n      <td>King St W (Bay St)</td>\n      <td>44.722900</td>\n      <td>0.0</td>\n      <td>NaN</td>\n      <td>present</td>\n      <td>certain</td>\n      <td>0.0</td>\n      <td>0</td>\n      <td>[{'code': 214, 'description': 'Incident', 'ico...</td>\n      <td>[[-79.3796767898, 43.6473311868], [-79.3798497...</td>\n      <td>2023-01-01 09:20:00+00:00</td>\n    </tr>\n    <tr>\n      <th>20570</th>\n      <td>aa8053a8ce93bb21018b30b84e51e839</td>\n      <td>9.0</td>\n      <td>0.0</td>\n      <td>2023-01-01 05:57:30+00:00</td>\n      <td>0</td>\n      <td>ON-2/Lake Shore Blvd (Yonge St/ON-11)</td>\n      <td>Front St (Yonge St/ON-11)</td>\n      <td>39.907100</td>\n      <td>0.0</td>\n      <td>NaN</td>\n      <td>present</td>\n      <td>probable</td>\n      <td>0.0</td>\n      <td>0</td>\n      <td>[{'code': 701, 'description': 'Roadworks', 'ic...</td>\n      <td>[[-79.3760906764, 43.6449386756], [-79.3761081...</td>\n      <td>2023-01-01 12:50:00+00:00</td>\n    </tr>\n    <tr>\n      <th>20571</th>\n      <td>3b75e90369e9ad68b1a98fe9edc5b47a</td>\n      <td>6.0</td>\n      <td>1.0</td>\n      <td>2023-01-01 19:28:00+00:00</td>\n      <td>2023-01-01 19:48:30+00:00</td>\n      <td>Spadina Ave/Lower Spadina Ave (Lake Shore Blvd...</td>\n      <td>ON-11/Yonge St (Lake Shore Blvd/Harbour St)</td>\n      <td>506.169000</td>\n      <td>140.0</td>\n      <td>NaN</td>\n      <td>present</td>\n      <td>certain</td>\n      <td>0.0</td>\n      <td>0</td>\n      <td>[{'code': 115, 'description': 'Slow traffic', ...</td>\n      <td>[[-79.3833152064, 43.6405290872], [-79.3832736...</td>\n      <td>2023-01-01 19:30:00+00:00</td>\n    </tr>\n    <tr>\n      <th>20572</th>\n      <td>38b9f818e86b8194c09cdeda62ac63fd</td>\n      <td>6.0</td>\n      <td>2.0</td>\n      <td>2023-01-01 20:01:30+00:00</td>\n      <td>2023-01-01 20:33:30+00:00</td>\n      <td>Front St (Yonge St/ON-11)</td>\n      <td>Dundas St (Yonge St/ON-11)</td>\n      <td>649.897000</td>\n      <td>319.0</td>\n      <td>ON-11</td>\n      <td>present</td>\n      <td>certain</td>\n      <td>0.0</td>\n      <td>0</td>\n      <td>[{'code': 108, 'description': 'Backed up traff...</td>\n      <td>[[-79.3775806435, 43.6485086657], [-79.3777321...</td>\n      <td>2023-01-01 20:10:00+00:00</td>\n    </tr>\n    <tr>\n      <th>20573</th>\n      <td>bf1c7e7596ce11ec21cc12a8d35c4119</td>\n      <td>6.0</td>\n      <td>1.0</td>\n      <td>2023-01-01 23:42:00+00:00</td>\n      <td>2023-01-02 00:04:30+00:00</td>\n      <td>Spadina Ave/Lower Spadina Ave (Lake Shore Blvd...</td>\n      <td>ON-11/Yonge St (Lake Shore Blvd/Harbour St)</td>\n      <td>760.828129</td>\n      <td>215.0</td>\n      <td>NaN</td>\n      <td>present</td>\n      <td>certain</td>\n      <td>0.0</td>\n      <td>0</td>\n      <td>[{'code': 115, 'description': 'Slow traffic', ...</td>\n      <td>[[-79.383811415, 43.6403829001], [-79.38349759...</td>\n      <td>2023-01-01 23:45:00+00:00</td>\n    </tr>\n  </tbody>\n</table>\n<p>20574 rows × 17 columns</p>\n</div>"
     },
     "execution_count": 63,
     "metadata": {},
     "output_type": "execute_result"
    }
   ],
   "source": [
    "incidents_df"
   ],
   "metadata": {
    "collapsed": false
   }
  },
  {
   "cell_type": "markdown",
   "source": [
    "star loop\n",
    "for each row in incidents_df:\n",
    "    get geometryCoordinates // used in map render to show where there had been an incident\n",
    "    start loop\n",
    "        for each coordinate:\n",
    "            invert coords // current values are long,lat. make it lat,long\n",
    "            calculate distance between coord and every Gardiner Expy point\n",
    "    end loop\n",
    "end loop\n",
    "\n",
    "OR\n",
    "\n",
    "plot everything using Folium using color codes and visual inspect."
   ],
   "metadata": {
    "collapsed": false
   }
  },
  {
   "cell_type": "code",
   "execution_count": 64,
   "outputs": [
    {
     "data": {
      "text/plain": "       currentSpeed  freeFlowSpeed  currentTravelTime  freeFlowTravelTime  \\\n0                94             94                297                 297   \n1                94             94                297                 297   \n2                94             94                297                 297   \n3                94             94                297                 297   \n4                94             94                297                 297   \n...             ...            ...                ...                 ...   \n41751            93             93                300                 300   \n41752            93             93                300                 300   \n41753            93             93                300                 300   \n41754            93             93                300                 300   \n41755            93             93                300                 300   \n\n       roadClosure               collectedAt  \n0            False 2022-08-10 00:00:00+00:00  \n1            False 2022-08-10 00:05:00+00:00  \n2            False 2022-08-10 00:10:00+00:00  \n3            False 2022-08-10 00:15:00+00:00  \n4            False 2022-08-10 00:20:00+00:00  \n...            ...                       ...  \n41751        False 2023-01-01 23:35:00+00:00  \n41752        False 2023-01-01 23:40:00+00:00  \n41753        False 2023-01-01 23:45:00+00:00  \n41754        False 2023-01-01 23:50:00+00:00  \n41755        False 2023-01-01 23:55:00+00:00  \n\n[41756 rows x 6 columns]",
      "text/html": "<div>\n<style scoped>\n    .dataframe tbody tr th:only-of-type {\n        vertical-align: middle;\n    }\n\n    .dataframe tbody tr th {\n        vertical-align: top;\n    }\n\n    .dataframe thead th {\n        text-align: right;\n    }\n</style>\n<table border=\"1\" class=\"dataframe\">\n  <thead>\n    <tr style=\"text-align: right;\">\n      <th></th>\n      <th>currentSpeed</th>\n      <th>freeFlowSpeed</th>\n      <th>currentTravelTime</th>\n      <th>freeFlowTravelTime</th>\n      <th>roadClosure</th>\n      <th>collectedAt</th>\n    </tr>\n  </thead>\n  <tbody>\n    <tr>\n      <th>0</th>\n      <td>94</td>\n      <td>94</td>\n      <td>297</td>\n      <td>297</td>\n      <td>False</td>\n      <td>2022-08-10 00:00:00+00:00</td>\n    </tr>\n    <tr>\n      <th>1</th>\n      <td>94</td>\n      <td>94</td>\n      <td>297</td>\n      <td>297</td>\n      <td>False</td>\n      <td>2022-08-10 00:05:00+00:00</td>\n    </tr>\n    <tr>\n      <th>2</th>\n      <td>94</td>\n      <td>94</td>\n      <td>297</td>\n      <td>297</td>\n      <td>False</td>\n      <td>2022-08-10 00:10:00+00:00</td>\n    </tr>\n    <tr>\n      <th>3</th>\n      <td>94</td>\n      <td>94</td>\n      <td>297</td>\n      <td>297</td>\n      <td>False</td>\n      <td>2022-08-10 00:15:00+00:00</td>\n    </tr>\n    <tr>\n      <th>4</th>\n      <td>94</td>\n      <td>94</td>\n      <td>297</td>\n      <td>297</td>\n      <td>False</td>\n      <td>2022-08-10 00:20:00+00:00</td>\n    </tr>\n    <tr>\n      <th>...</th>\n      <td>...</td>\n      <td>...</td>\n      <td>...</td>\n      <td>...</td>\n      <td>...</td>\n      <td>...</td>\n    </tr>\n    <tr>\n      <th>41751</th>\n      <td>93</td>\n      <td>93</td>\n      <td>300</td>\n      <td>300</td>\n      <td>False</td>\n      <td>2023-01-01 23:35:00+00:00</td>\n    </tr>\n    <tr>\n      <th>41752</th>\n      <td>93</td>\n      <td>93</td>\n      <td>300</td>\n      <td>300</td>\n      <td>False</td>\n      <td>2023-01-01 23:40:00+00:00</td>\n    </tr>\n    <tr>\n      <th>41753</th>\n      <td>93</td>\n      <td>93</td>\n      <td>300</td>\n      <td>300</td>\n      <td>False</td>\n      <td>2023-01-01 23:45:00+00:00</td>\n    </tr>\n    <tr>\n      <th>41754</th>\n      <td>93</td>\n      <td>93</td>\n      <td>300</td>\n      <td>300</td>\n      <td>False</td>\n      <td>2023-01-01 23:50:00+00:00</td>\n    </tr>\n    <tr>\n      <th>41755</th>\n      <td>93</td>\n      <td>93</td>\n      <td>300</td>\n      <td>300</td>\n      <td>False</td>\n      <td>2023-01-01 23:55:00+00:00</td>\n    </tr>\n  </tbody>\n</table>\n<p>41756 rows × 6 columns</p>\n</div>"
     },
     "execution_count": 64,
     "metadata": {},
     "output_type": "execute_result"
    }
   ],
   "source": [
    "speed_df"
   ],
   "metadata": {
    "collapsed": false
   }
  },
  {
   "cell_type": "code",
   "execution_count": null,
   "outputs": [],
   "source": [],
   "metadata": {
    "collapsed": false
   }
  }
 ],
 "metadata": {
  "kernelspec": {
   "display_name": "Python 3",
   "language": "python",
   "name": "python3"
  },
  "language_info": {
   "codemirror_mode": {
    "name": "ipython",
    "version": 2
   },
   "file_extension": ".py",
   "mimetype": "text/x-python",
   "name": "python",
   "nbconvert_exporter": "python",
   "pygments_lexer": "ipython2",
   "version": "2.7.6"
  }
 },
 "nbformat": 4,
 "nbformat_minor": 0
}

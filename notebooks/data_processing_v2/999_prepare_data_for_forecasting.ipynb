{
 "cells": [
  {
   "cell_type": "code",
   "execution_count": 1,
   "id": "a9aac4a4-5bda-43bd-bd4e-6810a183dda7",
   "metadata": {},
   "outputs": [],
   "source": [
    "from zipfile import ZipFile\n",
    "import copy\n",
    "import json\n",
    "import pandas as pd\n",
    "from tqdm import tqdm"
   ]
  },
  {
   "cell_type": "code",
   "execution_count": 2,
   "id": "73585742-f681-451a-b47f-e66e3bc9aa22",
   "metadata": {},
   "outputs": [
    {
     "name": "stderr",
     "output_type": "stream",
     "text": [
      "100%|█████████████████████████████████| 8959/8959 [00:26<00:00, 335.77it/s]\n"
     ]
    }
   ],
   "source": [
    "gardiner_dfs = []\n",
    "front_yonge_dfs = []\n",
    "incidents_dfs = []\n",
    "weather_dfs = []\n",
    "\n",
    "with ZipFile(\"../../raw_data/traffic_flow/202305.zip\") as traffic_flow:\n",
    "    total_files = len(traffic_flow.filelist)\n",
    "    for file_idx in tqdm(range(total_files), ncols=75):\n",
    "        flow_file = traffic_flow.filelist[file_idx]\n",
    "        if not flow_file.is_dir():\n",
    "            json_data_str = traffic_flow.open(\n",
    "                flow_file.filename).read().decode(\"UTF-8\")\n",
    "            json_data_obj = json.loads(json_data_str)\n",
    "\n",
    "            collected_at = json_data_obj[\"collected_at\"]\n",
    "\n",
    "            gardiner_data = json_data_obj[\"gardiner_expy_traffic\"][\"flowSegmentData\"]\n",
    "            gardiner_df_tmp = pd.json_normalize(gardiner_data)\n",
    "            gardiner_df_tmp[\"collectedAt\"] = collected_at\n",
    "            gardiner_dfs.append(gardiner_df_tmp)\n",
    "            del gardiner_data\n",
    "            del gardiner_df_tmp\n",
    "\n",
    "            front_yonge_data = json_data_obj[\"front_yonge_traffic\"][\"flowSegmentData\"]\n",
    "            front_yonge_df_tmp = pd.json_normalize(front_yonge_data)\n",
    "            front_yonge_df_tmp[\"collectedAt\"] = collected_at\n",
    "            front_yonge_dfs.append(front_yonge_df_tmp)\n",
    "            del front_yonge_data\n",
    "            del front_yonge_df_tmp\n",
    "\n",
    "            incidents_data = json_data_obj[\"incidents\"][\"incidents\"]\n",
    "            incidents_df_tmp = pd.json_normalize(incidents_data)\n",
    "            incidents_df_tmp[\"collectedAt\"] = collected_at\n",
    "            incidents_dfs.append(incidents_df_tmp)\n",
    "            del incidents_data\n",
    "            del incidents_df_tmp\n",
    "\n",
    "            weather_data = json_data_obj[\"weather_info\"]\n",
    "            weather_condition_array = copy.deepcopy(weather_data[\"weather\"])\n",
    "            weather_condition_array = sorted(\n",
    "                weather_condition_array, key=lambda x: x[\"id\"])\n",
    "            weather_condition_array = list(\n",
    "                map(lambda x: x[\"id\"], weather_condition_array))\n",
    "            weather_data[\"weather\"] = weather_condition_array\n",
    "            weather_data[\"collectedAt\"] = collected_at\n",
    "            weather_df_tmp = pd.json_normalize(weather_data)\n",
    "            weather_dfs.append(weather_df_tmp)\n",
    "            del weather_data\n",
    "            del weather_condition_array\n",
    "            del weather_df_tmp"
   ]
  },
  {
   "cell_type": "code",
   "execution_count": 3,
   "id": "c57c1c9a-b4a5-442a-aa4b-aa493e601bae",
   "metadata": {},
   "outputs": [],
   "source": [
    "gardiner_merged_df = pd.concat(gardiner_dfs)\n",
    "gardiner_merged_df = gardiner_merged_df.sort_values(by=[\"collectedAt\"])\n",
    "gardiner_merged_df[\"collectedAt\"] = pd.to_datetime(\n",
    "    gardiner_merged_df[\"collectedAt\"])\n",
    "del gardiner_dfs"
   ]
  },
  {
   "cell_type": "code",
   "execution_count": 4,
   "id": "3c3659f3-576d-4632-a40b-415e48b54c3c",
   "metadata": {},
   "outputs": [],
   "source": [
    "front_yonge_merged_df = pd.concat(front_yonge_dfs)\n",
    "front_yonge_merged_df = front_yonge_merged_df.sort_values(by=[\"collectedAt\"])\n",
    "front_yonge_merged_df[\"collectedAt\"] = pd.to_datetime(\n",
    "    front_yonge_merged_df[\"collectedAt\"])\n",
    "del front_yonge_dfs"
   ]
  },
  {
   "cell_type": "code",
   "execution_count": 5,
   "id": "4e4e45dd-74d3-42f0-9e21-cab10765ce9d",
   "metadata": {},
   "outputs": [],
   "source": [
    "incidents_merged_df = pd.concat(incidents_dfs)\n",
    "incidents_merged_df = incidents_merged_df.drop_duplicates(\n",
    "    subset=\"properties.id\")\n",
    "incidents_merged_df = incidents_merged_df.sort_values(by=[\"collectedAt\"])\n",
    "incidents_merged_df[\"collectedAt\"] = pd.to_datetime(\n",
    "    incidents_merged_df[\"collectedAt\"])\n",
    "del incidents_dfs"
   ]
  },
  {
   "cell_type": "code",
   "execution_count": 6,
   "id": "49580068-cda8-41cc-9e2d-25ccad1614c1",
   "metadata": {},
   "outputs": [],
   "source": [
    "weather_merged_df = pd.concat(weather_dfs)\n",
    "weather_merged_df = weather_merged_df.sort_values(by=[\"collectedAt\"])\n",
    "weather_merged_df[\"collectedAt\"] = pd.to_datetime(\n",
    "    weather_merged_df[\"collectedAt\"])\n",
    "del weather_dfs"
   ]
  },
  {
   "cell_type": "code",
   "execution_count": 7,
   "id": "220b4f80-67b1-4629-ae8b-300261dc45da",
   "metadata": {},
   "outputs": [],
   "source": [
    "gardiner_merged_df = gardiner_merged_df.rename(columns={\"coordinates.coordinate\": \"coordinates\"})\n",
    "\n",
    "front_yonge_merged_df = front_yonge_merged_df.rename(columns={\"coordinates.coordinate\": \"coordinates\"})\n",
    "\n",
    "incidents_merged_df = incidents_merged_df.rename(columns={\"properties.id\": \"id\",\n",
    "                                                          \"properties.iconCategory\": \"iconCategory\",\n",
    "                                                          \"properties.magnitudeOfDelay\": \"magnitudeOfDelay\",\n",
    "                                                          \"properties.startTime\": \"startTime\",\n",
    "                                                          \"properties.endTime\": \"endTime\",\n",
    "                                                          \"properties.from\": \"from\",\n",
    "                                                          \"properties.to\": \"to\",\n",
    "                                                          \"properties.length\": \"length\",\n",
    "                                                          \"properties.delay\": \"delay\",\n",
    "                                                          \"properties.roadNumbers\": \"roadNumbers\",\n",
    "                                                          \"properties.timeValidity\": \"timeValidity\",\n",
    "                                                          \"properties.probabilityOfOccurrence\": \"probabilityOfOccurrence\",\n",
    "                                                          \"properties.numberOfReports\": \"numberOfReports\",\n",
    "                                                          \"properties.lastReportTime\": \"lastReportTime\",\n",
    "                                                          \"properties.events\": \"events\",\n",
    "                                                          \"properties.tmc.countryCode\": \"tmcCountryCode\",\n",
    "                                                          \"properties.tmc.tableNumber\": \"tmcTableNumber\",\n",
    "                                                          \"properties.tmc.tableVersion\": \"tmcTableVersion\",\n",
    "                                                          \"properties.tmc.direction\": \"tmcDirection\",\n",
    "                                                          \"properties.tmc.points\": \"tmcPoints\",\n",
    "                                                          \"geometry.type\": \"geometryType\",\n",
    "                                                          \"geometry.coordinates\": \"geometryCoordinates\",\n",
    "                                                          \"properties.tmc\": \"tmc\"})\n",
    "\n",
    "weather_merged_df = weather_merged_df.rename(columns={\"dt\": \"datetime\",\n",
    "                                                      \"cod\": \"Code\",\n",
    "                                                      \"coord.lon\": \"longitude\",\n",
    "                                                      \"coord.lat\": \"latitude\",\n",
    "                                                      \"main.temp\": \"temperature\",\n",
    "                                                      \"main.feels_like\": \"FeelsLike\",\n",
    "                                                      \"main.temp_min\": \"tempMin\",\n",
    "                                                      \"main.temp_max\": \"tempMax\",\n",
    "                                                      \"main.pressure\": \"pressure\",\n",
    "                                                      \"main.humidity\": \"humidity\",\n",
    "                                                      \"wind.speed\": \"windSpeed\",\n",
    "                                                      \"wind.deg\": \"windDegree\",\n",
    "                                                      \"rain.1h\": \"rain1h\",\n",
    "                                                      \"snow.1h\": \"snow1h\",\n",
    "                                                      \"clouds.all\": \"cloudsAll\",\n",
    "                                                      \"sys.type\": \"systemType\",\n",
    "                                                      \"sys.id\": \"systemId\",\n",
    "                                                      \"sys.country\": \"systemCountry\",\n",
    "                                                      \"sys.sunrise\": \"systemSunrise\",\n",
    "                                                      \"sys.sunset\": \"systemSunset\",\n",
    "                                                      \"wind.gust\": \"windGust\",\n",
    "                                                      \"main.sea_level\": \"seaLevel\",\n",
    "                                                      \"main.grnd_level\": \"groundLevel\"})"
   ]
  },
  {
   "cell_type": "code",
   "execution_count": 8,
   "id": "4b557600-66f3-4e14-a77a-c3a141a7adcb",
   "metadata": {},
   "outputs": [],
   "source": [
    "gardiner_merged_df.to_csv(f\"../../csv/v2/202305_gardiner_flow_data.csv.zip\", index=False, compression=\"zip\")\n",
    "front_yonge_merged_df.to_csv(f\"../../csv/v2/202305_yonge_flow_data.csv.zip\", index=False, compression=\"zip\")\n",
    "incidents_merged_df.to_csv(f\"../../csv/v2/202305_incidents_data.csv.zip\", index=False, compression=\"zip\")\n",
    "weather_merged_df.to_csv(f\"../../csv/v2/202305_weather_data.csv.zip\", index=False, compression=\"zip\")"
   ]
  }
 ],
 "metadata": {
  "kernelspec": {
   "display_name": "Python 3 (ipykernel)",
   "language": "python",
   "name": "python3"
  },
  "language_info": {
   "codemirror_mode": {
    "name": "ipython",
    "version": 3
   },
   "file_extension": ".py",
   "mimetype": "text/x-python",
   "name": "python",
   "nbconvert_exporter": "python",
   "pygments_lexer": "ipython3",
   "version": "3.10.10"
  }
 },
 "nbformat": 4,
 "nbformat_minor": 5
}
